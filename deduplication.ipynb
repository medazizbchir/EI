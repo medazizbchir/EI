{
 "cells": [
  {
   "attachments": {},
   "cell_type": "markdown",
   "metadata": {},
   "source": [
    "# Data linkage\n",
    "\n"
   ]
  },
  {
   "cell_type": "code",
   "execution_count": 2,
   "metadata": {},
   "outputs": [],
   "source": [
    "import pandas as pd\n",
    "import numpy as np\n",
    "\n",
    "# Visualization library\n",
    "import matplotlib.pyplot as plt\n",
    "import altair as alt\n",
    "alt.data_transformers.enable('default', max_rows=None)\n",
    "\n",
    "# Dates management\n",
    "import datetime"
   ]
  },
  {
   "attachments": {},
   "cell_type": "markdown",
   "metadata": {},
   "source": [
    "# Table of content"
   ]
  },
  {
   "attachments": {},
   "cell_type": "markdown",
   "metadata": {},
   "source": [
    "# 1. Data Exploration\n",
    "\n",
    "## 1.1 Data extracted from the Clinical Data Warehouse\n",
    "\n"
   ]
  },
  {
   "cell_type": "code",
   "execution_count": 17,
   "metadata": {},
   "outputs": [],
   "source": [
    "# Patients\n",
    "df_person = pd.read_pickle('data/df_person.pkl')\n",
    "\n",
    "# Visits\n",
    "df_visit = pd.read_pickle('data/df_visit.pkl')\n",
    "\n",
    "# Diagnosis (condition)\n",
    "df_condition = pd.read_pickle('data/df_condition.pkl')"
   ]
  },
  {
   "attachments": {},
   "cell_type": "markdown",
   "metadata": {},
   "source": [
    "## 1.2 Data provided by the deterministic deduplication algorithm\n"
   ]
  },
  {
   "cell_type": "code",
   "execution_count": 4,
   "metadata": {},
   "outputs": [
    {
     "name": "stdout",
     "output_type": "stream",
     "text": [
      "<class 'pandas.core.frame.DataFrame'>\n",
      "Int64Index: 382 entries, 730 to 169\n",
      "Data columns (total 2 columns):\n",
      " #   Column            Non-Null Count  Dtype  \n",
      "---  ------            --------------  -----  \n",
      " 0   unique_person_id  382 non-null    float64\n",
      " 1   person_id         382 non-null    object \n",
      "dtypes: float64(1), object(1)\n",
      "memory usage: 9.0+ KB\n"
     ]
    },
    {
     "data": {
      "text/html": [
       "<div>\n",
       "<style scoped>\n",
       "    .dataframe tbody tr th:only-of-type {\n",
       "        vertical-align: middle;\n",
       "    }\n",
       "\n",
       "    .dataframe tbody tr th {\n",
       "        vertical-align: top;\n",
       "    }\n",
       "\n",
       "    .dataframe thead th {\n",
       "        text-align: right;\n",
       "    }\n",
       "</style>\n",
       "<table border=\"1\" class=\"dataframe\">\n",
       "  <thead>\n",
       "    <tr style=\"text-align: right;\">\n",
       "      <th></th>\n",
       "      <th>unique_person_id</th>\n",
       "      <th>person_id</th>\n",
       "    </tr>\n",
       "  </thead>\n",
       "  <tbody>\n",
       "    <tr>\n",
       "      <th>730</th>\n",
       "      <td>82045789.0</td>\n",
       "      <td>81164670</td>\n",
       "    </tr>\n",
       "    <tr>\n",
       "      <th>54</th>\n",
       "      <td>82895348.0</td>\n",
       "      <td>80219513</td>\n",
       "    </tr>\n",
       "    <tr>\n",
       "      <th>685</th>\n",
       "      <td>87636251.0</td>\n",
       "      <td>80569237</td>\n",
       "    </tr>\n",
       "    <tr>\n",
       "      <th>55</th>\n",
       "      <td>81605959.0</td>\n",
       "      <td>88999242</td>\n",
       "    </tr>\n",
       "    <tr>\n",
       "      <th>42</th>\n",
       "      <td>86475376.0</td>\n",
       "      <td>82757425</td>\n",
       "    </tr>\n",
       "  </tbody>\n",
       "</table>\n",
       "</div>"
      ],
      "text/plain": [
       "     unique_person_id person_id\n",
       "730        82045789.0  81164670\n",
       "54         82895348.0  80219513\n",
       "685        87636251.0  80569237\n",
       "55         81605959.0  88999242\n",
       "42         86475376.0  82757425"
      ]
     },
     "execution_count": 4,
     "metadata": {},
     "output_type": "execute_result"
    }
   ],
   "source": [
    "df_dedup_det = pd.read_pickle('data/df_dedup_deterministic.pkl')\n",
    "df_dedup_det.info()\n",
    "df_dedup_det.head()"
   ]
  },
  {
   "attachments": {},
   "cell_type": "markdown",
   "metadata": {},
   "source": [
    "<br> The dataframe `df_dedup_det` is composed of 2 columns :\n",
    "- *unique_person_id* : this id is the *real* id for the patient\n",
    "- *person_id* : this id is another one, created by mistake"
   ]
  },
  {
   "attachments": {},
   "cell_type": "markdown",
   "metadata": {},
   "source": [
    "## 1.3 Data provided by the probabilistic deduplication algorithm"
   ]
  },
  {
   "cell_type": "code",
   "execution_count": 5,
   "metadata": {},
   "outputs": [
    {
     "name": "stdout",
     "output_type": "stream",
     "text": [
      "<class 'pandas.core.frame.DataFrame'>\n",
      "Int64Index: 2896 entries, 33 to 38\n",
      "Data columns (total 3 columns):\n",
      " #   Column            Non-Null Count  Dtype  \n",
      "---  ------            --------------  -----  \n",
      " 0   unique_person_id  2896 non-null   float64\n",
      " 1   person_id         2896 non-null   object \n",
      " 2   prob              2896 non-null   float64\n",
      "dtypes: float64(2), object(1)\n",
      "memory usage: 90.5+ KB\n"
     ]
    },
    {
     "data": {
      "text/html": [
       "<div>\n",
       "<style scoped>\n",
       "    .dataframe tbody tr th:only-of-type {\n",
       "        vertical-align: middle;\n",
       "    }\n",
       "\n",
       "    .dataframe tbody tr th {\n",
       "        vertical-align: top;\n",
       "    }\n",
       "\n",
       "    .dataframe thead th {\n",
       "        text-align: right;\n",
       "    }\n",
       "</style>\n",
       "<table border=\"1\" class=\"dataframe\">\n",
       "  <thead>\n",
       "    <tr style=\"text-align: right;\">\n",
       "      <th></th>\n",
       "      <th>unique_person_id</th>\n",
       "      <th>person_id</th>\n",
       "      <th>prob</th>\n",
       "    </tr>\n",
       "  </thead>\n",
       "  <tbody>\n",
       "    <tr>\n",
       "      <th>33</th>\n",
       "      <td>82840618.0</td>\n",
       "      <td>81126030</td>\n",
       "      <td>0.067232</td>\n",
       "    </tr>\n",
       "    <tr>\n",
       "      <th>29</th>\n",
       "      <td>83705392.0</td>\n",
       "      <td>83705392</td>\n",
       "      <td>0.062969</td>\n",
       "    </tr>\n",
       "    <tr>\n",
       "      <th>23</th>\n",
       "      <td>88145258.0</td>\n",
       "      <td>82890052</td>\n",
       "      <td>0.997885</td>\n",
       "    </tr>\n",
       "    <tr>\n",
       "      <th>161</th>\n",
       "      <td>86032115.0</td>\n",
       "      <td>86032115</td>\n",
       "      <td>0.082572</td>\n",
       "    </tr>\n",
       "    <tr>\n",
       "      <th>17</th>\n",
       "      <td>88272280.0</td>\n",
       "      <td>82950877</td>\n",
       "      <td>0.468085</td>\n",
       "    </tr>\n",
       "  </tbody>\n",
       "</table>\n",
       "</div>"
      ],
      "text/plain": [
       "     unique_person_id person_id      prob\n",
       "33         82840618.0  81126030  0.067232\n",
       "29         83705392.0  83705392  0.062969\n",
       "23         88145258.0  82890052  0.997885\n",
       "161        86032115.0  86032115  0.082572\n",
       "17         88272280.0  82950877  0.468085"
      ]
     },
     "execution_count": 5,
     "metadata": {},
     "output_type": "execute_result"
    }
   ],
   "source": [
    "df_dedup_proba = pd.read_pickle('data/df_dedup_proba.pkl')\n",
    "df_dedup_proba.info()\n",
    "df_dedup_proba.head()"
   ]
  },
  {
   "attachments": {},
   "cell_type": "markdown",
   "metadata": {},
   "source": [
    "# 2. Preprocessing\n",
    "\n",
    "## 2.1 Deduplicating using the deterministic algorithm\n"
   ]
  },
  {
   "cell_type": "code",
   "execution_count": 6,
   "metadata": {},
   "outputs": [],
   "source": [
    "# Outer Join\n",
    "df_person_dedup_det = pd.merge(df_person, df_dedup_det, on = 'person_id', how = 'outer')\n",
    "\n",
    "# Complete the unique_person_id column\n",
    "df_person_dedup_det['unique_person_id'] = df_person_dedup_det['unique_person_id'].fillna(df_person_dedup_det['person_id'])\n",
    "\n",
    "# Only keep one row per patient\n",
    "df_person_dedup_det = df_person_dedup_det.drop_duplicates(['unique_person_id'], keep = 'first')"
   ]
  },
  {
   "attachments": {},
   "cell_type": "markdown",
   "metadata": {},
   "source": [
    "How many patients have we left ?"
   ]
  },
  {
   "cell_type": "code",
   "execution_count": 7,
   "metadata": {},
   "outputs": [
    {
     "name": "stdout",
     "output_type": "stream",
     "text": [
      "We have 15786 unique patient ids in this dataset when using the determinist algorithm.\n"
     ]
    }
   ],
   "source": [
    "print(f\"We have {df_person_dedup_det.unique_person_id.nunique()} unique patient ids in this dataset when using the determinist algorithm.\")"
   ]
  },
  {
   "attachments": {},
   "cell_type": "markdown",
   "metadata": {},
   "source": [
    "## 2.2 Deduplicatng using probabilistic algorithm"
   ]
  },
  {
   "cell_type": "code",
   "execution_count": 8,
   "metadata": {},
   "outputs": [
    {
     "data": {
      "text/plain": [
       "count    2896.000000\n",
       "mean        0.405208\n",
       "std         0.383254\n",
       "min         0.000137\n",
       "25%         0.092972\n",
       "50%         0.185377\n",
       "75%         0.911526\n",
       "max         1.000000\n",
       "Name: prob, dtype: float64"
      ]
     },
     "execution_count": 8,
     "metadata": {},
     "output_type": "execute_result"
    }
   ],
   "source": [
    "df_dedup_proba['prob'].describe()"
   ]
  },
  {
   "attachments": {},
   "cell_type": "markdown",
   "metadata": {},
   "source": [
    "Plot the estimated density of the distribution of the probabilities using `pandas.plot.density()`"
   ]
  },
  {
   "cell_type": "code",
   "execution_count": 9,
   "metadata": {},
   "outputs": [
    {
     "data": {
      "text/plain": [
       "[]"
      ]
     },
     "execution_count": 9,
     "metadata": {},
     "output_type": "execute_result"
    },
    {
     "data": {
      "image/png": "[encoded data removed]",
      "text/plain": [
       "<Figure size 640x480 with 1 Axes>"
      ]
     },
     "metadata": {},
     "output_type": "display_data"
    }
   ],
   "source": [
    "df_dedup_proba['prob'].plot.density()\n",
    "plt.plot()"
   ]
  },
  {
   "cell_type": "code",
   "execution_count": 18,
   "metadata": {},
   "outputs": [],
   "source": [
    "def deduplicate_proba(df_person: pd.DataFrame, df_dedup_proba: pd.DataFrame, score: int):\n",
    "    #Only keep rows with a probability above the value score\n",
    "    df_dedup_proba_score = df_dedup_proba[df_dedup_proba['prob'] > score]\n",
    "    # Outer Join\n",
    "    df_person_dedup_proba  = pd.merge(df_person, df_dedup_proba_score, on = 'person_id', how = 'outer')\n",
    "    # Only unique ids in unique_person_id\n",
    "    df_person_dedup_proba['unique_person_id'] = df_person_dedup_proba['unique_person_id'].fillna(df_person_dedup_proba['person_id'])\n",
    "    # Only keep one row per patient\n",
    "    df_person_dedup_proba = df_person_dedup_proba.drop_duplicates(['unique_person_id'], keep = 'first')\n",
    "    return df_person_dedup_proba"
   ]
  },
  {
   "cell_type": "code",
   "execution_count": 19,
   "metadata": {},
   "outputs": [
    {
     "name": "stdout",
     "output_type": "stream",
     "text": [
      "We have 15406 unique patient ids in this dataset when using the probabilistic algorithm and a threshold of 0.90.\n"
     ]
    }
   ],
   "source": [
    "df_person_dedup_proba_90 = deduplicate_proba(df_person, df_dedup_proba, score=0.90)\n",
    "print(f\"We have {df_person_dedup_proba_90.unique_person_id.nunique()} unique patient ids in this dataset when using the probabilistic algorithm and a threshold of 0.90.\")"
   ]
  },
  {
   "cell_type": "code",
   "execution_count": 20,
   "metadata": {},
   "outputs": [
    {
     "name": "stdout",
     "output_type": "stream",
     "text": [
      "We have 15022 unique patient ids in this dataset when using the probabilistic algorithm and a threshold of 0.20.\n"
     ]
    }
   ],
   "source": [
    "df_person_dedup_proba_20 = deduplicate_proba(df_person, df_dedup_proba, score = 0.20)\n",
    "print(f\"We have {df_person_dedup_proba_20.unique_person_id.nunique()} unique patient ids in this dataset when using the probabilistic algorithm and a threshold of 0.20.\")"
   ]
  },
  {
   "attachments": {},
   "cell_type": "markdown",
   "metadata": {},
   "source": [
    "# 3. Statistical analysis"
   ]
  },
  {
   "cell_type": "code",
   "execution_count": 64,
   "metadata": {},
   "outputs": [],
   "source": [
    "cancer_condition = {'C50','C500','C501','C502','C503','C504'}\n",
    "risk_factors = {'Tabac':['Z587','Z720'], 'Alcool':['T51','K70','F10'], 'Diabete':['E10','E11','E12'], 'sub_psy':['Z864'], 'tum_herit':['Z803']}\n",
    "\n",
    "def hist_risk_factors(dict, df_cancer_hist, df_person_hist, df_condition_hist, nbre_patients_cancer_hist):\n",
    "    \n",
    "    id_patients_cancer=df_cancer_hist.person_id.unique()\n",
    "    df_person_cancer=df_person_hist[df_person_hist['person_id'].isin(id_patients_cancer)]\n",
    "    df_person_cond_cancer=df_condition_hist.merge(df_person_cancer, on='person_id', how='inner')\n",
    "    l=[]\n",
    "    for factor in dict.keys():\n",
    "        df=df_person_cond_cancer[df_person_cond_cancer['condition_source_value'].isin(dict[factor])]\n",
    "        l.append(df.person_id.nunique()/nbre_patients_cancer*100)\n",
    "\n",
    "    data ={ 'Catégorie': list(dict.keys()),\n",
    "             'Pourcentage': l}\n",
    "\n",
    "\n",
    "    categories = data['Catégorie']\n",
    "    pourcentages = data['Pourcentage']\n",
    "\n",
    "    plt.bar(categories, pourcentages)\n",
    "    plt.xlabel('Catégorie')\n",
    "    plt.ylabel('Pourcentage')\n",
    "    plt.title('Histogramme des Pourcentages')\n",
    "    plt.show()"
   ]
  },
  {
   "attachments": {},
   "cell_type": "markdown",
   "metadata": {},
   "source": [
    "## 3.1 Without deduplicating the person dataset"
   ]
  },
  {
   "cell_type": "code",
   "execution_count": 65,
   "metadata": {},
   "outputs": [
    {
     "name": "stdout",
     "output_type": "stream",
     "text": [
      "le nombre de patients atteints de cancer est : 4327\n"
     ]
    }
   ],
   "source": [
    "df_cancer = df_condition[df_condition['condition_source_value'].isin(cancer_condition)]\n",
    "mask = df_condition.apply(tuple,1).isin(df_cancer.apply(tuple,1))\n",
    "df_no_cancer = df_condition.loc[~mask]\n",
    "nbre_patients_cancer = df_cancer.person_id.nunique()\n",
    "nbre_patients_no_cancer = df_no_cancer.person_id.nunique()\n",
    "print(f'le nombre de patients atteints de cancer est : {nbre_patients_cancer}')"
   ]
  },
  {
   "cell_type": "code",
   "execution_count": 66,
   "metadata": {},
   "outputs": [
    {
     "data": {
      "image/png": "[encoded data removed]",
      "text/plain": [
       "<Figure size 640x480 with 1 Axes>"
      ]
     },
     "metadata": {},
     "output_type": "display_data"
    },
    {
     "data": {
      "image/png": "[encoded data removed]",
      "text/plain": [
       "<Figure size 640x480 with 1 Axes>"
      ]
     },
     "metadata": {},
     "output_type": "display_data"
    }
   ],
   "source": [
    "hist_risk_factors(risk_factors, df_cancer, df_person, df_condition, nbre_patients_cancer)\n",
    "hist_risk_factors(risk_factors, df_no_cancer, df_person, df_condition, nbre_patients_no_cancer)"
   ]
  },
  {
   "attachments": {},
   "cell_type": "markdown",
   "metadata": {},
   "source": [
    "## 3.2 Using the determinist deduplication"
   ]
  },
  {
   "cell_type": "code",
   "execution_count": 43,
   "metadata": {},
   "outputs": [],
   "source": [
    "df_condition_dedup_det = df_condition.merge(df_person_dedup_det[['person_id']], on='person_id', how='inner')\n",
    "df_visit_dedup_det = df_visit.merge(df_person_dedup_det[['person_id']], on='person_id', how='left')"
   ]
  },
  {
   "cell_type": "code",
   "execution_count": 50,
   "metadata": {},
   "outputs": [
    {
     "name": "stdout",
     "output_type": "stream",
     "text": [
      "le nombre de patients atteints de cancer est : 4224\n"
     ]
    }
   ],
   "source": [
    "df_cancer_dedup_det = df_condition_dedup_det[df_condition_dedup_det['condition_source_value'].isin(cancer_condition)]\n",
    "nbre_patients_cancer = df_cancer_dedup_det.person_id.nunique()\n",
    "print(f'le nombre de patients atteints de cancer est : {nbre_patients_cancer}')"
   ]
  },
  {
   "attachments": {},
   "cell_type": "markdown",
   "metadata": {},
   "source": [
    "## 3.3 Using the probabilistic deduplication"
   ]
  },
  {
   "attachments": {},
   "cell_type": "markdown",
   "metadata": {},
   "source": [
    "### 3.3.1 score = 20"
   ]
  },
  {
   "cell_type": "code",
   "execution_count": 39,
   "metadata": {},
   "outputs": [],
   "source": [
    "df_condition_dedup_proba_20 = df_condition.merge(df_person_dedup_proba_20[['person_id']], on='person_id', how='inner')\n",
    "df_visit_dedup_proba_20 = df_visit.merge(df_person_dedup_proba_20[['person_id']], on='person_id', how='left')"
   ]
  },
  {
   "cell_type": "code",
   "execution_count": 48,
   "metadata": {},
   "outputs": [
    {
     "name": "stdout",
     "output_type": "stream",
     "text": [
      "le nombre de patients atteints de cancer est : 4015\n"
     ]
    }
   ],
   "source": [
    "df_cancer_dedup_proba_20 = df_condition_dedup_proba_20[df_condition_dedup_proba_20['condition_source_value'].isin(cancer_condition)]\n",
    "nbre_patients_cancer = df_cancer_dedup_proba_20.person_id.nunique()\n",
    "print(f'le nombre de patients atteints de cancer est : {nbre_patients_cancer}')"
   ]
  },
  {
   "attachments": {},
   "cell_type": "markdown",
   "metadata": {},
   "source": [
    "### 3.3.2 score = 90"
   ]
  },
  {
   "cell_type": "code",
   "execution_count": 41,
   "metadata": {},
   "outputs": [],
   "source": [
    "df_condition_dedup_proba_90 = df_condition.merge(df_person_dedup_proba_90[['person_id']], on='person_id', how='inner')\n",
    "df_visit_dedup_proba_90 = df_visit.merge(df_person_dedup_proba_90[['person_id']], on='person_id', how='left')"
   ]
  },
  {
   "cell_type": "code",
   "execution_count": 49,
   "metadata": {},
   "outputs": [
    {
     "name": "stdout",
     "output_type": "stream",
     "text": [
      "le nombre de patients atteints de cancer est : 4114\n"
     ]
    }
   ],
   "source": [
    "df_cancer_dedup_proba_90 = df_condition_dedup_proba_90[df_condition_dedup_proba_90['condition_source_value'].isin(cancer_condition)]\n",
    "nbre_patients_cancer = df_cancer_dedup_proba_90.person_id.nunique()\n",
    "print(f'le nombre de patients atteints de cancer est : {nbre_patients_cancer}')"
   ]
  }
 ],
 "metadata": {
  "kernelspec": {
   "display_name": "Python 3.10.6 64-bit",
   "language": "python",
   "name": "python3"
  },
  "language_info": {
   "codemirror_mode": {
    "name": "ipython",
    "version": 3
   },
   "file_extension": ".py",
   "mimetype": "text/x-python",
   "name": "python",
   "nbconvert_exporter": "python",
   "pygments_lexer": "ipython3",
   "version": "3.7.16"
  },
  "vscode": {
   "interpreter": {
    "hash": "aee8b7b246df8f9039afb4144a1f6fd8d2ca17a180786b69acc140d282b71a49"
   }
  }
 },
 "nbformat": 4,
 "nbformat_minor": 4
}
