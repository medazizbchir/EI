{
 "cells": [
  {
   "attachments": {},
   "cell_type": "markdown",
   "metadata": {},
   "source": [
    "# Biostatistical analysis"
   ]
  },
  {
   "attachments": {},
   "cell_type": "markdown",
   "metadata": {},
   "source": [
    "We want to dig further the analysis on the cancer risk facotrs and try to quantify their effect, along with other clinical and biological features. To that end, we will compare the population with cancer to the control population. \n",
    "<br> We will want to build a table as follow : \n"
   ]
  },
  {
   "attachments": {},
   "cell_type": "markdown",
   "metadata": {
    "tags": []
   },
   "source": [
    "|   | Population without cancer   | Population with cancer  | p-value  |\n",
    "|---|---|---|---|\n",
    "| age, mean (IQR)  |  xxx | xxx  | xxx  |\n",
    "| men, % | xxx  | xxx  | xxx  |\n",
    "| tabac patients, %  | xxx  | xxx  | xxx  |\n",
    "| diabetes patients, % | xxx  | xxx  | xxx  |\n",
    "| alcool patients, % | xxx  | xxx  | xxx  |\n",
    "| sub_psy patients, % | xxx  | xxx  | xxx  |\n",
    "| tum_herit patients, % | xxx  | xxx  | xxx  |\n",
    "| bmi, mean (IQR)  |  xxx | xxx  | xxx  |\n",
    "| crp, mean (IQR)  |  xxx | xxx  | xxx  |\n",
    "| urea, mean (IQR)  |  xxx | xxx  | xxx  |\n",
    "| Hemoglobine, mean (IQR)  |  xxx | xxx  | xxx  |\n"
   ]
  },
  {
   "attachments": {},
   "cell_type": "markdown",
   "metadata": {},
   "source": [
    "The p-value column compares, for each caracteristic, the population 1 and the population 2. \n",
    "<br> We will admit that a p-value under 0.05 is significant."
   ]
  },
  {
   "attachments": {},
   "cell_type": "markdown",
   "metadata": {},
   "source": [
    "The following libraries are required to go through this notebook:"
   ]
  },
  {
   "cell_type": "code",
   "execution_count": 2,
   "metadata": {},
   "outputs": [],
   "source": [
    "import pandas as pd\n",
    "import numpy as np\n",
    "\n",
    "# For descriptive statistics\n",
    "from scipy.stats import ttest_ind, chi2_contingency\n",
    "\n",
    "# For Logistic Models implementation\n",
    "from statsmodels.formula.api import logit, glm"
   ]
  },
  {
   "attachments": {},
   "cell_type": "markdown",
   "metadata": {},
   "source": [
    "# Table of content"
   ]
  },
  {
   "attachments": {},
   "cell_type": "markdown",
   "metadata": {},
   "source": [
    "1. [Preprocessing](#preprocessing)  \n",
    "    1.1 [Age](#age)  \n",
    "    1.2 [Gender](#gender)  \n",
    "    1.3 [Comorbidities](#comorb)  \n",
    "    1.4 [Biological values](#bio)  \n",
    "    1.5 [Medication data](#med)\n",
    "2. [Descriptive statistics](#stat)  \n",
    "\n",
    "4. [Takeaways](#takeaways)\n"
   ]
  },
  {
   "attachments": {},
   "cell_type": "markdown",
   "metadata": {},
   "source": [
    "<a id=\"preprocessing\"></a>\n",
    "# 1. Preprocessing"
   ]
  },
  {
   "attachments": {},
   "cell_type": "markdown",
   "metadata": {},
   "source": [
    "The main objective of this step is to prepare a dataset for each cohort with the characteristics we need to compare the 2 cohorts."
   ]
  },
  {
   "attachments": {},
   "cell_type": "markdown",
   "metadata": {},
   "source": [
    "Hence, we will create a DataFrame with one row by patient, having the following columns:\n",
    "\n",
    "- age at the time of the visit (*int*)\n",
    "- male (*bool*)\n",
    "- comorbidities : cancer antecedent and diabetes (*bool*)\n",
    "- biological profile at the time of admission (*float*). The following items were measured for each patient : bmi, urea, hemoglobin, crp.\n",
    "- medication\n",
    "\n",
    "Then, we will split this dataframe in two :  we will create a ```pd.dataframe``` *df_control* and a ```pd.dataframe``` *df_drugA*."
   ]
  },
  {
   "attachments": {},
   "cell_type": "markdown",
   "metadata": {},
   "source": [
    "**NB: For the sake of simplicity, we assume that all the available tables have been pre-processed (deduplication, NLP enhancing , data cleaning, ...) and can be used as is. Moreover, we assume that each patient has one and only visit associated.**"
   ]
  },
  {
   "attachments": {},
   "cell_type": "markdown",
   "metadata": {},
   "source": [
    "Open the following files using the `pandas.read_pickle()` function : \n",
    "  - *data/df_person.pkl* as `df_person`\n",
    "  - *data/df_visit.pkl* as `df_visit`\n",
    "  - *data/df_condition.pkl* as `df_cond`\n",
    "  - *data/df_med.pkl* as `df_med`\n",
    "  - *data/df_bio.pkl* as `df_bio.pkl`"
   ]
  },
  {
   "cell_type": "code",
   "execution_count": 3,
   "metadata": {},
   "outputs": [],
   "source": [
    "# Patients\n",
    "df_person = pd.read_pickle('data/df_person.pkl')\n",
    "# Visits\n",
    "df_visit = pd.read_pickle('data/df_visit.pkl')\n",
    "# Diagnosis (condition)\n",
    "df_condition = pd.read_pickle('data/df_condition.pkl')\n",
    "# Medication\n",
    "df_med = pd.read_pickle('data/df_med.pkl')\n",
    "# Biology\n",
    "df_bio = pd.read_pickle('data/df_bio.pkl')"
   ]
  },
  {
   "attachments": {},
   "cell_type": "markdown",
   "metadata": {},
   "source": [
    "Create the base output dataset (format : `pandas.DataFrame` ; name : `data`)  from the `df_person` table, gathering patient id, gender, birth and death dates."
   ]
  },
  {
   "cell_type": "code",
   "execution_count": 4,
   "metadata": {},
   "outputs": [],
   "source": [
    "data = df_person[[\"person_id\", \"birth_datetime\", \"gender_source_value\" ,\"death_datetime\"]]"
   ]
  },
  {
   "attachments": {},
   "cell_type": "markdown",
   "metadata": {},
   "source": [
    "Check the size of the dataframe using `dataframe.shape()`"
   ]
  },
  {
   "cell_type": "code",
   "execution_count": 5,
   "metadata": {},
   "outputs": [
    {
     "data": {
      "text/plain": [
       "(18900, 4)"
      ]
     },
     "execution_count": 5,
     "metadata": {},
     "output_type": "execute_result"
    }
   ],
   "source": [
    "data.shape"
   ]
  },
  {
   "attachments": {},
   "cell_type": "markdown",
   "metadata": {
    "tags": []
   },
   "source": [
    "<a id=\"age\"></a>\n",
    "## 1.1 Age"
   ]
  },
  {
   "attachments": {},
   "cell_type": "markdown",
   "metadata": {},
   "source": [
    "Compute the patient age at the time of their hospitalization."
   ]
  },
  {
   "attachments": {},
   "cell_type": "markdown",
   "metadata": {},
   "source": [
    "TIPS : \n",
    "- Inner join the `data` dataset and the `df_visit` dataset on `person_id` using the `pandas.merge()` function (see [doc](https://pandas.pydata.org/docs/reference/api/pandas.merge.html))\n",
    "- Create an `age` column compute the age for each patient."
   ]
  },
  {
   "cell_type": "code",
   "execution_count": 6,
   "metadata": {},
   "outputs": [],
   "source": [
    "data = pd.merge(data, df_visit[[\"person_id\", \"visit_occurrence_id\" ,\"visit_start_datetime\"]], on=\"person_id\", how=\"inner\")"
   ]
  },
  {
   "cell_type": "code",
   "execution_count": 7,
   "metadata": {},
   "outputs": [],
   "source": [
    "data['age'] = (data['visit_start_datetime'] - data['birth_datetime']).dt.days/ 365"
   ]
  },
  {
   "attachments": {},
   "cell_type": "markdown",
   "metadata": {},
   "source": [
    "<a id=\"gender\"></a>\n",
    "## 1.2 Gender"
   ]
  },
  {
   "attachments": {},
   "cell_type": "markdown",
   "metadata": {},
   "source": [
    "Create a \"male\" boolean column to identify if the patient is a male (1) or a female (0)."
   ]
  },
  {
   "cell_type": "code",
   "execution_count": 8,
   "metadata": {},
   "outputs": [],
   "source": [
    "data[\"male\"] = data.gender_source_value == \"m\""
   ]
  },
  {
   "attachments": {},
   "cell_type": "markdown",
   "metadata": {},
   "source": [
    "<a id=\"comorb\"></a>\n",
    "## 1.3 Comorbidities : history of cancer and diabetes"
   ]
  },
  {
   "attachments": {},
   "cell_type": "markdown",
   "metadata": {},
   "source": [
    "Meetings with experts lead us to identify the ICD-10 codes corresponding to history of cancer and diabetes :\n",
    "- cancer : [\"Z851\", \"Z852\", \"Z853\"]\n",
    "- diabetes : [\"E10\", \"E11\", \"E12\"]"
   ]
  },
  {
   "attachments": {},
   "cell_type": "markdown",
   "metadata": {},
   "source": [
    "Tag each code in the `df_cond` Dataframe corresponding to diabetes or cancer antecedent."
   ]
  },
  {
   "attachments": {},
   "cell_type": "markdown",
   "metadata": {},
   "source": [
    "TIP: you can build a `code_to_comorb` dictionary mapping each ICD-10 code to its corresponding comorbidity, and use the pandas `df.col_name.map(dict)` built-function to map the values of the `condition_source_value` column."
   ]
  },
  {
   "cell_type": "code",
   "execution_count": 9,
   "metadata": {},
   "outputs": [],
   "source": [
    "comorb_to_code = {\n",
    "    \"diabetes\": [\"E10\", \"E11\", \"E12\"],\n",
    "    \"history_cancer\": [\"Z851\", \"Z852\", \"Z853\"]\n",
    "}"
   ]
  },
  {
   "cell_type": "code",
   "execution_count": 10,
   "metadata": {},
   "outputs": [],
   "source": [
    "code_to_comorb = {}\n",
    "for key,codes_list in comorb_to_code.items():\n",
    "    for code in codes_list:\n",
    "        code_to_comorb[code]=key"
   ]
  },
  {
   "cell_type": "code",
   "execution_count": 11,
   "metadata": {},
   "outputs": [],
   "source": [
    "df_condition[\"comorbidity\"] = df_condition.condition_source_value.map(code_to_comorb)"
   ]
  },
  {
   "attachments": {},
   "cell_type": "markdown",
   "metadata": {},
   "source": [
    "Create a `df_comorbidities` DataFrame by selecting the condition codes corresponding to the desired comorbidities."
   ]
  },
  {
   "attachments": {},
   "cell_type": "markdown",
   "metadata": {},
   "source": [
    "TIP : \n",
    "You can use the `df.col_name.notna()` built-in function : \n",
    "```python \n",
    "df[df.col_name.notna()]\n",
    "```"
   ]
  },
  {
   "cell_type": "code",
   "execution_count": 12,
   "metadata": {},
   "outputs": [],
   "source": [
    "df_comorbidities = df_condition[df_condition.comorbidity.notna()]"
   ]
  },
  {
   "attachments": {},
   "cell_type": "markdown",
   "metadata": {},
   "source": [
    "How many patients have cancer antecedent ? How many have had diabetes ?\n",
    "\n",
    "TIP : Use the `df.col_name.value_counts()` function"
   ]
  },
  {
   "cell_type": "code",
   "execution_count": 13,
   "metadata": {},
   "outputs": [
    {
     "data": {
      "text/plain": [
       "diabetes          1866\n",
       "history_cancer     296\n",
       "Name: comorbidity, dtype: int64"
      ]
     },
     "execution_count": 13,
     "metadata": {},
     "output_type": "execute_result"
    }
   ],
   "source": [
    "df_comorbidities.comorbidity.value_counts()"
   ]
  },
  {
   "cell_type": "code",
   "execution_count": 14,
   "metadata": {},
   "outputs": [
    {
     "data": {
      "text/html": [
       "<div>\n",
       "<style scoped>\n",
       "    .dataframe tbody tr th:only-of-type {\n",
       "        vertical-align: middle;\n",
       "    }\n",
       "\n",
       "    .dataframe tbody tr th {\n",
       "        vertical-align: top;\n",
       "    }\n",
       "\n",
       "    .dataframe thead th {\n",
       "        text-align: right;\n",
       "    }\n",
       "</style>\n",
       "<table border=\"1\" class=\"dataframe\">\n",
       "  <thead>\n",
       "    <tr style=\"text-align: right;\">\n",
       "      <th></th>\n",
       "      <th>visit_occurrence_id</th>\n",
       "      <th>person_id</th>\n",
       "      <th>condition_occurrence_id</th>\n",
       "      <th>condition_source_value</th>\n",
       "      <th>comorbidity</th>\n",
       "    </tr>\n",
       "  </thead>\n",
       "  <tbody>\n",
       "    <tr>\n",
       "      <th>0</th>\n",
       "      <td>88010689</td>\n",
       "      <td>83375511</td>\n",
       "      <td>86985408</td>\n",
       "      <td>Z851</td>\n",
       "      <td>history_cancer</td>\n",
       "    </tr>\n",
       "    <tr>\n",
       "      <th>0</th>\n",
       "      <td>83975057</td>\n",
       "      <td>86414542</td>\n",
       "      <td>84906736</td>\n",
       "      <td>Z853</td>\n",
       "      <td>history_cancer</td>\n",
       "    </tr>\n",
       "    <tr>\n",
       "      <th>0</th>\n",
       "      <td>86363739</td>\n",
       "      <td>82584695</td>\n",
       "      <td>81617843</td>\n",
       "      <td>E11</td>\n",
       "      <td>diabetes</td>\n",
       "    </tr>\n",
       "    <tr>\n",
       "      <th>1</th>\n",
       "      <td>84473271</td>\n",
       "      <td>83776040</td>\n",
       "      <td>82847145</td>\n",
       "      <td>E11</td>\n",
       "      <td>diabetes</td>\n",
       "    </tr>\n",
       "    <tr>\n",
       "      <th>2</th>\n",
       "      <td>88673465</td>\n",
       "      <td>86301131</td>\n",
       "      <td>86041258</td>\n",
       "      <td>E11</td>\n",
       "      <td>diabetes</td>\n",
       "    </tr>\n",
       "  </tbody>\n",
       "</table>\n",
       "</div>"
      ],
      "text/plain": [
       "   visit_occurrence_id  person_id  condition_occurrence_id  \\\n",
       "0             88010689   83375511                 86985408   \n",
       "0             83975057   86414542                 84906736   \n",
       "0             86363739   82584695                 81617843   \n",
       "1             84473271   83776040                 82847145   \n",
       "2             88673465   86301131                 86041258   \n",
       "\n",
       "  condition_source_value     comorbidity  \n",
       "0                   Z851  history_cancer  \n",
       "0                   Z853  history_cancer  \n",
       "0                    E11        diabetes  \n",
       "1                    E11        diabetes  \n",
       "2                    E11        diabetes  "
      ]
     },
     "execution_count": 14,
     "metadata": {},
     "output_type": "execute_result"
    }
   ],
   "source": [
    "df_comorbidities.head()"
   ]
  },
  {
   "attachments": {},
   "cell_type": "markdown",
   "metadata": {},
   "source": [
    "The `df_comorbidities` DataFrame is composed of one row per condition source value (either cancer or diabete).\n",
    "<br> A patient can have multiple rows depending on how many conditions they have.\n",
    "\n",
    "Now, we will create a dataframe with one row per patient and per visit : \n",
    "<br>NB : each patient only has one and only visit\n",
    "\n",
    "| visit_occurrence_id | person_id  | history_cancer | diabetes |\n",
    "| :------------------ | :----------|:------------| :---------- |\n",
    "| aaa | xxx | True |  True |\n",
    "| bbb | yyy | False |  True |\n",
    "| ccc | zzz | False |  False |\n",
    "\n",
    "Pivot the `df_comorbidities` DataFrame to have the presence of both antecedents for each patient. Don't forget to replace the NaN values by False and to reset the index !"
   ]
  },
  {
   "attachments": {},
   "cell_type": "markdown",
   "metadata": {},
   "source": [
    "TIP \n",
    "You can use the [pivot](https://pandas.pydata.org/docs/reference/api/pandas.DataFrame.pivot.html) built-in function :\n",
    "```python\n",
    "df.pivot(index=[\"index_col\"], columns=[\"col\"], values=[\"value\"])\n",
    "```\n",
    "You might need to create \"artificially\" the *value* column as a True boolean, and drop the *condition_occurrence_id* column."
   ]
  },
  {
   "cell_type": "code",
   "execution_count": 15,
   "metadata": {},
   "outputs": [
    {
     "name": "stderr",
     "output_type": "stream",
     "text": [
      "c:\\Users\\gazze\\anaconda3\\envs\\eds-tuto\\lib\\site-packages\\ipykernel_launcher.py:1: SettingWithCopyWarning: \n",
      "A value is trying to be set on a copy of a slice from a DataFrame.\n",
      "Try using .loc[row_indexer,col_indexer] = value instead\n",
      "\n",
      "See the caveats in the documentation: https://pandas.pydata.org/pandas-docs/stable/user_guide/indexing.html#returning-a-view-versus-a-copy\n",
      "  \"\"\"Entry point for launching an IPython kernel.\n"
     ]
    }
   ],
   "source": [
    "df_comorbidities[\"value\"] = True"
   ]
  },
  {
   "cell_type": "code",
   "execution_count": 16,
   "metadata": {},
   "outputs": [],
   "source": [
    "df_comorbidities = df_comorbidities.drop(columns=[\"condition_occurrence_id\"]).pivot(index=[\"person_id\", \"visit_occurrence_id\"], columns=[\"comorbidity\"], values=\"value\").reset_index().fillna(False)"
   ]
  },
  {
   "cell_type": "code",
   "execution_count": 17,
   "metadata": {},
   "outputs": [
    {
     "data": {
      "text/html": [
       "<div>\n",
       "<style scoped>\n",
       "    .dataframe tbody tr th:only-of-type {\n",
       "        vertical-align: middle;\n",
       "    }\n",
       "\n",
       "    .dataframe tbody tr th {\n",
       "        vertical-align: top;\n",
       "    }\n",
       "\n",
       "    .dataframe thead th {\n",
       "        text-align: right;\n",
       "    }\n",
       "</style>\n",
       "<table border=\"1\" class=\"dataframe\">\n",
       "  <thead>\n",
       "    <tr style=\"text-align: right;\">\n",
       "      <th>comorbidity</th>\n",
       "      <th>person_id</th>\n",
       "      <th>visit_occurrence_id</th>\n",
       "      <th>diabetes</th>\n",
       "      <th>history_cancer</th>\n",
       "    </tr>\n",
       "  </thead>\n",
       "  <tbody>\n",
       "    <tr>\n",
       "      <th>0</th>\n",
       "      <td>80006723</td>\n",
       "      <td>82844300</td>\n",
       "      <td>True</td>\n",
       "      <td>False</td>\n",
       "    </tr>\n",
       "    <tr>\n",
       "      <th>1</th>\n",
       "      <td>80006943</td>\n",
       "      <td>88194497</td>\n",
       "      <td>True</td>\n",
       "      <td>False</td>\n",
       "    </tr>\n",
       "    <tr>\n",
       "      <th>2</th>\n",
       "      <td>80008962</td>\n",
       "      <td>87210142</td>\n",
       "      <td>True</td>\n",
       "      <td>False</td>\n",
       "    </tr>\n",
       "    <tr>\n",
       "      <th>3</th>\n",
       "      <td>80014184</td>\n",
       "      <td>82732761</td>\n",
       "      <td>True</td>\n",
       "      <td>False</td>\n",
       "    </tr>\n",
       "    <tr>\n",
       "      <th>4</th>\n",
       "      <td>80015386</td>\n",
       "      <td>82248945</td>\n",
       "      <td>True</td>\n",
       "      <td>False</td>\n",
       "    </tr>\n",
       "  </tbody>\n",
       "</table>\n",
       "</div>"
      ],
      "text/plain": [
       "comorbidity  person_id  visit_occurrence_id  diabetes  history_cancer\n",
       "0             80006723             82844300      True           False\n",
       "1             80006943             88194497      True           False\n",
       "2             80008962             87210142      True           False\n",
       "3             80014184             82732761      True           False\n",
       "4             80015386             82248945      True           False"
      ]
     },
     "execution_count": 17,
     "metadata": {},
     "output_type": "execute_result"
    }
   ],
   "source": [
    "df_comorbidities.head()"
   ]
  },
  {
   "cell_type": "code",
   "execution_count": 18,
   "metadata": {},
   "outputs": [
    {
     "data": {
      "text/plain": [
       "(2112, 4)"
      ]
     },
     "execution_count": 18,
     "metadata": {},
     "output_type": "execute_result"
    }
   ],
   "source": [
    "df_comorbidities.shape"
   ]
  },
  {
   "cell_type": "code",
   "execution_count": 19,
   "metadata": {},
   "outputs": [
    {
     "data": {
      "text/plain": [
       "(18900, 5)"
      ]
     },
     "execution_count": 19,
     "metadata": {},
     "output_type": "execute_result"
    }
   ],
   "source": [
    "df_person.shape"
   ]
  },
  {
   "attachments": {},
   "cell_type": "markdown",
   "metadata": {},
   "source": [
    "Merge the `data` DataFrame with the obtained `df_comorbidities` to summarize comorbidities information for each patient.\n",
    "\n",
    "TIP:  \n",
    "- Think twice about the type of merging you want to perform\n",
    "- Do not forget to fill NA values for the comorbidity columns with False !"
   ]
  },
  {
   "cell_type": "code",
   "execution_count": 20,
   "metadata": {},
   "outputs": [],
   "source": [
    "data = pd.merge(data, df_comorbidities[[\"person_id\", \"history_cancer\", \"diabetes\"]], on=\"person_id\", how=\"left\").fillna({\"history_cancer\":False, \"diabetes\":False})"
   ]
  },
  {
   "cell_type": "code",
   "execution_count": 21,
   "metadata": {},
   "outputs": [
    {
     "data": {
      "text/html": [
       "<div>\n",
       "<style scoped>\n",
       "    .dataframe tbody tr th:only-of-type {\n",
       "        vertical-align: middle;\n",
       "    }\n",
       "\n",
       "    .dataframe tbody tr th {\n",
       "        vertical-align: top;\n",
       "    }\n",
       "\n",
       "    .dataframe thead th {\n",
       "        text-align: right;\n",
       "    }\n",
       "</style>\n",
       "<table border=\"1\" class=\"dataframe\">\n",
       "  <thead>\n",
       "    <tr style=\"text-align: right;\">\n",
       "      <th></th>\n",
       "      <th>person_id</th>\n",
       "      <th>birth_datetime</th>\n",
       "      <th>gender_source_value</th>\n",
       "      <th>death_datetime</th>\n",
       "      <th>visit_occurrence_id</th>\n",
       "      <th>visit_start_datetime</th>\n",
       "      <th>age</th>\n",
       "      <th>male</th>\n",
       "      <th>history_cancer</th>\n",
       "      <th>diabetes</th>\n",
       "    </tr>\n",
       "  </thead>\n",
       "  <tbody>\n",
       "    <tr>\n",
       "      <th>0</th>\n",
       "      <td>89340407</td>\n",
       "      <td>2024-03-06</td>\n",
       "      <td>f</td>\n",
       "      <td>NaT</td>\n",
       "      <td>84672033</td>\n",
       "      <td>2024-06-27</td>\n",
       "      <td>0.309589</td>\n",
       "      <td>False</td>\n",
       "      <td>False</td>\n",
       "      <td>False</td>\n",
       "    </tr>\n",
       "    <tr>\n",
       "      <th>1</th>\n",
       "      <td>89954933</td>\n",
       "      <td>2019-04-26</td>\n",
       "      <td>f</td>\n",
       "      <td>2020-12-22</td>\n",
       "      <td>82105428</td>\n",
       "      <td>2020-12-19</td>\n",
       "      <td>1.652055</td>\n",
       "      <td>False</td>\n",
       "      <td>False</td>\n",
       "      <td>False</td>\n",
       "    </tr>\n",
       "    <tr>\n",
       "      <th>2</th>\n",
       "      <td>86079819</td>\n",
       "      <td>2016-10-13</td>\n",
       "      <td>f</td>\n",
       "      <td>NaT</td>\n",
       "      <td>86564132</td>\n",
       "      <td>2021-03-14</td>\n",
       "      <td>4.419178</td>\n",
       "      <td>False</td>\n",
       "      <td>False</td>\n",
       "      <td>False</td>\n",
       "    </tr>\n",
       "    <tr>\n",
       "      <th>3</th>\n",
       "      <td>80919213</td>\n",
       "      <td>2021-04-23</td>\n",
       "      <td>f</td>\n",
       "      <td>NaT</td>\n",
       "      <td>84702833</td>\n",
       "      <td>2024-02-09</td>\n",
       "      <td>2.800000</td>\n",
       "      <td>False</td>\n",
       "      <td>False</td>\n",
       "      <td>False</td>\n",
       "    </tr>\n",
       "    <tr>\n",
       "      <th>4</th>\n",
       "      <td>82173885</td>\n",
       "      <td>2021-09-10</td>\n",
       "      <td>f</td>\n",
       "      <td>NaT</td>\n",
       "      <td>85134636</td>\n",
       "      <td>2021-11-20</td>\n",
       "      <td>0.194521</td>\n",
       "      <td>False</td>\n",
       "      <td>False</td>\n",
       "      <td>False</td>\n",
       "    </tr>\n",
       "  </tbody>\n",
       "</table>\n",
       "</div>"
      ],
      "text/plain": [
       "   person_id birth_datetime gender_source_value death_datetime  \\\n",
       "0   89340407     2024-03-06                   f            NaT   \n",
       "1   89954933     2019-04-26                   f     2020-12-22   \n",
       "2   86079819     2016-10-13                   f            NaT   \n",
       "3   80919213     2021-04-23                   f            NaT   \n",
       "4   82173885     2021-09-10                   f            NaT   \n",
       "\n",
       "   visit_occurrence_id visit_start_datetime       age   male  history_cancer  \\\n",
       "0             84672033           2024-06-27  0.309589  False           False   \n",
       "1             82105428           2020-12-19  1.652055  False           False   \n",
       "2             86564132           2021-03-14  4.419178  False           False   \n",
       "3             84702833           2024-02-09  2.800000  False           False   \n",
       "4             85134636           2021-11-20  0.194521  False           False   \n",
       "\n",
       "   diabetes  \n",
       "0     False  \n",
       "1     False  \n",
       "2     False  \n",
       "3     False  \n",
       "4     False  "
      ]
     },
     "execution_count": 21,
     "metadata": {},
     "output_type": "execute_result"
    }
   ],
   "source": [
    "data.head()"
   ]
  },
  {
   "cell_type": "code",
   "execution_count": 22,
   "metadata": {},
   "outputs": [
    {
     "data": {
      "text/plain": [
       "1866"
      ]
     },
     "execution_count": 22,
     "metadata": {},
     "output_type": "execute_result"
    }
   ],
   "source": [
    "data.diabetes.sum()"
   ]
  },
  {
   "attachments": {},
   "cell_type": "markdown",
   "metadata": {},
   "source": [
    "<a id=\"bio\"></a>\n",
    "## 1.4 Biological profile"
   ]
  },
  {
   "attachments": {},
   "cell_type": "markdown",
   "metadata": {},
   "source": [
    "Check the different biological values available."
   ]
  },
  {
   "cell_type": "code",
   "execution_count": 23,
   "metadata": {},
   "outputs": [
    {
     "data": {
      "text/plain": [
       "bmi     18900\n",
       "urea    18900\n",
       "crp     18900\n",
       "hb      18900\n",
       "Name: concept_source_value, dtype: int64"
      ]
     },
     "execution_count": 23,
     "metadata": {},
     "output_type": "execute_result"
    }
   ],
   "source": [
    "df_bio.concept_source_value.value_counts()"
   ]
  },
  {
   "attachments": {},
   "cell_type": "markdown",
   "metadata": {},
   "source": [
    "Create a `df_bio_processed` DataFrame with all biological values for each visit : \n",
    "\n",
    "| visit_occurrence_id | bio_A  | bio_B | bio_C |\n",
    "| :------------------ | :----------|:------------| :---------- |\n",
    "| aaa | 189 | 13 |  0.87 |\n",
    "| bbb | 160 | 11 |  0.59 |\n",
    "| ccc | 209 | 11 |  0.69 |\n",
    "\n",
    "\n",
    "TIP : Pivot the `df_bio` DataFrame and retrieve the biological values measured at the admission of each hospitalization."
   ]
  },
  {
   "cell_type": "code",
   "execution_count": 24,
   "metadata": {},
   "outputs": [],
   "source": [
    "bio_processed = df_bio[[\"visit_occurrence_id\", \"concept_source_value\", \"transformed_value\"]].pivot(index=[\"visit_occurrence_id\"], columns=\"concept_source_value\", values=\"transformed_value\").reset_index()"
   ]
  },
  {
   "cell_type": "code",
   "execution_count": 25,
   "metadata": {
    "tags": []
   },
   "outputs": [
    {
     "data": {
      "text/html": [
       "<div>\n",
       "<style scoped>\n",
       "    .dataframe tbody tr th:only-of-type {\n",
       "        vertical-align: middle;\n",
       "    }\n",
       "\n",
       "    .dataframe tbody tr th {\n",
       "        vertical-align: top;\n",
       "    }\n",
       "\n",
       "    .dataframe thead th {\n",
       "        text-align: right;\n",
       "    }\n",
       "</style>\n",
       "<table border=\"1\" class=\"dataframe\">\n",
       "  <thead>\n",
       "    <tr style=\"text-align: right;\">\n",
       "      <th>concept_source_value</th>\n",
       "      <th>visit_occurrence_id</th>\n",
       "      <th>bmi</th>\n",
       "      <th>crp</th>\n",
       "      <th>hb</th>\n",
       "      <th>urea</th>\n",
       "    </tr>\n",
       "  </thead>\n",
       "  <tbody>\n",
       "    <tr>\n",
       "      <th>0</th>\n",
       "      <td>80000613</td>\n",
       "      <td>20.05</td>\n",
       "      <td>4.27</td>\n",
       "      <td>13.36</td>\n",
       "      <td>1.98</td>\n",
       "    </tr>\n",
       "    <tr>\n",
       "      <th>1</th>\n",
       "      <td>80001324</td>\n",
       "      <td>27.83</td>\n",
       "      <td>4.53</td>\n",
       "      <td>14.88</td>\n",
       "      <td>2.27</td>\n",
       "    </tr>\n",
       "    <tr>\n",
       "      <th>2</th>\n",
       "      <td>80001693</td>\n",
       "      <td>28.70</td>\n",
       "      <td>4.28</td>\n",
       "      <td>13.75</td>\n",
       "      <td>1.96</td>\n",
       "    </tr>\n",
       "    <tr>\n",
       "      <th>3</th>\n",
       "      <td>80001776</td>\n",
       "      <td>24.07</td>\n",
       "      <td>4.73</td>\n",
       "      <td>13.91</td>\n",
       "      <td>1.19</td>\n",
       "    </tr>\n",
       "    <tr>\n",
       "      <th>4</th>\n",
       "      <td>80002034</td>\n",
       "      <td>26.55</td>\n",
       "      <td>4.92</td>\n",
       "      <td>15.52</td>\n",
       "      <td>1.99</td>\n",
       "    </tr>\n",
       "  </tbody>\n",
       "</table>\n",
       "</div>"
      ],
      "text/plain": [
       "concept_source_value  visit_occurrence_id    bmi   crp     hb  urea\n",
       "0                                80000613  20.05  4.27  13.36  1.98\n",
       "1                                80001324  27.83  4.53  14.88  2.27\n",
       "2                                80001693  28.70  4.28  13.75  1.96\n",
       "3                                80001776  24.07  4.73  13.91  1.19\n",
       "4                                80002034  26.55  4.92  15.52  1.99"
      ]
     },
     "execution_count": 25,
     "metadata": {},
     "output_type": "execute_result"
    }
   ],
   "source": [
    "bio_processed.head()"
   ]
  },
  {
   "attachments": {},
   "cell_type": "markdown",
   "metadata": {},
   "source": [
    "Merge `data` and `bio_processed` on `visit_occurrence_id`\n",
    "\n",
    "TIP: Think twice about the type of merging you want to perform"
   ]
  },
  {
   "cell_type": "code",
   "execution_count": 26,
   "metadata": {},
   "outputs": [],
   "source": [
    "data = pd.merge(data, bio_processed, on=\"visit_occurrence_id\", how=\"left\")"
   ]
  },
  {
   "attachments": {},
   "cell_type": "markdown",
   "metadata": {},
   "source": [
    "<a id=\"med\"></a>\n",
    "## 1.5 Medication taken"
   ]
  },
  {
   "attachments": {},
   "cell_type": "markdown",
   "metadata": {},
   "source": [
    "Create a \"drugA\" boolean column in `data` indicating whether patients have taken the drugA or not. "
   ]
  },
  {
   "attachments": {},
   "cell_type": "markdown",
   "metadata": {},
   "source": [
    "TIP :\n",
    "You can pivot the `df_med` DataFrame as done for the comorbidities."
   ]
  },
  {
   "cell_type": "code",
   "execution_count": 27,
   "metadata": {},
   "outputs": [],
   "source": [
    "df_med[\"value\"]=True"
   ]
  },
  {
   "cell_type": "code",
   "execution_count": 28,
   "metadata": {},
   "outputs": [],
   "source": [
    "med_processed = df_med[[\"visit_occurrence_id\", \"drug_source_value\", \"value\"]].pivot(index=[\"visit_occurrence_id\"], columns=\"drug_source_value\", values=\"value\").reset_index().fillna(False)"
   ]
  },
  {
   "cell_type": "code",
   "execution_count": 29,
   "metadata": {},
   "outputs": [],
   "source": [
    "data = pd.merge(data, med_processed, on=\"visit_occurrence_id\", how=\"left\").fillna({\"drugA\":False})"
   ]
  },
  {
   "attachments": {},
   "cell_type": "markdown",
   "metadata": {},
   "source": [
    "### Final step"
   ]
  },
  {
   "attachments": {},
   "cell_type": "markdown",
   "metadata": {},
   "source": [
    "Select the columns you want to keep for the statistical analyses and check that you don't have missing values."
   ]
  },
  {
   "attachments": {},
   "cell_type": "markdown",
   "metadata": {},
   "source": [
    "TIP : you can use the following built-in function :\n",
    "```python\n",
    "df.isna().sum()\n",
    "```\n",
    "Beware of the axis along which you sum !"
   ]
  },
  {
   "cell_type": "code",
   "execution_count": 30,
   "metadata": {},
   "outputs": [],
   "source": [
    "data = data[[\"person_id\", \"age\", \"male\", \"history_cancer\", \"diabetes\", \"bmi\", \"crp\", \"urea\", \"hb\", \"drugA\"]]"
   ]
  },
  {
   "cell_type": "code",
   "execution_count": 31,
   "metadata": {},
   "outputs": [
    {
     "data": {
      "text/html": [
       "<div>\n",
       "<style scoped>\n",
       "    .dataframe tbody tr th:only-of-type {\n",
       "        vertical-align: middle;\n",
       "    }\n",
       "\n",
       "    .dataframe tbody tr th {\n",
       "        vertical-align: top;\n",
       "    }\n",
       "\n",
       "    .dataframe thead th {\n",
       "        text-align: right;\n",
       "    }\n",
       "</style>\n",
       "<table border=\"1\" class=\"dataframe\">\n",
       "  <thead>\n",
       "    <tr style=\"text-align: right;\">\n",
       "      <th></th>\n",
       "      <th>person_id</th>\n",
       "      <th>age</th>\n",
       "      <th>male</th>\n",
       "      <th>history_cancer</th>\n",
       "      <th>diabetes</th>\n",
       "      <th>bmi</th>\n",
       "      <th>crp</th>\n",
       "      <th>urea</th>\n",
       "      <th>hb</th>\n",
       "      <th>drugA</th>\n",
       "    </tr>\n",
       "  </thead>\n",
       "  <tbody>\n",
       "    <tr>\n",
       "      <th>0</th>\n",
       "      <td>89340407</td>\n",
       "      <td>0.309589</td>\n",
       "      <td>False</td>\n",
       "      <td>False</td>\n",
       "      <td>False</td>\n",
       "      <td>19.68</td>\n",
       "      <td>4.81</td>\n",
       "      <td>1.25</td>\n",
       "      <td>14.86</td>\n",
       "      <td>False</td>\n",
       "    </tr>\n",
       "    <tr>\n",
       "      <th>1</th>\n",
       "      <td>89954933</td>\n",
       "      <td>1.652055</td>\n",
       "      <td>False</td>\n",
       "      <td>False</td>\n",
       "      <td>False</td>\n",
       "      <td>18.75</td>\n",
       "      <td>4.62</td>\n",
       "      <td>0.72</td>\n",
       "      <td>12.55</td>\n",
       "      <td>False</td>\n",
       "    </tr>\n",
       "    <tr>\n",
       "      <th>2</th>\n",
       "      <td>86079819</td>\n",
       "      <td>4.419178</td>\n",
       "      <td>False</td>\n",
       "      <td>False</td>\n",
       "      <td>False</td>\n",
       "      <td>20.21</td>\n",
       "      <td>6.07</td>\n",
       "      <td>0.84</td>\n",
       "      <td>11.05</td>\n",
       "      <td>False</td>\n",
       "    </tr>\n",
       "    <tr>\n",
       "      <th>3</th>\n",
       "      <td>80919213</td>\n",
       "      <td>2.800000</td>\n",
       "      <td>False</td>\n",
       "      <td>False</td>\n",
       "      <td>False</td>\n",
       "      <td>16.95</td>\n",
       "      <td>4.35</td>\n",
       "      <td>1.25</td>\n",
       "      <td>12.45</td>\n",
       "      <td>False</td>\n",
       "    </tr>\n",
       "    <tr>\n",
       "      <th>4</th>\n",
       "      <td>82173885</td>\n",
       "      <td>0.194521</td>\n",
       "      <td>False</td>\n",
       "      <td>False</td>\n",
       "      <td>False</td>\n",
       "      <td>17.17</td>\n",
       "      <td>4.94</td>\n",
       "      <td>1.81</td>\n",
       "      <td>11.97</td>\n",
       "      <td>False</td>\n",
       "    </tr>\n",
       "  </tbody>\n",
       "</table>\n",
       "</div>"
      ],
      "text/plain": [
       "   person_id       age   male  history_cancer  diabetes    bmi   crp  urea  \\\n",
       "0   89340407  0.309589  False           False     False  19.68  4.81  1.25   \n",
       "1   89954933  1.652055  False           False     False  18.75  4.62  0.72   \n",
       "2   86079819  4.419178  False           False     False  20.21  6.07  0.84   \n",
       "3   80919213  2.800000  False           False     False  16.95  4.35  1.25   \n",
       "4   82173885  0.194521  False           False     False  17.17  4.94  1.81   \n",
       "\n",
       "      hb  drugA  \n",
       "0  14.86  False  \n",
       "1  12.55  False  \n",
       "2  11.05  False  \n",
       "3  12.45  False  \n",
       "4  11.97  False  "
      ]
     },
     "execution_count": 31,
     "metadata": {},
     "output_type": "execute_result"
    }
   ],
   "source": [
    "data.isna().sum(axis=0)\n",
    "data.head()"
   ]
  },
  {
   "attachments": {},
   "cell_type": "markdown",
   "metadata": {},
   "source": [
    "Split the `data` dataframe into 2 dataframes  `df_control`and `df_drugA` according to the value of `drugA`."
   ]
  },
  {
   "cell_type": "code",
   "execution_count": 32,
   "metadata": {
    "tags": []
   },
   "outputs": [],
   "source": [
    "df_control = data[data['drugA'] == False]\n",
    "df_drugA = data[data['drugA']]"
   ]
  },
  {
   "attachments": {},
   "cell_type": "markdown",
   "metadata": {},
   "source": [
    "Check the size of both dataframe using `dataframe.shape()`"
   ]
  },
  {
   "cell_type": "code",
   "execution_count": 33,
   "metadata": {},
   "outputs": [
    {
     "data": {
      "text/plain": [
       "(8900, 10)"
      ]
     },
     "execution_count": 33,
     "metadata": {},
     "output_type": "execute_result"
    }
   ],
   "source": [
    "## Control dataframe\n",
    "df_control.shape"
   ]
  },
  {
   "cell_type": "code",
   "execution_count": 34,
   "metadata": {},
   "outputs": [
    {
     "data": {
      "text/plain": [
       "(8900, 10)"
      ]
     },
     "execution_count": 34,
     "metadata": {},
     "output_type": "execute_result"
    }
   ],
   "source": [
    "## DrugA dataframe\n",
    "df_control.shape"
   ]
  },
  {
   "attachments": {},
   "cell_type": "markdown",
   "metadata": {},
   "source": [
    "<a id=\"stat\"></a>\n",
    "# 2. Descriptive statistics"
   ]
  },
  {
   "attachments": {},
   "cell_type": "markdown",
   "metadata": {},
   "source": [
    "Let's compute base statistics for our features in order to catch a glimpse of our population characteristics by separating dead vs alive patients. We will compute :\n",
    "- For quantitative features : mean (std) and student t-test\n",
    "- For qualitative features : % of prevalence and Chi-sq test\n",
    "\n",
    "*Assuming that we are respecting the initial conditions of each test (iid gaussian distribution for quanti feats).*"
   ]
  },
  {
   "attachments": {},
   "cell_type": "markdown",
   "metadata": {},
   "source": [
    "We are going to use the `df.groupby().agg(agg_dict)` function. Check out the doc [here](https://pandas.pydata.org/pandas-docs/version/0.22/generated/pandas.core.groupby.DataFrameGroupBy.agg.html)  \n",
    "We will therefore need to provide for each column of `data` the desired aggregation function."
   ]
  },
  {
   "attachments": {},
   "cell_type": "markdown",
   "metadata": {},
   "source": [
    "Create a `prevalence` function that returns the percentage of True values from a list of booleans."
   ]
  },
  {
   "cell_type": "code",
   "execution_count": 35,
   "metadata": {},
   "outputs": [],
   "source": [
    "def prevalence(values):\n",
    "    return round(values.sum()*100 / len(values),2)"
   ]
  },
  {
   "attachments": {},
   "cell_type": "markdown",
   "metadata": {},
   "source": [
    "Create a `mediane_IQR` function that returns the median and the Q1-Q3 of patients as a string"
   ]
  },
  {
   "cell_type": "code",
   "execution_count": 1,
   "metadata": {
    "tags": []
   },
   "outputs": [],
   "source": [
    "def mediane_IQR(values):\n",
    "    return str(round(values.median(), 2)) + ' (' + str(round(values.quantile(0.25), 2)) + '-' +  str(round(values.quantile(0.75), 2)) + ')'"
   ]
  },
  {
   "attachments": {},
   "cell_type": "markdown",
   "metadata": {},
   "source": [
    "Create the \"agg_dict\" dictionary storing for each column name (keys) the list of transforming functions (values). You can use the `np.mean` and `np.std` registered functions."
   ]
  },
  {
   "attachments": {},
   "cell_type": "markdown",
   "metadata": {},
   "source": [
    "TIP : Example\n",
    "```python\n",
    "agg_dict = {\n",
    "    \"person_id\": [\"count\"],\n",
    "    \"age\": [mediane_IQR],\n",
    "    ...\n",
    "}\n",
    "```"
   ]
  },
  {
   "cell_type": "code",
   "execution_count": 37,
   "metadata": {
    "tags": []
   },
   "outputs": [],
   "source": [
    "agg_dict = {\n",
    "    \"person_id\": [\"count\"],\n",
    "    \"age\": [mediane_IQR],\n",
    "    \"male\": [prevalence],\n",
    "    \"history_cancer\" : [prevalence],\n",
    "    \"diabetes\" : [prevalence],\n",
    "    \"bmi\" : [mediane_IQR],\n",
    "    \"crp\": [mediane_IQR],\n",
    "    \"hb\": [mediane_IQR],\n",
    "    \"urea\": [mediane_IQR],\n",
    "}"
   ]
  },
  {
   "attachments": {},
   "cell_type": "markdown",
   "metadata": {},
   "source": [
    "Create a summary DataFrame from `data` using the predefined `agg_dict` to compare base statistics between the cohort taking drugA and the control cohort."
   ]
  },
  {
   "cell_type": "code",
   "execution_count": 38,
   "metadata": {},
   "outputs": [],
   "source": [
    "data_summary = data.groupby(\"drugA\").agg(agg_dict).T"
   ]
  },
  {
   "cell_type": "code",
   "execution_count": 39,
   "metadata": {},
   "outputs": [
    {
     "data": {
      "text/html": [
       "<div>\n",
       "<style scoped>\n",
       "    .dataframe tbody tr th:only-of-type {\n",
       "        vertical-align: middle;\n",
       "    }\n",
       "\n",
       "    .dataframe tbody tr th {\n",
       "        vertical-align: top;\n",
       "    }\n",
       "\n",
       "    .dataframe thead th {\n",
       "        text-align: right;\n",
       "    }\n",
       "</style>\n",
       "<table border=\"1\" class=\"dataframe\">\n",
       "  <thead>\n",
       "    <tr style=\"text-align: right;\">\n",
       "      <th></th>\n",
       "      <th>drugA</th>\n",
       "      <th>False</th>\n",
       "      <th>True</th>\n",
       "    </tr>\n",
       "  </thead>\n",
       "  <tbody>\n",
       "    <tr>\n",
       "      <th>person_id</th>\n",
       "      <th>count</th>\n",
       "      <td>8900</td>\n",
       "      <td>10000</td>\n",
       "    </tr>\n",
       "    <tr>\n",
       "      <th>age</th>\n",
       "      <th>mediane_IQR</th>\n",
       "      <td>55.32 (33.12-77.76)</td>\n",
       "      <td>49.88 (25.02-74.69)</td>\n",
       "    </tr>\n",
       "    <tr>\n",
       "      <th>male</th>\n",
       "      <th>prevalence</th>\n",
       "      <td>50.0</td>\n",
       "      <td>50.0</td>\n",
       "    </tr>\n",
       "    <tr>\n",
       "      <th>history_cancer</th>\n",
       "      <th>prevalence</th>\n",
       "      <td>1.73</td>\n",
       "      <td>1.42</td>\n",
       "    </tr>\n",
       "    <tr>\n",
       "      <th>diabetes</th>\n",
       "      <th>prevalence</th>\n",
       "      <td>10.42</td>\n",
       "      <td>9.39</td>\n",
       "    </tr>\n",
       "    <tr>\n",
       "      <th>bmi</th>\n",
       "      <th>mediane_IQR</th>\n",
       "      <td>21.64 (19.86-23.58)</td>\n",
       "      <td>21.43 (19.5-23.39)</td>\n",
       "    </tr>\n",
       "    <tr>\n",
       "      <th>crp</th>\n",
       "      <th>mediane_IQR</th>\n",
       "      <td>4.5 (4.35-4.67)</td>\n",
       "      <td>4.51 (4.35-4.68)</td>\n",
       "    </tr>\n",
       "    <tr>\n",
       "      <th>hb</th>\n",
       "      <th>mediane_IQR</th>\n",
       "      <td>13.45 (12.39-14.51)</td>\n",
       "      <td>13.36 (12.29-14.45)</td>\n",
       "    </tr>\n",
       "    <tr>\n",
       "      <th>urea</th>\n",
       "      <th>mediane_IQR</th>\n",
       "      <td>2.01 (1.75-2.25)</td>\n",
       "      <td>1.97 (1.71-2.23)</td>\n",
       "    </tr>\n",
       "  </tbody>\n",
       "</table>\n",
       "</div>"
      ],
      "text/plain": [
       "drugA                                     False                 True\n",
       "person_id      count                       8900                10000\n",
       "age            mediane_IQR  55.32 (33.12-77.76)  49.88 (25.02-74.69)\n",
       "male           prevalence                  50.0                 50.0\n",
       "history_cancer prevalence                  1.73                 1.42\n",
       "diabetes       prevalence                 10.42                 9.39\n",
       "bmi            mediane_IQR  21.64 (19.86-23.58)   21.43 (19.5-23.39)\n",
       "crp            mediane_IQR      4.5 (4.35-4.67)     4.51 (4.35-4.68)\n",
       "hb             mediane_IQR  13.45 (12.39-14.51)  13.36 (12.29-14.45)\n",
       "urea           mediane_IQR     2.01 (1.75-2.25)     1.97 (1.71-2.23)"
      ]
     },
     "execution_count": 39,
     "metadata": {},
     "output_type": "execute_result"
    }
   ],
   "source": [
    "data_summary"
   ]
  },
  {
   "attachments": {},
   "cell_type": "markdown",
   "metadata": {},
   "source": [
    "Compute statistical tests to assess the significancy of the resulting difference between the dead and the living groups.  \n",
    "For numerical values (age and bio), you can compute the p-values associated to Student t-tests (function `ttest_ind`, doc [here](https://docs.scipy.org/doc/scipy/reference/generated/scipy.stats.ttest_ind.html)), and for categorical values (gender, comorbidities and drug) chi-sq tests (function `chi2_contigency`, doc [here](https://docs.scipy.org/doc/scipy/reference/generated/scipy.stats.chi2_contingency.html))."
   ]
  },
  {
   "attachments": {},
   "cell_type": "markdown",
   "metadata": {},
   "source": [
    "TIP : \n",
    "You may need to use the two seperated dataframes `df_control` and `df_drugA` for the t-test"
   ]
  },
  {
   "cell_type": "code",
   "execution_count": 40,
   "metadata": {},
   "outputs": [],
   "source": [
    "numerical = [\"age\", \"bmi\", \"crp\", \"hb\", \"urea\"]\n",
    "test_categorical = [\"male\", \"history_cancer\", \"diabetes\", \"drugB\"]"
   ]
  },
  {
   "cell_type": "code",
   "execution_count": 41,
   "metadata": {},
   "outputs": [],
   "source": [
    "for feat, sub_value in data_summary.index:\n",
    "    if feat in numerical:\n",
    "        data_summary.loc[(feat,sub_value),\"t-test\"] = round(ttest_ind(df_control[feat], df_drugA[feat])[1],4)\n",
    "\n",
    "    if feat in test_categorical:\n",
    "        data_summary.loc[(feat,sub_value),\"chi-sq\"] = round(chi2_contingency(pd.crosstab(data[\"drugA\"], data[feat]))[1],4)"
   ]
  },
  {
   "cell_type": "code",
   "execution_count": null,
   "metadata": {
    "tags": []
   },
   "outputs": [
    {
     "data": {
      "text/html": [
       "<div>\n",
       "<style scoped>\n",
       "    .dataframe tbody tr th:only-of-type {\n",
       "        vertical-align: middle;\n",
       "    }\n",
       "\n",
       "    .dataframe tbody tr th {\n",
       "        vertical-align: top;\n",
       "    }\n",
       "\n",
       "    .dataframe thead th {\n",
       "        text-align: right;\n",
       "    }\n",
       "</style>\n",
       "<table border=\"1\" class=\"dataframe\">\n",
       "  <thead>\n",
       "    <tr style=\"text-align: right;\">\n",
       "      <th></th>\n",
       "      <th>drugA</th>\n",
       "      <th>False</th>\n",
       "      <th>True</th>\n",
       "      <th>t-test</th>\n",
       "      <th>chi-sq</th>\n",
       "    </tr>\n",
       "  </thead>\n",
       "  <tbody>\n",
       "    <tr>\n",
       "      <th>person_id</th>\n",
       "      <th>count</th>\n",
       "      <td>8900</td>\n",
       "      <td>10000</td>\n",
       "      <td>NaN</td>\n",
       "      <td>NaN</td>\n",
       "    </tr>\n",
       "    <tr>\n",
       "      <th>age</th>\n",
       "      <th>mediane_IQR</th>\n",
       "      <td>55.32 (33.12-77.76)</td>\n",
       "      <td>49.88 (25.02-74.69)</td>\n",
       "      <td>0.0000</td>\n",
       "      <td>NaN</td>\n",
       "    </tr>\n",
       "    <tr>\n",
       "      <th>male</th>\n",
       "      <th>prevalence</th>\n",
       "      <td>50.0</td>\n",
       "      <td>50.0</td>\n",
       "      <td>NaN</td>\n",
       "      <td>1.0000</td>\n",
       "    </tr>\n",
       "    <tr>\n",
       "      <th>history_cancer</th>\n",
       "      <th>prevalence</th>\n",
       "      <td>1.73</td>\n",
       "      <td>1.42</td>\n",
       "      <td>NaN</td>\n",
       "      <td>0.0976</td>\n",
       "    </tr>\n",
       "    <tr>\n",
       "      <th>diabetes</th>\n",
       "      <th>prevalence</th>\n",
       "      <td>10.42</td>\n",
       "      <td>9.39</td>\n",
       "      <td>NaN</td>\n",
       "      <td>0.0195</td>\n",
       "    </tr>\n",
       "    <tr>\n",
       "      <th>bmi</th>\n",
       "      <th>mediane_IQR</th>\n",
       "      <td>21.64 (19.86-23.58)</td>\n",
       "      <td>21.43 (19.5-23.39)</td>\n",
       "      <td>0.0000</td>\n",
       "      <td>NaN</td>\n",
       "    </tr>\n",
       "    <tr>\n",
       "      <th>crp</th>\n",
       "      <th>mediane_IQR</th>\n",
       "      <td>4.5 (4.35-4.67)</td>\n",
       "      <td>4.51 (4.35-4.68)</td>\n",
       "      <td>0.0003</td>\n",
       "      <td>NaN</td>\n",
       "    </tr>\n",
       "    <tr>\n",
       "      <th>hb</th>\n",
       "      <th>mediane_IQR</th>\n",
       "      <td>13.45 (12.39-14.51)</td>\n",
       "      <td>13.36 (12.29-14.45)</td>\n",
       "      <td>0.0000</td>\n",
       "      <td>NaN</td>\n",
       "    </tr>\n",
       "    <tr>\n",
       "      <th>urea</th>\n",
       "      <th>mediane_IQR</th>\n",
       "      <td>2.01 (1.75-2.25)</td>\n",
       "      <td>1.97 (1.71-2.23)</td>\n",
       "      <td>0.0000</td>\n",
       "      <td>NaN</td>\n",
       "    </tr>\n",
       "  </tbody>\n",
       "</table>\n",
       "</div>"
      ],
      "text/plain": [
       "drugA                                     False                 True  t-test  \\\n",
       "person_id      count                       8900                10000     NaN   \n",
       "age            mediane_IQR  55.32 (33.12-77.76)  49.88 (25.02-74.69)  0.0000   \n",
       "male           prevalence                  50.0                 50.0     NaN   \n",
       "history_cancer prevalence                  1.73                 1.42     NaN   \n",
       "diabetes       prevalence                 10.42                 9.39     NaN   \n",
       "bmi            mediane_IQR  21.64 (19.86-23.58)   21.43 (19.5-23.39)  0.0000   \n",
       "crp            mediane_IQR      4.5 (4.35-4.67)     4.51 (4.35-4.68)  0.0003   \n",
       "hb             mediane_IQR  13.45 (12.39-14.51)  13.36 (12.29-14.45)  0.0000   \n",
       "urea           mediane_IQR     2.01 (1.75-2.25)     1.97 (1.71-2.23)  0.0000   \n",
       "\n",
       "drugA                       chi-sq  \n",
       "person_id      count           NaN  \n",
       "age            mediane_IQR     NaN  \n",
       "male           prevalence   1.0000  \n",
       "history_cancer prevalence   0.0976  \n",
       "diabetes       prevalence   0.0195  \n",
       "bmi            mediane_IQR     NaN  \n",
       "crp            mediane_IQR     NaN  \n",
       "hb             mediane_IQR     NaN  \n",
       "urea           mediane_IQR     NaN  "
      ]
     },
     "execution_count": 42,
     "metadata": {},
     "output_type": "execute_result"
    }
   ],
   "source": [
    "data_summary"
   ]
  },
  {
   "attachments": {},
   "cell_type": "markdown",
   "metadata": {},
   "source": [
    "Regroup the statistical test results in one column <br>\n",
    "Rename the False and True columns to Cohorte Control and Cohorte avec DrugA respectively"
   ]
  },
  {
   "cell_type": "code",
   "execution_count": 44,
   "metadata": {
    "tags": []
   },
   "outputs": [],
   "source": [
    "data_summary['p_value'] = data_summary['t-test'].fillna(data_summary['chi-sq'])\n",
    "data_summary['p_value'] = data_summary['p_value'].fillna('')"
   ]
  },
  {
   "cell_type": "code",
   "execution_count": 45,
   "metadata": {},
   "outputs": [],
   "source": [
    "data_summary = data_summary.rename(columns = {False : 'Cohorte Control', True : 'Cohorte avec DrugA'})"
   ]
  },
  {
   "cell_type": "code",
   "execution_count": 46,
   "metadata": {},
   "outputs": [
    {
     "data": {
      "text/html": [
       "<div>\n",
       "<style scoped>\n",
       "    .dataframe tbody tr th:only-of-type {\n",
       "        vertical-align: middle;\n",
       "    }\n",
       "\n",
       "    .dataframe tbody tr th {\n",
       "        vertical-align: top;\n",
       "    }\n",
       "\n",
       "    .dataframe thead th {\n",
       "        text-align: right;\n",
       "    }\n",
       "</style>\n",
       "<table border=\"1\" class=\"dataframe\">\n",
       "  <thead>\n",
       "    <tr style=\"text-align: right;\">\n",
       "      <th></th>\n",
       "      <th>drugA</th>\n",
       "      <th>Cohorte Control</th>\n",
       "      <th>Cohorte avec DrugA</th>\n",
       "      <th>p_value</th>\n",
       "    </tr>\n",
       "  </thead>\n",
       "  <tbody>\n",
       "    <tr>\n",
       "      <th>person_id</th>\n",
       "      <th>count</th>\n",
       "      <td>8900</td>\n",
       "      <td>10000</td>\n",
       "      <td></td>\n",
       "    </tr>\n",
       "    <tr>\n",
       "      <th>age</th>\n",
       "      <th>mediane_IQR</th>\n",
       "      <td>55.32 (33.12-77.76)</td>\n",
       "      <td>49.88 (25.02-74.69)</td>\n",
       "      <td>0.0</td>\n",
       "    </tr>\n",
       "    <tr>\n",
       "      <th>male</th>\n",
       "      <th>prevalence</th>\n",
       "      <td>50.0</td>\n",
       "      <td>50.0</td>\n",
       "      <td>1.0</td>\n",
       "    </tr>\n",
       "    <tr>\n",
       "      <th>history_cancer</th>\n",
       "      <th>prevalence</th>\n",
       "      <td>1.73</td>\n",
       "      <td>1.42</td>\n",
       "      <td>0.0976</td>\n",
       "    </tr>\n",
       "    <tr>\n",
       "      <th>diabetes</th>\n",
       "      <th>prevalence</th>\n",
       "      <td>10.42</td>\n",
       "      <td>9.39</td>\n",
       "      <td>0.0195</td>\n",
       "    </tr>\n",
       "    <tr>\n",
       "      <th>bmi</th>\n",
       "      <th>mediane_IQR</th>\n",
       "      <td>21.64 (19.86-23.58)</td>\n",
       "      <td>21.43 (19.5-23.39)</td>\n",
       "      <td>0.0</td>\n",
       "    </tr>\n",
       "    <tr>\n",
       "      <th>crp</th>\n",
       "      <th>mediane_IQR</th>\n",
       "      <td>4.5 (4.35-4.67)</td>\n",
       "      <td>4.51 (4.35-4.68)</td>\n",
       "      <td>0.0003</td>\n",
       "    </tr>\n",
       "    <tr>\n",
       "      <th>hb</th>\n",
       "      <th>mediane_IQR</th>\n",
       "      <td>13.45 (12.39-14.51)</td>\n",
       "      <td>13.36 (12.29-14.45)</td>\n",
       "      <td>0.0</td>\n",
       "    </tr>\n",
       "    <tr>\n",
       "      <th>urea</th>\n",
       "      <th>mediane_IQR</th>\n",
       "      <td>2.01 (1.75-2.25)</td>\n",
       "      <td>1.97 (1.71-2.23)</td>\n",
       "      <td>0.0</td>\n",
       "    </tr>\n",
       "  </tbody>\n",
       "</table>\n",
       "</div>"
      ],
      "text/plain": [
       "drugA                           Cohorte Control   Cohorte avec DrugA p_value\n",
       "person_id      count                       8900                10000        \n",
       "age            mediane_IQR  55.32 (33.12-77.76)  49.88 (25.02-74.69)     0.0\n",
       "male           prevalence                  50.0                 50.0     1.0\n",
       "history_cancer prevalence                  1.73                 1.42  0.0976\n",
       "diabetes       prevalence                 10.42                 9.39  0.0195\n",
       "bmi            mediane_IQR  21.64 (19.86-23.58)   21.43 (19.5-23.39)     0.0\n",
       "crp            mediane_IQR      4.5 (4.35-4.67)     4.51 (4.35-4.68)  0.0003\n",
       "hb             mediane_IQR  13.45 (12.39-14.51)  13.36 (12.29-14.45)     0.0\n",
       "urea           mediane_IQR     2.01 (1.75-2.25)     1.97 (1.71-2.23)     0.0"
      ]
     },
     "execution_count": 46,
     "metadata": {},
     "output_type": "execute_result"
    }
   ],
   "source": [
    "data_summary[['Cohorte Control', 'Cohorte avec DrugA', 'p_value']]"
   ]
  },
  {
   "attachments": {},
   "cell_type": "markdown",
   "metadata": {},
   "source": [
    "What can you conclude ?"
   ]
  },
  {
   "attachments": {},
   "cell_type": "markdown",
   "metadata": {},
   "source": [
    "**Correction**:\n",
    "<br>The population are different. The patient taking drugA seem to be younger and have less comorbidities that the patients from the control cohort. "
   ]
  },
  {
   "attachments": {},
   "cell_type": "markdown",
   "metadata": {},
   "source": [
    "# 3. Takeaways"
   ]
  },
  {
   "attachments": {},
   "cell_type": "markdown",
   "metadata": {},
   "source": [
    "Cohorts receiving specific treatments can be selected for their good health. It is very important to make sure the control cohort and the specific cohort are similar in order to be able to draw a significant conclusion of the effect of a treatment. \n",
    "\n",
    "It is of paramount importance to work closely with clinician to be aware of such biases and avoid over-interpretation, as long as performing stratified analyses to have a broader view of the effects."
   ]
  },
  {
   "cell_type": "code",
   "execution_count": null,
   "metadata": {},
   "outputs": [],
   "source": []
  }
 ],
 "metadata": {
  "kernelspec": {
   "display_name": "eds-tuto",
   "language": "python",
   "name": "python3"
  },
  "language_info": {
   "codemirror_mode": {
    "name": "ipython",
    "version": 3
   },
   "file_extension": ".py",
   "mimetype": "text/x-python",
   "name": "python",
   "nbconvert_exporter": "python",
   "pygments_lexer": "ipython3",
   "version": "3.7.16"
  }
 },
 "nbformat": 4,
 "nbformat_minor": 4
}
