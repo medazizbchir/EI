{
 "cells": [
  {
   "attachments": {},
   "cell_type": "markdown",
   "metadata": {},
   "source": [
    "# Clinical notes and natural language processing"
   ]
  },
  {
   "cell_type": "code",
   "execution_count": 2,
   "metadata": {
    "tags": []
   },
   "outputs": [],
   "source": [
    "import pandas as pd\n",
    "import numpy as np\n",
    "\n",
    "# Visualization library\n",
    "import altair as alt\n",
    "alt.data_transformers.enable('default', max_rows=None)\n",
    "\n",
    "# Dates management\n",
    "import datetime\n",
    "\n",
    "# For the computation of Kaplan-Meier estimates and log-rank tests\n",
    "import lifelines"
   ]
  },
  {
   "attachments": {},
   "cell_type": "markdown",
   "metadata": {},
   "source": [
    " # Table of content"
   ]
  },
  {
   "attachments": {},
   "cell_type": "markdown",
   "metadata": {},
   "source": [
    "# 1. Data Exploration\n",
    "\n",
    "## 1.1 Data extracted from the Clinical Data Warehouse"
   ]
  },
  {
   "cell_type": "code",
   "execution_count": 3,
   "metadata": {
    "tags": []
   },
   "outputs": [],
   "source": [
    "# Patients\n",
    "from dedup_proba import df_person_dedup_proba as df_person\n",
    "# Visits\n",
    "from dedup_proba import df_visit_dedup_proba as df_visit\n",
    "# Diagnosis (condition)\n",
    "from dedup_proba import df_condition_dedup_proba as df_condition\n",
    "# Cancer patients\n",
    "from dedup_proba import df_cancer_dedup_proba as df_cancer\n",
    "# nbre de patients de cancer\n",
    "from dedup_proba import nbre_patients_cancer_dedup_proba as nbre_patients_cancer"
   ]
  },
  {
   "cell_type": "code",
   "execution_count": 4,
   "metadata": {
    "tags": []
   },
   "outputs": [
    {
     "data": {
      "text/html": [
       "<div>\n",
       "<style scoped>\n",
       "    .dataframe tbody tr th:only-of-type {\n",
       "        vertical-align: middle;\n",
       "    }\n",
       "\n",
       "    .dataframe tbody tr th {\n",
       "        vertical-align: top;\n",
       "    }\n",
       "\n",
       "    .dataframe thead th {\n",
       "        text-align: right;\n",
       "    }\n",
       "</style>\n",
       "<table border=\"1\" class=\"dataframe\">\n",
       "  <thead>\n",
       "    <tr style=\"text-align: right;\">\n",
       "      <th></th>\n",
       "      <th>visit_occurrence_id</th>\n",
       "      <th>care_site_id</th>\n",
       "      <th>visit_start_datetime</th>\n",
       "      <th>visit_end_datetime</th>\n",
       "      <th>visit_source_value</th>\n",
       "      <th>person_id</th>\n",
       "      <th>condition_occurrence_id</th>\n",
       "      <th>condition_source_value</th>\n",
       "    </tr>\n",
       "  </thead>\n",
       "  <tbody>\n",
       "    <tr>\n",
       "      <th>0</th>\n",
       "      <td>82199313.0</td>\n",
       "      <td>Clinique L.Pasteur</td>\n",
       "      <td>2020-01-12</td>\n",
       "      <td>2020-01-27</td>\n",
       "      <td>Hospitalisés</td>\n",
       "      <td>87118775</td>\n",
       "      <td>NaN</td>\n",
       "      <td>NaN</td>\n",
       "    </tr>\n",
       "    <tr>\n",
       "      <th>1</th>\n",
       "      <td>84796321.0</td>\n",
       "      <td>Hopital M.Bres</td>\n",
       "      <td>2023-09-05</td>\n",
       "      <td>2023-09-21</td>\n",
       "      <td>Hospitalisés</td>\n",
       "      <td>85828583</td>\n",
       "      <td>NaN</td>\n",
       "      <td>NaN</td>\n",
       "    </tr>\n",
       "    <tr>\n",
       "      <th>2</th>\n",
       "      <td>83914646.0</td>\n",
       "      <td>Centre F.Sinoussi</td>\n",
       "      <td>2019-12-28</td>\n",
       "      <td>2020-01-12</td>\n",
       "      <td>Hospitalisés</td>\n",
       "      <td>88459112</td>\n",
       "      <td>NaN</td>\n",
       "      <td>NaN</td>\n",
       "    </tr>\n",
       "    <tr>\n",
       "      <th>3</th>\n",
       "      <td>84893973.0</td>\n",
       "      <td>Centre F.Sinoussi</td>\n",
       "      <td>2020-12-26</td>\n",
       "      <td>2020-12-26</td>\n",
       "      <td>Hospitalisés</td>\n",
       "      <td>88291057</td>\n",
       "      <td>NaN</td>\n",
       "      <td>NaN</td>\n",
       "    </tr>\n",
       "    <tr>\n",
       "      <th>4</th>\n",
       "      <td>88339649.0</td>\n",
       "      <td>GHU A.Fleming</td>\n",
       "      <td>2024-12-14</td>\n",
       "      <td>2025-01-03</td>\n",
       "      <td>Hospitalisés</td>\n",
       "      <td>89239332</td>\n",
       "      <td>NaN</td>\n",
       "      <td>NaN</td>\n",
       "    </tr>\n",
       "  </tbody>\n",
       "</table>\n",
       "</div>"
      ],
      "text/plain": [
       "   visit_occurrence_id        care_site_id visit_start_datetime  \\\n",
       "0           82199313.0  Clinique L.Pasteur           2020-01-12   \n",
       "1           84796321.0      Hopital M.Bres           2023-09-05   \n",
       "2           83914646.0   Centre F.Sinoussi           2019-12-28   \n",
       "3           84893973.0   Centre F.Sinoussi           2020-12-26   \n",
       "4           88339649.0       GHU A.Fleming           2024-12-14   \n",
       "\n",
       "  visit_end_datetime visit_source_value person_id  condition_occurrence_id  \\\n",
       "0         2020-01-27       Hospitalisés  87118775                      NaN   \n",
       "1         2023-09-21       Hospitalisés  85828583                      NaN   \n",
       "2         2020-01-12       Hospitalisés  88459112                      NaN   \n",
       "3         2020-12-26       Hospitalisés  88291057                      NaN   \n",
       "4         2025-01-03       Hospitalisés  89239332                      NaN   \n",
       "\n",
       "  condition_source_value  \n",
       "0                    NaN  \n",
       "1                    NaN  \n",
       "2                    NaN  \n",
       "3                    NaN  \n",
       "4                    NaN  "
      ]
     },
     "execution_count": 4,
     "metadata": {},
     "output_type": "execute_result"
    }
   ],
   "source": [
    "df_visit_cancer = pd.merge(df_visit, df_cancer, on = ['visit_occurrence_id','person_id'], how = 'left')\n",
    "df_visit_cancer.head()"
   ]
  },
  {
   "attachments": {},
   "cell_type": "markdown",
   "metadata": {},
   "source": [
    "How many patients are in the study?\n",
    "<br>We suppose deduplication has already been done."
   ]
  },
  {
   "cell_type": "code",
   "execution_count": 5,
   "metadata": {
    "tags": []
   },
   "outputs": [
    {
     "name": "stdout",
     "output_type": "stream",
     "text": [
      "We have 15406 unique patient ids in this dataset.\n"
     ]
    }
   ],
   "source": [
    "print(f\"We have {df_person.person_id.nunique()} unique patient ids in this dataset.\")"
   ]
  },
  {
   "cell_type": "code",
   "execution_count": 6,
   "metadata": {
    "tags": []
   },
   "outputs": [
    {
     "name": "stdout",
     "output_type": "stream",
     "text": [
      "0 patients have more than one visit\n"
     ]
    }
   ],
   "source": [
    "df_value_count = df_visit_cancer.person_id.value_counts()\n",
    "n_numerous = df_value_count[df_value_count > 1].size\n",
    "print(\"{} patients have more than one visit\".format(n_numerous))"
   ]
  },
  {
   "attachments": {},
   "cell_type": "markdown",
   "metadata": {},
   "source": [
    "How many patients have had cancer"
   ]
  },
  {
   "cell_type": "code",
   "execution_count": 7,
   "metadata": {
    "tags": []
   },
   "outputs": [
    {
     "name": "stdout",
     "output_type": "stream",
     "text": [
      " 4114 patients have had cancer.\n"
     ]
    }
   ],
   "source": [
    "print(f\" {nbre_patients_cancer} patients have had cancer.\")"
   ]
  },
  {
   "attachments": {},
   "cell_type": "markdown",
   "metadata": {},
   "source": [
    "How many patients have had no cancer"
   ]
  },
  {
   "cell_type": "code",
   "execution_count": 8,
   "metadata": {
    "tags": []
   },
   "outputs": [
    {
     "name": "stdout",
     "output_type": "stream",
     "text": [
      "11292 patients have had no cancer.\n"
     ]
    }
   ],
   "source": [
    "print(f\"{df_person.person_id.nunique() - nbre_patients_cancer} patients have had no cancer.\")"
   ]
  },
  {
   "attachments": {},
   "cell_type": "markdown",
   "metadata": {},
   "source": [
    "## 1.2 Clinical Notes"
   ]
  },
  {
   "cell_type": "code",
   "execution_count": 9,
   "metadata": {
    "tags": []
   },
   "outputs": [
    {
     "name": "stdout",
     "output_type": "stream",
     "text": [
      "<class 'pandas.core.frame.DataFrame'>\n",
      "Int64Index: 16168 entries, 0 to 216\n",
      "Data columns (total 5 columns):\n",
      " #   Column               Non-Null Count  Dtype         \n",
      "---  ------               --------------  -----         \n",
      " 0   visit_occurrence_id  16168 non-null  float64       \n",
      " 1   note_datetime        16168 non-null  datetime64[ns]\n",
      " 2   note_id              16168 non-null  float64       \n",
      " 3   cdm_source           16168 non-null  object        \n",
      " 4   note_text            16168 non-null  object        \n",
      "dtypes: datetime64[ns](1), float64(2), object(2)\n",
      "memory usage: 757.9+ KB\n"
     ]
    },
    {
     "data": {
      "text/html": [
       "<div>\n",
       "<style scoped>\n",
       "    .dataframe tbody tr th:only-of-type {\n",
       "        vertical-align: middle;\n",
       "    }\n",
       "\n",
       "    .dataframe tbody tr th {\n",
       "        vertical-align: top;\n",
       "    }\n",
       "\n",
       "    .dataframe thead th {\n",
       "        text-align: right;\n",
       "    }\n",
       "</style>\n",
       "<table border=\"1\" class=\"dataframe\">\n",
       "  <thead>\n",
       "    <tr style=\"text-align: right;\">\n",
       "      <th></th>\n",
       "      <th>visit_occurrence_id</th>\n",
       "      <th>note_datetime</th>\n",
       "      <th>note_id</th>\n",
       "      <th>cdm_source</th>\n",
       "      <th>note_text</th>\n",
       "    </tr>\n",
       "  </thead>\n",
       "  <tbody>\n",
       "    <tr>\n",
       "      <th>0</th>\n",
       "      <td>86526573.0</td>\n",
       "      <td>2023-03-21</td>\n",
       "      <td>87594092.0</td>\n",
       "      <td>EHR 1</td>\n",
       "      <td>Compte rendu de consultation\\n\\nPatient : [Nom...</td>\n",
       "    </tr>\n",
       "    <tr>\n",
       "      <th>1</th>\n",
       "      <td>82217661.0</td>\n",
       "      <td>2024-07-19</td>\n",
       "      <td>89266782.0</td>\n",
       "      <td>EHR 1</td>\n",
       "      <td>Compte rendu de consultation\\n\\nPatient : [Nom...</td>\n",
       "    </tr>\n",
       "    <tr>\n",
       "      <th>2</th>\n",
       "      <td>80088693.0</td>\n",
       "      <td>2022-07-22</td>\n",
       "      <td>88212468.0</td>\n",
       "      <td>EHR 1</td>\n",
       "      <td>Compte rendu de consultation\\n\\nPatient : [Nom...</td>\n",
       "    </tr>\n",
       "    <tr>\n",
       "      <th>3</th>\n",
       "      <td>80333633.0</td>\n",
       "      <td>2025-03-07</td>\n",
       "      <td>80660564.0</td>\n",
       "      <td>EHR 1</td>\n",
       "      <td>Compte rendu de consultation\\n\\nPatient : [Nom...</td>\n",
       "    </tr>\n",
       "    <tr>\n",
       "      <th>4</th>\n",
       "      <td>84533955.0</td>\n",
       "      <td>2020-08-26</td>\n",
       "      <td>80382651.0</td>\n",
       "      <td>EHR 1</td>\n",
       "      <td>Compte rendu de consultation\\n\\nPatient : [Nom...</td>\n",
       "    </tr>\n",
       "  </tbody>\n",
       "</table>\n",
       "</div>"
      ],
      "text/plain": [
       "   visit_occurrence_id note_datetime     note_id cdm_source  \\\n",
       "0           86526573.0    2023-03-21  87594092.0      EHR 1   \n",
       "1           82217661.0    2024-07-19  89266782.0      EHR 1   \n",
       "2           80088693.0    2022-07-22  88212468.0      EHR 1   \n",
       "3           80333633.0    2025-03-07  80660564.0      EHR 1   \n",
       "4           84533955.0    2020-08-26  80382651.0      EHR 1   \n",
       "\n",
       "                                           note_text  \n",
       "0  Compte rendu de consultation\\n\\nPatient : [Nom...  \n",
       "1  Compte rendu de consultation\\n\\nPatient : [Nom...  \n",
       "2  Compte rendu de consultation\\n\\nPatient : [Nom...  \n",
       "3  Compte rendu de consultation\\n\\nPatient : [Nom...  \n",
       "4  Compte rendu de consultation\\n\\nPatient : [Nom...  "
      ]
     },
     "execution_count": 9,
     "metadata": {},
     "output_type": "execute_result"
    }
   ],
   "source": [
    "df_note = pd.read_pickle('data/df_note.pkl')\n",
    "df_note.info()\n",
    "df_note.head()"
   ]
  },
  {
   "cell_type": "code",
   "execution_count": 10,
   "metadata": {
    "tags": []
   },
   "outputs": [
    {
     "name": "stdout",
     "output_type": "stream",
     "text": [
      "Compte rendu de consultation\n",
      "\n",
      "Patient : [Nom du patient]\n",
      "Âge : [Âge du patient]\n",
      "Sexe : [Sexe du patient]\n",
      "Numéro de dossier : [Numéro de dossier du patient]\n",
      "\n",
      "Motif de la consultation:\n",
      "La patiente a été informée que son dépistage au cancer du sein était négatif, mettant ainsi en évidence l'absence de tumeur maligne ou de signes préoccupants dans ses résultats d'imagerie.\n",
      "\n",
      "Antecedents familiaux :\n",
      "Elle a été encouragée à maintenir un mode de vie sain et à continuer à éviter l'exposition à la fumée de cigarette, même à l'extérieur de son foyer.\n",
      "\n",
      "Examen du patient:\n",
      "La patiente a admis ouvertement être une fumeuse active et rapporte consommer environ un paquet de cigarettes par jour.\n",
      "\n",
      "Signature du médecin :\n",
      "[Nom du médecin]\n",
      "[Titre/Spécialité]\n",
      "[Hôpital/Service]\n"
     ]
    }
   ],
   "source": [
    "print(df_note.sample()['note_text'].squeeze())"
   ]
  },
  {
   "attachments": {},
   "cell_type": "markdown",
   "metadata": {},
   "source": [
    "# 2. First steps with natural language processing\n"
   ]
  },
  {
   "attachments": {},
   "cell_type": "markdown",
   "metadata": {},
   "source": [
    "Let's now define a new rule-based NLP algorithm that extracts drugs mentioned in clinical notes. "
   ]
  },
  {
   "attachments": {},
   "cell_type": "markdown",
   "metadata": {},
   "source": [
    "We define a rule-based algorithm that consists in looking for mentions of cancer and its risk factors in the texts and in discarding false positive detections by predicting modifiers (negation, etc.).\n",
    "\n",
    "**Step 1: Definition of the vocabularies**"
   ]
  },
  {
   "cell_type": "code",
   "execution_count": 45,
   "metadata": {
    "tags": []
   },
   "outputs": [],
   "source": [
    "# Clinicians indicated that the following synonyms could be used\n",
    "\n",
    "terms = dict(\n",
    "   tabac=['tabac','fumeur','tabagisme','nicotine','cigarette','cigarettes','fume','fumer','fumait','tabagique','fumeuse','fumé'],\n",
    "   alcool=['alcool','alcoolisme','Alcoolodépendance','Alcoolodépendant','Alcoolisation','alcoolique']\n",
    ")\n"
   ]
  },
  {
   "attachments": {},
   "cell_type": "markdown",
   "metadata": {},
   "source": [
    "**Step 2: Definition of a natural language processing pipeline (rule-based)**\n",
    "\n",
    "We now integrate this dictionary in a NLP-pipeline as described in the *eds-nlp* documentation, in order to realize the various pre-processing steps necessary to extract a meaningful variable:"
   ]
  },
  {
   "cell_type": "code",
   "execution_count": 46,
   "metadata": {
    "tags": []
   },
   "outputs": [],
   "source": [
    "#Utiliser edsnlp pour extraitre les 3 entités ci dessus : \n",
    "import spacy\n",
    "import numpy as np\n",
    "import warnings\n",
    "warnings.filterwarnings(\"ignore\", category=UserWarning)\n",
    "\n",
    "# Load declared pipelines\n",
    "# from edsnlp import components\n",
    "from edsnlp.processing.parallel import pipe as parallel_pipe\n",
    "from spacy import displacy"
   ]
  },
  {
   "attachments": {},
   "cell_type": "markdown",
   "metadata": {},
   "source": [
    "Creating a first pipeline using :"
   ]
  },
  {
   "cell_type": "code",
   "execution_count": 47,
   "metadata": {
    "tags": []
   },
   "outputs": [
    {
     "data": {
      "text/plain": [
       "<edsnlp.pipelines.qualifiers.negation.negation.Negation at 0x24eb55dce48>"
      ]
     },
     "execution_count": 47,
     "metadata": {},
     "output_type": "execute_result"
    }
   ],
   "source": [
    "nlp = spacy.blank(\"fr\")\n",
    "# sentencizer component\n",
    "nlp.add_pipe('eds.sentences')\n",
    "nlp.add_pipe(\"eds.normalizer\")\n",
    "# Matcher component\n",
    "nlp.add_pipe(\"eds.matcher\", config=dict(terms=terms))\n",
    "nlp.add_pipe(\"eds.negation\")"
   ]
  },
  {
   "cell_type": "code",
   "execution_count": 48,
   "metadata": {
    "tags": []
   },
   "outputs": [
    {
     "data": {
      "text/html": [
       "<span class=\"tex2jax_ignore\"><div class=\"entities\" style=\"line-height: 2.5; direction: ltr\">Compte rendu de consultation</br></br>Patient : [Nom du patient]</br>Âge : [Âge du patient]</br>Sexe : [Sexe du patient]</br>Numéro de dossier : [Numéro de dossier du patient]</br></br>Motif de la consultation:</br>Au cours de la visite, nous avons partagé avec la patiente les résultats négatifs de son dépistage au cancer du sein, confirmant l'absence de toute masse ou de signes de malignité dans ses tissus mammaires.</br></br>Antecedents familiaux :</br>Elle a été informée de l'importance de la génétique et de la possibilité de consulter un conseiller en génétique pour une évaluation plus approfondie si elle le souhaitait.</br></br>Examen du patient:</br>Selon les déclarations de la patiente, elle \n",
       "<mark class=\"entity\" style=\"background: orange; padding: 0.45em 0.6em; margin: 0 0.25em; line-height: 1; border-radius: 0.35em;\">\n",
       "    fume\n",
       "    <span style=\"font-size: 0.8em; font-weight: bold; line-height: 1; border-radius: 0.35em; vertical-align: middle; margin-left: 0.5rem\">tabac</span>\n",
       "</mark>\n",
       " environ quinze \n",
       "<mark class=\"entity\" style=\"background: orange; padding: 0.45em 0.6em; margin: 0 0.25em; line-height: 1; border-radius: 0.35em;\">\n",
       "    cigarettes\n",
       "    <span style=\"font-size: 0.8em; font-weight: bold; line-height: 1; border-radius: 0.35em; vertical-align: middle; margin-left: 0.5rem\">tabac</span>\n",
       "</mark>\n",
       " par jour et a du mal à envisager d'arrêter.</br></br>Signature du médecin :</br>[Nom du médecin]</br>[Titre/Spécialité]</br>[Hôpital/Service]</div></span>"
      ],
      "text/plain": [
       "<IPython.core.display.HTML object>"
      ]
     },
     "metadata": {},
     "output_type": "display_data"
    }
   ],
   "source": [
    "text = df_note.query(\"note_id==85488297.0\")['note_text'].squeeze()\n",
    "# Process your text in one call !\n",
    "doc = nlp(text)\n",
    "\n",
    "colors = {\n",
    "    \"tabac\": \"orange\",\n",
    "    \"alcool\":\"red\"\n",
    "}\n",
    "options = {\n",
    "    \"colors\": colors,\n",
    "}\n",
    "\n",
    "displacy.render(doc, style=\"ent\", options=options)"
   ]
  },
  {
   "attachments": {},
   "cell_type": "markdown",
   "metadata": {},
   "source": [
    "**Step 3: Application of the natural language processing pipeline on all the clinical notes**\n",
    "\n",
    "Apply this NLP pipeline to the texts of our dataset to extract entities by using the `edsnlp.parallel_pipe()` function\n",
    "\n",
    "A `pick_result` function is given to standardise the output.\n"
   ]
  },
  {
   "cell_type": "code",
   "execution_count": 49,
   "metadata": {
    "tags": []
   },
   "outputs": [],
   "source": [
    "def pick_results(doc):\n",
    "    \"\"\"\n",
    "    This function provides the entities that must be collected by the nlp process.\n",
    "    \"\"\"\n",
    "    return [{\n",
    "             'note_id':e.doc._.note_id,\n",
    "             'visit_occurrence_id':e.doc._.visit_occurrence_id,\n",
    "             'lexical_variant':e.text,\n",
    "             'label':e.label_,\n",
    "             'negation':e._.negation\n",
    "             } \n",
    "             for e in doc.ents if doc.ents]"
   ]
  },
  {
   "cell_type": "code",
   "execution_count": 50,
   "metadata": {
    "tags": []
   },
   "outputs": [
    {
     "name": "stderr",
     "output_type": "stream",
     "text": [
      "WARNING:root:[Parallel(n_jobs=1)]: Used nlp components: ['eds.sentences', 'eds.normalizer', 'eds.matcher', 'eds.negation']\n"
     ]
    }
   ],
   "source": [
    "ents = parallel_pipe(\n",
    "                df_note,\n",
    "                nlp,\n",
    "                context=['note_id', 'visit_occurrence_id'],\n",
    "                progress_bar=False,\n",
    "                n_jobs=1, \n",
    "                results_extractor = pick_results,\n",
    "                )"
   ]
  },
  {
   "attachments": {},
   "cell_type": "markdown",
   "metadata": {},
   "source": [
    "Show the first rows of the dataframe `ents`"
   ]
  },
  {
   "cell_type": "code",
   "execution_count": 51,
   "metadata": {},
   "outputs": [
    {
     "data": {
      "text/html": [
       "<div>\n",
       "<style scoped>\n",
       "    .dataframe tbody tr th:only-of-type {\n",
       "        vertical-align: middle;\n",
       "    }\n",
       "\n",
       "    .dataframe tbody tr th {\n",
       "        vertical-align: top;\n",
       "    }\n",
       "\n",
       "    .dataframe thead th {\n",
       "        text-align: right;\n",
       "    }\n",
       "</style>\n",
       "<table border=\"1\" class=\"dataframe\">\n",
       "  <thead>\n",
       "    <tr style=\"text-align: right;\">\n",
       "      <th></th>\n",
       "      <th>note_id</th>\n",
       "      <th>visit_occurrence_id</th>\n",
       "      <th>lexical_variant</th>\n",
       "      <th>label</th>\n",
       "      <th>negation</th>\n",
       "    </tr>\n",
       "  </thead>\n",
       "  <tbody>\n",
       "    <tr>\n",
       "      <th>0</th>\n",
       "      <td>87594092.0</td>\n",
       "      <td>86526573.0</td>\n",
       "      <td>tabagisme</td>\n",
       "      <td>tabac</td>\n",
       "      <td>False</td>\n",
       "    </tr>\n",
       "    <tr>\n",
       "      <th>1</th>\n",
       "      <td>89266782.0</td>\n",
       "      <td>82217661.0</td>\n",
       "      <td>fumer</td>\n",
       "      <td>tabac</td>\n",
       "      <td>True</td>\n",
       "    </tr>\n",
       "    <tr>\n",
       "      <th>2</th>\n",
       "      <td>89266782.0</td>\n",
       "      <td>82217661.0</td>\n",
       "      <td>tabac</td>\n",
       "      <td>tabac</td>\n",
       "      <td>False</td>\n",
       "    </tr>\n",
       "    <tr>\n",
       "      <th>3</th>\n",
       "      <td>89266782.0</td>\n",
       "      <td>82217661.0</td>\n",
       "      <td>fume</td>\n",
       "      <td>tabac</td>\n",
       "      <td>False</td>\n",
       "    </tr>\n",
       "    <tr>\n",
       "      <th>4</th>\n",
       "      <td>88212468.0</td>\n",
       "      <td>80088693.0</td>\n",
       "      <td>tabagisme</td>\n",
       "      <td>tabac</td>\n",
       "      <td>False</td>\n",
       "    </tr>\n",
       "  </tbody>\n",
       "</table>\n",
       "</div>"
      ],
      "text/plain": [
       "      note_id  visit_occurrence_id lexical_variant  label  negation\n",
       "0  87594092.0           86526573.0       tabagisme  tabac     False\n",
       "1  89266782.0           82217661.0           fumer  tabac      True\n",
       "2  89266782.0           82217661.0           tabac  tabac     False\n",
       "3  89266782.0           82217661.0            fume  tabac     False\n",
       "4  88212468.0           80088693.0       tabagisme  tabac     False"
      ]
     },
     "execution_count": 51,
     "metadata": {},
     "output_type": "execute_result"
    }
   ],
   "source": [
    "ents.head()"
   ]
  },
  {
   "attachments": {},
   "cell_type": "markdown",
   "metadata": {},
   "source": [
    "**Step 4: Create rules to detect each risk factor**"
   ]
  },
  {
   "cell_type": "code",
   "execution_count": 69,
   "metadata": {
    "tags": []
   },
   "outputs": [
    {
     "data": {
      "text/html": [
       "<div>\n",
       "<style scoped>\n",
       "    .dataframe tbody tr th:only-of-type {\n",
       "        vertical-align: middle;\n",
       "    }\n",
       "\n",
       "    .dataframe tbody tr th {\n",
       "        vertical-align: top;\n",
       "    }\n",
       "\n",
       "    .dataframe thead th {\n",
       "        text-align: right;\n",
       "    }\n",
       "</style>\n",
       "<table border=\"1\" class=\"dataframe\">\n",
       "  <thead>\n",
       "    <tr style=\"text-align: right;\">\n",
       "      <th></th>\n",
       "      <th>visit_occurrence_id</th>\n",
       "      <th>state</th>\n",
       "      <th>tabac</th>\n",
       "    </tr>\n",
       "  </thead>\n",
       "  <tbody>\n",
       "    <tr>\n",
       "      <th>0</th>\n",
       "      <td>80001324.0</td>\n",
       "      <td>{'tabac': 'True'}</td>\n",
       "      <td>True</td>\n",
       "    </tr>\n",
       "    <tr>\n",
       "      <th>1</th>\n",
       "      <td>80001693.0</td>\n",
       "      <td>{'tabac': 'True'}</td>\n",
       "      <td>True</td>\n",
       "    </tr>\n",
       "    <tr>\n",
       "      <th>2</th>\n",
       "      <td>80002115.0</td>\n",
       "      <td>{'tabac': 'ambiguous'}</td>\n",
       "      <td>ambiguous</td>\n",
       "    </tr>\n",
       "    <tr>\n",
       "      <th>3</th>\n",
       "      <td>80002464.0</td>\n",
       "      <td>{'tabac': 'False'}</td>\n",
       "      <td>False</td>\n",
       "    </tr>\n",
       "    <tr>\n",
       "      <th>4</th>\n",
       "      <td>80002814.0</td>\n",
       "      <td>{'tabac': 'False'}</td>\n",
       "      <td>False</td>\n",
       "    </tr>\n",
       "  </tbody>\n",
       "</table>\n",
       "</div>"
      ],
      "text/plain": [
       "   visit_occurrence_id                   state      tabac\n",
       "0           80001324.0       {'tabac': 'True'}       True\n",
       "1           80001693.0       {'tabac': 'True'}       True\n",
       "2           80002115.0  {'tabac': 'ambiguous'}  ambiguous\n",
       "3           80002464.0      {'tabac': 'False'}      False\n",
       "4           80002814.0      {'tabac': 'False'}      False"
      ]
     },
     "execution_count": 69,
     "metadata": {},
     "output_type": "execute_result"
    }
   ],
   "source": [
    "def calc_value(x):\n",
    "    state = {'tabac':'unknown'}\n",
    "    for _, row in x.iterrows():\n",
    "        for factor in state.keys():\n",
    "            if row['label'] == factor and row['negation']:\n",
    "                if state[factor] == \"unknown\" :\n",
    "                    state[factor] = \"False\"\n",
    "                elif state[factor] == \"True\" :\n",
    "                    state[factor] = \"ambiguous\"\n",
    "            if row['label'] == factor and not(row['negation']):\n",
    "                if state[factor] == \"unknown\" :\n",
    "                    state[factor] = \"True\"\n",
    "                elif state[factor] == \"False\" :\n",
    "                    state[factor] = \"ambiguous\"\n",
    "    return state\n",
    "\n",
    "undesired_state = ['unknown', 'ambiguous']\n",
    "ents_grouped = ents.groupby('visit_occurrence_id').apply(calc_value).to_frame('state').reset_index()\n",
    "ents_grouped['tabac'] = ents_grouped.state.apply(lambda x : x['tabac'])\n",
    "ents_grouped.head()"
   ]
  },
  {
   "attachments": {},
   "cell_type": "markdown",
   "metadata": {},
   "source": [
    "**Step 5: Compare nlp results to structured data provided by the hospitals**"
   ]
  },
  {
   "cell_type": "code",
   "execution_count": 72,
   "metadata": {
    "tags": []
   },
   "outputs": [
    {
     "name": "stdout",
     "output_type": "stream",
     "text": [
      "le nombre de patients qui fument détecté par l'algorithme :  8352\n"
     ]
    }
   ],
   "source": [
    "df_state = df_visit[['visit_occurrence_id','person_id']].merge(ents_grouped[['visit_occurrence_id','tabac']], on='visit_occurrence_id', how='left')\n",
    "df_state = df_state.fillna({'tabac':'False'})\n",
    "print(\"le nombre de patients qui fument détecté par l'algorithme : \", df_state.query(\"tabac=='True'\").person_id.nunique())"
   ]
  },
  {
   "cell_type": "code",
   "execution_count": 60,
   "metadata": {},
   "outputs": [
    {
     "name": "stdout",
     "output_type": "stream",
     "text": [
      "le nombre de patients qui fument en utilisant la table condition :  663\n"
     ]
    }
   ],
   "source": [
    "from plot_hist import risk_factors\n",
    "print('le nombre de patients qui fument en utilisant la table condition : ',df_condition[df_condition['condition_source_value'].isin(risk_factors['tabac'])].person_id.nunique())"
   ]
  },
  {
   "attachments": {},
   "cell_type": "markdown",
   "metadata": {},
   "source": [
    "**Step 6: evaluate the performance of the nlp algorithm**"
   ]
  },
  {
   "attachments": {},
   "cell_type": "markdown",
   "metadata": {},
   "source": [
    "On a vérifié à la main les résultats fournis par notre algorithme de détection du tabagisme pour 50 patients afin de vérifier sa perfomrance"
   ]
  },
  {
   "attachments": {},
   "cell_type": "markdown",
   "metadata": {},
   "source": [
    "On a calculé les vrais positifs, vrais négatifs, faux positifs et faux négatifs"
   ]
  },
  {
   "cell_type": "code",
   "execution_count": 130,
   "metadata": {},
   "outputs": [
    {
     "name": "stdout",
     "output_type": "stream",
     "text": [
      "sensitivity =  0.67 \n",
      "specificity =  0.85\n"
     ]
    }
   ],
   "source": [
    "VP = 20\n",
    "VN = 17\n",
    "FP = 3\n",
    "FN = 10\n",
    "print('sensitivity = ', round(VP/(VP+FN),2), '\\nspecificity = ', round(VN/(VN+FP),2))  "
   ]
  },
  {
   "attachments": {},
   "cell_type": "markdown",
   "metadata": {},
   "source": [
    "la sensitivité de notre test est faible dans notre cas et on ne peut pas l'accepter car elle peut engendrer beaucoup d'erreurs."
   ]
  }
 ],
 "metadata": {
  "kernelspec": {
   "display_name": "eds-tuto",
   "language": "python",
   "name": "python3"
  },
  "language_info": {
   "codemirror_mode": {
    "name": "ipython",
    "version": 3
   },
   "file_extension": ".py",
   "mimetype": "text/x-python",
   "name": "python",
   "nbconvert_exporter": "python",
   "pygments_lexer": "ipython3",
   "version": "3.7.16"
  }
 },
 "nbformat": 4,
 "nbformat_minor": 4
}
