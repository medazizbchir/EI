{
 "cells": [
  {
   "attachments": {},
   "cell_type": "markdown",
   "metadata": {},
   "source": [
    "# Biostatistical analysis"
   ]
  },
  {
   "attachments": {},
   "cell_type": "markdown",
   "metadata": {},
   "source": [
    "# 1. Importing the modules and the data"
   ]
  },
  {
   "cell_type": "code",
   "execution_count": 2,
   "metadata": {},
   "outputs": [
    {
     "name": "stderr",
     "output_type": "stream",
     "text": [
      "c:\\Users\\gazze\\anaconda3\\envs\\eds-tuto\\lib\\site-packages\\tqdm\\auto.py:21: TqdmWarning: IProgress not found. Please update jupyter and ipywidgets. See https://ipywidgets.readthedocs.io/en/stable/user_install.html\n",
      "  from .autonotebook import tqdm as notebook_tqdm\n"
     ]
    }
   ],
   "source": [
    "import pandas as pd\n",
    "import numpy as np\n",
    "import matplotlib.pyplot as plt\n",
    "\n",
    "# Visualization library\n",
    "import altair as alt\n",
    "alt.data_transformers.enable('default', max_rows=None)\n",
    "\n",
    "# Dates management\n",
    "import datetime\n",
    "\n",
    "#Utiliser edsnlp pour extraitre les 3 entités ci dessus : \n",
    "import spacy\n",
    "import numpy as np\n",
    "import warnings\n",
    "warnings.filterwarnings(\"ignore\", category=UserWarning)\n",
    "\n",
    "# Load declared pipelines\n",
    "# from edsnlp import components\n",
    "from edsnlp.processing.parallel import pipe as parallel_pipe\n",
    "from spacy import displacy\n",
    "\n",
    "# For descriptive statistics\n",
    "from scipy.stats import ttest_ind, chi2_contingency\n",
    "\n",
    "# For Logistic Models implementation\n",
    "from statsmodels.formula.api import logit, glm"
   ]
  },
  {
   "cell_type": "code",
   "execution_count": 3,
   "metadata": {},
   "outputs": [],
   "source": [
    "df_person = pd.read_pickle('data/df_person.pkl')\n",
    "df_visit = pd.read_pickle('data/df_visit.pkl')\n",
    "df_condition = pd.read_pickle('data/df_condition.pkl')\n",
    "df_dedup_proba = pd.read_pickle('data/df_dedup_proba.pkl')\n",
    "df_note = pd.read_pickle('data/df_note.pkl')\n",
    "df_bio = pd.read_pickle('data/df_bio.pkl')"
   ]
  },
  {
   "cell_type": "code",
   "execution_count": 4,
   "metadata": {},
   "outputs": [],
   "source": [
    "cancer_condition = {'C50','C500','C501','C502','C503','C504'}\n",
    "risk_factors = {'tabac':['Z587','Z720'], 'alcool':['T51','K70','F10'], 'diabete':['E10','E11','E12'], 'sub_psy':['Z864'], 'tum_herit':['Z803']}"
   ]
  },
  {
   "attachments": {},
   "cell_type": "markdown",
   "metadata": {},
   "source": [
    "# 2. Preprocessing"
   ]
  },
  {
   "attachments": {},
   "cell_type": "markdown",
   "metadata": {},
   "source": [
    "<a id=\"prepro_patient\"></a>\n",
    "## 2.1 Pre-processing patients' identities and demographic data"
   ]
  },
  {
   "attachments": {},
   "cell_type": "markdown",
   "metadata": {},
   "source": [
    "### 2.1.1 Birth dates"
   ]
  },
  {
   "cell_type": "code",
   "execution_count": 5,
   "metadata": {},
   "outputs": [
    {
     "data": {
      "text/plain": [
       "birth_datetime            0\n",
       "death_datetime         7320\n",
       "gender_source_value       0\n",
       "cdm_source                0\n",
       "person_id                 0\n",
       "dtype: int64"
      ]
     },
     "execution_count": 5,
     "metadata": {},
     "output_type": "execute_result"
    }
   ],
   "source": [
    "df_person.isna().sum()"
   ]
  },
  {
   "attachments": {},
   "cell_type": "markdown",
   "metadata": {},
   "source": [
    "there is no missing birth_datetime."
   ]
  },
  {
   "cell_type": "code",
   "execution_count": 6,
   "metadata": {},
   "outputs": [
    {
     "data": {
      "text/html": [
       "\n",
       "<style>\n",
       "  #altair-viz-63439cf6c2b94052a5ab5d29be72d28e.vega-embed {\n",
       "    width: 100%;\n",
       "    display: flex;\n",
       "  }\n",
       "\n",
       "  #altair-viz-63439cf6c2b94052a5ab5d29be72d28e.vega-embed details,\n",
       "  #altair-viz-63439cf6c2b94052a5ab5d29be72d28e.vega-embed details summary {\n",
       "    position: relative;\n",
       "  }\n",
       "</style>\n",
       "<div id=\"altair-viz-63439cf6c2b94052a5ab5d29be72d28e\"></div>\n",
       "<script type=\"text/javascript\">\n",
       "  var VEGA_DEBUG = (typeof VEGA_DEBUG == \"undefined\") ? {} : VEGA_DEBUG;\n",
       "  (function(spec, embedOpt){\n",
       "    let outputDiv = document.currentScript.previousElementSibling;\n",
       "    if (outputDiv.id !== \"altair-viz-63439cf6c2b94052a5ab5d29be72d28e\") {\n",
       "      outputDiv = document.getElementById(\"altair-viz-63439cf6c2b94052a5ab5d29be72d28e\");\n",
       "    }\n",
       "    const paths = {\n",
       "      \"vega\": \"https://cdn.jsdelivr.net/npm/vega@5?noext\",\n",
       "      \"vega-lib\": \"https://cdn.jsdelivr.net/npm/vega-lib?noext\",\n",
       "      \"vega-lite\": \"https://cdn.jsdelivr.net/npm/vega-lite@5.8.0?noext\",\n",
       "      \"vega-embed\": \"https://cdn.jsdelivr.net/npm/vega-embed@6?noext\",\n",
       "    };\n",
       "\n",
       "    function maybeLoadScript(lib, version) {\n",
       "      var key = `${lib.replace(\"-\", \"\")}_version`;\n",
       "      return (VEGA_DEBUG[key] == version) ?\n",
       "        Promise.resolve(paths[lib]) :\n",
       "        new Promise(function(resolve, reject) {\n",
       "          var s = document.createElement('script');\n",
       "          document.getElementsByTagName(\"head\")[0].appendChild(s);\n",
       "          s.async = true;\n",
       "          s.onload = () => {\n",
       "            VEGA_DEBUG[key] = version;\n",
       "            return resolve(paths[lib]);\n",
       "          };\n",
       "          s.onerror = () => reject(`Error loading script: ${paths[lib]}`);\n",
       "          s.src = paths[lib];\n",
       "        });\n",
       "    }\n",
       "\n",
       "    function showError(err) {\n",
       "      outputDiv.innerHTML = `<div class=\"error\" style=\"color:red;\">${err}</div>`;\n",
       "      throw err;\n",
       "    }\n",
       "\n",
       "    function displayChart(vegaEmbed) {\n",
       "      vegaEmbed(outputDiv, spec, embedOpt)\n",
       "        .catch(err => showError(`Javascript Error: ${err.message}<br>This usually means there's a typo in your chart specification. See the javascript console for the full traceback.`));\n",
       "    }\n",
       "\n",
       "    if(typeof define === \"function\" && define.amd) {\n",
       "      requirejs.config({paths});\n",
       "      require([\"vega-embed\"], displayChart, err => showError(`Error loading script: ${err.message}`));\n",
       "    } else {\n",
       "      maybeLoadScript(\"vega\", \"5\")\n",
       "        .then(() => maybeLoadScript(\"vega-lite\", \"5.8.0\"))\n",
       "        .then(() => maybeLoadScript(\"vega-embed\", \"6\"))\n",
       "        .catch(showError)\n",
       "        .then(() => displayChart(vegaEmbed));\n",
       "    }\n",
       "  })({\"config\": {\"view\": {\"continuousWidth\": 300, \"continuousHeight\": 300}}, \"data\": {\"name\": \"data-fd5e90832e3af6ae322b2a9b53028859\"}, \"mark\": {\"type\": \"bar\", \"size\": 1}, \"encoding\": {\"x\": {\"field\": \"birth_date\", \"scale\": {\"padding\": 5}, \"type\": \"temporal\"}, \"y\": {\"field\": \"person_id\", \"type\": \"quantitative\"}}, \"$schema\": \"https://vega.github.io/schema/vega-lite/v5.8.0.json\", \"datasets\": {\"data-fd5e90832e3af6ae322b2a9b53028859\": [{\"birth_date\": \"1920-02\", \"person_id\": 3}, {\"birth_date\": \"1920-03\", \"person_id\": 3}, {\"birth_date\": \"1920-04\", \"person_id\": 2}, {\"birth_date\": \"1920-06\", \"person_id\": 2}, {\"birth_date\": \"1920-07\", \"person_id\": 6}, {\"birth_date\": \"1920-08\", \"person_id\": 4}, {\"birth_date\": \"1920-09\", \"person_id\": 1}, {\"birth_date\": \"1920-10\", \"person_id\": 2}, {\"birth_date\": \"1920-12\", \"person_id\": 1}, {\"birth_date\": \"1921-01\", \"person_id\": 3}, {\"birth_date\": \"1921-02\", \"person_id\": 1}, {\"birth_date\": \"1921-03\", \"person_id\": 7}, {\"birth_date\": \"1921-04\", \"person_id\": 3}, {\"birth_date\": \"1921-05\", \"person_id\": 6}, {\"birth_date\": \"1921-06\", \"person_id\": 9}, {\"birth_date\": \"1921-07\", \"person_id\": 5}, {\"birth_date\": \"1921-08\", \"person_id\": 2}, {\"birth_date\": \"1921-09\", \"person_id\": 7}, {\"birth_date\": \"1921-10\", \"person_id\": 2}, {\"birth_date\": \"1921-11\", \"person_id\": 8}, {\"birth_date\": \"1921-12\", \"person_id\": 1}, {\"birth_date\": \"1922-01\", \"person_id\": 4}, {\"birth_date\": \"1922-02\", \"person_id\": 3}, {\"birth_date\": \"1922-03\", \"person_id\": 6}, {\"birth_date\": \"1922-04\", \"person_id\": 4}, {\"birth_date\": \"1922-05\", \"person_id\": 7}, {\"birth_date\": \"1922-06\", \"person_id\": 2}, {\"birth_date\": \"1922-07\", \"person_id\": 9}, {\"birth_date\": \"1922-08\", \"person_id\": 11}, {\"birth_date\": \"1922-09\", \"person_id\": 6}, {\"birth_date\": \"1922-10\", \"person_id\": 7}, {\"birth_date\": \"1922-11\", \"person_id\": 8}, {\"birth_date\": \"1922-12\", \"person_id\": 8}, {\"birth_date\": \"1923-01\", \"person_id\": 18}, {\"birth_date\": \"1923-02\", \"person_id\": 14}, {\"birth_date\": \"1923-03\", \"person_id\": 9}, {\"birth_date\": \"1923-04\", \"person_id\": 13}, {\"birth_date\": \"1923-05\", \"person_id\": 13}, {\"birth_date\": \"1923-06\", \"person_id\": 7}, {\"birth_date\": \"1923-07\", \"person_id\": 8}, {\"birth_date\": \"1923-08\", \"person_id\": 13}, {\"birth_date\": \"1923-09\", \"person_id\": 11}, {\"birth_date\": \"1923-10\", \"person_id\": 19}, {\"birth_date\": \"1923-11\", \"person_id\": 10}, {\"birth_date\": \"1923-12\", \"person_id\": 12}, {\"birth_date\": \"1924-01\", \"person_id\": 15}, {\"birth_date\": \"1924-02\", \"person_id\": 10}, {\"birth_date\": \"1924-03\", \"person_id\": 17}, {\"birth_date\": \"1924-04\", \"person_id\": 5}, {\"birth_date\": \"1924-05\", \"person_id\": 17}, {\"birth_date\": \"1924-06\", \"person_id\": 18}, {\"birth_date\": \"1924-07\", \"person_id\": 11}, {\"birth_date\": \"1924-08\", \"person_id\": 19}, {\"birth_date\": \"1924-09\", \"person_id\": 15}, {\"birth_date\": \"1924-10\", \"person_id\": 19}, {\"birth_date\": \"1924-11\", \"person_id\": 15}, {\"birth_date\": \"1924-12\", \"person_id\": 13}, {\"birth_date\": \"1925-01\", \"person_id\": 12}, {\"birth_date\": \"1925-02\", \"person_id\": 12}, {\"birth_date\": \"1925-03\", \"person_id\": 22}, {\"birth_date\": \"1925-04\", \"person_id\": 19}, {\"birth_date\": \"1925-05\", \"person_id\": 12}, {\"birth_date\": \"1925-06\", \"person_id\": 19}, {\"birth_date\": \"1925-07\", \"person_id\": 19}, {\"birth_date\": \"1925-08\", \"person_id\": 13}, {\"birth_date\": \"1925-09\", \"person_id\": 20}, {\"birth_date\": \"1925-10\", \"person_id\": 16}, {\"birth_date\": \"1925-11\", \"person_id\": 11}, {\"birth_date\": \"1925-12\", \"person_id\": 15}, {\"birth_date\": \"1926-01\", \"person_id\": 17}, {\"birth_date\": \"1926-02\", \"person_id\": 21}, {\"birth_date\": \"1926-03\", \"person_id\": 13}, {\"birth_date\": \"1926-04\", \"person_id\": 18}, {\"birth_date\": \"1926-05\", \"person_id\": 15}, {\"birth_date\": \"1926-06\", \"person_id\": 11}, {\"birth_date\": \"1926-07\", \"person_id\": 22}, {\"birth_date\": \"1926-08\", \"person_id\": 24}, {\"birth_date\": \"1926-09\", \"person_id\": 14}, {\"birth_date\": \"1926-10\", \"person_id\": 24}, {\"birth_date\": \"1926-11\", \"person_id\": 19}, {\"birth_date\": \"1926-12\", \"person_id\": 24}, {\"birth_date\": \"1927-01\", \"person_id\": 20}, {\"birth_date\": \"1927-02\", \"person_id\": 21}, {\"birth_date\": \"1927-03\", \"person_id\": 25}, {\"birth_date\": \"1927-04\", \"person_id\": 17}, {\"birth_date\": \"1927-05\", \"person_id\": 28}, {\"birth_date\": \"1927-06\", \"person_id\": 15}, {\"birth_date\": \"1927-07\", \"person_id\": 17}, {\"birth_date\": \"1927-08\", \"person_id\": 10}, {\"birth_date\": \"1927-09\", \"person_id\": 12}, {\"birth_date\": \"1927-10\", \"person_id\": 12}, {\"birth_date\": \"1927-11\", \"person_id\": 16}, {\"birth_date\": \"1927-12\", \"person_id\": 15}, {\"birth_date\": \"1928-01\", \"person_id\": 15}, {\"birth_date\": \"1928-02\", \"person_id\": 13}, {\"birth_date\": \"1928-03\", \"person_id\": 32}, {\"birth_date\": \"1928-04\", \"person_id\": 11}, {\"birth_date\": \"1928-05\", \"person_id\": 18}, {\"birth_date\": \"1928-06\", \"person_id\": 17}, {\"birth_date\": \"1928-07\", \"person_id\": 19}, {\"birth_date\": \"1928-08\", \"person_id\": 22}, {\"birth_date\": \"1928-09\", \"person_id\": 15}, {\"birth_date\": \"1928-10\", \"person_id\": 19}, {\"birth_date\": \"1928-11\", \"person_id\": 17}, {\"birth_date\": \"1928-12\", \"person_id\": 18}, {\"birth_date\": \"1929-01\", \"person_id\": 21}, {\"birth_date\": \"1929-02\", \"person_id\": 16}, {\"birth_date\": \"1929-03\", \"person_id\": 14}, {\"birth_date\": \"1929-04\", \"person_id\": 20}, {\"birth_date\": \"1929-05\", \"person_id\": 25}, {\"birth_date\": \"1929-06\", \"person_id\": 28}, {\"birth_date\": \"1929-07\", \"person_id\": 19}, {\"birth_date\": \"1929-08\", \"person_id\": 16}, {\"birth_date\": \"1929-09\", \"person_id\": 21}, {\"birth_date\": \"1929-10\", \"person_id\": 24}, {\"birth_date\": \"1929-11\", \"person_id\": 14}, {\"birth_date\": \"1929-12\", \"person_id\": 24}, {\"birth_date\": \"1930-01\", \"person_id\": 19}, {\"birth_date\": \"1930-02\", \"person_id\": 16}, {\"birth_date\": \"1930-03\", \"person_id\": 29}, {\"birth_date\": \"1930-04\", \"person_id\": 14}, {\"birth_date\": \"1930-05\", \"person_id\": 23}, {\"birth_date\": \"1930-06\", \"person_id\": 15}, {\"birth_date\": \"1930-07\", \"person_id\": 22}, {\"birth_date\": \"1930-08\", \"person_id\": 26}, {\"birth_date\": \"1930-09\", \"person_id\": 19}, {\"birth_date\": \"1930-10\", \"person_id\": 19}, {\"birth_date\": \"1930-11\", \"person_id\": 16}, {\"birth_date\": \"1930-12\", \"person_id\": 14}, {\"birth_date\": \"1931-01\", \"person_id\": 12}, {\"birth_date\": \"1931-02\", \"person_id\": 24}, {\"birth_date\": \"1931-03\", \"person_id\": 15}, {\"birth_date\": \"1931-04\", \"person_id\": 18}, {\"birth_date\": \"1931-05\", \"person_id\": 20}, {\"birth_date\": \"1931-06\", \"person_id\": 30}, {\"birth_date\": \"1931-07\", \"person_id\": 14}, {\"birth_date\": \"1931-08\", \"person_id\": 9}, {\"birth_date\": \"1931-09\", \"person_id\": 15}, {\"birth_date\": \"1931-10\", \"person_id\": 18}, {\"birth_date\": \"1931-11\", \"person_id\": 23}, {\"birth_date\": \"1931-12\", \"person_id\": 16}, {\"birth_date\": \"1932-01\", \"person_id\": 17}, {\"birth_date\": \"1932-02\", \"person_id\": 14}, {\"birth_date\": \"1932-03\", \"person_id\": 14}, {\"birth_date\": \"1932-04\", \"person_id\": 16}, {\"birth_date\": \"1932-05\", \"person_id\": 19}, {\"birth_date\": \"1932-06\", \"person_id\": 21}, {\"birth_date\": \"1932-07\", \"person_id\": 11}, {\"birth_date\": \"1932-08\", \"person_id\": 22}, {\"birth_date\": \"1932-09\", \"person_id\": 16}, {\"birth_date\": \"1932-10\", \"person_id\": 25}, {\"birth_date\": \"1932-11\", \"person_id\": 22}, {\"birth_date\": \"1932-12\", \"person_id\": 15}, {\"birth_date\": \"1933-01\", \"person_id\": 11}, {\"birth_date\": \"1933-02\", \"person_id\": 12}, {\"birth_date\": \"1933-03\", \"person_id\": 12}, {\"birth_date\": \"1933-04\", \"person_id\": 17}, {\"birth_date\": \"1933-05\", \"person_id\": 17}, {\"birth_date\": \"1933-06\", \"person_id\": 22}, {\"birth_date\": \"1933-07\", \"person_id\": 15}, {\"birth_date\": \"1933-08\", \"person_id\": 29}, {\"birth_date\": \"1933-09\", \"person_id\": 11}, {\"birth_date\": \"1933-10\", \"person_id\": 21}, {\"birth_date\": \"1933-11\", \"person_id\": 20}, {\"birth_date\": \"1933-12\", \"person_id\": 21}, {\"birth_date\": \"1934-01\", \"person_id\": 17}, {\"birth_date\": \"1934-02\", \"person_id\": 14}, {\"birth_date\": \"1934-03\", \"person_id\": 17}, {\"birth_date\": \"1934-04\", \"person_id\": 21}, {\"birth_date\": \"1934-05\", \"person_id\": 21}, {\"birth_date\": \"1934-06\", \"person_id\": 19}, {\"birth_date\": \"1934-07\", \"person_id\": 27}, {\"birth_date\": \"1934-08\", \"person_id\": 23}, {\"birth_date\": \"1934-09\", \"person_id\": 13}, {\"birth_date\": \"1934-10\", \"person_id\": 11}, {\"birth_date\": \"1934-11\", \"person_id\": 14}, {\"birth_date\": \"1934-12\", \"person_id\": 16}, {\"birth_date\": \"1935-01\", \"person_id\": 21}, {\"birth_date\": \"1935-02\", \"person_id\": 9}, {\"birth_date\": \"1935-03\", \"person_id\": 23}, {\"birth_date\": \"1935-04\", \"person_id\": 16}, {\"birth_date\": \"1935-05\", \"person_id\": 16}, {\"birth_date\": \"1935-06\", \"person_id\": 21}, {\"birth_date\": \"1935-07\", \"person_id\": 18}, {\"birth_date\": \"1935-08\", \"person_id\": 19}, {\"birth_date\": \"1935-09\", \"person_id\": 18}, {\"birth_date\": \"1935-10\", \"person_id\": 21}, {\"birth_date\": \"1935-11\", \"person_id\": 15}, {\"birth_date\": \"1935-12\", \"person_id\": 15}, {\"birth_date\": \"1936-01\", \"person_id\": 18}, {\"birth_date\": \"1936-02\", \"person_id\": 17}, {\"birth_date\": \"1936-03\", \"person_id\": 13}, {\"birth_date\": \"1936-04\", \"person_id\": 22}, {\"birth_date\": \"1936-05\", \"person_id\": 15}, {\"birth_date\": \"1936-06\", \"person_id\": 21}, {\"birth_date\": \"1936-07\", \"person_id\": 10}, {\"birth_date\": \"1936-08\", \"person_id\": 25}, {\"birth_date\": \"1936-09\", \"person_id\": 15}, {\"birth_date\": \"1936-10\", \"person_id\": 21}, {\"birth_date\": \"1936-11\", \"person_id\": 12}, {\"birth_date\": \"1936-12\", \"person_id\": 16}, {\"birth_date\": \"1937-01\", \"person_id\": 24}, {\"birth_date\": \"1937-02\", \"person_id\": 15}, {\"birth_date\": \"1937-03\", \"person_id\": 15}, {\"birth_date\": \"1937-04\", \"person_id\": 15}, {\"birth_date\": \"1937-05\", \"person_id\": 20}, {\"birth_date\": \"1937-06\", \"person_id\": 16}, {\"birth_date\": \"1937-07\", \"person_id\": 18}, {\"birth_date\": \"1937-08\", \"person_id\": 14}, {\"birth_date\": \"1937-09\", \"person_id\": 19}, {\"birth_date\": \"1937-10\", \"person_id\": 18}, {\"birth_date\": \"1937-11\", \"person_id\": 17}, {\"birth_date\": \"1937-12\", \"person_id\": 19}, {\"birth_date\": \"1938-01\", \"person_id\": 17}, {\"birth_date\": \"1938-02\", \"person_id\": 23}, {\"birth_date\": \"1938-03\", \"person_id\": 19}, {\"birth_date\": \"1938-04\", \"person_id\": 23}, {\"birth_date\": \"1938-05\", \"person_id\": 12}, {\"birth_date\": \"1938-06\", \"person_id\": 15}, {\"birth_date\": \"1938-07\", \"person_id\": 21}, {\"birth_date\": \"1938-08\", \"person_id\": 19}, {\"birth_date\": \"1938-09\", \"person_id\": 12}, {\"birth_date\": \"1938-10\", \"person_id\": 20}, {\"birth_date\": \"1938-11\", \"person_id\": 11}, {\"birth_date\": \"1938-12\", \"person_id\": 21}, {\"birth_date\": \"1939-01\", \"person_id\": 20}, {\"birth_date\": \"1939-02\", \"person_id\": 17}, {\"birth_date\": \"1939-03\", \"person_id\": 14}, {\"birth_date\": \"1939-04\", \"person_id\": 19}, {\"birth_date\": \"1939-05\", \"person_id\": 18}, {\"birth_date\": \"1939-06\", \"person_id\": 15}, {\"birth_date\": \"1939-07\", \"person_id\": 22}, {\"birth_date\": \"1939-08\", \"person_id\": 32}, {\"birth_date\": \"1939-09\", \"person_id\": 13}, {\"birth_date\": \"1939-10\", \"person_id\": 22}, {\"birth_date\": \"1939-11\", \"person_id\": 14}, {\"birth_date\": \"1939-12\", \"person_id\": 10}, {\"birth_date\": \"1940-01\", \"person_id\": 18}, {\"birth_date\": \"1940-02\", \"person_id\": 24}, {\"birth_date\": \"1940-03\", \"person_id\": 21}, {\"birth_date\": \"1940-04\", \"person_id\": 26}, {\"birth_date\": \"1940-05\", \"person_id\": 15}, {\"birth_date\": \"1940-06\", \"person_id\": 20}, {\"birth_date\": \"1940-07\", \"person_id\": 15}, {\"birth_date\": \"1940-08\", \"person_id\": 28}, {\"birth_date\": \"1940-09\", \"person_id\": 20}, {\"birth_date\": \"1940-10\", \"person_id\": 13}, {\"birth_date\": \"1940-11\", \"person_id\": 14}, {\"birth_date\": \"1940-12\", \"person_id\": 19}, {\"birth_date\": \"1941-01\", \"person_id\": 12}, {\"birth_date\": \"1941-02\", \"person_id\": 12}, {\"birth_date\": \"1941-03\", \"person_id\": 15}, {\"birth_date\": \"1941-04\", \"person_id\": 15}, {\"birth_date\": \"1941-05\", \"person_id\": 16}, {\"birth_date\": \"1941-06\", \"person_id\": 14}, {\"birth_date\": \"1941-07\", \"person_id\": 16}, {\"birth_date\": \"1941-08\", \"person_id\": 18}, {\"birth_date\": \"1941-09\", \"person_id\": 18}, {\"birth_date\": \"1941-10\", \"person_id\": 27}, {\"birth_date\": \"1941-11\", \"person_id\": 13}, {\"birth_date\": \"1941-12\", \"person_id\": 20}, {\"birth_date\": \"1942-01\", \"person_id\": 20}, {\"birth_date\": \"1942-02\", \"person_id\": 8}, {\"birth_date\": \"1942-03\", \"person_id\": 18}, {\"birth_date\": \"1942-04\", \"person_id\": 15}, {\"birth_date\": \"1942-05\", \"person_id\": 22}, {\"birth_date\": \"1942-06\", \"person_id\": 15}, {\"birth_date\": \"1942-07\", \"person_id\": 18}, {\"birth_date\": \"1942-08\", \"person_id\": 12}, {\"birth_date\": \"1942-09\", \"person_id\": 22}, {\"birth_date\": \"1942-10\", \"person_id\": 17}, {\"birth_date\": \"1942-11\", \"person_id\": 21}, {\"birth_date\": \"1942-12\", \"person_id\": 26}, {\"birth_date\": \"1943-01\", \"person_id\": 17}, {\"birth_date\": \"1943-02\", \"person_id\": 15}, {\"birth_date\": \"1943-03\", \"person_id\": 10}, {\"birth_date\": \"1943-04\", \"person_id\": 15}, {\"birth_date\": \"1943-05\", \"person_id\": 13}, {\"birth_date\": \"1943-06\", \"person_id\": 21}, {\"birth_date\": \"1943-07\", \"person_id\": 22}, {\"birth_date\": \"1943-08\", \"person_id\": 25}, {\"birth_date\": \"1943-09\", \"person_id\": 18}, {\"birth_date\": \"1943-10\", \"person_id\": 23}, {\"birth_date\": \"1943-11\", \"person_id\": 21}, {\"birth_date\": \"1943-12\", \"person_id\": 19}, {\"birth_date\": \"1944-01\", \"person_id\": 25}, {\"birth_date\": \"1944-02\", \"person_id\": 12}, {\"birth_date\": \"1944-03\", \"person_id\": 17}, {\"birth_date\": \"1944-04\", \"person_id\": 19}, {\"birth_date\": \"1944-05\", \"person_id\": 22}, {\"birth_date\": \"1944-06\", \"person_id\": 15}, {\"birth_date\": \"1944-07\", \"person_id\": 21}, {\"birth_date\": \"1944-08\", \"person_id\": 23}, {\"birth_date\": \"1944-09\", \"person_id\": 21}, {\"birth_date\": \"1944-10\", \"person_id\": 11}, {\"birth_date\": \"1944-11\", \"person_id\": 18}, {\"birth_date\": \"1944-12\", \"person_id\": 19}, {\"birth_date\": \"1945-01\", \"person_id\": 15}, {\"birth_date\": \"1945-02\", \"person_id\": 18}, {\"birth_date\": \"1945-03\", \"person_id\": 16}, {\"birth_date\": \"1945-04\", \"person_id\": 26}, {\"birth_date\": \"1945-05\", \"person_id\": 21}, {\"birth_date\": \"1945-06\", \"person_id\": 16}, {\"birth_date\": \"1945-07\", \"person_id\": 15}, {\"birth_date\": \"1945-08\", \"person_id\": 16}, {\"birth_date\": \"1945-09\", \"person_id\": 21}, {\"birth_date\": \"1945-10\", \"person_id\": 16}, {\"birth_date\": \"1945-11\", \"person_id\": 22}, {\"birth_date\": \"1945-12\", \"person_id\": 15}, {\"birth_date\": \"1946-01\", \"person_id\": 15}, {\"birth_date\": \"1946-02\", \"person_id\": 20}, {\"birth_date\": \"1946-03\", \"person_id\": 21}, {\"birth_date\": \"1946-04\", \"person_id\": 13}, {\"birth_date\": \"1946-05\", \"person_id\": 32}, {\"birth_date\": \"1946-06\", \"person_id\": 21}, {\"birth_date\": \"1946-07\", \"person_id\": 17}, {\"birth_date\": \"1946-08\", \"person_id\": 19}, {\"birth_date\": \"1946-09\", \"person_id\": 14}, {\"birth_date\": \"1946-10\", \"person_id\": 19}, {\"birth_date\": \"1946-11\", \"person_id\": 14}, {\"birth_date\": \"1946-12\", \"person_id\": 26}, {\"birth_date\": \"1947-01\", \"person_id\": 14}, {\"birth_date\": \"1947-02\", \"person_id\": 11}, {\"birth_date\": \"1947-03\", \"person_id\": 14}, {\"birth_date\": \"1947-04\", \"person_id\": 24}, {\"birth_date\": \"1947-05\", \"person_id\": 22}, {\"birth_date\": \"1947-06\", \"person_id\": 15}, {\"birth_date\": \"1947-07\", \"person_id\": 22}, {\"birth_date\": \"1947-08\", \"person_id\": 27}, {\"birth_date\": \"1947-09\", \"person_id\": 16}, {\"birth_date\": \"1947-10\", \"person_id\": 19}, {\"birth_date\": \"1947-11\", \"person_id\": 18}, {\"birth_date\": \"1947-12\", \"person_id\": 19}, {\"birth_date\": \"1948-01\", \"person_id\": 16}, {\"birth_date\": \"1948-02\", \"person_id\": 22}, {\"birth_date\": \"1948-03\", \"person_id\": 20}, {\"birth_date\": \"1948-04\", \"person_id\": 8}, {\"birth_date\": \"1948-05\", \"person_id\": 20}, {\"birth_date\": \"1948-06\", \"person_id\": 24}, {\"birth_date\": \"1948-07\", \"person_id\": 19}, {\"birth_date\": \"1948-08\", \"person_id\": 16}, {\"birth_date\": \"1948-09\", \"person_id\": 18}, {\"birth_date\": \"1948-10\", \"person_id\": 16}, {\"birth_date\": \"1948-11\", \"person_id\": 15}, {\"birth_date\": \"1948-12\", \"person_id\": 15}, {\"birth_date\": \"1949-01\", \"person_id\": 15}, {\"birth_date\": \"1949-02\", \"person_id\": 24}, {\"birth_date\": \"1949-03\", \"person_id\": 25}, {\"birth_date\": \"1949-04\", \"person_id\": 25}, {\"birth_date\": \"1949-05\", \"person_id\": 21}, {\"birth_date\": \"1949-06\", \"person_id\": 20}, {\"birth_date\": \"1949-07\", \"person_id\": 22}, {\"birth_date\": \"1949-08\", \"person_id\": 16}, {\"birth_date\": \"1949-09\", \"person_id\": 27}, {\"birth_date\": \"1949-10\", \"person_id\": 16}, {\"birth_date\": \"1949-11\", \"person_id\": 14}, {\"birth_date\": \"1949-12\", \"person_id\": 8}, {\"birth_date\": \"1950-01\", \"person_id\": 13}, {\"birth_date\": \"1950-02\", \"person_id\": 17}, {\"birth_date\": \"1950-03\", \"person_id\": 23}, {\"birth_date\": \"1950-04\", \"person_id\": 14}, {\"birth_date\": \"1950-05\", \"person_id\": 14}, {\"birth_date\": \"1950-06\", \"person_id\": 17}, {\"birth_date\": \"1950-07\", \"person_id\": 24}, {\"birth_date\": \"1950-08\", \"person_id\": 15}, {\"birth_date\": \"1950-09\", \"person_id\": 12}, {\"birth_date\": \"1950-10\", \"person_id\": 19}, {\"birth_date\": \"1950-11\", \"person_id\": 9}, {\"birth_date\": \"1950-12\", \"person_id\": 16}, {\"birth_date\": \"1951-01\", \"person_id\": 24}, {\"birth_date\": \"1951-02\", \"person_id\": 7}, {\"birth_date\": \"1951-03\", \"person_id\": 14}, {\"birth_date\": \"1951-04\", \"person_id\": 16}, {\"birth_date\": \"1951-05\", \"person_id\": 17}, {\"birth_date\": \"1951-06\", \"person_id\": 11}, {\"birth_date\": \"1951-07\", \"person_id\": 25}, {\"birth_date\": \"1951-08\", \"person_id\": 24}, {\"birth_date\": \"1951-09\", \"person_id\": 22}, {\"birth_date\": \"1951-10\", \"person_id\": 17}, {\"birth_date\": \"1951-11\", \"person_id\": 13}, {\"birth_date\": \"1951-12\", \"person_id\": 12}, {\"birth_date\": \"1952-01\", \"person_id\": 15}, {\"birth_date\": \"1952-02\", \"person_id\": 14}, {\"birth_date\": \"1952-03\", \"person_id\": 17}, {\"birth_date\": \"1952-04\", \"person_id\": 6}, {\"birth_date\": \"1952-05\", \"person_id\": 20}, {\"birth_date\": \"1952-06\", \"person_id\": 12}, {\"birth_date\": \"1952-07\", \"person_id\": 17}, {\"birth_date\": \"1952-08\", \"person_id\": 11}, {\"birth_date\": \"1952-09\", \"person_id\": 15}, {\"birth_date\": \"1952-10\", \"person_id\": 13}, {\"birth_date\": \"1952-11\", \"person_id\": 18}, {\"birth_date\": \"1952-12\", \"person_id\": 20}, {\"birth_date\": \"1953-01\", \"person_id\": 11}, {\"birth_date\": \"1953-02\", \"person_id\": 15}, {\"birth_date\": \"1953-03\", \"person_id\": 14}, {\"birth_date\": \"1953-04\", \"person_id\": 7}, {\"birth_date\": \"1953-05\", \"person_id\": 13}, {\"birth_date\": \"1953-06\", \"person_id\": 11}, {\"birth_date\": \"1953-07\", \"person_id\": 24}, {\"birth_date\": \"1953-08\", \"person_id\": 12}, {\"birth_date\": \"1953-09\", \"person_id\": 25}, {\"birth_date\": \"1953-10\", \"person_id\": 17}, {\"birth_date\": \"1953-11\", \"person_id\": 15}, {\"birth_date\": \"1953-12\", \"person_id\": 18}, {\"birth_date\": \"1954-01\", \"person_id\": 10}, {\"birth_date\": \"1954-02\", \"person_id\": 11}, {\"birth_date\": \"1954-03\", \"person_id\": 14}, {\"birth_date\": \"1954-04\", \"person_id\": 17}, {\"birth_date\": \"1954-05\", \"person_id\": 14}, {\"birth_date\": \"1954-06\", \"person_id\": 16}, {\"birth_date\": \"1954-07\", \"person_id\": 22}, {\"birth_date\": \"1954-08\", \"person_id\": 14}, {\"birth_date\": \"1954-09\", \"person_id\": 12}, {\"birth_date\": \"1954-10\", \"person_id\": 17}, {\"birth_date\": \"1954-11\", \"person_id\": 14}, {\"birth_date\": \"1954-12\", \"person_id\": 13}, {\"birth_date\": \"1955-01\", \"person_id\": 15}, {\"birth_date\": \"1955-02\", \"person_id\": 11}, {\"birth_date\": \"1955-03\", \"person_id\": 15}, {\"birth_date\": \"1955-04\", \"person_id\": 13}, {\"birth_date\": \"1955-05\", \"person_id\": 10}, {\"birth_date\": \"1955-06\", \"person_id\": 10}, {\"birth_date\": \"1955-07\", \"person_id\": 11}, {\"birth_date\": \"1955-08\", \"person_id\": 16}, {\"birth_date\": \"1955-09\", \"person_id\": 11}, {\"birth_date\": \"1955-10\", \"person_id\": 11}, {\"birth_date\": \"1955-11\", \"person_id\": 10}, {\"birth_date\": \"1955-12\", \"person_id\": 9}, {\"birth_date\": \"1956-01\", \"person_id\": 15}, {\"birth_date\": \"1956-02\", \"person_id\": 14}, {\"birth_date\": \"1956-03\", \"person_id\": 14}, {\"birth_date\": \"1956-04\", \"person_id\": 14}, {\"birth_date\": \"1956-05\", \"person_id\": 18}, {\"birth_date\": \"1956-06\", \"person_id\": 14}, {\"birth_date\": \"1956-07\", \"person_id\": 12}, {\"birth_date\": \"1956-08\", \"person_id\": 26}, {\"birth_date\": \"1956-09\", \"person_id\": 9}, {\"birth_date\": \"1956-10\", \"person_id\": 10}, {\"birth_date\": \"1956-11\", \"person_id\": 11}, {\"birth_date\": \"1956-12\", \"person_id\": 17}, {\"birth_date\": \"1957-01\", \"person_id\": 19}, {\"birth_date\": \"1957-02\", \"person_id\": 14}, {\"birth_date\": \"1957-03\", \"person_id\": 12}, {\"birth_date\": \"1957-04\", \"person_id\": 12}, {\"birth_date\": \"1957-05\", \"person_id\": 10}, {\"birth_date\": \"1957-06\", \"person_id\": 15}, {\"birth_date\": \"1957-07\", \"person_id\": 19}, {\"birth_date\": \"1957-08\", \"person_id\": 16}, {\"birth_date\": \"1957-09\", \"person_id\": 17}, {\"birth_date\": \"1957-10\", \"person_id\": 14}, {\"birth_date\": \"1957-11\", \"person_id\": 6}, {\"birth_date\": \"1957-12\", \"person_id\": 18}, {\"birth_date\": \"1958-01\", \"person_id\": 16}, {\"birth_date\": \"1958-02\", \"person_id\": 7}, {\"birth_date\": \"1958-03\", \"person_id\": 12}, {\"birth_date\": \"1958-04\", \"person_id\": 20}, {\"birth_date\": \"1958-05\", \"person_id\": 18}, {\"birth_date\": \"1958-06\", \"person_id\": 14}, {\"birth_date\": \"1958-07\", \"person_id\": 10}, {\"birth_date\": \"1958-08\", \"person_id\": 11}, {\"birth_date\": \"1958-09\", \"person_id\": 19}, {\"birth_date\": \"1958-10\", \"person_id\": 15}, {\"birth_date\": \"1958-11\", \"person_id\": 5}, {\"birth_date\": \"1958-12\", \"person_id\": 12}, {\"birth_date\": \"1959-01\", \"person_id\": 13}, {\"birth_date\": \"1959-02\", \"person_id\": 16}, {\"birth_date\": \"1959-03\", \"person_id\": 12}, {\"birth_date\": \"1959-04\", \"person_id\": 16}, {\"birth_date\": \"1959-05\", \"person_id\": 8}, {\"birth_date\": \"1959-06\", \"person_id\": 19}, {\"birth_date\": \"1959-07\", \"person_id\": 13}, {\"birth_date\": \"1959-08\", \"person_id\": 12}, {\"birth_date\": \"1959-09\", \"person_id\": 7}, {\"birth_date\": \"1959-10\", \"person_id\": 11}, {\"birth_date\": \"1959-11\", \"person_id\": 17}, {\"birth_date\": \"1959-12\", \"person_id\": 14}, {\"birth_date\": \"1960-01\", \"person_id\": 13}, {\"birth_date\": \"1960-02\", \"person_id\": 17}, {\"birth_date\": \"1960-03\", \"person_id\": 14}, {\"birth_date\": \"1960-04\", \"person_id\": 21}, {\"birth_date\": \"1960-05\", \"person_id\": 9}, {\"birth_date\": \"1960-06\", \"person_id\": 19}, {\"birth_date\": \"1960-07\", \"person_id\": 14}, {\"birth_date\": \"1960-08\", \"person_id\": 17}, {\"birth_date\": \"1960-09\", \"person_id\": 14}, {\"birth_date\": \"1960-10\", \"person_id\": 9}, {\"birth_date\": \"1960-11\", \"person_id\": 8}, {\"birth_date\": \"1960-12\", \"person_id\": 15}, {\"birth_date\": \"1961-01\", \"person_id\": 14}, {\"birth_date\": \"1961-02\", \"person_id\": 6}, {\"birth_date\": \"1961-03\", \"person_id\": 18}, {\"birth_date\": \"1961-04\", \"person_id\": 9}, {\"birth_date\": \"1961-05\", \"person_id\": 14}, {\"birth_date\": \"1961-06\", \"person_id\": 13}, {\"birth_date\": \"1961-07\", \"person_id\": 13}, {\"birth_date\": \"1961-08\", \"person_id\": 20}, {\"birth_date\": \"1961-09\", \"person_id\": 16}, {\"birth_date\": \"1961-10\", \"person_id\": 18}, {\"birth_date\": \"1961-11\", \"person_id\": 20}, {\"birth_date\": \"1961-12\", \"person_id\": 18}, {\"birth_date\": \"1962-01\", \"person_id\": 15}, {\"birth_date\": \"1962-02\", \"person_id\": 14}, {\"birth_date\": \"1962-03\", \"person_id\": 18}, {\"birth_date\": \"1962-04\", \"person_id\": 16}, {\"birth_date\": \"1962-05\", \"person_id\": 16}, {\"birth_date\": \"1962-06\", \"person_id\": 20}, {\"birth_date\": \"1962-07\", \"person_id\": 17}, {\"birth_date\": \"1962-08\", \"person_id\": 15}, {\"birth_date\": \"1962-09\", \"person_id\": 21}, {\"birth_date\": \"1962-10\", \"person_id\": 16}, {\"birth_date\": \"1962-11\", \"person_id\": 22}, {\"birth_date\": \"1962-12\", \"person_id\": 18}, {\"birth_date\": \"1963-01\", \"person_id\": 15}, {\"birth_date\": \"1963-02\", \"person_id\": 24}, {\"birth_date\": \"1963-03\", \"person_id\": 17}, {\"birth_date\": \"1963-04\", \"person_id\": 18}, {\"birth_date\": \"1963-05\", \"person_id\": 15}, {\"birth_date\": \"1963-06\", \"person_id\": 18}, {\"birth_date\": \"1963-07\", \"person_id\": 13}, {\"birth_date\": \"1963-08\", \"person_id\": 20}, {\"birth_date\": \"1963-09\", \"person_id\": 20}, {\"birth_date\": \"1963-10\", \"person_id\": 28}, {\"birth_date\": \"1963-11\", \"person_id\": 22}, {\"birth_date\": \"1963-12\", \"person_id\": 28}, {\"birth_date\": \"1964-01\", \"person_id\": 17}, {\"birth_date\": \"1964-02\", \"person_id\": 23}, {\"birth_date\": \"1964-03\", \"person_id\": 19}, {\"birth_date\": \"1964-04\", \"person_id\": 27}, {\"birth_date\": \"1964-05\", \"person_id\": 25}, {\"birth_date\": \"1964-06\", \"person_id\": 15}, {\"birth_date\": \"1964-07\", \"person_id\": 23}, {\"birth_date\": \"1964-08\", \"person_id\": 18}, {\"birth_date\": \"1964-09\", \"person_id\": 20}, {\"birth_date\": \"1964-10\", \"person_id\": 19}, {\"birth_date\": \"1964-11\", \"person_id\": 19}, {\"birth_date\": \"1964-12\", \"person_id\": 28}, {\"birth_date\": \"1965-01\", \"person_id\": 15}, {\"birth_date\": \"1965-02\", \"person_id\": 22}, {\"birth_date\": \"1965-03\", \"person_id\": 27}, {\"birth_date\": \"1965-04\", \"person_id\": 19}, {\"birth_date\": \"1965-05\", \"person_id\": 19}, {\"birth_date\": \"1965-06\", \"person_id\": 27}, {\"birth_date\": \"1965-07\", \"person_id\": 18}, {\"birth_date\": \"1965-08\", \"person_id\": 26}, {\"birth_date\": \"1965-09\", \"person_id\": 27}, {\"birth_date\": \"1965-10\", \"person_id\": 22}, {\"birth_date\": \"1965-11\", \"person_id\": 23}, {\"birth_date\": \"1965-12\", \"person_id\": 30}, {\"birth_date\": \"1966-01\", \"person_id\": 22}, {\"birth_date\": \"1966-02\", \"person_id\": 22}, {\"birth_date\": \"1966-03\", \"person_id\": 19}, {\"birth_date\": \"1966-04\", \"person_id\": 14}, {\"birth_date\": \"1966-05\", \"person_id\": 18}, {\"birth_date\": \"1966-06\", \"person_id\": 21}, {\"birth_date\": \"1966-07\", \"person_id\": 30}, {\"birth_date\": \"1966-08\", \"person_id\": 30}, {\"birth_date\": \"1966-09\", \"person_id\": 15}, {\"birth_date\": \"1966-10\", \"person_id\": 14}, {\"birth_date\": \"1966-11\", \"person_id\": 14}, {\"birth_date\": \"1966-12\", \"person_id\": 25}, {\"birth_date\": \"1967-01\", \"person_id\": 28}, {\"birth_date\": \"1967-02\", \"person_id\": 23}, {\"birth_date\": \"1967-03\", \"person_id\": 18}, {\"birth_date\": \"1967-04\", \"person_id\": 28}, {\"birth_date\": \"1967-05\", \"person_id\": 20}, {\"birth_date\": \"1967-06\", \"person_id\": 28}, {\"birth_date\": \"1967-07\", \"person_id\": 17}, {\"birth_date\": \"1967-08\", \"person_id\": 24}, {\"birth_date\": \"1967-09\", \"person_id\": 22}, {\"birth_date\": \"1967-10\", \"person_id\": 14}, {\"birth_date\": \"1967-11\", \"person_id\": 16}, {\"birth_date\": \"1967-12\", \"person_id\": 17}, {\"birth_date\": \"1968-01\", \"person_id\": 31}, {\"birth_date\": \"1968-02\", \"person_id\": 19}, {\"birth_date\": \"1968-03\", \"person_id\": 30}, {\"birth_date\": \"1968-04\", \"person_id\": 14}, {\"birth_date\": \"1968-05\", \"person_id\": 25}, {\"birth_date\": \"1968-06\", \"person_id\": 31}, {\"birth_date\": \"1968-07\", \"person_id\": 22}, {\"birth_date\": \"1968-08\", \"person_id\": 19}, {\"birth_date\": \"1968-09\", \"person_id\": 14}, {\"birth_date\": \"1968-10\", \"person_id\": 18}, {\"birth_date\": \"1968-11\", \"person_id\": 24}, {\"birth_date\": \"1968-12\", \"person_id\": 26}, {\"birth_date\": \"1969-01\", \"person_id\": 27}, {\"birth_date\": \"1969-02\", \"person_id\": 17}, {\"birth_date\": \"1969-03\", \"person_id\": 21}, {\"birth_date\": \"1969-04\", \"person_id\": 17}, {\"birth_date\": \"1969-05\", \"person_id\": 19}, {\"birth_date\": \"1969-06\", \"person_id\": 21}, {\"birth_date\": \"1969-07\", \"person_id\": 34}, {\"birth_date\": \"1969-08\", \"person_id\": 27}, {\"birth_date\": \"1969-09\", \"person_id\": 28}, {\"birth_date\": \"1969-10\", \"person_id\": 24}, {\"birth_date\": \"1969-11\", \"person_id\": 17}, {\"birth_date\": \"1969-12\", \"person_id\": 30}, {\"birth_date\": \"1970-01\", \"person_id\": 20}, {\"birth_date\": \"1970-02\", \"person_id\": 16}, {\"birth_date\": \"1970-03\", \"person_id\": 27}, {\"birth_date\": \"1970-04\", \"person_id\": 23}, {\"birth_date\": \"1970-05\", \"person_id\": 23}, {\"birth_date\": \"1970-06\", \"person_id\": 21}, {\"birth_date\": \"1970-07\", \"person_id\": 11}, {\"birth_date\": \"1970-08\", \"person_id\": 26}, {\"birth_date\": \"1970-09\", \"person_id\": 16}, {\"birth_date\": \"1970-10\", \"person_id\": 20}, {\"birth_date\": \"1970-11\", \"person_id\": 21}, {\"birth_date\": \"1970-12\", \"person_id\": 13}, {\"birth_date\": \"1971-01\", \"person_id\": 15}, {\"birth_date\": \"1971-02\", \"person_id\": 36}, {\"birth_date\": \"1971-03\", \"person_id\": 22}, {\"birth_date\": \"1971-04\", \"person_id\": 21}, {\"birth_date\": \"1971-05\", \"person_id\": 25}, {\"birth_date\": \"1971-06\", \"person_id\": 25}, {\"birth_date\": \"1971-07\", \"person_id\": 18}, {\"birth_date\": \"1971-08\", \"person_id\": 23}, {\"birth_date\": \"1971-09\", \"person_id\": 19}, {\"birth_date\": \"1971-10\", \"person_id\": 17}, {\"birth_date\": \"1971-11\", \"person_id\": 14}, {\"birth_date\": \"1971-12\", \"person_id\": 27}, {\"birth_date\": \"1972-01\", \"person_id\": 26}, {\"birth_date\": \"1972-02\", \"person_id\": 12}, {\"birth_date\": \"1972-03\", \"person_id\": 28}, {\"birth_date\": \"1972-04\", \"person_id\": 15}, {\"birth_date\": \"1972-05\", \"person_id\": 16}, {\"birth_date\": \"1972-06\", \"person_id\": 11}, {\"birth_date\": \"1972-07\", \"person_id\": 24}, {\"birth_date\": \"1972-08\", \"person_id\": 14}, {\"birth_date\": \"1972-09\", \"person_id\": 12}, {\"birth_date\": \"1972-10\", \"person_id\": 15}, {\"birth_date\": \"1972-11\", \"person_id\": 12}, {\"birth_date\": \"1972-12\", \"person_id\": 20}, {\"birth_date\": \"1973-01\", \"person_id\": 15}, {\"birth_date\": \"1973-02\", \"person_id\": 11}, {\"birth_date\": \"1973-03\", \"person_id\": 15}, {\"birth_date\": \"1973-04\", \"person_id\": 12}, {\"birth_date\": \"1973-05\", \"person_id\": 15}, {\"birth_date\": \"1973-06\", \"person_id\": 19}, {\"birth_date\": \"1973-07\", \"person_id\": 9}, {\"birth_date\": \"1973-08\", \"person_id\": 12}, {\"birth_date\": \"1973-09\", \"person_id\": 13}, {\"birth_date\": \"1973-10\", \"person_id\": 12}, {\"birth_date\": \"1973-11\", \"person_id\": 11}, {\"birth_date\": \"1973-12\", \"person_id\": 14}, {\"birth_date\": \"1974-01\", \"person_id\": 13}, {\"birth_date\": \"1974-02\", \"person_id\": 22}, {\"birth_date\": \"1974-03\", \"person_id\": 16}, {\"birth_date\": \"1974-04\", \"person_id\": 10}, {\"birth_date\": \"1974-05\", \"person_id\": 11}, {\"birth_date\": \"1974-06\", \"person_id\": 12}, {\"birth_date\": \"1974-07\", \"person_id\": 13}, {\"birth_date\": \"1974-08\", \"person_id\": 11}, {\"birth_date\": \"1974-09\", \"person_id\": 9}, {\"birth_date\": \"1974-10\", \"person_id\": 10}, {\"birth_date\": \"1974-11\", \"person_id\": 8}, {\"birth_date\": \"1974-12\", \"person_id\": 9}, {\"birth_date\": \"1975-01\", \"person_id\": 5}, {\"birth_date\": \"1975-02\", \"person_id\": 10}, {\"birth_date\": \"1975-03\", \"person_id\": 21}, {\"birth_date\": \"1975-04\", \"person_id\": 15}, {\"birth_date\": \"1975-05\", \"person_id\": 11}, {\"birth_date\": \"1975-06\", \"person_id\": 10}, {\"birth_date\": \"1975-07\", \"person_id\": 9}, {\"birth_date\": \"1975-08\", \"person_id\": 7}, {\"birth_date\": \"1975-09\", \"person_id\": 13}, {\"birth_date\": \"1975-10\", \"person_id\": 12}, {\"birth_date\": \"1975-11\", \"person_id\": 11}, {\"birth_date\": \"1975-12\", \"person_id\": 11}, {\"birth_date\": \"1976-01\", \"person_id\": 14}, {\"birth_date\": \"1976-02\", \"person_id\": 10}, {\"birth_date\": \"1976-03\", \"person_id\": 11}, {\"birth_date\": \"1976-04\", \"person_id\": 12}, {\"birth_date\": \"1976-05\", \"person_id\": 8}, {\"birth_date\": \"1976-06\", \"person_id\": 7}, {\"birth_date\": \"1976-07\", \"person_id\": 11}, {\"birth_date\": \"1976-08\", \"person_id\": 3}, {\"birth_date\": \"1976-09\", \"person_id\": 10}, {\"birth_date\": \"1976-10\", \"person_id\": 9}, {\"birth_date\": \"1976-11\", \"person_id\": 13}, {\"birth_date\": \"1976-12\", \"person_id\": 13}, {\"birth_date\": \"1977-01\", \"person_id\": 3}, {\"birth_date\": \"1977-02\", \"person_id\": 9}, {\"birth_date\": \"1977-03\", \"person_id\": 9}, {\"birth_date\": \"1977-04\", \"person_id\": 10}, {\"birth_date\": \"1977-05\", \"person_id\": 11}, {\"birth_date\": \"1977-06\", \"person_id\": 14}, {\"birth_date\": \"1977-07\", \"person_id\": 7}, {\"birth_date\": \"1977-08\", \"person_id\": 16}, {\"birth_date\": \"1977-09\", \"person_id\": 11}, {\"birth_date\": \"1977-10\", \"person_id\": 13}, {\"birth_date\": \"1977-11\", \"person_id\": 5}, {\"birth_date\": \"1977-12\", \"person_id\": 11}, {\"birth_date\": \"1978-01\", \"person_id\": 15}, {\"birth_date\": \"1978-02\", \"person_id\": 8}, {\"birth_date\": \"1978-03\", \"person_id\": 7}, {\"birth_date\": \"1978-04\", \"person_id\": 7}, {\"birth_date\": \"1978-05\", \"person_id\": 9}, {\"birth_date\": \"1978-06\", \"person_id\": 6}, {\"birth_date\": \"1978-07\", \"person_id\": 10}, {\"birth_date\": \"1978-08\", \"person_id\": 6}, {\"birth_date\": \"1978-09\", \"person_id\": 15}, {\"birth_date\": \"1978-10\", \"person_id\": 9}, {\"birth_date\": \"1978-11\", \"person_id\": 8}, {\"birth_date\": \"1978-12\", \"person_id\": 11}, {\"birth_date\": \"1979-01\", \"person_id\": 11}, {\"birth_date\": \"1979-02\", \"person_id\": 7}, {\"birth_date\": \"1979-03\", \"person_id\": 6}, {\"birth_date\": \"1979-04\", \"person_id\": 4}, {\"birth_date\": \"1979-05\", \"person_id\": 7}, {\"birth_date\": \"1979-06\", \"person_id\": 9}, {\"birth_date\": \"1979-07\", \"person_id\": 5}, {\"birth_date\": \"1979-08\", \"person_id\": 15}, {\"birth_date\": \"1979-09\", \"person_id\": 3}, {\"birth_date\": \"1979-10\", \"person_id\": 10}, {\"birth_date\": \"1979-11\", \"person_id\": 9}, {\"birth_date\": \"1979-12\", \"person_id\": 7}, {\"birth_date\": \"1980-01\", \"person_id\": 9}, {\"birth_date\": \"1980-02\", \"person_id\": 8}, {\"birth_date\": \"1980-03\", \"person_id\": 8}, {\"birth_date\": \"1980-04\", \"person_id\": 7}, {\"birth_date\": \"1980-05\", \"person_id\": 8}, {\"birth_date\": \"1980-06\", \"person_id\": 9}, {\"birth_date\": \"1980-07\", \"person_id\": 9}, {\"birth_date\": \"1980-08\", \"person_id\": 13}, {\"birth_date\": \"1980-09\", \"person_id\": 12}, {\"birth_date\": \"1980-10\", \"person_id\": 6}, {\"birth_date\": \"1980-11\", \"person_id\": 11}, {\"birth_date\": \"1980-12\", \"person_id\": 9}, {\"birth_date\": \"1981-01\", \"person_id\": 9}, {\"birth_date\": \"1981-02\", \"person_id\": 7}, {\"birth_date\": \"1981-03\", \"person_id\": 8}, {\"birth_date\": \"1981-04\", \"person_id\": 9}, {\"birth_date\": \"1981-05\", \"person_id\": 9}, {\"birth_date\": \"1981-06\", \"person_id\": 11}, {\"birth_date\": \"1981-07\", \"person_id\": 9}, {\"birth_date\": \"1981-08\", \"person_id\": 9}, {\"birth_date\": \"1981-09\", \"person_id\": 12}, {\"birth_date\": \"1981-10\", \"person_id\": 2}, {\"birth_date\": \"1981-11\", \"person_id\": 12}, {\"birth_date\": \"1981-12\", \"person_id\": 9}, {\"birth_date\": \"1982-01\", \"person_id\": 7}, {\"birth_date\": \"1982-02\", \"person_id\": 7}, {\"birth_date\": \"1982-03\", \"person_id\": 7}, {\"birth_date\": \"1982-04\", \"person_id\": 11}, {\"birth_date\": \"1982-05\", \"person_id\": 6}, {\"birth_date\": \"1982-06\", \"person_id\": 9}, {\"birth_date\": \"1982-07\", \"person_id\": 8}, {\"birth_date\": \"1982-08\", \"person_id\": 6}, {\"birth_date\": \"1982-09\", \"person_id\": 8}, {\"birth_date\": \"1982-10\", \"person_id\": 12}, {\"birth_date\": \"1982-11\", \"person_id\": 5}, {\"birth_date\": \"1982-12\", \"person_id\": 4}, {\"birth_date\": \"1983-01\", \"person_id\": 9}, {\"birth_date\": \"1983-02\", \"person_id\": 7}, {\"birth_date\": \"1983-03\", \"person_id\": 8}, {\"birth_date\": \"1983-04\", \"person_id\": 6}, {\"birth_date\": \"1983-05\", \"person_id\": 5}, {\"birth_date\": \"1983-06\", \"person_id\": 10}, {\"birth_date\": \"1983-07\", \"person_id\": 11}, {\"birth_date\": \"1983-08\", \"person_id\": 3}, {\"birth_date\": \"1983-09\", \"person_id\": 11}, {\"birth_date\": \"1983-10\", \"person_id\": 7}, {\"birth_date\": \"1983-11\", \"person_id\": 8}, {\"birth_date\": \"1983-12\", \"person_id\": 13}, {\"birth_date\": \"1984-01\", \"person_id\": 13}, {\"birth_date\": \"1984-02\", \"person_id\": 8}, {\"birth_date\": \"1984-03\", \"person_id\": 7}, {\"birth_date\": \"1984-04\", \"person_id\": 4}, {\"birth_date\": \"1984-05\", \"person_id\": 10}, {\"birth_date\": \"1984-06\", \"person_id\": 9}, {\"birth_date\": \"1984-07\", \"person_id\": 10}, {\"birth_date\": \"1984-08\", \"person_id\": 15}, {\"birth_date\": \"1984-09\", \"person_id\": 6}, {\"birth_date\": \"1984-10\", \"person_id\": 4}, {\"birth_date\": \"1984-11\", \"person_id\": 8}, {\"birth_date\": \"1984-12\", \"person_id\": 7}, {\"birth_date\": \"1985-01\", \"person_id\": 6}, {\"birth_date\": \"1985-02\", \"person_id\": 15}, {\"birth_date\": \"1985-03\", \"person_id\": 7}, {\"birth_date\": \"1985-04\", \"person_id\": 5}, {\"birth_date\": \"1985-05\", \"person_id\": 15}, {\"birth_date\": \"1985-06\", \"person_id\": 3}, {\"birth_date\": \"1985-07\", \"person_id\": 9}, {\"birth_date\": \"1985-08\", \"person_id\": 8}, {\"birth_date\": \"1985-09\", \"person_id\": 6}, {\"birth_date\": \"1985-10\", \"person_id\": 11}, {\"birth_date\": \"1985-11\", \"person_id\": 14}, {\"birth_date\": \"1985-12\", \"person_id\": 8}, {\"birth_date\": \"1986-01\", \"person_id\": 10}, {\"birth_date\": \"1986-02\", \"person_id\": 7}, {\"birth_date\": \"1986-03\", \"person_id\": 8}, {\"birth_date\": \"1986-04\", \"person_id\": 8}, {\"birth_date\": \"1986-05\", \"person_id\": 3}, {\"birth_date\": \"1986-06\", \"person_id\": 11}, {\"birth_date\": \"1986-07\", \"person_id\": 11}, {\"birth_date\": \"1986-08\", \"person_id\": 10}, {\"birth_date\": \"1986-09\", \"person_id\": 14}, {\"birth_date\": \"1986-10\", \"person_id\": 8}, {\"birth_date\": \"1986-11\", \"person_id\": 7}, {\"birth_date\": \"1986-12\", \"person_id\": 8}, {\"birth_date\": \"1987-01\", \"person_id\": 9}, {\"birth_date\": \"1987-02\", \"person_id\": 11}, {\"birth_date\": \"1987-03\", \"person_id\": 7}, {\"birth_date\": \"1987-04\", \"person_id\": 6}, {\"birth_date\": \"1987-05\", \"person_id\": 3}, {\"birth_date\": \"1987-06\", \"person_id\": 9}, {\"birth_date\": \"1987-07\", \"person_id\": 7}, {\"birth_date\": \"1987-08\", \"person_id\": 4}, {\"birth_date\": \"1987-09\", \"person_id\": 7}, {\"birth_date\": \"1987-10\", \"person_id\": 13}, {\"birth_date\": \"1987-11\", \"person_id\": 9}, {\"birth_date\": \"1987-12\", \"person_id\": 17}, {\"birth_date\": \"1988-01\", \"person_id\": 10}, {\"birth_date\": \"1988-02\", \"person_id\": 8}, {\"birth_date\": \"1988-03\", \"person_id\": 9}, {\"birth_date\": \"1988-04\", \"person_id\": 9}, {\"birth_date\": \"1988-05\", \"person_id\": 5}, {\"birth_date\": \"1988-06\", \"person_id\": 10}, {\"birth_date\": \"1988-07\", \"person_id\": 8}, {\"birth_date\": \"1988-08\", \"person_id\": 10}, {\"birth_date\": \"1988-09\", \"person_id\": 15}, {\"birth_date\": \"1988-10\", \"person_id\": 16}, {\"birth_date\": \"1988-11\", \"person_id\": 10}, {\"birth_date\": \"1988-12\", \"person_id\": 13}, {\"birth_date\": \"1989-01\", \"person_id\": 11}, {\"birth_date\": \"1989-02\", \"person_id\": 8}, {\"birth_date\": \"1989-03\", \"person_id\": 10}, {\"birth_date\": \"1989-04\", \"person_id\": 11}, {\"birth_date\": \"1989-05\", \"person_id\": 6}, {\"birth_date\": \"1989-06\", \"person_id\": 6}, {\"birth_date\": \"1989-07\", \"person_id\": 8}, {\"birth_date\": \"1989-08\", \"person_id\": 7}, {\"birth_date\": \"1989-09\", \"person_id\": 10}, {\"birth_date\": \"1989-10\", \"person_id\": 12}, {\"birth_date\": \"1989-11\", \"person_id\": 5}, {\"birth_date\": \"1989-12\", \"person_id\": 7}, {\"birth_date\": \"1990-01\", \"person_id\": 3}, {\"birth_date\": \"1990-02\", \"person_id\": 5}, {\"birth_date\": \"1990-03\", \"person_id\": 8}, {\"birth_date\": \"1990-04\", \"person_id\": 6}, {\"birth_date\": \"1990-05\", \"person_id\": 14}, {\"birth_date\": \"1990-06\", \"person_id\": 8}, {\"birth_date\": \"1990-07\", \"person_id\": 8}, {\"birth_date\": \"1990-08\", \"person_id\": 9}, {\"birth_date\": \"1990-09\", \"person_id\": 11}, {\"birth_date\": \"1990-10\", \"person_id\": 5}, {\"birth_date\": \"1990-11\", \"person_id\": 9}, {\"birth_date\": \"1990-12\", \"person_id\": 7}, {\"birth_date\": \"1991-01\", \"person_id\": 11}, {\"birth_date\": \"1991-02\", \"person_id\": 2}, {\"birth_date\": \"1991-03\", \"person_id\": 11}, {\"birth_date\": \"1991-04\", \"person_id\": 12}, {\"birth_date\": \"1991-05\", \"person_id\": 8}, {\"birth_date\": \"1991-06\", \"person_id\": 7}, {\"birth_date\": \"1991-07\", \"person_id\": 11}, {\"birth_date\": \"1991-08\", \"person_id\": 14}, {\"birth_date\": \"1991-09\", \"person_id\": 11}, {\"birth_date\": \"1991-10\", \"person_id\": 10}, {\"birth_date\": \"1991-11\", \"person_id\": 17}, {\"birth_date\": \"1991-12\", \"person_id\": 14}, {\"birth_date\": \"1992-01\", \"person_id\": 7}, {\"birth_date\": \"1992-02\", \"person_id\": 9}, {\"birth_date\": \"1992-03\", \"person_id\": 7}, {\"birth_date\": \"1992-04\", \"person_id\": 9}, {\"birth_date\": \"1992-05\", \"person_id\": 16}, {\"birth_date\": \"1992-06\", \"person_id\": 6}, {\"birth_date\": \"1992-07\", \"person_id\": 4}, {\"birth_date\": \"1992-08\", \"person_id\": 12}, {\"birth_date\": \"1992-09\", \"person_id\": 6}, {\"birth_date\": \"1992-10\", \"person_id\": 17}, {\"birth_date\": \"1992-11\", \"person_id\": 5}, {\"birth_date\": \"1992-12\", \"person_id\": 5}, {\"birth_date\": \"1993-01\", \"person_id\": 13}, {\"birth_date\": \"1993-02\", \"person_id\": 4}, {\"birth_date\": \"1993-03\", \"person_id\": 10}, {\"birth_date\": \"1993-04\", \"person_id\": 11}, {\"birth_date\": \"1993-05\", \"person_id\": 9}, {\"birth_date\": \"1993-06\", \"person_id\": 6}, {\"birth_date\": \"1993-07\", \"person_id\": 10}, {\"birth_date\": \"1993-08\", \"person_id\": 12}, {\"birth_date\": \"1993-09\", \"person_id\": 8}, {\"birth_date\": \"1993-10\", \"person_id\": 8}, {\"birth_date\": \"1993-11\", \"person_id\": 15}, {\"birth_date\": \"1993-12\", \"person_id\": 14}, {\"birth_date\": \"1994-01\", \"person_id\": 10}, {\"birth_date\": \"1994-02\", \"person_id\": 13}, {\"birth_date\": \"1994-03\", \"person_id\": 9}, {\"birth_date\": \"1994-04\", \"person_id\": 11}, {\"birth_date\": \"1994-05\", \"person_id\": 11}, {\"birth_date\": \"1994-06\", \"person_id\": 11}, {\"birth_date\": \"1994-07\", \"person_id\": 7}, {\"birth_date\": \"1994-08\", \"person_id\": 14}, {\"birth_date\": \"1994-09\", \"person_id\": 8}, {\"birth_date\": \"1994-10\", \"person_id\": 15}, {\"birth_date\": \"1994-11\", \"person_id\": 10}, {\"birth_date\": \"1994-12\", \"person_id\": 14}, {\"birth_date\": \"1995-01\", \"person_id\": 12}, {\"birth_date\": \"1995-02\", \"person_id\": 11}, {\"birth_date\": \"1995-03\", \"person_id\": 8}, {\"birth_date\": \"1995-04\", \"person_id\": 3}, {\"birth_date\": \"1995-05\", \"person_id\": 11}, {\"birth_date\": \"1995-06\", \"person_id\": 6}, {\"birth_date\": \"1995-07\", \"person_id\": 8}, {\"birth_date\": \"1995-08\", \"person_id\": 13}, {\"birth_date\": \"1995-09\", \"person_id\": 10}, {\"birth_date\": \"1995-10\", \"person_id\": 9}, {\"birth_date\": \"1995-11\", \"person_id\": 5}, {\"birth_date\": \"1995-12\", \"person_id\": 12}, {\"birth_date\": \"1996-01\", \"person_id\": 12}, {\"birth_date\": \"1996-02\", \"person_id\": 12}, {\"birth_date\": \"1996-03\", \"person_id\": 6}, {\"birth_date\": \"1996-04\", \"person_id\": 7}, {\"birth_date\": \"1996-05\", \"person_id\": 12}, {\"birth_date\": \"1996-06\", \"person_id\": 11}, {\"birth_date\": \"1996-07\", \"person_id\": 8}, {\"birth_date\": \"1996-08\", \"person_id\": 13}, {\"birth_date\": \"1996-09\", \"person_id\": 4}, {\"birth_date\": \"1996-10\", \"person_id\": 10}, {\"birth_date\": \"1996-11\", \"person_id\": 11}, {\"birth_date\": \"1996-12\", \"person_id\": 7}, {\"birth_date\": \"1997-01\", \"person_id\": 7}, {\"birth_date\": \"1997-02\", \"person_id\": 10}, {\"birth_date\": \"1997-03\", \"person_id\": 13}, {\"birth_date\": \"1997-04\", \"person_id\": 6}, {\"birth_date\": \"1997-05\", \"person_id\": 8}, {\"birth_date\": \"1997-06\", \"person_id\": 7}, {\"birth_date\": \"1997-07\", \"person_id\": 17}, {\"birth_date\": \"1997-08\", \"person_id\": 10}, {\"birth_date\": \"1997-09\", \"person_id\": 10}, {\"birth_date\": \"1997-10\", \"person_id\": 7}, {\"birth_date\": \"1997-11\", \"person_id\": 7}, {\"birth_date\": \"1997-12\", \"person_id\": 6}, {\"birth_date\": \"1998-01\", \"person_id\": 10}, {\"birth_date\": \"1998-02\", \"person_id\": 6}, {\"birth_date\": \"1998-03\", \"person_id\": 13}, {\"birth_date\": \"1998-04\", \"person_id\": 8}, {\"birth_date\": \"1998-05\", \"person_id\": 11}, {\"birth_date\": \"1998-06\", \"person_id\": 4}, {\"birth_date\": \"1998-07\", \"person_id\": 11}, {\"birth_date\": \"1998-08\", \"person_id\": 9}, {\"birth_date\": \"1998-09\", \"person_id\": 10}, {\"birth_date\": \"1998-10\", \"person_id\": 9}, {\"birth_date\": \"1998-11\", \"person_id\": 4}, {\"birth_date\": \"1998-12\", \"person_id\": 11}, {\"birth_date\": \"1999-01\", \"person_id\": 10}, {\"birth_date\": \"1999-02\", \"person_id\": 6}, {\"birth_date\": \"1999-03\", \"person_id\": 6}, {\"birth_date\": \"1999-04\", \"person_id\": 8}, {\"birth_date\": \"1999-05\", \"person_id\": 10}, {\"birth_date\": \"1999-06\", \"person_id\": 4}, {\"birth_date\": \"1999-07\", \"person_id\": 5}, {\"birth_date\": \"1999-08\", \"person_id\": 11}, {\"birth_date\": \"1999-09\", \"person_id\": 10}, {\"birth_date\": \"1999-10\", \"person_id\": 8}, {\"birth_date\": \"1999-11\", \"person_id\": 10}, {\"birth_date\": \"1999-12\", \"person_id\": 9}, {\"birth_date\": \"2000-01\", \"person_id\": 4}, {\"birth_date\": \"2000-02\", \"person_id\": 4}, {\"birth_date\": \"2000-03\", \"person_id\": 9}, {\"birth_date\": \"2000-04\", \"person_id\": 5}, {\"birth_date\": \"2000-05\", \"person_id\": 10}, {\"birth_date\": \"2000-06\", \"person_id\": 8}, {\"birth_date\": \"2000-07\", \"person_id\": 5}, {\"birth_date\": \"2000-08\", \"person_id\": 5}, {\"birth_date\": \"2000-09\", \"person_id\": 13}, {\"birth_date\": \"2000-10\", \"person_id\": 4}, {\"birth_date\": \"2000-11\", \"person_id\": 8}, {\"birth_date\": \"2000-12\", \"person_id\": 11}, {\"birth_date\": \"2001-01\", \"person_id\": 9}, {\"birth_date\": \"2001-02\", \"person_id\": 11}, {\"birth_date\": \"2001-03\", \"person_id\": 5}, {\"birth_date\": \"2001-04\", \"person_id\": 10}, {\"birth_date\": \"2001-05\", \"person_id\": 6}, {\"birth_date\": \"2001-06\", \"person_id\": 11}, {\"birth_date\": \"2001-07\", \"person_id\": 9}, {\"birth_date\": \"2001-08\", \"person_id\": 6}, {\"birth_date\": \"2001-09\", \"person_id\": 9}, {\"birth_date\": \"2001-10\", \"person_id\": 12}, {\"birth_date\": \"2001-11\", \"person_id\": 12}, {\"birth_date\": \"2001-12\", \"person_id\": 5}, {\"birth_date\": \"2002-01\", \"person_id\": 15}, {\"birth_date\": \"2002-02\", \"person_id\": 10}, {\"birth_date\": \"2002-03\", \"person_id\": 9}, {\"birth_date\": \"2002-04\", \"person_id\": 4}, {\"birth_date\": \"2002-05\", \"person_id\": 8}, {\"birth_date\": \"2002-06\", \"person_id\": 6}, {\"birth_date\": \"2002-07\", \"person_id\": 8}, {\"birth_date\": \"2002-08\", \"person_id\": 10}, {\"birth_date\": \"2002-09\", \"person_id\": 5}, {\"birth_date\": \"2002-10\", \"person_id\": 4}, {\"birth_date\": \"2002-11\", \"person_id\": 6}, {\"birth_date\": \"2002-12\", \"person_id\": 8}, {\"birth_date\": \"2003-01\", \"person_id\": 9}, {\"birth_date\": \"2003-02\", \"person_id\": 9}, {\"birth_date\": \"2003-03\", \"person_id\": 14}, {\"birth_date\": \"2003-04\", \"person_id\": 7}, {\"birth_date\": \"2003-05\", \"person_id\": 11}, {\"birth_date\": \"2003-06\", \"person_id\": 9}, {\"birth_date\": \"2003-07\", \"person_id\": 10}, {\"birth_date\": \"2003-08\", \"person_id\": 7}, {\"birth_date\": \"2003-09\", \"person_id\": 7}, {\"birth_date\": \"2003-10\", \"person_id\": 11}, {\"birth_date\": \"2003-11\", \"person_id\": 8}, {\"birth_date\": \"2003-12\", \"person_id\": 15}, {\"birth_date\": \"2004-01\", \"person_id\": 9}, {\"birth_date\": \"2004-02\", \"person_id\": 5}, {\"birth_date\": \"2004-03\", \"person_id\": 7}, {\"birth_date\": \"2004-04\", \"person_id\": 11}, {\"birth_date\": \"2004-05\", \"person_id\": 9}, {\"birth_date\": \"2004-06\", \"person_id\": 11}, {\"birth_date\": \"2004-07\", \"person_id\": 14}, {\"birth_date\": \"2004-08\", \"person_id\": 10}, {\"birth_date\": \"2004-09\", \"person_id\": 7}, {\"birth_date\": \"2004-10\", \"person_id\": 11}, {\"birth_date\": \"2004-11\", \"person_id\": 5}, {\"birth_date\": \"2004-12\", \"person_id\": 11}, {\"birth_date\": \"2005-01\", \"person_id\": 11}, {\"birth_date\": \"2005-02\", \"person_id\": 7}, {\"birth_date\": \"2005-03\", \"person_id\": 16}, {\"birth_date\": \"2005-04\", \"person_id\": 4}, {\"birth_date\": \"2005-05\", \"person_id\": 6}, {\"birth_date\": \"2005-06\", \"person_id\": 6}, {\"birth_date\": \"2005-07\", \"person_id\": 14}, {\"birth_date\": \"2005-08\", \"person_id\": 7}, {\"birth_date\": \"2005-09\", \"person_id\": 13}, {\"birth_date\": \"2005-10\", \"person_id\": 10}, {\"birth_date\": \"2005-11\", \"person_id\": 6}, {\"birth_date\": \"2005-12\", \"person_id\": 7}, {\"birth_date\": \"2006-01\", \"person_id\": 11}, {\"birth_date\": \"2006-02\", \"person_id\": 3}, {\"birth_date\": \"2006-03\", \"person_id\": 8}, {\"birth_date\": \"2006-04\", \"person_id\": 5}, {\"birth_date\": \"2006-05\", \"person_id\": 11}, {\"birth_date\": \"2006-06\", \"person_id\": 13}, {\"birth_date\": \"2006-07\", \"person_id\": 12}, {\"birth_date\": \"2006-08\", \"person_id\": 7}, {\"birth_date\": \"2006-09\", \"person_id\": 8}, {\"birth_date\": \"2006-10\", \"person_id\": 8}, {\"birth_date\": \"2006-11\", \"person_id\": 13}, {\"birth_date\": \"2006-12\", \"person_id\": 5}, {\"birth_date\": \"2007-01\", \"person_id\": 13}, {\"birth_date\": \"2007-02\", \"person_id\": 11}, {\"birth_date\": \"2007-03\", \"person_id\": 3}, {\"birth_date\": \"2007-04\", \"person_id\": 6}, {\"birth_date\": \"2007-05\", \"person_id\": 10}, {\"birth_date\": \"2007-06\", \"person_id\": 10}, {\"birth_date\": \"2007-07\", \"person_id\": 9}, {\"birth_date\": \"2007-08\", \"person_id\": 12}, {\"birth_date\": \"2007-09\", \"person_id\": 14}, {\"birth_date\": \"2007-10\", \"person_id\": 9}, {\"birth_date\": \"2007-11\", \"person_id\": 13}, {\"birth_date\": \"2007-12\", \"person_id\": 10}, {\"birth_date\": \"2008-01\", \"person_id\": 8}, {\"birth_date\": \"2008-02\", \"person_id\": 4}, {\"birth_date\": \"2008-03\", \"person_id\": 4}, {\"birth_date\": \"2008-04\", \"person_id\": 9}, {\"birth_date\": \"2008-05\", \"person_id\": 6}, {\"birth_date\": \"2008-06\", \"person_id\": 12}, {\"birth_date\": \"2008-07\", \"person_id\": 9}, {\"birth_date\": \"2008-08\", \"person_id\": 11}, {\"birth_date\": \"2008-09\", \"person_id\": 8}, {\"birth_date\": \"2008-10\", \"person_id\": 10}, {\"birth_date\": \"2008-11\", \"person_id\": 10}, {\"birth_date\": \"2008-12\", \"person_id\": 12}, {\"birth_date\": \"2009-01\", \"person_id\": 14}, {\"birth_date\": \"2009-02\", \"person_id\": 4}, {\"birth_date\": \"2009-03\", \"person_id\": 6}, {\"birth_date\": \"2009-04\", \"person_id\": 3}, {\"birth_date\": \"2009-05\", \"person_id\": 11}, {\"birth_date\": \"2009-06\", \"person_id\": 4}, {\"birth_date\": \"2009-07\", \"person_id\": 6}, {\"birth_date\": \"2009-08\", \"person_id\": 7}, {\"birth_date\": \"2009-09\", \"person_id\": 10}, {\"birth_date\": \"2009-10\", \"person_id\": 10}, {\"birth_date\": \"2009-11\", \"person_id\": 13}, {\"birth_date\": \"2009-12\", \"person_id\": 9}, {\"birth_date\": \"2010-01\", \"person_id\": 11}, {\"birth_date\": \"2010-02\", \"person_id\": 10}, {\"birth_date\": \"2010-03\", \"person_id\": 10}, {\"birth_date\": \"2010-04\", \"person_id\": 8}, {\"birth_date\": \"2010-05\", \"person_id\": 9}, {\"birth_date\": \"2010-06\", \"person_id\": 7}, {\"birth_date\": \"2010-07\", \"person_id\": 11}, {\"birth_date\": \"2010-08\", \"person_id\": 14}, {\"birth_date\": \"2010-09\", \"person_id\": 9}, {\"birth_date\": \"2010-10\", \"person_id\": 10}, {\"birth_date\": \"2010-11\", \"person_id\": 9}, {\"birth_date\": \"2010-12\", \"person_id\": 9}, {\"birth_date\": \"2011-01\", \"person_id\": 14}, {\"birth_date\": \"2011-02\", \"person_id\": 11}, {\"birth_date\": \"2011-03\", \"person_id\": 9}, {\"birth_date\": \"2011-04\", \"person_id\": 8}, {\"birth_date\": \"2011-05\", \"person_id\": 11}, {\"birth_date\": \"2011-06\", \"person_id\": 7}, {\"birth_date\": \"2011-07\", \"person_id\": 10}, {\"birth_date\": \"2011-08\", \"person_id\": 19}, {\"birth_date\": \"2011-09\", \"person_id\": 10}, {\"birth_date\": \"2011-10\", \"person_id\": 8}, {\"birth_date\": \"2011-11\", \"person_id\": 4}, {\"birth_date\": \"2011-12\", \"person_id\": 9}, {\"birth_date\": \"2012-01\", \"person_id\": 15}, {\"birth_date\": \"2012-02\", \"person_id\": 10}, {\"birth_date\": \"2012-03\", \"person_id\": 2}, {\"birth_date\": \"2012-04\", \"person_id\": 4}, {\"birth_date\": \"2012-05\", \"person_id\": 8}, {\"birth_date\": \"2012-06\", \"person_id\": 9}, {\"birth_date\": \"2012-07\", \"person_id\": 11}, {\"birth_date\": \"2012-08\", \"person_id\": 6}, {\"birth_date\": \"2012-09\", \"person_id\": 6}, {\"birth_date\": \"2012-10\", \"person_id\": 10}, {\"birth_date\": \"2012-11\", \"person_id\": 11}, {\"birth_date\": \"2012-12\", \"person_id\": 6}, {\"birth_date\": \"2013-01\", \"person_id\": 14}, {\"birth_date\": \"2013-02\", \"person_id\": 8}, {\"birth_date\": \"2013-03\", \"person_id\": 9}, {\"birth_date\": \"2013-04\", \"person_id\": 9}, {\"birth_date\": \"2013-05\", \"person_id\": 8}, {\"birth_date\": \"2013-06\", \"person_id\": 9}, {\"birth_date\": \"2013-07\", \"person_id\": 12}, {\"birth_date\": \"2013-08\", \"person_id\": 10}, {\"birth_date\": \"2013-09\", \"person_id\": 6}, {\"birth_date\": \"2013-10\", \"person_id\": 10}, {\"birth_date\": \"2013-11\", \"person_id\": 11}, {\"birth_date\": \"2013-12\", \"person_id\": 8}, {\"birth_date\": \"2014-01\", \"person_id\": 5}, {\"birth_date\": \"2014-02\", \"person_id\": 6}, {\"birth_date\": \"2014-03\", \"person_id\": 10}, {\"birth_date\": \"2014-04\", \"person_id\": 10}, {\"birth_date\": \"2014-05\", \"person_id\": 8}, {\"birth_date\": \"2014-06\", \"person_id\": 12}, {\"birth_date\": \"2014-07\", \"person_id\": 6}, {\"birth_date\": \"2014-08\", \"person_id\": 13}, {\"birth_date\": \"2014-09\", \"person_id\": 9}, {\"birth_date\": \"2014-10\", \"person_id\": 8}, {\"birth_date\": \"2014-11\", \"person_id\": 6}, {\"birth_date\": \"2014-12\", \"person_id\": 13}, {\"birth_date\": \"2015-01\", \"person_id\": 12}, {\"birth_date\": \"2015-02\", \"person_id\": 14}, {\"birth_date\": \"2015-03\", \"person_id\": 10}, {\"birth_date\": \"2015-04\", \"person_id\": 7}, {\"birth_date\": \"2015-05\", \"person_id\": 6}, {\"birth_date\": \"2015-06\", \"person_id\": 10}, {\"birth_date\": \"2015-07\", \"person_id\": 5}, {\"birth_date\": \"2015-08\", \"person_id\": 16}, {\"birth_date\": \"2015-09\", \"person_id\": 9}, {\"birth_date\": \"2015-10\", \"person_id\": 16}, {\"birth_date\": \"2015-11\", \"person_id\": 11}, {\"birth_date\": \"2015-12\", \"person_id\": 11}, {\"birth_date\": \"2016-01\", \"person_id\": 12}, {\"birth_date\": \"2016-02\", \"person_id\": 13}, {\"birth_date\": \"2016-03\", \"person_id\": 9}, {\"birth_date\": \"2016-04\", \"person_id\": 6}, {\"birth_date\": \"2016-05\", \"person_id\": 9}, {\"birth_date\": \"2016-06\", \"person_id\": 5}, {\"birth_date\": \"2016-07\", \"person_id\": 11}, {\"birth_date\": \"2016-08\", \"person_id\": 7}, {\"birth_date\": \"2016-09\", \"person_id\": 13}, {\"birth_date\": \"2016-10\", \"person_id\": 9}, {\"birth_date\": \"2016-11\", \"person_id\": 4}, {\"birth_date\": \"2016-12\", \"person_id\": 9}, {\"birth_date\": \"2017-01\", \"person_id\": 11}, {\"birth_date\": \"2017-02\", \"person_id\": 7}, {\"birth_date\": \"2017-03\", \"person_id\": 7}, {\"birth_date\": \"2017-04\", \"person_id\": 6}, {\"birth_date\": \"2017-05\", \"person_id\": 9}, {\"birth_date\": \"2017-06\", \"person_id\": 5}, {\"birth_date\": \"2017-07\", \"person_id\": 5}, {\"birth_date\": \"2017-08\", \"person_id\": 8}, {\"birth_date\": \"2017-09\", \"person_id\": 12}, {\"birth_date\": \"2017-10\", \"person_id\": 8}, {\"birth_date\": \"2017-11\", \"person_id\": 11}, {\"birth_date\": \"2017-12\", \"person_id\": 8}, {\"birth_date\": \"2018-01\", \"person_id\": 7}, {\"birth_date\": \"2018-02\", \"person_id\": 10}, {\"birth_date\": \"2018-03\", \"person_id\": 3}, {\"birth_date\": \"2018-04\", \"person_id\": 13}, {\"birth_date\": \"2018-05\", \"person_id\": 10}, {\"birth_date\": \"2018-06\", \"person_id\": 19}, {\"birth_date\": \"2018-07\", \"person_id\": 10}, {\"birth_date\": \"2018-08\", \"person_id\": 8}, {\"birth_date\": \"2018-09\", \"person_id\": 10}, {\"birth_date\": \"2018-10\", \"person_id\": 9}, {\"birth_date\": \"2018-11\", \"person_id\": 7}, {\"birth_date\": \"2018-12\", \"person_id\": 5}, {\"birth_date\": \"2019-01\", \"person_id\": 9}, {\"birth_date\": \"2019-02\", \"person_id\": 5}, {\"birth_date\": \"2019-03\", \"person_id\": 5}, {\"birth_date\": \"2019-04\", \"person_id\": 17}, {\"birth_date\": \"2019-05\", \"person_id\": 10}, {\"birth_date\": \"2019-06\", \"person_id\": 4}, {\"birth_date\": \"2019-07\", \"person_id\": 6}, {\"birth_date\": \"2019-08\", \"person_id\": 15}, {\"birth_date\": \"2019-09\", \"person_id\": 7}, {\"birth_date\": \"2019-10\", \"person_id\": 8}, {\"birth_date\": \"2019-11\", \"person_id\": 6}, {\"birth_date\": \"2019-12\", \"person_id\": 9}, {\"birth_date\": \"2020-01\", \"person_id\": 5}, {\"birth_date\": \"2020-02\", \"person_id\": 5}, {\"birth_date\": \"2020-03\", \"person_id\": 6}, {\"birth_date\": \"2020-04\", \"person_id\": 4}, {\"birth_date\": \"2020-05\", \"person_id\": 14}, {\"birth_date\": \"2020-06\", \"person_id\": 10}, {\"birth_date\": \"2020-07\", \"person_id\": 7}, {\"birth_date\": \"2020-08\", \"person_id\": 9}, {\"birth_date\": \"2020-09\", \"person_id\": 10}, {\"birth_date\": \"2020-10\", \"person_id\": 6}, {\"birth_date\": \"2020-11\", \"person_id\": 9}, {\"birth_date\": \"2020-12\", \"person_id\": 6}, {\"birth_date\": \"2021-01\", \"person_id\": 5}, {\"birth_date\": \"2021-02\", \"person_id\": 8}, {\"birth_date\": \"2021-03\", \"person_id\": 9}, {\"birth_date\": \"2021-04\", \"person_id\": 8}, {\"birth_date\": \"2021-05\", \"person_id\": 4}, {\"birth_date\": \"2021-06\", \"person_id\": 7}, {\"birth_date\": \"2021-07\", \"person_id\": 7}, {\"birth_date\": \"2021-08\", \"person_id\": 8}, {\"birth_date\": \"2021-09\", \"person_id\": 2}, {\"birth_date\": \"2021-10\", \"person_id\": 6}, {\"birth_date\": \"2021-11\", \"person_id\": 4}, {\"birth_date\": \"2021-12\", \"person_id\": 7}, {\"birth_date\": \"2022-01\", \"person_id\": 10}, {\"birth_date\": \"2022-02\", \"person_id\": 3}, {\"birth_date\": \"2022-03\", \"person_id\": 4}, {\"birth_date\": \"2022-04\", \"person_id\": 3}, {\"birth_date\": \"2022-05\", \"person_id\": 8}, {\"birth_date\": \"2022-06\", \"person_id\": 5}, {\"birth_date\": \"2022-07\", \"person_id\": 9}, {\"birth_date\": \"2022-08\", \"person_id\": 7}, {\"birth_date\": \"2022-09\", \"person_id\": 5}, {\"birth_date\": \"2022-10\", \"person_id\": 5}, {\"birth_date\": \"2022-11\", \"person_id\": 4}, {\"birth_date\": \"2022-12\", \"person_id\": 5}, {\"birth_date\": \"2023-01\", \"person_id\": 4}, {\"birth_date\": \"2023-03\", \"person_id\": 6}, {\"birth_date\": \"2023-04\", \"person_id\": 2}, {\"birth_date\": \"2023-05\", \"person_id\": 3}, {\"birth_date\": \"2023-06\", \"person_id\": 1}, {\"birth_date\": \"2023-07\", \"person_id\": 2}, {\"birth_date\": \"2023-08\", \"person_id\": 12}, {\"birth_date\": \"2023-09\", \"person_id\": 1}, {\"birth_date\": \"2023-10\", \"person_id\": 1}, {\"birth_date\": \"2023-11\", \"person_id\": 2}, {\"birth_date\": \"2023-12\", \"person_id\": 1}, {\"birth_date\": \"2024-01\", \"person_id\": 3}, {\"birth_date\": \"2024-02\", \"person_id\": 1}, {\"birth_date\": \"2024-03\", \"person_id\": 4}, {\"birth_date\": \"2024-04\", \"person_id\": 3}, {\"birth_date\": \"2024-05\", \"person_id\": 1}, {\"birth_date\": \"2024-06\", \"person_id\": 1}, {\"birth_date\": \"2024-07\", \"person_id\": 7}, {\"birth_date\": \"2024-08\", \"person_id\": 3}, {\"birth_date\": \"2024-09\", \"person_id\": 1}, {\"birth_date\": \"2024-10\", \"person_id\": 1}, {\"birth_date\": \"2024-12\", \"person_id\": 1}, {\"birth_date\": \"2025-01\", \"person_id\": 2}, {\"birth_date\": \"2025-04\", \"person_id\": 1}]}}, {\"mode\": \"vega-lite\"});\n",
       "</script>"
      ],
      "text/plain": [
       "alt.Chart(...)"
      ]
     },
     "execution_count": 6,
     "metadata": {},
     "output_type": "execute_result"
    }
   ],
   "source": [
    "#traçage de la distribution\n",
    "df_person['birth_date'] = df_person['birth_datetime'].dt.strftime('%Y-%m')\n",
    "birth_dates_summary = df_person.groupby(\"birth_date\", as_index=False).person_id.count()\n",
    "alt.Chart(birth_dates_summary).mark_bar(size=1).encode(\n",
    "    alt.X('birth_date:T', scale=alt.Scale(padding=5)),\n",
    "    y='person_id:Q'\n",
    ")"
   ]
  },
  {
   "attachments": {},
   "cell_type": "markdown",
   "metadata": {},
   "source": [
    "This distribution looks normal !"
   ]
  },
  {
   "attachments": {},
   "cell_type": "markdown",
   "metadata": {},
   "source": [
    "### 2.1.2 Death dates"
   ]
  },
  {
   "cell_type": "code",
   "execution_count": 7,
   "metadata": {},
   "outputs": [
    {
     "data": {
      "text/html": [
       "\n",
       "<style>\n",
       "  #altair-viz-fe6e935ec039441ba0110cf6a123b23c.vega-embed {\n",
       "    width: 100%;\n",
       "    display: flex;\n",
       "  }\n",
       "\n",
       "  #altair-viz-fe6e935ec039441ba0110cf6a123b23c.vega-embed details,\n",
       "  #altair-viz-fe6e935ec039441ba0110cf6a123b23c.vega-embed details summary {\n",
       "    position: relative;\n",
       "  }\n",
       "</style>\n",
       "<div id=\"altair-viz-fe6e935ec039441ba0110cf6a123b23c\"></div>\n",
       "<script type=\"text/javascript\">\n",
       "  var VEGA_DEBUG = (typeof VEGA_DEBUG == \"undefined\") ? {} : VEGA_DEBUG;\n",
       "  (function(spec, embedOpt){\n",
       "    let outputDiv = document.currentScript.previousElementSibling;\n",
       "    if (outputDiv.id !== \"altair-viz-fe6e935ec039441ba0110cf6a123b23c\") {\n",
       "      outputDiv = document.getElementById(\"altair-viz-fe6e935ec039441ba0110cf6a123b23c\");\n",
       "    }\n",
       "    const paths = {\n",
       "      \"vega\": \"https://cdn.jsdelivr.net/npm/vega@5?noext\",\n",
       "      \"vega-lib\": \"https://cdn.jsdelivr.net/npm/vega-lib?noext\",\n",
       "      \"vega-lite\": \"https://cdn.jsdelivr.net/npm/vega-lite@5.8.0?noext\",\n",
       "      \"vega-embed\": \"https://cdn.jsdelivr.net/npm/vega-embed@6?noext\",\n",
       "    };\n",
       "\n",
       "    function maybeLoadScript(lib, version) {\n",
       "      var key = `${lib.replace(\"-\", \"\")}_version`;\n",
       "      return (VEGA_DEBUG[key] == version) ?\n",
       "        Promise.resolve(paths[lib]) :\n",
       "        new Promise(function(resolve, reject) {\n",
       "          var s = document.createElement('script');\n",
       "          document.getElementsByTagName(\"head\")[0].appendChild(s);\n",
       "          s.async = true;\n",
       "          s.onload = () => {\n",
       "            VEGA_DEBUG[key] = version;\n",
       "            return resolve(paths[lib]);\n",
       "          };\n",
       "          s.onerror = () => reject(`Error loading script: ${paths[lib]}`);\n",
       "          s.src = paths[lib];\n",
       "        });\n",
       "    }\n",
       "\n",
       "    function showError(err) {\n",
       "      outputDiv.innerHTML = `<div class=\"error\" style=\"color:red;\">${err}</div>`;\n",
       "      throw err;\n",
       "    }\n",
       "\n",
       "    function displayChart(vegaEmbed) {\n",
       "      vegaEmbed(outputDiv, spec, embedOpt)\n",
       "        .catch(err => showError(`Javascript Error: ${err.message}<br>This usually means there's a typo in your chart specification. See the javascript console for the full traceback.`));\n",
       "    }\n",
       "\n",
       "    if(typeof define === \"function\" && define.amd) {\n",
       "      requirejs.config({paths});\n",
       "      require([\"vega-embed\"], displayChart, err => showError(`Error loading script: ${err.message}`));\n",
       "    } else {\n",
       "      maybeLoadScript(\"vega\", \"5\")\n",
       "        .then(() => maybeLoadScript(\"vega-lite\", \"5.8.0\"))\n",
       "        .then(() => maybeLoadScript(\"vega-embed\", \"6\"))\n",
       "        .catch(showError)\n",
       "        .then(() => displayChart(vegaEmbed));\n",
       "    }\n",
       "  })({\"config\": {\"view\": {\"continuousWidth\": 300, \"continuousHeight\": 300}}, \"data\": {\"name\": \"data-20768f34a07c673342680e120d6176ee\"}, \"mark\": {\"type\": \"bar\"}, \"encoding\": {\"x\": {\"field\": \"death_date\", \"type\": \"temporal\"}, \"y\": {\"field\": \"person_id\", \"type\": \"quantitative\"}}, \"$schema\": \"https://vega.github.io/schema/vega-lite/v5.8.0.json\", \"datasets\": {\"data-20768f34a07c673342680e120d6176ee\": [{\"death_date\": \"2019-12\", \"person_id\": 121}, {\"death_date\": \"2020-01\", \"person_id\": 112}, {\"death_date\": \"2020-02\", \"person_id\": 123}, {\"death_date\": \"2020-03\", \"person_id\": 105}, {\"death_date\": \"2020-04\", \"person_id\": 112}, {\"death_date\": \"2020-05\", \"person_id\": 131}, {\"death_date\": \"2020-06\", \"person_id\": 161}, {\"death_date\": \"2020-07\", \"person_id\": 130}, {\"death_date\": \"2020-08\", \"person_id\": 115}, {\"death_date\": \"2020-09\", \"person_id\": 107}, {\"death_date\": \"2020-10\", \"person_id\": 113}, {\"death_date\": \"2020-11\", \"person_id\": 122}, {\"death_date\": \"2020-12\", \"person_id\": 117}, {\"death_date\": \"2021-01\", \"person_id\": 124}, {\"death_date\": \"2021-02\", \"person_id\": 116}, {\"death_date\": \"2021-03\", \"person_id\": 130}, {\"death_date\": \"2021-04\", \"person_id\": 117}, {\"death_date\": \"2021-05\", \"person_id\": 119}, {\"death_date\": \"2021-06\", \"person_id\": 118}, {\"death_date\": \"2021-07\", \"person_id\": 141}, {\"death_date\": \"2021-08\", \"person_id\": 117}, {\"death_date\": \"2021-09\", \"person_id\": 111}, {\"death_date\": \"2021-10\", \"person_id\": 116}, {\"death_date\": \"2021-11\", \"person_id\": 124}, {\"death_date\": \"2021-12\", \"person_id\": 131}, {\"death_date\": \"2022-01\", \"person_id\": 134}, {\"death_date\": \"2022-02\", \"person_id\": 108}, {\"death_date\": \"2022-03\", \"person_id\": 163}, {\"death_date\": \"2022-04\", \"person_id\": 113}, {\"death_date\": \"2022-05\", \"person_id\": 117}, {\"death_date\": \"2022-06\", \"person_id\": 108}, {\"death_date\": \"2022-07\", \"person_id\": 129}, {\"death_date\": \"2022-08\", \"person_id\": 125}, {\"death_date\": \"2022-09\", \"person_id\": 113}, {\"death_date\": \"2022-10\", \"person_id\": 130}, {\"death_date\": \"2022-11\", \"person_id\": 125}, {\"death_date\": \"2022-12\", \"person_id\": 123}, {\"death_date\": \"2023-01\", \"person_id\": 105}, {\"death_date\": \"2023-02\", \"person_id\": 92}, {\"death_date\": \"2023-03\", \"person_id\": 113}, {\"death_date\": \"2023-04\", \"person_id\": 103}, {\"death_date\": \"2023-05\", \"person_id\": 148}, {\"death_date\": \"2023-06\", \"person_id\": 132}, {\"death_date\": \"2023-07\", \"person_id\": 157}, {\"death_date\": \"2023-08\", \"person_id\": 138}, {\"death_date\": \"2023-09\", \"person_id\": 132}, {\"death_date\": \"2023-10\", \"person_id\": 134}, {\"death_date\": \"2023-11\", \"person_id\": 121}, {\"death_date\": \"2023-12\", \"person_id\": 115}, {\"death_date\": \"2024-01\", \"person_id\": 149}, {\"death_date\": \"2024-02\", \"person_id\": 114}, {\"death_date\": \"2024-03\", \"person_id\": 135}, {\"death_date\": \"2024-04\", \"person_id\": 105}, {\"death_date\": \"2024-05\", \"person_id\": 126}, {\"death_date\": \"2024-06\", \"person_id\": 121}, {\"death_date\": \"2024-07\", \"person_id\": 130}, {\"death_date\": \"2024-08\", \"person_id\": 131}, {\"death_date\": \"2024-09\", \"person_id\": 120}, {\"death_date\": \"2024-10\", \"person_id\": 119}, {\"death_date\": \"2024-11\", \"person_id\": 116}, {\"death_date\": \"2024-12\", \"person_id\": 130}, {\"death_date\": \"2025-01\", \"person_id\": 123}, {\"death_date\": \"2025-02\", \"person_id\": 117}, {\"death_date\": \"2025-03\", \"person_id\": 124}, {\"death_date\": \"2025-04\", \"person_id\": 134}, {\"death_date\": \"2025-05\", \"person_id\": 115}, {\"death_date\": \"2025-06\", \"person_id\": 126}, {\"death_date\": \"2025-07\", \"person_id\": 119}, {\"death_date\": \"2025-08\", \"person_id\": 111}, {\"death_date\": \"2025-09\", \"person_id\": 115}, {\"death_date\": \"2025-10\", \"person_id\": 126}, {\"death_date\": \"2025-11\", \"person_id\": 119}, {\"death_date\": \"2025-12\", \"person_id\": 12}]}}, {\"mode\": \"vega-lite\"});\n",
       "</script>"
      ],
      "text/plain": [
       "alt.Chart(...)"
      ]
     },
     "execution_count": 7,
     "metadata": {},
     "output_type": "execute_result"
    }
   ],
   "source": [
    "#Traçage de la distribution\n",
    "df_person['death_date'] = df_person['death_datetime'].dt.strftime('%Y-%m')\n",
    "death_dates_summary = df_person.groupby(\"death_date\", as_index=False).person_id.count()\n",
    "alt.Chart(death_dates_summary).mark_bar().encode(\n",
    "    x='death_date:T',\n",
    "    y='person_id:Q'\n",
    ")"
   ]
  },
  {
   "attachments": {},
   "cell_type": "markdown",
   "metadata": {},
   "source": [
    "We do not observe any spurious data, and assume consequently that the date of death may be used with some confidence."
   ]
  },
  {
   "attachments": {},
   "cell_type": "markdown",
   "metadata": {},
   "source": [
    "### 2.1.3 Gender correction"
   ]
  },
  {
   "cell_type": "code",
   "execution_count": 8,
   "metadata": {},
   "outputs": [
    {
     "name": "stdout",
     "output_type": "stream",
     "text": [
      "The available gender values are now the following : ['f' 'm']\n"
     ]
    }
   ],
   "source": [
    "df_person['gender_source_value'] = df_person['gender_source_value'].replace(['female', 'f'], 'f')\n",
    "df_person['gender_source_value'] = df_person['gender_source_value'].replace(['male', 'm'], 'm')\n",
    "print(f\"The available gender values are now the following : {df_person.gender_source_value.unique()}\")"
   ]
  },
  {
   "attachments": {},
   "cell_type": "markdown",
   "metadata": {},
   "source": [
    "<a id=\"prepro_visits\"></a>\n",
    "## 2.2 Pre-processing administrative data related to patients' pathways"
   ]
  },
  {
   "cell_type": "code",
   "execution_count": 9,
   "metadata": {},
   "outputs": [
    {
     "data": {
      "text/html": [
       "\n",
       "<style>\n",
       "  #altair-viz-ccdca4a5f5ed436c966b81db9af92c79.vega-embed {\n",
       "    width: 100%;\n",
       "    display: flex;\n",
       "  }\n",
       "\n",
       "  #altair-viz-ccdca4a5f5ed436c966b81db9af92c79.vega-embed details,\n",
       "  #altair-viz-ccdca4a5f5ed436c966b81db9af92c79.vega-embed details summary {\n",
       "    position: relative;\n",
       "  }\n",
       "</style>\n",
       "<div id=\"altair-viz-ccdca4a5f5ed436c966b81db9af92c79\"></div>\n",
       "<script type=\"text/javascript\">\n",
       "  var VEGA_DEBUG = (typeof VEGA_DEBUG == \"undefined\") ? {} : VEGA_DEBUG;\n",
       "  (function(spec, embedOpt){\n",
       "    let outputDiv = document.currentScript.previousElementSibling;\n",
       "    if (outputDiv.id !== \"altair-viz-ccdca4a5f5ed436c966b81db9af92c79\") {\n",
       "      outputDiv = document.getElementById(\"altair-viz-ccdca4a5f5ed436c966b81db9af92c79\");\n",
       "    }\n",
       "    const paths = {\n",
       "      \"vega\": \"https://cdn.jsdelivr.net/npm/vega@5?noext\",\n",
       "      \"vega-lib\": \"https://cdn.jsdelivr.net/npm/vega-lib?noext\",\n",
       "      \"vega-lite\": \"https://cdn.jsdelivr.net/npm/vega-lite@5.8.0?noext\",\n",
       "      \"vega-embed\": \"https://cdn.jsdelivr.net/npm/vega-embed@6?noext\",\n",
       "    };\n",
       "\n",
       "    function maybeLoadScript(lib, version) {\n",
       "      var key = `${lib.replace(\"-\", \"\")}_version`;\n",
       "      return (VEGA_DEBUG[key] == version) ?\n",
       "        Promise.resolve(paths[lib]) :\n",
       "        new Promise(function(resolve, reject) {\n",
       "          var s = document.createElement('script');\n",
       "          document.getElementsByTagName(\"head\")[0].appendChild(s);\n",
       "          s.async = true;\n",
       "          s.onload = () => {\n",
       "            VEGA_DEBUG[key] = version;\n",
       "            return resolve(paths[lib]);\n",
       "          };\n",
       "          s.onerror = () => reject(`Error loading script: ${paths[lib]}`);\n",
       "          s.src = paths[lib];\n",
       "        });\n",
       "    }\n",
       "\n",
       "    function showError(err) {\n",
       "      outputDiv.innerHTML = `<div class=\"error\" style=\"color:red;\">${err}</div>`;\n",
       "      throw err;\n",
       "    }\n",
       "\n",
       "    function displayChart(vegaEmbed) {\n",
       "      vegaEmbed(outputDiv, spec, embedOpt)\n",
       "        .catch(err => showError(`Javascript Error: ${err.message}<br>This usually means there's a typo in your chart specification. See the javascript console for the full traceback.`));\n",
       "    }\n",
       "\n",
       "    if(typeof define === \"function\" && define.amd) {\n",
       "      requirejs.config({paths});\n",
       "      require([\"vega-embed\"], displayChart, err => showError(`Error loading script: ${err.message}`));\n",
       "    } else {\n",
       "      maybeLoadScript(\"vega\", \"5\")\n",
       "        .then(() => maybeLoadScript(\"vega-lite\", \"5.8.0\"))\n",
       "        .then(() => maybeLoadScript(\"vega-embed\", \"6\"))\n",
       "        .catch(showError)\n",
       "        .then(() => displayChart(vegaEmbed));\n",
       "    }\n",
       "  })({\"config\": {\"view\": {\"continuousWidth\": 300, \"continuousHeight\": 300}}, \"data\": {\"name\": \"data-3c36ca9f27ad4a2ade7b8595d872d16f\"}, \"mark\": {\"type\": \"bar\"}, \"encoding\": {\"x\": {\"field\": \"visit_start_date\", \"scale\": {\"padding\": 5}, \"type\": \"temporal\"}, \"y\": {\"field\": \"person_id\", \"type\": \"quantitative\"}}, \"$schema\": \"https://vega.github.io/schema/vega-lite/v5.8.0.json\", \"datasets\": {\"data-3c36ca9f27ad4a2ade7b8595d872d16f\": [{\"visit_start_date\": \"2019-12\", \"person_id\": 251}, {\"visit_start_date\": \"2020-01\", \"person_id\": 256}, {\"visit_start_date\": \"2020-02\", \"person_id\": 208}, {\"visit_start_date\": \"2020-03\", \"person_id\": 210}, {\"visit_start_date\": \"2020-04\", \"person_id\": 212}, {\"visit_start_date\": \"2020-05\", \"person_id\": 239}, {\"visit_start_date\": \"2020-06\", \"person_id\": 242}, {\"visit_start_date\": \"2020-07\", \"person_id\": 223}, {\"visit_start_date\": \"2020-08\", \"person_id\": 232}, {\"visit_start_date\": \"2020-09\", \"person_id\": 201}, {\"visit_start_date\": \"2020-10\", \"person_id\": 215}, {\"visit_start_date\": \"2020-11\", \"person_id\": 205}, {\"visit_start_date\": \"2020-12\", \"person_id\": 220}, {\"visit_start_date\": \"2021-01\", \"person_id\": 231}, {\"visit_start_date\": \"2021-02\", \"person_id\": 203}, {\"visit_start_date\": \"2021-03\", \"person_id\": 231}, {\"visit_start_date\": \"2021-04\", \"person_id\": 218}, {\"visit_start_date\": \"2021-05\", \"person_id\": 221}, {\"visit_start_date\": \"2021-06\", \"person_id\": 214}, {\"visit_start_date\": \"2021-07\", \"person_id\": 247}, {\"visit_start_date\": \"2021-08\", \"person_id\": 223}, {\"visit_start_date\": \"2021-09\", \"person_id\": 193}, {\"visit_start_date\": \"2021-10\", \"person_id\": 209}, {\"visit_start_date\": \"2021-11\", \"person_id\": 222}, {\"visit_start_date\": \"2021-12\", \"person_id\": 223}, {\"visit_start_date\": \"2022-01\", \"person_id\": 259}, {\"visit_start_date\": \"2022-02\", \"person_id\": 230}, {\"visit_start_date\": \"2022-03\", \"person_id\": 263}, {\"visit_start_date\": \"2022-04\", \"person_id\": 203}, {\"visit_start_date\": \"2022-05\", \"person_id\": 208}, {\"visit_start_date\": \"2022-06\", \"person_id\": 220}, {\"visit_start_date\": \"2022-07\", \"person_id\": 246}, {\"visit_start_date\": \"2022-08\", \"person_id\": 223}, {\"visit_start_date\": \"2022-09\", \"person_id\": 229}, {\"visit_start_date\": \"2022-10\", \"person_id\": 233}, {\"visit_start_date\": \"2022-11\", \"person_id\": 216}, {\"visit_start_date\": \"2022-12\", \"person_id\": 227}, {\"visit_start_date\": \"2023-01\", \"person_id\": 236}, {\"visit_start_date\": \"2023-02\", \"person_id\": 218}, {\"visit_start_date\": \"2023-03\", \"person_id\": 237}, {\"visit_start_date\": \"2023-04\", \"person_id\": 221}, {\"visit_start_date\": \"2023-05\", \"person_id\": 252}, {\"visit_start_date\": \"2023-06\", \"person_id\": 219}, {\"visit_start_date\": \"2023-07\", \"person_id\": 267}, {\"visit_start_date\": \"2023-08\", \"person_id\": 213}, {\"visit_start_date\": \"2023-09\", \"person_id\": 235}, {\"visit_start_date\": \"2023-10\", \"person_id\": 233}, {\"visit_start_date\": \"2023-11\", \"person_id\": 221}, {\"visit_start_date\": \"2023-12\", \"person_id\": 222}, {\"visit_start_date\": \"2024-01\", \"person_id\": 261}, {\"visit_start_date\": \"2024-02\", \"person_id\": 211}, {\"visit_start_date\": \"2024-03\", \"person_id\": 227}, {\"visit_start_date\": \"2024-04\", \"person_id\": 181}, {\"visit_start_date\": \"2024-05\", \"person_id\": 230}, {\"visit_start_date\": \"2024-06\", \"person_id\": 208}, {\"visit_start_date\": \"2024-07\", \"person_id\": 240}, {\"visit_start_date\": \"2024-08\", \"person_id\": 246}, {\"visit_start_date\": \"2024-09\", \"person_id\": 203}, {\"visit_start_date\": \"2024-10\", \"person_id\": 241}, {\"visit_start_date\": \"2024-11\", \"person_id\": 214}, {\"visit_start_date\": \"2024-12\", \"person_id\": 223}, {\"visit_start_date\": \"2025-01\", \"person_id\": 217}, {\"visit_start_date\": \"2025-02\", \"person_id\": 211}, {\"visit_start_date\": \"2025-03\", \"person_id\": 221}, {\"visit_start_date\": \"2025-04\", \"person_id\": 226}, {\"visit_start_date\": \"2025-05\", \"person_id\": 224}, {\"visit_start_date\": \"2025-06\", \"person_id\": 221}, {\"visit_start_date\": \"2025-07\", \"person_id\": 225}, {\"visit_start_date\": \"2025-08\", \"person_id\": 202}, {\"visit_start_date\": \"2025-09\", \"person_id\": 237}, {\"visit_start_date\": \"2025-10\", \"person_id\": 218}, {\"visit_start_date\": \"2025-11\", \"person_id\": 201}]}}, {\"mode\": \"vega-lite\"});\n",
       "</script>"
      ],
      "text/plain": [
       "alt.Chart(...)"
      ]
     },
     "execution_count": 9,
     "metadata": {},
     "output_type": "execute_result"
    }
   ],
   "source": [
    "df_visit['visit_start_date'] = df_visit['visit_start_datetime'].dt.strftime('%Y-%m')\n",
    "visit_start_dates_summary = df_visit.groupby(\"visit_start_date\", as_index=False).person_id.count()\n",
    "alt.Chart(visit_start_dates_summary).mark_bar().encode(\n",
    "    alt.X('visit_start_date:T', scale=alt.Scale(padding=5)),\n",
    "    y='person_id:Q'\n",
    ")"
   ]
  },
  {
   "attachments": {},
   "cell_type": "markdown",
   "metadata": {},
   "source": [
    "There is no problem with this distribution"
   ]
  },
  {
   "attachments": {},
   "cell_type": "markdown",
   "metadata": {},
   "source": [
    "<a id=\"prepro_cond\"></a>\n",
    "## 2.3 Population caracteristics"
   ]
  },
  {
   "attachments": {},
   "cell_type": "markdown",
   "metadata": {},
   "source": [
    "### 2.3.1 Gender distribution"
   ]
  },
  {
   "cell_type": "code",
   "execution_count": 10,
   "metadata": {},
   "outputs": [
    {
     "data": {
      "image/png": "[encoded data removed]",
      "text/plain": [
       "<Figure size 300x300 with 1 Axes>"
      ]
     },
     "metadata": {},
     "output_type": "display_data"
    }
   ],
   "source": [
    "# Count the occurrences of each gender value\n",
    "gender_counts = df_person['gender_source_value'].value_counts()\n",
    "\n",
    "# Create a pie chart\n",
    "plt.figure(figsize=(3, 3))  # Set the figure size\n",
    "colors = ['#008fd5', '#fc4f30']  # Set colors for male and femme\n",
    "plt.pie(gender_counts, labels=gender_counts.index, autopct='%1.1f%%', colors=colors)\n",
    "\n",
    "# Add a title\n",
    "plt.title('Gender Distribution')\n",
    "\n",
    "# Display the chart\n",
    "plt.show()"
   ]
  },
  {
   "attachments": {},
   "cell_type": "markdown",
   "metadata": {},
   "source": [
    "### 2.3.2 Age distribution"
   ]
  },
  {
   "cell_type": "code",
   "execution_count": 11,
   "metadata": {},
   "outputs": [
    {
     "data": {
      "text/html": [
       "\n",
       "<style>\n",
       "  #altair-viz-81c52915029b47ddb5bd6824dcec70c7.vega-embed {\n",
       "    width: 100%;\n",
       "    display: flex;\n",
       "  }\n",
       "\n",
       "  #altair-viz-81c52915029b47ddb5bd6824dcec70c7.vega-embed details,\n",
       "  #altair-viz-81c52915029b47ddb5bd6824dcec70c7.vega-embed details summary {\n",
       "    position: relative;\n",
       "  }\n",
       "</style>\n",
       "<div id=\"altair-viz-81c52915029b47ddb5bd6824dcec70c7\"></div>\n",
       "<script type=\"text/javascript\">\n",
       "  var VEGA_DEBUG = (typeof VEGA_DEBUG == \"undefined\") ? {} : VEGA_DEBUG;\n",
       "  (function(spec, embedOpt){\n",
       "    let outputDiv = document.currentScript.previousElementSibling;\n",
       "    if (outputDiv.id !== \"altair-viz-81c52915029b47ddb5bd6824dcec70c7\") {\n",
       "      outputDiv = document.getElementById(\"altair-viz-81c52915029b47ddb5bd6824dcec70c7\");\n",
       "    }\n",
       "    const paths = {\n",
       "      \"vega\": \"https://cdn.jsdelivr.net/npm/vega@5?noext\",\n",
       "      \"vega-lib\": \"https://cdn.jsdelivr.net/npm/vega-lib?noext\",\n",
       "      \"vega-lite\": \"https://cdn.jsdelivr.net/npm/vega-lite@5.8.0?noext\",\n",
       "      \"vega-embed\": \"https://cdn.jsdelivr.net/npm/vega-embed@6?noext\",\n",
       "    };\n",
       "\n",
       "    function maybeLoadScript(lib, version) {\n",
       "      var key = `${lib.replace(\"-\", \"\")}_version`;\n",
       "      return (VEGA_DEBUG[key] == version) ?\n",
       "        Promise.resolve(paths[lib]) :\n",
       "        new Promise(function(resolve, reject) {\n",
       "          var s = document.createElement('script');\n",
       "          document.getElementsByTagName(\"head\")[0].appendChild(s);\n",
       "          s.async = true;\n",
       "          s.onload = () => {\n",
       "            VEGA_DEBUG[key] = version;\n",
       "            return resolve(paths[lib]);\n",
       "          };\n",
       "          s.onerror = () => reject(`Error loading script: ${paths[lib]}`);\n",
       "          s.src = paths[lib];\n",
       "        });\n",
       "    }\n",
       "\n",
       "    function showError(err) {\n",
       "      outputDiv.innerHTML = `<div class=\"error\" style=\"color:red;\">${err}</div>`;\n",
       "      throw err;\n",
       "    }\n",
       "\n",
       "    function displayChart(vegaEmbed) {\n",
       "      vegaEmbed(outputDiv, spec, embedOpt)\n",
       "        .catch(err => showError(`Javascript Error: ${err.message}<br>This usually means there's a typo in your chart specification. See the javascript console for the full traceback.`));\n",
       "    }\n",
       "\n",
       "    if(typeof define === \"function\" && define.amd) {\n",
       "      requirejs.config({paths});\n",
       "      require([\"vega-embed\"], displayChart, err => showError(`Error loading script: ${err.message}`));\n",
       "    } else {\n",
       "      maybeLoadScript(\"vega\", \"5\")\n",
       "        .then(() => maybeLoadScript(\"vega-lite\", \"5.8.0\"))\n",
       "        .then(() => maybeLoadScript(\"vega-embed\", \"6\"))\n",
       "        .catch(showError)\n",
       "        .then(() => displayChart(vegaEmbed));\n",
       "    }\n",
       "  })({\"config\": {\"view\": {\"continuousWidth\": 300, \"continuousHeight\": 300}}, \"data\": {\"name\": \"data-0db99e22174e6c0fa7c68320c0bde021\"}, \"mark\": {\"type\": \"bar\"}, \"encoding\": {\"x\": {\"field\": \"age\", \"type\": \"temporal\"}, \"y\": {\"field\": \"person_id\", \"type\": \"quantitative\"}}, \"$schema\": \"https://vega.github.io/schema/vega-lite/v5.8.0.json\", \"datasets\": {\"data-0db99e22174e6c0fa7c68320c0bde021\": [{\"age\": 0, \"person_id\": 101}, {\"age\": 1, \"person_id\": 122}, {\"age\": 2, \"person_id\": 83}, {\"age\": 3, \"person_id\": 102}, {\"age\": 4, \"person_id\": 121}, {\"age\": 5, \"person_id\": 101}, {\"age\": 6, \"person_id\": 101}, {\"age\": 7, \"person_id\": 112}, {\"age\": 8, \"person_id\": 109}, {\"age\": 9, \"person_id\": 110}, {\"age\": 10, \"person_id\": 93}, {\"age\": 11, \"person_id\": 107}, {\"age\": 12, \"person_id\": 105}, {\"age\": 13, \"person_id\": 124}, {\"age\": 14, \"person_id\": 125}, {\"age\": 15, \"person_id\": 123}, {\"age\": 16, \"person_id\": 104}, {\"age\": 17, \"person_id\": 108}, {\"age\": 18, \"person_id\": 99}, {\"age\": 19, \"person_id\": 86}, {\"age\": 20, \"person_id\": 95}, {\"age\": 21, \"person_id\": 101}, {\"age\": 22, \"person_id\": 104}, {\"age\": 23, \"person_id\": 105}, {\"age\": 24, \"person_id\": 113}, {\"age\": 25, \"person_id\": 107}, {\"age\": 26, \"person_id\": 108}, {\"age\": 27, \"person_id\": 103}, {\"age\": 28, \"person_id\": 125}, {\"age\": 29, \"person_id\": 120}, {\"age\": 30, \"person_id\": 109}, {\"age\": 31, \"person_id\": 138}, {\"age\": 32, \"person_id\": 108}, {\"age\": 33, \"person_id\": 102}, {\"age\": 34, \"person_id\": 104}, {\"age\": 35, \"person_id\": 101}, {\"age\": 36, \"person_id\": 119}, {\"age\": 37, \"person_id\": 76}, {\"age\": 38, \"person_id\": 101}, {\"age\": 39, \"person_id\": 115}, {\"age\": 40, \"person_id\": 102}, {\"age\": 41, \"person_id\": 93}, {\"age\": 42, \"person_id\": 107}, {\"age\": 43, \"person_id\": 105}, {\"age\": 44, \"person_id\": 102}, {\"age\": 45, \"person_id\": 117}, {\"age\": 46, \"person_id\": 110}, {\"age\": 47, \"person_id\": 118}, {\"age\": 48, \"person_id\": 114}, {\"age\": 49, \"person_id\": 122}, {\"age\": 50, \"person_id\": 268}, {\"age\": 51, \"person_id\": 275}, {\"age\": 52, \"person_id\": 273}, {\"age\": 53, \"person_id\": 261}, {\"age\": 54, \"person_id\": 269}, {\"age\": 55, \"person_id\": 290}, {\"age\": 56, \"person_id\": 261}, {\"age\": 57, \"person_id\": 276}, {\"age\": 58, \"person_id\": 274}, {\"age\": 59, \"person_id\": 249}, {\"age\": 60, \"person_id\": 175}, {\"age\": 61, \"person_id\": 149}, {\"age\": 62, \"person_id\": 155}, {\"age\": 63, \"person_id\": 164}, {\"age\": 64, \"person_id\": 151}, {\"age\": 65, \"person_id\": 186}, {\"age\": 66, \"person_id\": 162}, {\"age\": 67, \"person_id\": 156}, {\"age\": 68, \"person_id\": 159}, {\"age\": 69, \"person_id\": 139}, {\"age\": 70, \"person_id\": 203}, {\"age\": 71, \"person_id\": 220}, {\"age\": 72, \"person_id\": 211}, {\"age\": 73, \"person_id\": 235}, {\"age\": 74, \"person_id\": 247}, {\"age\": 75, \"person_id\": 194}, {\"age\": 76, \"person_id\": 214}, {\"age\": 77, \"person_id\": 208}, {\"age\": 78, \"person_id\": 231}, {\"age\": 79, \"person_id\": 214}, {\"age\": 80, \"person_id\": 209}, {\"age\": 81, \"person_id\": 224}, {\"age\": 82, \"person_id\": 223}, {\"age\": 83, \"person_id\": 218}, {\"age\": 84, \"person_id\": 211}, {\"age\": 85, \"person_id\": 189}, {\"age\": 86, \"person_id\": 209}, {\"age\": 87, \"person_id\": 218}, {\"age\": 88, \"person_id\": 210}, {\"age\": 89, \"person_id\": 194}, {\"age\": 90, \"person_id\": 223}, {\"age\": 91, \"person_id\": 221}, {\"age\": 92, \"person_id\": 210}, {\"age\": 93, \"person_id\": 234}, {\"age\": 94, \"person_id\": 203}, {\"age\": 95, \"person_id\": 234}, {\"age\": 96, \"person_id\": 227}, {\"age\": 97, \"person_id\": 241}, {\"age\": 98, \"person_id\": 202}, {\"age\": 99, \"person_id\": 194}, {\"age\": 100, \"person_id\": 25}]}}, {\"mode\": \"vega-lite\"});\n",
       "</script>"
      ],
      "text/plain": [
       "alt.Chart(...)"
      ]
     },
     "execution_count": 11,
     "metadata": {},
     "output_type": "execute_result"
    }
   ],
   "source": [
    "df_visit_age = df_visit.merge(df_person[['person_id','birth_datetime']], on='person_id', how='inner' )\n",
    "df_visit_age['age'] = (df_visit_age['visit_start_datetime'] - df_visit_age['birth_datetime'])\n",
    "df_visit_age['age'] = df_visit_age['age'].dt.days // 365\n",
    "\n",
    "visit_age_summary = df_visit_age.groupby(\"age\", as_index=False).person_id.count()\n",
    "\n",
    "alt.Chart(visit_age_summary).mark_bar().encode(\n",
    "    x='age:T',\n",
    "    y='person_id:Q'\n",
    ")"
   ]
  },
  {
   "attachments": {},
   "cell_type": "markdown",
   "metadata": {},
   "source": [
    "### 2.3.3 Cancer patients"
   ]
  },
  {
   "cell_type": "code",
   "execution_count": 12,
   "metadata": {},
   "outputs": [
    {
     "name": "stdout",
     "output_type": "stream",
     "text": [
      "le nombre de patients atteints de cancer est : 4327\n"
     ]
    }
   ],
   "source": [
    "df_cancer = df_condition[df_condition['condition_source_value'].isin(cancer_condition)]\n",
    "nbre_patients_cancer = df_cancer.person_id.nunique()\n",
    "print(f'le nombre de patients atteints de cancer est : {nbre_patients_cancer}')"
   ]
  },
  {
   "attachments": {},
   "cell_type": "markdown",
   "metadata": {},
   "source": [
    "# 3. Deduplication"
   ]
  },
  {
   "attachments": {},
   "cell_type": "markdown",
   "metadata": {},
   "source": [
    "We are going to use the probabilistic approach to do the deduplication\n"
   ]
  },
  {
   "attachments": {},
   "cell_type": "markdown",
   "metadata": {},
   "source": [
    "Plot the estimated density of the distribution of the probabilities"
   ]
  },
  {
   "cell_type": "code",
   "execution_count": 13,
   "metadata": {},
   "outputs": [
    {
     "data": {
      "text/plain": [
       "[]"
      ]
     },
     "execution_count": 13,
     "metadata": {},
     "output_type": "execute_result"
    },
    {
     "data": {
      "image/png": "[encoded data removed]",
      "text/plain": [
       "<Figure size 640x480 with 1 Axes>"
      ]
     },
     "metadata": {},
     "output_type": "display_data"
    }
   ],
   "source": [
    "df_dedup_proba['prob'].plot.density()\n",
    "plt.plot()"
   ]
  },
  {
   "attachments": {},
   "cell_type": "markdown",
   "metadata": {},
   "source": [
    "The algorithm matches correctly all the patients that were matched in the deterministic algorithm.\n",
    "The peak is the result of the patient for whom we are sure the match is correct."
   ]
  },
  {
   "attachments": {},
   "cell_type": "markdown",
   "metadata": {},
   "source": [
    "<a id=\"prepro_cond\"></a>\n",
    "## 3.1 Creating the function used to deduplicate the patients"
   ]
  },
  {
   "attachments": {},
   "cell_type": "markdown",
   "metadata": {},
   "source": [
    "Create a function `deduplicate_proba(df_person: pd.DataFrame, df_dedup_proba: pd.DataFrame, score: int)` that returns a dataset of deduplicated person ids if their similarity score was above `score`."
   ]
  },
  {
   "cell_type": "code",
   "execution_count": 14,
   "metadata": {},
   "outputs": [],
   "source": [
    "def deduplicate_proba(df_person: pd.DataFrame, df_dedup_proba: pd.DataFrame, score: int):\n",
    "    #Only keep rows with a probability above the value score\n",
    "    df_dedup_proba_score = df_dedup_proba[df_dedup_proba['prob'] > score]\n",
    "    # Outer Join\n",
    "    df_person_dedup_proba  = pd.merge(df_person, df_dedup_proba_score, on = 'person_id', how = 'outer')\n",
    "    # Only unique ids in unique_person_id\n",
    "    df_person_dedup_proba['unique_person_id'] = df_person_dedup_proba['unique_person_id'].fillna(df_person_dedup_proba['person_id'])\n",
    "    # Only keep one row per patient\n",
    "    df_person_dedup_proba = df_person_dedup_proba.drop_duplicates(['unique_person_id'], keep = 'first')\n",
    "    return df_person_dedup_proba\n"
   ]
  },
  {
   "attachments": {},
   "cell_type": "markdown",
   "metadata": {},
   "source": [
    "<a id=\"prepro_cond\"></a>\n",
    "## 3.2 Determine the appropriate Score used in the probabilistic algorithm "
   ]
  },
  {
   "cell_type": "code",
   "execution_count": 15,
   "metadata": {},
   "outputs": [
    {
     "data": {
      "image/png": "[encoded data removed]",
      "text/plain": [
       "<Figure size 640x480 with 1 Axes>"
      ]
     },
     "metadata": {},
     "output_type": "display_data"
    }
   ],
   "source": [
    "def nombre_id_uniques(p):\n",
    "    df_person_dedup_proba_p = deduplicate_proba(df_person, df_dedup_proba, score=p)\n",
    "    return df_person_dedup_proba_p.unique_person_id.nunique()\n",
    "x,y=[],[]\n",
    "for p in range (100):\n",
    "    x.append(p/100)\n",
    "    y.append(nombre_id_uniques(p/100))\n",
    "    \n",
    "plt.plot(x, y)\n",
    "plt.xlabel('score')\n",
    "plt.ylabel('nombre des ids uniques')\n",
    "plt.grid(True)\n",
    "plt.xticks(np.arange(0, 1, 0.1))  \n",
    "\n",
    "plt.show()"
   ]
  },
  {
   "attachments": {},
   "cell_type": "markdown",
   "metadata": {},
   "source": [
    "<a id=\"prepro_cond\"></a>\n",
    "## 3.3 Deduplicating the data "
   ]
  },
  {
   "cell_type": "code",
   "execution_count": 16,
   "metadata": {},
   "outputs": [
    {
     "name": "stdout",
     "output_type": "stream",
     "text": [
      "We have 15406 unique patient ids in this dataset when using the probabilistic algorithm and a threshold of 0.90.\n"
     ]
    }
   ],
   "source": [
    "df_person = deduplicate_proba(df_person, df_dedup_proba, score=0.90)\n",
    "print(f\"We have {df_person.unique_person_id.nunique()} unique patient ids in this dataset when using the probabilistic algorithm and a threshold of 0.90.\")"
   ]
  },
  {
   "cell_type": "code",
   "execution_count": 17,
   "metadata": {},
   "outputs": [],
   "source": [
    "df_condition = df_condition[df_condition.person_id.isin(df_person.person_id)]\n",
    "df_visit = df_visit[df_visit.person_id.isin(df_person.person_id)]\n",
    "df_note = df_note[df_note.visit_occurrence_id.isin(df_visit.visit_occurrence_id)]\n",
    "df_bio = df_bio[df_bio.visit_occurrence_id.isin(df_visit.visit_occurrence_id)]"
   ]
  },
  {
   "attachments": {},
   "cell_type": "markdown",
   "metadata": {},
   "source": [
    "<a id=\"prepro_cond\"></a>\n",
    "## 3.4 Statistical analysis "
   ]
  },
  {
   "cell_type": "code",
   "execution_count": 18,
   "metadata": {},
   "outputs": [
    {
     "name": "stdout",
     "output_type": "stream",
     "text": [
      "le nombre de patients atteints de cancer est : 4114\n"
     ]
    }
   ],
   "source": [
    "df_cancer_cond = df_condition[df_condition['condition_source_value'].isin(cancer_condition)]\n",
    "nbre_patients_cancer = df_cancer_cond.person_id.nunique()\n",
    "print(f'le nombre de patients atteints de cancer est : {nbre_patients_cancer}')"
   ]
  },
  {
   "cell_type": "code",
   "execution_count": 19,
   "metadata": {},
   "outputs": [],
   "source": [
    "#plotting histogram of risk factors for control and cancer population\n",
    "def hist_risk_factors(dict, df_cancer_hist, df_person_hist, df_condition_hist, nbre_patients_cancer_hist):\n",
    "    \n",
    "    mask = df_condition_hist.apply(tuple,1).isin(df_cancer_hist.apply(tuple,1))\n",
    "    df_no_cancer_hist = df_condition_hist.loc[~mask]\n",
    "    nbre_patients_no_cancer = df_no_cancer_hist.person_id.nunique()\n",
    "    \n",
    "    #calcul des pourcentages pour les patients atteints du cancer\n",
    "    id_patients_cancer=df_cancer_hist.person_id.unique()\n",
    "    df_person_cancer=df_person_hist[df_person_hist['person_id'].isin(id_patients_cancer)]\n",
    "    df_person_cond_cancer=df_condition_hist.merge(df_person_cancer, on='person_id', how='inner')\n",
    "    l1=[]\n",
    "    for factor in dict.keys():\n",
    "        df=df_person_cond_cancer[df_person_cond_cancer['condition_source_value'].isin(dict[factor])]\n",
    "        l1.append(df.person_id.nunique()/nbre_patients_cancer_hist*100)\n",
    "\n",
    "    data1 ={ 'Catégorie': list(dict.keys()),\n",
    "             'Pourcentage': l1}\n",
    "    \n",
    "    #calcul des pourcentages pour les patients non atteints du cancer\n",
    "    id_patients_no_cancer=df_no_cancer_hist.person_id.unique()\n",
    "    df_person_no_cancer=df_person_hist[df_person_hist['person_id'].isin(id_patients_no_cancer)]\n",
    "    df_person_cond_no_cancer=df_condition_hist.merge(df_person_no_cancer, on='person_id', how='inner')\n",
    "    l2=[]\n",
    "    for factor in dict.keys():\n",
    "        df=df_person_cond_no_cancer[df_person_cond_no_cancer['condition_source_value'].isin(dict[factor])]\n",
    "        l2.append(df.person_id.nunique()/nbre_patients_no_cancer*100)\n",
    "\n",
    "    data2 ={ 'Catégorie': list(dict.keys()),\n",
    "             'Pourcentage': l2}\n",
    "    \n",
    "    categories = data1['Catégorie']\n",
    "    pourcentages1 = data1['Pourcentage']\n",
    "    pourcentages2 = data2['Pourcentage']\n",
    "\n",
    "    X_axis = np.arange(len(categories))\n",
    "    plt.bar(X_axis - 0.2 , pourcentages1, 0.4, label='cancer')\n",
    "    plt.bar(X_axis + 0.2 , pourcentages2, 0.4, label='controle')\n",
    "    plt.xticks(X_axis, categories)\n",
    "    plt.xlabel('Catégorie')\n",
    "    plt.ylabel('Pourcentage')\n",
    "    plt.title('Histogramme des facteurs de risque')\n",
    "    plt.legend()\n",
    "    plt.show()"
   ]
  },
  {
   "cell_type": "code",
   "execution_count": 20,
   "metadata": {},
   "outputs": [
    {
     "data": {
      "image/png": "[encoded data removed]",
      "text/plain": [
       "<Figure size 640x480 with 1 Axes>"
      ]
     },
     "metadata": {},
     "output_type": "display_data"
    }
   ],
   "source": [
    "hist_risk_factors(risk_factors, df_cancer, df_person, df_condition, nbre_patients_cancer)"
   ]
  },
  {
   "attachments": {},
   "cell_type": "markdown",
   "metadata": {},
   "source": [
    "# 4. NLP-algorithm"
   ]
  },
  {
   "attachments": {},
   "cell_type": "markdown",
   "metadata": {},
   "source": [
    "<a id=\"prepro_cond\"></a>\n",
    "## 4.1 Defining the terms "
   ]
  },
  {
   "cell_type": "code",
   "execution_count": 21,
   "metadata": {},
   "outputs": [],
   "source": [
    "# Clinicians indicated that the following synonyms could be used\n",
    "\n",
    "terms = dict(\n",
    "   tabac=['tabac','fumeur','tabagisme','nicotine','cigarette','cigarettes','fume','fumer','fumait','tabagique','fumeuse','fumé'],\n",
    "   alcool=['alcool','alcoolisme','Alcoolodépendance','Alcoolodépendant','Alcoolisation','alcoolique'],\n",
    "   diabete=['Diabète','Hyperglycémie','Hypoglycémie','Diabétique','Polyurie','Polydipsie','Polyphagie','diabète','hyperglycémie','hypoglycémie','diabétique','polyurie','polydipsie','polyphagie'],\n",
    "   sub_psy=['Psychoactive','Psychotrope','Psychostimulant','Psychodysleptique','Psychodélirant','Narcotique','Sédatif','Hypnotique','Anxiolytique','Antidépresseur','Stimulant','Hallucinogène','Dépresseur','Opiacé','Cannabinoïde','Dissociatif','Inhalant','psychoactive','psychotrope','psychostimulant','psychodysleptique','psychodélirant','narcotique','sédatif','hypnotique','anxiolytique','antidépresseur','stimulant','hallucinogène','dépresseur','opiacé','cannabinoïde','dissociatif','inhalant'],\n",
    "   tum_herit=['antécédents familiaux de tumeur maligne du sein']\n",
    ")"
   ]
  },
  {
   "attachments": {},
   "cell_type": "markdown",
   "metadata": {},
   "source": [
    "<a id=\"prepro_cond\"></a>\n",
    "## 4.2 Defining the necessary functions"
   ]
  },
  {
   "cell_type": "code",
   "execution_count": 22,
   "metadata": {},
   "outputs": [],
   "source": [
    "def pick_results(doc):\n",
    "    \"\"\"\n",
    "    This function provides the entities that must be collected by the nlp process.\n",
    "    \"\"\"\n",
    "    return [{\n",
    "             'note_id':e.doc._.note_id,\n",
    "             'visit_occurrence_id':e.doc._.visit_occurrence_id,\n",
    "             'lexical_variant':e.text,\n",
    "             'label':e.label_,\n",
    "             'negation':e._.negation\n",
    "             } \n",
    "             for e in doc.ents if doc.ents]"
   ]
  },
  {
   "cell_type": "code",
   "execution_count": 23,
   "metadata": {},
   "outputs": [],
   "source": [
    "def calc_value(x):\n",
    "    state = {'tabac':'unknown', 'alcool':'unknown', 'diabete':'unknown', 'sub_psy':'unknown', 'tum_herit':'unknown', }\n",
    "    for _, row in x.iterrows():\n",
    "        for factor in state.keys():\n",
    "            if row['label'] == factor and row['negation']:\n",
    "                if state[factor] == \"unknown\" :\n",
    "                    state[factor] = \"False\"\n",
    "                elif state[factor] == \"True\" :\n",
    "                    state[factor] = \"ambiguous\"\n",
    "            if row['label'] == factor and not(row['negation']):\n",
    "                if state[factor] == \"unknown\" :\n",
    "                    state[factor] = \"True\"\n",
    "                elif state[factor] == \"False\" :\n",
    "                    state[factor] = \"ambiguous\"\n",
    "    return state"
   ]
  },
  {
   "attachments": {},
   "cell_type": "markdown",
   "metadata": {},
   "source": [
    "<a id=\"prepro_cond\"></a>\n",
    "## 4.3 Applying the NLP-algorithm"
   ]
  },
  {
   "cell_type": "code",
   "execution_count": 24,
   "metadata": {},
   "outputs": [
    {
     "data": {
      "text/plain": [
       "<edsnlp.pipelines.qualifiers.negation.negation.Negation at 0x1f4e4402648>"
      ]
     },
     "execution_count": 24,
     "metadata": {},
     "output_type": "execute_result"
    }
   ],
   "source": [
    "nlp = spacy.blank(\"fr\")\n",
    "# sentencizer component\n",
    "nlp.add_pipe('eds.sentences')\n",
    "nlp.add_pipe(\"eds.normalizer\")\n",
    "# Matcher component\n",
    "nlp.add_pipe(\"eds.matcher\", config=dict(terms=terms))\n",
    "nlp.add_pipe(\"eds.negation\")"
   ]
  },
  {
   "cell_type": "code",
   "execution_count": 25,
   "metadata": {},
   "outputs": [
    {
     "name": "stderr",
     "output_type": "stream",
     "text": [
      "WARNING:root:[Parallel(n_jobs=1)]: Used nlp components: ['eds.sentences', 'eds.normalizer', 'eds.matcher', 'eds.negation']\n"
     ]
    }
   ],
   "source": [
    "ents = parallel_pipe(\n",
    "                df_note,\n",
    "                nlp,\n",
    "                context=['note_id', 'visit_occurrence_id'],\n",
    "                progress_bar=False,\n",
    "                n_jobs=1, \n",
    "                results_extractor = pick_results,\n",
    "                )"
   ]
  },
  {
   "cell_type": "code",
   "execution_count": 26,
   "metadata": {},
   "outputs": [
    {
     "data": {
      "text/html": [
       "<div>\n",
       "<style scoped>\n",
       "    .dataframe tbody tr th:only-of-type {\n",
       "        vertical-align: middle;\n",
       "    }\n",
       "\n",
       "    .dataframe tbody tr th {\n",
       "        vertical-align: top;\n",
       "    }\n",
       "\n",
       "    .dataframe thead th {\n",
       "        text-align: right;\n",
       "    }\n",
       "</style>\n",
       "<table border=\"1\" class=\"dataframe\">\n",
       "  <thead>\n",
       "    <tr style=\"text-align: right;\">\n",
       "      <th></th>\n",
       "      <th>visit_occurrence_id</th>\n",
       "      <th>tabac</th>\n",
       "      <th>alcool</th>\n",
       "      <th>diabete</th>\n",
       "      <th>sub_psy</th>\n",
       "      <th>tum_herit</th>\n",
       "    </tr>\n",
       "  </thead>\n",
       "  <tbody>\n",
       "    <tr>\n",
       "      <th>0</th>\n",
       "      <td>80001324.0</td>\n",
       "      <td>True</td>\n",
       "      <td>False</td>\n",
       "      <td>False</td>\n",
       "      <td>False</td>\n",
       "      <td>False</td>\n",
       "    </tr>\n",
       "    <tr>\n",
       "      <th>1</th>\n",
       "      <td>80001693.0</td>\n",
       "      <td>True</td>\n",
       "      <td>False</td>\n",
       "      <td>False</td>\n",
       "      <td>False</td>\n",
       "      <td>False</td>\n",
       "    </tr>\n",
       "    <tr>\n",
       "      <th>2</th>\n",
       "      <td>80002464.0</td>\n",
       "      <td>False</td>\n",
       "      <td>False</td>\n",
       "      <td>False</td>\n",
       "      <td>False</td>\n",
       "      <td>False</td>\n",
       "    </tr>\n",
       "    <tr>\n",
       "      <th>3</th>\n",
       "      <td>80002814.0</td>\n",
       "      <td>False</td>\n",
       "      <td>False</td>\n",
       "      <td>False</td>\n",
       "      <td>False</td>\n",
       "      <td>False</td>\n",
       "    </tr>\n",
       "    <tr>\n",
       "      <th>4</th>\n",
       "      <td>80002980.0</td>\n",
       "      <td>True</td>\n",
       "      <td>False</td>\n",
       "      <td>False</td>\n",
       "      <td>False</td>\n",
       "      <td>False</td>\n",
       "    </tr>\n",
       "  </tbody>\n",
       "</table>\n",
       "</div>"
      ],
      "text/plain": [
       "   visit_occurrence_id  tabac  alcool  diabete  sub_psy  tum_herit\n",
       "0           80001324.0   True   False    False    False      False\n",
       "1           80001693.0   True   False    False    False      False\n",
       "2           80002464.0  False   False    False    False      False\n",
       "3           80002814.0  False   False    False    False      False\n",
       "4           80002980.0   True   False    False    False      False"
      ]
     },
     "execution_count": 26,
     "metadata": {},
     "output_type": "execute_result"
    }
   ],
   "source": [
    "ents_grouped = ents.groupby('visit_occurrence_id').apply(calc_value).to_frame('state').reset_index()    \n",
    "for factor in risk_factors :\n",
    "    ents_grouped[factor] = ents_grouped.state.apply(lambda x : x[factor]=='True')\n",
    "ents_grouped = ents_grouped.drop(columns=['state'])\n",
    "ents_grouped.head()"
   ]
  },
  {
   "attachments": {},
   "cell_type": "markdown",
   "metadata": {},
   "source": [
    "<a id=\"prepro_cond\"></a>\n",
    "## 4.4 Evaluating the performance of the nlp-algorithm"
   ]
  },
  {
   "attachments": {},
   "cell_type": "markdown",
   "metadata": {},
   "source": [
    "On a vérifié à la main les résultats fournis par notre algorithme de détection du tabagisme pour 50 patients afin de vérifier sa perfomrance"
   ]
  },
  {
   "attachments": {},
   "cell_type": "markdown",
   "metadata": {},
   "source": [
    "On a calculé les vrais positifs, vrais négatifs, faux positifs et faux négatifs"
   ]
  },
  {
   "cell_type": "code",
   "execution_count": 45,
   "metadata": {},
   "outputs": [
    {
     "name": "stdout",
     "output_type": "stream",
     "text": [
      "sensitivity =  0.67 \n",
      "specificity =  0.85\n"
     ]
    }
   ],
   "source": [
    "VP = 20\n",
    "VN = 17\n",
    "FP = 3\n",
    "FN = 10\n",
    "print('sensitivity = ', round(VP/(VP+FN),2), '\\nspecificity = ', round(VN/(VN+FP),2))  "
   ]
  },
  {
   "attachments": {},
   "cell_type": "markdown",
   "metadata": {},
   "source": [
    "# 5. Biostatical Analysis"
   ]
  },
  {
   "attachments": {},
   "cell_type": "markdown",
   "metadata": {},
   "source": [
    "<a id=\"prepro_cond\"></a>\n",
    "## 5.1 Merging the data from the NLP-algorithm and the df_condition"
   ]
  },
  {
   "cell_type": "code",
   "execution_count": 27,
   "metadata": {},
   "outputs": [],
   "source": [
    "code_to_risk_factor = {}\n",
    "for key,code_list in risk_factors.items() :\n",
    "    for code in code_list :\n",
    "        code_to_risk_factor[code] = key"
   ]
  },
  {
   "cell_type": "code",
   "execution_count": 28,
   "metadata": {},
   "outputs": [
    {
     "data": {
      "text/html": [
       "<div>\n",
       "<style scoped>\n",
       "    .dataframe tbody tr th:only-of-type {\n",
       "        vertical-align: middle;\n",
       "    }\n",
       "\n",
       "    .dataframe tbody tr th {\n",
       "        vertical-align: top;\n",
       "    }\n",
       "\n",
       "    .dataframe thead th {\n",
       "        text-align: right;\n",
       "    }\n",
       "</style>\n",
       "<table border=\"1\" class=\"dataframe\">\n",
       "  <thead>\n",
       "    <tr style=\"text-align: right;\">\n",
       "      <th>risk_factor</th>\n",
       "      <th>visit_occurrence_id</th>\n",
       "      <th>alcool</th>\n",
       "      <th>diabete</th>\n",
       "      <th>sub_psy</th>\n",
       "      <th>tabac</th>\n",
       "      <th>tum_herit</th>\n",
       "    </tr>\n",
       "  </thead>\n",
       "  <tbody>\n",
       "    <tr>\n",
       "      <th>0</th>\n",
       "      <td>80001693.0</td>\n",
       "      <td>True</td>\n",
       "      <td>False</td>\n",
       "      <td>False</td>\n",
       "      <td>False</td>\n",
       "      <td>False</td>\n",
       "    </tr>\n",
       "    <tr>\n",
       "      <th>1</th>\n",
       "      <td>80003678.0</td>\n",
       "      <td>False</td>\n",
       "      <td>False</td>\n",
       "      <td>True</td>\n",
       "      <td>False</td>\n",
       "      <td>False</td>\n",
       "    </tr>\n",
       "    <tr>\n",
       "      <th>2</th>\n",
       "      <td>80007123.0</td>\n",
       "      <td>True</td>\n",
       "      <td>False</td>\n",
       "      <td>False</td>\n",
       "      <td>False</td>\n",
       "      <td>False</td>\n",
       "    </tr>\n",
       "    <tr>\n",
       "      <th>3</th>\n",
       "      <td>80008076.0</td>\n",
       "      <td>True</td>\n",
       "      <td>False</td>\n",
       "      <td>False</td>\n",
       "      <td>False</td>\n",
       "      <td>True</td>\n",
       "    </tr>\n",
       "    <tr>\n",
       "      <th>4</th>\n",
       "      <td>80008149.0</td>\n",
       "      <td>True</td>\n",
       "      <td>True</td>\n",
       "      <td>False</td>\n",
       "      <td>False</td>\n",
       "      <td>True</td>\n",
       "    </tr>\n",
       "  </tbody>\n",
       "</table>\n",
       "</div>"
      ],
      "text/plain": [
       "risk_factor  visit_occurrence_id  alcool  diabete  sub_psy  tabac  tum_herit\n",
       "0                     80001693.0    True    False    False  False      False\n",
       "1                     80003678.0   False    False     True  False      False\n",
       "2                     80007123.0    True    False    False  False      False\n",
       "3                     80008076.0    True    False    False  False       True\n",
       "4                     80008149.0    True     True    False  False       True"
      ]
     },
     "execution_count": 28,
     "metadata": {},
     "output_type": "execute_result"
    }
   ],
   "source": [
    "#extracting the data about the risk factors from df_condition\n",
    "df_condition[\"risk_factor\"] = df_condition.condition_source_value.map(code_to_risk_factor)\n",
    "df_risk_factors = df_condition[df_condition.risk_factor.notna()].drop(columns=['condition_occurrence_id','condition_source_value'])\n",
    "df_risk_factors['value'] = True\n",
    "df_risk_factors = df_risk_factors.pivot(index='visit_occurrence_id', columns=['risk_factor'], values='value').reset_index()\n",
    "df_risk_factors = df_risk_factors.fillna(False)\n",
    "df_risk_factors.head()"
   ]
  },
  {
   "cell_type": "code",
   "execution_count": 29,
   "metadata": {},
   "outputs": [
    {
     "data": {
      "text/html": [
       "<div>\n",
       "<style scoped>\n",
       "    .dataframe tbody tr th:only-of-type {\n",
       "        vertical-align: middle;\n",
       "    }\n",
       "\n",
       "    .dataframe tbody tr th {\n",
       "        vertical-align: top;\n",
       "    }\n",
       "\n",
       "    .dataframe thead th {\n",
       "        text-align: right;\n",
       "    }\n",
       "</style>\n",
       "<table border=\"1\" class=\"dataframe\">\n",
       "  <thead>\n",
       "    <tr style=\"text-align: right;\">\n",
       "      <th></th>\n",
       "      <th>visit_occurrence_id</th>\n",
       "      <th>alcool_x</th>\n",
       "      <th>diabete_x</th>\n",
       "      <th>sub_psy_x</th>\n",
       "      <th>tabac_x</th>\n",
       "      <th>tum_herit_x</th>\n",
       "      <th>tabac_y</th>\n",
       "      <th>alcool_y</th>\n",
       "      <th>diabete_y</th>\n",
       "      <th>sub_psy_y</th>\n",
       "      <th>tum_herit_y</th>\n",
       "    </tr>\n",
       "  </thead>\n",
       "  <tbody>\n",
       "    <tr>\n",
       "      <th>0</th>\n",
       "      <td>80001693.0</td>\n",
       "      <td>True</td>\n",
       "      <td>False</td>\n",
       "      <td>False</td>\n",
       "      <td>False</td>\n",
       "      <td>False</td>\n",
       "      <td>True</td>\n",
       "      <td>False</td>\n",
       "      <td>False</td>\n",
       "      <td>False</td>\n",
       "      <td>False</td>\n",
       "    </tr>\n",
       "    <tr>\n",
       "      <th>1</th>\n",
       "      <td>80003678.0</td>\n",
       "      <td>False</td>\n",
       "      <td>False</td>\n",
       "      <td>True</td>\n",
       "      <td>False</td>\n",
       "      <td>False</td>\n",
       "      <td>True</td>\n",
       "      <td>False</td>\n",
       "      <td>False</td>\n",
       "      <td>False</td>\n",
       "      <td>False</td>\n",
       "    </tr>\n",
       "    <tr>\n",
       "      <th>2</th>\n",
       "      <td>80007123.0</td>\n",
       "      <td>True</td>\n",
       "      <td>False</td>\n",
       "      <td>False</td>\n",
       "      <td>False</td>\n",
       "      <td>False</td>\n",
       "      <td>False</td>\n",
       "      <td>False</td>\n",
       "      <td>False</td>\n",
       "      <td>False</td>\n",
       "      <td>False</td>\n",
       "    </tr>\n",
       "    <tr>\n",
       "      <th>3</th>\n",
       "      <td>80008076.0</td>\n",
       "      <td>True</td>\n",
       "      <td>False</td>\n",
       "      <td>False</td>\n",
       "      <td>False</td>\n",
       "      <td>True</td>\n",
       "      <td>False</td>\n",
       "      <td>False</td>\n",
       "      <td>False</td>\n",
       "      <td>False</td>\n",
       "      <td>False</td>\n",
       "    </tr>\n",
       "    <tr>\n",
       "      <th>4</th>\n",
       "      <td>80008149.0</td>\n",
       "      <td>True</td>\n",
       "      <td>True</td>\n",
       "      <td>False</td>\n",
       "      <td>False</td>\n",
       "      <td>True</td>\n",
       "      <td>True</td>\n",
       "      <td>False</td>\n",
       "      <td>False</td>\n",
       "      <td>False</td>\n",
       "      <td>False</td>\n",
       "    </tr>\n",
       "    <tr>\n",
       "      <th>...</th>\n",
       "      <td>...</td>\n",
       "      <td>...</td>\n",
       "      <td>...</td>\n",
       "      <td>...</td>\n",
       "      <td>...</td>\n",
       "      <td>...</td>\n",
       "      <td>...</td>\n",
       "      <td>...</td>\n",
       "      <td>...</td>\n",
       "      <td>...</td>\n",
       "      <td>...</td>\n",
       "    </tr>\n",
       "    <tr>\n",
       "      <th>15360</th>\n",
       "      <td>89998804.0</td>\n",
       "      <td>False</td>\n",
       "      <td>False</td>\n",
       "      <td>False</td>\n",
       "      <td>False</td>\n",
       "      <td>False</td>\n",
       "      <td>True</td>\n",
       "      <td>False</td>\n",
       "      <td>False</td>\n",
       "      <td>False</td>\n",
       "      <td>False</td>\n",
       "    </tr>\n",
       "    <tr>\n",
       "      <th>15361</th>\n",
       "      <td>89999192.0</td>\n",
       "      <td>False</td>\n",
       "      <td>False</td>\n",
       "      <td>False</td>\n",
       "      <td>False</td>\n",
       "      <td>False</td>\n",
       "      <td>False</td>\n",
       "      <td>False</td>\n",
       "      <td>False</td>\n",
       "      <td>False</td>\n",
       "      <td>False</td>\n",
       "    </tr>\n",
       "    <tr>\n",
       "      <th>15362</th>\n",
       "      <td>89999415.0</td>\n",
       "      <td>False</td>\n",
       "      <td>False</td>\n",
       "      <td>False</td>\n",
       "      <td>False</td>\n",
       "      <td>False</td>\n",
       "      <td>True</td>\n",
       "      <td>False</td>\n",
       "      <td>False</td>\n",
       "      <td>False</td>\n",
       "      <td>False</td>\n",
       "    </tr>\n",
       "    <tr>\n",
       "      <th>15363</th>\n",
       "      <td>89999467.0</td>\n",
       "      <td>False</td>\n",
       "      <td>False</td>\n",
       "      <td>False</td>\n",
       "      <td>False</td>\n",
       "      <td>False</td>\n",
       "      <td>True</td>\n",
       "      <td>True</td>\n",
       "      <td>False</td>\n",
       "      <td>False</td>\n",
       "      <td>False</td>\n",
       "    </tr>\n",
       "    <tr>\n",
       "      <th>15364</th>\n",
       "      <td>89999474.0</td>\n",
       "      <td>False</td>\n",
       "      <td>False</td>\n",
       "      <td>False</td>\n",
       "      <td>False</td>\n",
       "      <td>False</td>\n",
       "      <td>True</td>\n",
       "      <td>False</td>\n",
       "      <td>False</td>\n",
       "      <td>False</td>\n",
       "      <td>False</td>\n",
       "    </tr>\n",
       "  </tbody>\n",
       "</table>\n",
       "<p>15365 rows × 11 columns</p>\n",
       "</div>"
      ],
      "text/plain": [
       "       visit_occurrence_id  alcool_x  diabete_x  sub_psy_x  tabac_x  \\\n",
       "0               80001693.0      True      False      False    False   \n",
       "1               80003678.0     False      False       True    False   \n",
       "2               80007123.0      True      False      False    False   \n",
       "3               80008076.0      True      False      False    False   \n",
       "4               80008149.0      True       True      False    False   \n",
       "...                    ...       ...        ...        ...      ...   \n",
       "15360           89998804.0     False      False      False    False   \n",
       "15361           89999192.0     False      False      False    False   \n",
       "15362           89999415.0     False      False      False    False   \n",
       "15363           89999467.0     False      False      False    False   \n",
       "15364           89999474.0     False      False      False    False   \n",
       "\n",
       "       tum_herit_x  tabac_y  alcool_y  diabete_y  sub_psy_y  tum_herit_y  \n",
       "0            False     True     False      False      False        False  \n",
       "1            False     True     False      False      False        False  \n",
       "2            False    False     False      False      False        False  \n",
       "3             True    False     False      False      False        False  \n",
       "4             True     True     False      False      False        False  \n",
       "...            ...      ...       ...        ...        ...          ...  \n",
       "15360        False     True     False      False      False        False  \n",
       "15361        False    False     False      False      False        False  \n",
       "15362        False     True     False      False      False        False  \n",
       "15363        False     True      True      False      False        False  \n",
       "15364        False     True     False      False      False        False  \n",
       "\n",
       "[15365 rows x 11 columns]"
      ]
     },
     "execution_count": 29,
     "metadata": {},
     "output_type": "execute_result"
    }
   ],
   "source": [
    "#merging the two dataframes(from the df_condition and the nlp-algorithm)\n",
    "df_risk_factors = df_risk_factors.merge(ents_grouped, on='visit_occurrence_id', how='outer').fillna(False)\n",
    "df_risk_factors"
   ]
  },
  {
   "cell_type": "code",
   "execution_count": 30,
   "metadata": {},
   "outputs": [
    {
     "data": {
      "text/html": [
       "<div>\n",
       "<style scoped>\n",
       "    .dataframe tbody tr th:only-of-type {\n",
       "        vertical-align: middle;\n",
       "    }\n",
       "\n",
       "    .dataframe tbody tr th {\n",
       "        vertical-align: top;\n",
       "    }\n",
       "\n",
       "    .dataframe thead th {\n",
       "        text-align: right;\n",
       "    }\n",
       "</style>\n",
       "<table border=\"1\" class=\"dataframe\">\n",
       "  <thead>\n",
       "    <tr style=\"text-align: right;\">\n",
       "      <th></th>\n",
       "      <th>visit_occurrence_id</th>\n",
       "      <th>tabac</th>\n",
       "      <th>alcool</th>\n",
       "      <th>diabete</th>\n",
       "      <th>sub_psy</th>\n",
       "      <th>tum_herit</th>\n",
       "    </tr>\n",
       "  </thead>\n",
       "  <tbody>\n",
       "    <tr>\n",
       "      <th>0</th>\n",
       "      <td>80001693.0</td>\n",
       "      <td>True</td>\n",
       "      <td>True</td>\n",
       "      <td>False</td>\n",
       "      <td>False</td>\n",
       "      <td>False</td>\n",
       "    </tr>\n",
       "    <tr>\n",
       "      <th>1</th>\n",
       "      <td>80003678.0</td>\n",
       "      <td>True</td>\n",
       "      <td>False</td>\n",
       "      <td>False</td>\n",
       "      <td>True</td>\n",
       "      <td>False</td>\n",
       "    </tr>\n",
       "    <tr>\n",
       "      <th>2</th>\n",
       "      <td>80007123.0</td>\n",
       "      <td>False</td>\n",
       "      <td>True</td>\n",
       "      <td>False</td>\n",
       "      <td>False</td>\n",
       "      <td>False</td>\n",
       "    </tr>\n",
       "    <tr>\n",
       "      <th>3</th>\n",
       "      <td>80008076.0</td>\n",
       "      <td>False</td>\n",
       "      <td>True</td>\n",
       "      <td>False</td>\n",
       "      <td>False</td>\n",
       "      <td>True</td>\n",
       "    </tr>\n",
       "    <tr>\n",
       "      <th>4</th>\n",
       "      <td>80008149.0</td>\n",
       "      <td>True</td>\n",
       "      <td>True</td>\n",
       "      <td>True</td>\n",
       "      <td>False</td>\n",
       "      <td>True</td>\n",
       "    </tr>\n",
       "  </tbody>\n",
       "</table>\n",
       "</div>"
      ],
      "text/plain": [
       "   visit_occurrence_id  tabac  alcool  diabete  sub_psy  tum_herit\n",
       "0           80001693.0   True    True    False    False      False\n",
       "1           80003678.0   True   False    False     True      False\n",
       "2           80007123.0  False    True    False    False      False\n",
       "3           80008076.0  False    True    False    False       True\n",
       "4           80008149.0   True    True     True    False       True"
      ]
     },
     "execution_count": 30,
     "metadata": {},
     "output_type": "execute_result"
    }
   ],
   "source": [
    "df_risk_factors['tabac'] = df_risk_factors.tabac_x | df_risk_factors.tabac_y\n",
    "df_risk_factors['alcool'] = df_risk_factors.alcool_x | df_risk_factors.alcool_y\n",
    "df_risk_factors['diabete'] = df_risk_factors.diabete_x | df_risk_factors.diabete_y\n",
    "df_risk_factors['sub_psy'] = df_risk_factors.sub_psy_x | df_risk_factors.sub_psy_y\n",
    "df_risk_factors['tum_herit'] = df_risk_factors.tum_herit_x | df_risk_factors.tum_herit_y\n",
    "\n",
    "df_risk_factors = df_risk_factors.drop(columns=['tabac_x','alcool_x','diabete_x','sub_psy_x','tum_herit_x','tabac_y','alcool_y','diabete_y','sub_psy_y','tum_herit_y'])\n",
    "df_risk_factors.head()"
   ]
  },
  {
   "attachments": {},
   "cell_type": "markdown",
   "metadata": {},
   "source": [
    "<a id=\"prepro_cond\"></a>\n",
    "## 5.2 Adding the personal data of the patients to the risk_factors"
   ]
  },
  {
   "cell_type": "code",
   "execution_count": 31,
   "metadata": {},
   "outputs": [
    {
     "data": {
      "text/html": [
       "<div>\n",
       "<style scoped>\n",
       "    .dataframe tbody tr th:only-of-type {\n",
       "        vertical-align: middle;\n",
       "    }\n",
       "\n",
       "    .dataframe tbody tr th {\n",
       "        vertical-align: top;\n",
       "    }\n",
       "\n",
       "    .dataframe thead th {\n",
       "        text-align: right;\n",
       "    }\n",
       "</style>\n",
       "<table border=\"1\" class=\"dataframe\">\n",
       "  <thead>\n",
       "    <tr style=\"text-align: right;\">\n",
       "      <th></th>\n",
       "      <th>person_id</th>\n",
       "      <th>birth_datetime</th>\n",
       "      <th>gender_source_value</th>\n",
       "      <th>visit_occurrence_id</th>\n",
       "      <th>visit_start_datetime</th>\n",
       "      <th>age</th>\n",
       "      <th>male</th>\n",
       "    </tr>\n",
       "  </thead>\n",
       "  <tbody>\n",
       "    <tr>\n",
       "      <th>0</th>\n",
       "      <td>86484326</td>\n",
       "      <td>2016-08-02</td>\n",
       "      <td>f</td>\n",
       "      <td>88518653.0</td>\n",
       "      <td>2024-06-14</td>\n",
       "      <td>7.87</td>\n",
       "      <td>False</td>\n",
       "    </tr>\n",
       "    <tr>\n",
       "      <th>1</th>\n",
       "      <td>89213495</td>\n",
       "      <td>2013-11-01</td>\n",
       "      <td>f</td>\n",
       "      <td>87739827.0</td>\n",
       "      <td>2022-01-22</td>\n",
       "      <td>8.23</td>\n",
       "      <td>False</td>\n",
       "    </tr>\n",
       "    <tr>\n",
       "      <th>2</th>\n",
       "      <td>88207887</td>\n",
       "      <td>2013-04-02</td>\n",
       "      <td>f</td>\n",
       "      <td>83376027.0</td>\n",
       "      <td>2022-02-15</td>\n",
       "      <td>8.88</td>\n",
       "      <td>False</td>\n",
       "    </tr>\n",
       "    <tr>\n",
       "      <th>3</th>\n",
       "      <td>80499395</td>\n",
       "      <td>2016-08-19</td>\n",
       "      <td>f</td>\n",
       "      <td>86253160.0</td>\n",
       "      <td>2021-09-19</td>\n",
       "      <td>5.09</td>\n",
       "      <td>False</td>\n",
       "    </tr>\n",
       "    <tr>\n",
       "      <th>4</th>\n",
       "      <td>84190053</td>\n",
       "      <td>2022-06-04</td>\n",
       "      <td>f</td>\n",
       "      <td>89174506.0</td>\n",
       "      <td>2022-10-30</td>\n",
       "      <td>0.41</td>\n",
       "      <td>False</td>\n",
       "    </tr>\n",
       "  </tbody>\n",
       "</table>\n",
       "</div>"
      ],
      "text/plain": [
       "  person_id birth_datetime gender_source_value  visit_occurrence_id  \\\n",
       "0  86484326     2016-08-02                   f           88518653.0   \n",
       "1  89213495     2013-11-01                   f           87739827.0   \n",
       "2  88207887     2013-04-02                   f           83376027.0   \n",
       "3  80499395     2016-08-19                   f           86253160.0   \n",
       "4  84190053     2022-06-04                   f           89174506.0   \n",
       "\n",
       "  visit_start_datetime   age   male  \n",
       "0           2024-06-14  7.87  False  \n",
       "1           2022-01-22  8.23  False  \n",
       "2           2022-02-15  8.88  False  \n",
       "3           2021-09-19  5.09  False  \n",
       "4           2022-10-30  0.41  False  "
      ]
     },
     "execution_count": 31,
     "metadata": {},
     "output_type": "execute_result"
    }
   ],
   "source": [
    "data = df_person[[\"person_id\", \"birth_datetime\", \"gender_source_value\"]]\n",
    "data = pd.merge(data, df_visit[[\"person_id\", \"visit_occurrence_id\" ,\"visit_start_datetime\"]], on=\"person_id\", how=\"inner\")\n",
    "data['age'] = round(((data['visit_start_datetime'] - data['birth_datetime']).dt.days/ 365), 2)\n",
    "data[\"male\"] = data.gender_source_value == \"m\"\n",
    "data.head()"
   ]
  },
  {
   "cell_type": "code",
   "execution_count": 32,
   "metadata": {},
   "outputs": [
    {
     "data": {
      "text/html": [
       "<div>\n",
       "<style scoped>\n",
       "    .dataframe tbody tr th:only-of-type {\n",
       "        vertical-align: middle;\n",
       "    }\n",
       "\n",
       "    .dataframe tbody tr th {\n",
       "        vertical-align: top;\n",
       "    }\n",
       "\n",
       "    .dataframe thead th {\n",
       "        text-align: right;\n",
       "    }\n",
       "</style>\n",
       "<table border=\"1\" class=\"dataframe\">\n",
       "  <thead>\n",
       "    <tr style=\"text-align: right;\">\n",
       "      <th></th>\n",
       "      <th>person_id</th>\n",
       "      <th>visit_occurrence_id</th>\n",
       "      <th>age</th>\n",
       "      <th>male</th>\n",
       "      <th>tabac</th>\n",
       "      <th>alcool</th>\n",
       "      <th>diabete</th>\n",
       "      <th>sub_psy</th>\n",
       "      <th>tum_herit</th>\n",
       "    </tr>\n",
       "  </thead>\n",
       "  <tbody>\n",
       "    <tr>\n",
       "      <th>0</th>\n",
       "      <td>86484326</td>\n",
       "      <td>88518653.0</td>\n",
       "      <td>7.87</td>\n",
       "      <td>False</td>\n",
       "      <td>False</td>\n",
       "      <td>False</td>\n",
       "      <td>False</td>\n",
       "      <td>False</td>\n",
       "      <td>False</td>\n",
       "    </tr>\n",
       "    <tr>\n",
       "      <th>1</th>\n",
       "      <td>89213495</td>\n",
       "      <td>87739827.0</td>\n",
       "      <td>8.23</td>\n",
       "      <td>False</td>\n",
       "      <td>True</td>\n",
       "      <td>True</td>\n",
       "      <td>False</td>\n",
       "      <td>False</td>\n",
       "      <td>False</td>\n",
       "    </tr>\n",
       "    <tr>\n",
       "      <th>2</th>\n",
       "      <td>88207887</td>\n",
       "      <td>83376027.0</td>\n",
       "      <td>8.88</td>\n",
       "      <td>False</td>\n",
       "      <td>False</td>\n",
       "      <td>False</td>\n",
       "      <td>False</td>\n",
       "      <td>False</td>\n",
       "      <td>False</td>\n",
       "    </tr>\n",
       "    <tr>\n",
       "      <th>3</th>\n",
       "      <td>80499395</td>\n",
       "      <td>86253160.0</td>\n",
       "      <td>5.09</td>\n",
       "      <td>False</td>\n",
       "      <td>False</td>\n",
       "      <td>False</td>\n",
       "      <td>False</td>\n",
       "      <td>False</td>\n",
       "      <td>False</td>\n",
       "    </tr>\n",
       "    <tr>\n",
       "      <th>4</th>\n",
       "      <td>84190053</td>\n",
       "      <td>89174506.0</td>\n",
       "      <td>0.41</td>\n",
       "      <td>False</td>\n",
       "      <td>False</td>\n",
       "      <td>False</td>\n",
       "      <td>False</td>\n",
       "      <td>False</td>\n",
       "      <td>False</td>\n",
       "    </tr>\n",
       "  </tbody>\n",
       "</table>\n",
       "</div>"
      ],
      "text/plain": [
       "  person_id  visit_occurrence_id   age   male  tabac  alcool  diabete  \\\n",
       "0  86484326           88518653.0  7.87  False  False   False    False   \n",
       "1  89213495           87739827.0  8.23  False   True    True    False   \n",
       "2  88207887           83376027.0  8.88  False  False   False    False   \n",
       "3  80499395           86253160.0  5.09  False  False   False    False   \n",
       "4  84190053           89174506.0  0.41  False  False   False    False   \n",
       "\n",
       "   sub_psy  tum_herit  \n",
       "0    False      False  \n",
       "1    False      False  \n",
       "2    False      False  \n",
       "3    False      False  \n",
       "4    False      False  "
      ]
     },
     "execution_count": 32,
     "metadata": {},
     "output_type": "execute_result"
    }
   ],
   "source": [
    "data = pd.merge(data, df_risk_factors, on=\"visit_occurrence_id\", how=\"left\").fillna({\"tabac\":False, 'alcool':False, \"diabete\":False, 'sub_psy':False, 'tum_herit':False})\n",
    "data = data.drop(columns=['birth_datetime','gender_source_value','visit_start_datetime'])\n",
    "data.head()"
   ]
  },
  {
   "attachments": {},
   "cell_type": "markdown",
   "metadata": {},
   "source": [
    "<a id=\"prepro_cond\"></a>\n",
    "## 5.2 Adding the biological measurements"
   ]
  },
  {
   "cell_type": "code",
   "execution_count": 33,
   "metadata": {},
   "outputs": [
    {
     "data": {
      "text/plain": [
       "bmi     15406\n",
       "hb      15406\n",
       "urea    15406\n",
       "crp     15406\n",
       "Name: concept_source_value, dtype: int64"
      ]
     },
     "execution_count": 33,
     "metadata": {},
     "output_type": "execute_result"
    }
   ],
   "source": [
    "df_bio.concept_source_value.value_counts()"
   ]
  },
  {
   "cell_type": "code",
   "execution_count": 34,
   "metadata": {},
   "outputs": [
    {
     "data": {
      "text/html": [
       "<div>\n",
       "<style scoped>\n",
       "    .dataframe tbody tr th:only-of-type {\n",
       "        vertical-align: middle;\n",
       "    }\n",
       "\n",
       "    .dataframe tbody tr th {\n",
       "        vertical-align: top;\n",
       "    }\n",
       "\n",
       "    .dataframe thead th {\n",
       "        text-align: right;\n",
       "    }\n",
       "</style>\n",
       "<table border=\"1\" class=\"dataframe\">\n",
       "  <thead>\n",
       "    <tr style=\"text-align: right;\">\n",
       "      <th>concept_source_value</th>\n",
       "      <th>visit_occurrence_id</th>\n",
       "      <th>bmi</th>\n",
       "      <th>crp</th>\n",
       "      <th>hb</th>\n",
       "      <th>urea</th>\n",
       "    </tr>\n",
       "  </thead>\n",
       "  <tbody>\n",
       "    <tr>\n",
       "      <th>0</th>\n",
       "      <td>80001324.0</td>\n",
       "      <td>19.42</td>\n",
       "      <td>4.58</td>\n",
       "      <td>13.16</td>\n",
       "      <td>5.39</td>\n",
       "    </tr>\n",
       "    <tr>\n",
       "      <th>1</th>\n",
       "      <td>80001693.0</td>\n",
       "      <td>24.77</td>\n",
       "      <td>4.78</td>\n",
       "      <td>9.63</td>\n",
       "      <td>4.45</td>\n",
       "    </tr>\n",
       "    <tr>\n",
       "      <th>2</th>\n",
       "      <td>80002464.0</td>\n",
       "      <td>21.84</td>\n",
       "      <td>4.02</td>\n",
       "      <td>15.67</td>\n",
       "      <td>4.86</td>\n",
       "    </tr>\n",
       "    <tr>\n",
       "      <th>3</th>\n",
       "      <td>80002814.0</td>\n",
       "      <td>23.12</td>\n",
       "      <td>4.42</td>\n",
       "      <td>17.55</td>\n",
       "      <td>2.57</td>\n",
       "    </tr>\n",
       "    <tr>\n",
       "      <th>4</th>\n",
       "      <td>80002980.0</td>\n",
       "      <td>22.39</td>\n",
       "      <td>4.48</td>\n",
       "      <td>9.81</td>\n",
       "      <td>2.74</td>\n",
       "    </tr>\n",
       "  </tbody>\n",
       "</table>\n",
       "</div>"
      ],
      "text/plain": [
       "concept_source_value  visit_occurrence_id    bmi   crp     hb  urea\n",
       "0                              80001324.0  19.42  4.58  13.16  5.39\n",
       "1                              80001693.0  24.77  4.78   9.63  4.45\n",
       "2                              80002464.0  21.84  4.02  15.67  4.86\n",
       "3                              80002814.0  23.12  4.42  17.55  2.57\n",
       "4                              80002980.0  22.39  4.48   9.81  2.74"
      ]
     },
     "execution_count": 34,
     "metadata": {},
     "output_type": "execute_result"
    }
   ],
   "source": [
    "bio_processed = df_bio[[\"visit_occurrence_id\", \"concept_source_value\", \"transformed_value\"]].pivot(index=[\"visit_occurrence_id\"], columns=\"concept_source_value\", values=\"transformed_value\").reset_index()\n",
    "bio_processed.head()"
   ]
  },
  {
   "cell_type": "code",
   "execution_count": 35,
   "metadata": {},
   "outputs": [
    {
     "data": {
      "text/html": [
       "<div>\n",
       "<style scoped>\n",
       "    .dataframe tbody tr th:only-of-type {\n",
       "        vertical-align: middle;\n",
       "    }\n",
       "\n",
       "    .dataframe tbody tr th {\n",
       "        vertical-align: top;\n",
       "    }\n",
       "\n",
       "    .dataframe thead th {\n",
       "        text-align: right;\n",
       "    }\n",
       "</style>\n",
       "<table border=\"1\" class=\"dataframe\">\n",
       "  <thead>\n",
       "    <tr style=\"text-align: right;\">\n",
       "      <th></th>\n",
       "      <th>person_id</th>\n",
       "      <th>age</th>\n",
       "      <th>male</th>\n",
       "      <th>tabac</th>\n",
       "      <th>alcool</th>\n",
       "      <th>diabete</th>\n",
       "      <th>sub_psy</th>\n",
       "      <th>tum_herit</th>\n",
       "      <th>bmi</th>\n",
       "      <th>crp</th>\n",
       "      <th>hb</th>\n",
       "      <th>urea</th>\n",
       "    </tr>\n",
       "  </thead>\n",
       "  <tbody>\n",
       "    <tr>\n",
       "      <th>0</th>\n",
       "      <td>86484326</td>\n",
       "      <td>7.87</td>\n",
       "      <td>False</td>\n",
       "      <td>False</td>\n",
       "      <td>False</td>\n",
       "      <td>False</td>\n",
       "      <td>False</td>\n",
       "      <td>False</td>\n",
       "      <td>16.87</td>\n",
       "      <td>4.32</td>\n",
       "      <td>8.69</td>\n",
       "      <td>2.75</td>\n",
       "    </tr>\n",
       "    <tr>\n",
       "      <th>1</th>\n",
       "      <td>89213495</td>\n",
       "      <td>8.23</td>\n",
       "      <td>False</td>\n",
       "      <td>True</td>\n",
       "      <td>True</td>\n",
       "      <td>False</td>\n",
       "      <td>False</td>\n",
       "      <td>False</td>\n",
       "      <td>20.04</td>\n",
       "      <td>5.18</td>\n",
       "      <td>12.47</td>\n",
       "      <td>2.69</td>\n",
       "    </tr>\n",
       "    <tr>\n",
       "      <th>2</th>\n",
       "      <td>88207887</td>\n",
       "      <td>8.88</td>\n",
       "      <td>False</td>\n",
       "      <td>False</td>\n",
       "      <td>False</td>\n",
       "      <td>False</td>\n",
       "      <td>False</td>\n",
       "      <td>False</td>\n",
       "      <td>20.58</td>\n",
       "      <td>4.85</td>\n",
       "      <td>13.47</td>\n",
       "      <td>2.83</td>\n",
       "    </tr>\n",
       "    <tr>\n",
       "      <th>3</th>\n",
       "      <td>80499395</td>\n",
       "      <td>5.09</td>\n",
       "      <td>False</td>\n",
       "      <td>False</td>\n",
       "      <td>False</td>\n",
       "      <td>False</td>\n",
       "      <td>False</td>\n",
       "      <td>False</td>\n",
       "      <td>17.68</td>\n",
       "      <td>5.23</td>\n",
       "      <td>13.75</td>\n",
       "      <td>2.57</td>\n",
       "    </tr>\n",
       "    <tr>\n",
       "      <th>4</th>\n",
       "      <td>84190053</td>\n",
       "      <td>0.41</td>\n",
       "      <td>False</td>\n",
       "      <td>False</td>\n",
       "      <td>False</td>\n",
       "      <td>False</td>\n",
       "      <td>False</td>\n",
       "      <td>False</td>\n",
       "      <td>19.21</td>\n",
       "      <td>4.29</td>\n",
       "      <td>11.99</td>\n",
       "      <td>3.15</td>\n",
       "    </tr>\n",
       "  </tbody>\n",
       "</table>\n",
       "</div>"
      ],
      "text/plain": [
       "  person_id   age   male  tabac  alcool  diabete  sub_psy  tum_herit    bmi  \\\n",
       "0  86484326  7.87  False  False   False    False    False      False  16.87   \n",
       "1  89213495  8.23  False   True    True    False    False      False  20.04   \n",
       "2  88207887  8.88  False  False   False    False    False      False  20.58   \n",
       "3  80499395  5.09  False  False   False    False    False      False  17.68   \n",
       "4  84190053  0.41  False  False   False    False    False      False  19.21   \n",
       "\n",
       "    crp     hb  urea  \n",
       "0  4.32   8.69  2.75  \n",
       "1  5.18  12.47  2.69  \n",
       "2  4.85  13.47  2.83  \n",
       "3  5.23  13.75  2.57  \n",
       "4  4.29  11.99  3.15  "
      ]
     },
     "execution_count": 35,
     "metadata": {},
     "output_type": "execute_result"
    }
   ],
   "source": [
    "data = pd.merge(data, bio_processed, on=\"visit_occurrence_id\", how=\"left\")\n",
    "data = data.drop(columns='visit_occurrence_id')\n",
    "data.head()"
   ]
  },
  {
   "cell_type": "code",
   "execution_count": 36,
   "metadata": {},
   "outputs": [
    {
     "data": {
      "text/html": [
       "<div>\n",
       "<style scoped>\n",
       "    .dataframe tbody tr th:only-of-type {\n",
       "        vertical-align: middle;\n",
       "    }\n",
       "\n",
       "    .dataframe tbody tr th {\n",
       "        vertical-align: top;\n",
       "    }\n",
       "\n",
       "    .dataframe thead th {\n",
       "        text-align: right;\n",
       "    }\n",
       "</style>\n",
       "<table border=\"1\" class=\"dataframe\">\n",
       "  <thead>\n",
       "    <tr style=\"text-align: right;\">\n",
       "      <th></th>\n",
       "      <th>person_id</th>\n",
       "      <th>age</th>\n",
       "      <th>male</th>\n",
       "      <th>tabac</th>\n",
       "      <th>alcool</th>\n",
       "      <th>diabete</th>\n",
       "      <th>sub_psy</th>\n",
       "      <th>tum_herit</th>\n",
       "      <th>bmi</th>\n",
       "      <th>crp</th>\n",
       "      <th>hb</th>\n",
       "      <th>urea</th>\n",
       "      <th>cancer</th>\n",
       "    </tr>\n",
       "  </thead>\n",
       "  <tbody>\n",
       "    <tr>\n",
       "      <th>0</th>\n",
       "      <td>86484326</td>\n",
       "      <td>7.87</td>\n",
       "      <td>False</td>\n",
       "      <td>False</td>\n",
       "      <td>False</td>\n",
       "      <td>False</td>\n",
       "      <td>False</td>\n",
       "      <td>False</td>\n",
       "      <td>16.87</td>\n",
       "      <td>4.32</td>\n",
       "      <td>8.69</td>\n",
       "      <td>2.75</td>\n",
       "      <td>False</td>\n",
       "    </tr>\n",
       "    <tr>\n",
       "      <th>1</th>\n",
       "      <td>89213495</td>\n",
       "      <td>8.23</td>\n",
       "      <td>False</td>\n",
       "      <td>True</td>\n",
       "      <td>True</td>\n",
       "      <td>False</td>\n",
       "      <td>False</td>\n",
       "      <td>False</td>\n",
       "      <td>20.04</td>\n",
       "      <td>5.18</td>\n",
       "      <td>12.47</td>\n",
       "      <td>2.69</td>\n",
       "      <td>False</td>\n",
       "    </tr>\n",
       "    <tr>\n",
       "      <th>2</th>\n",
       "      <td>88207887</td>\n",
       "      <td>8.88</td>\n",
       "      <td>False</td>\n",
       "      <td>False</td>\n",
       "      <td>False</td>\n",
       "      <td>False</td>\n",
       "      <td>False</td>\n",
       "      <td>False</td>\n",
       "      <td>20.58</td>\n",
       "      <td>4.85</td>\n",
       "      <td>13.47</td>\n",
       "      <td>2.83</td>\n",
       "      <td>False</td>\n",
       "    </tr>\n",
       "    <tr>\n",
       "      <th>3</th>\n",
       "      <td>80499395</td>\n",
       "      <td>5.09</td>\n",
       "      <td>False</td>\n",
       "      <td>False</td>\n",
       "      <td>False</td>\n",
       "      <td>False</td>\n",
       "      <td>False</td>\n",
       "      <td>False</td>\n",
       "      <td>17.68</td>\n",
       "      <td>5.23</td>\n",
       "      <td>13.75</td>\n",
       "      <td>2.57</td>\n",
       "      <td>False</td>\n",
       "    </tr>\n",
       "    <tr>\n",
       "      <th>4</th>\n",
       "      <td>84190053</td>\n",
       "      <td>0.41</td>\n",
       "      <td>False</td>\n",
       "      <td>False</td>\n",
       "      <td>False</td>\n",
       "      <td>False</td>\n",
       "      <td>False</td>\n",
       "      <td>False</td>\n",
       "      <td>19.21</td>\n",
       "      <td>4.29</td>\n",
       "      <td>11.99</td>\n",
       "      <td>3.15</td>\n",
       "      <td>False</td>\n",
       "    </tr>\n",
       "  </tbody>\n",
       "</table>\n",
       "</div>"
      ],
      "text/plain": [
       "  person_id   age   male  tabac  alcool  diabete  sub_psy  tum_herit    bmi  \\\n",
       "0  86484326  7.87  False  False   False    False    False      False  16.87   \n",
       "1  89213495  8.23  False   True    True    False    False      False  20.04   \n",
       "2  88207887  8.88  False  False   False    False    False      False  20.58   \n",
       "3  80499395  5.09  False  False   False    False    False      False  17.68   \n",
       "4  84190053  0.41  False  False   False    False    False      False  19.21   \n",
       "\n",
       "    crp     hb  urea  cancer  \n",
       "0  4.32   8.69  2.75   False  \n",
       "1  5.18  12.47  2.69   False  \n",
       "2  4.85  13.47  2.83   False  \n",
       "3  5.23  13.75  2.57   False  \n",
       "4  4.29  11.99  3.15   False  "
      ]
     },
     "execution_count": 36,
     "metadata": {},
     "output_type": "execute_result"
    }
   ],
   "source": [
    "#adding the cancer status of every patient\n",
    "data['cancer'] = data.person_id.isin(df_cancer_cond.person_id)\n",
    "data.head()"
   ]
  },
  {
   "cell_type": "code",
   "execution_count": 37,
   "metadata": {},
   "outputs": [
    {
     "data": {
      "text/plain": [
       "person_id    0\n",
       "age          0\n",
       "male         0\n",
       "tabac        0\n",
       "alcool       0\n",
       "diabete      0\n",
       "sub_psy      0\n",
       "tum_herit    0\n",
       "bmi          0\n",
       "crp          0\n",
       "hb           0\n",
       "urea         0\n",
       "cancer       0\n",
       "dtype: int64"
      ]
     },
     "execution_count": 37,
     "metadata": {},
     "output_type": "execute_result"
    }
   ],
   "source": [
    "data.isna().sum(axis=0)"
   ]
  },
  {
   "attachments": {},
   "cell_type": "markdown",
   "metadata": {},
   "source": [
    "<a id=\"prepro_cond\"></a>\n",
    "## 5. Statistical analysis"
   ]
  },
  {
   "cell_type": "code",
   "execution_count": 38,
   "metadata": {},
   "outputs": [],
   "source": [
    "#defining our two populations\n",
    "df_control = data[data['cancer'] == False]\n",
    "df_cancer = data[data['cancer']]"
   ]
  },
  {
   "cell_type": "code",
   "execution_count": 39,
   "metadata": {},
   "outputs": [],
   "source": [
    "#defining functions for statistical measurements\n",
    "def prevalence(values):\n",
    "    return round(values.sum()*100 / len(values),2)\n",
    "\n",
    "def mean_sd(values):\n",
    "    return (round(values.mean(), 2), round(values.std(), 2))"
   ]
  },
  {
   "cell_type": "code",
   "execution_count": 40,
   "metadata": {},
   "outputs": [],
   "source": [
    "agg_dict = {\n",
    "    \"person_id\": [\"count\"],\n",
    "    \"age\": [mean_sd],\n",
    "    \"male\": [prevalence],\n",
    "    \"tabac\" : [prevalence],\n",
    "    \"alcool\" : [prevalence],\n",
    "    \"diabete\" : [prevalence],\n",
    "    \"sub_psy\" : [prevalence],\n",
    "    \"tum_herit\" : [prevalence],\n",
    "    \"bmi\" : [mean_sd],\n",
    "    \"crp\": [mean_sd],\n",
    "    \"hb\": [mean_sd],\n",
    "    \"urea\": [mean_sd],\n",
    "}\n",
    "\n",
    "numerical = [\"age\", \"bmi\", \"crp\", \"hb\", \"urea\"]\n",
    "test_categorical = [\"male\", \"diabete\", \"tabac\", 'alcool', 'sub_psy', 'tum_herit']"
   ]
  },
  {
   "cell_type": "code",
   "execution_count": 41,
   "metadata": {},
   "outputs": [
    {
     "data": {
      "text/html": [
       "<div>\n",
       "<style scoped>\n",
       "    .dataframe tbody tr th:only-of-type {\n",
       "        vertical-align: middle;\n",
       "    }\n",
       "\n",
       "    .dataframe tbody tr th {\n",
       "        vertical-align: top;\n",
       "    }\n",
       "\n",
       "    .dataframe thead th {\n",
       "        text-align: right;\n",
       "    }\n",
       "</style>\n",
       "<table border=\"1\" class=\"dataframe\">\n",
       "  <thead>\n",
       "    <tr style=\"text-align: right;\">\n",
       "      <th></th>\n",
       "      <th>cancer</th>\n",
       "      <th>False</th>\n",
       "      <th>True</th>\n",
       "    </tr>\n",
       "  </thead>\n",
       "  <tbody>\n",
       "    <tr>\n",
       "      <th>person_id</th>\n",
       "      <th>count</th>\n",
       "      <td>11292</td>\n",
       "      <td>4114</td>\n",
       "    </tr>\n",
       "    <tr>\n",
       "      <th>age</th>\n",
       "      <th>mean_sd</th>\n",
       "      <td>(50.59, 27.54)</td>\n",
       "      <td>(78.52, 14.0)</td>\n",
       "    </tr>\n",
       "    <tr>\n",
       "      <th>male</th>\n",
       "      <th>prevalence</th>\n",
       "      <td>50.26</td>\n",
       "      <td>0.0</td>\n",
       "    </tr>\n",
       "    <tr>\n",
       "      <th>tabac</th>\n",
       "      <th>prevalence</th>\n",
       "      <td>49.51</td>\n",
       "      <td>58.24</td>\n",
       "    </tr>\n",
       "    <tr>\n",
       "      <th>alcool</th>\n",
       "      <th>prevalence</th>\n",
       "      <td>7.86</td>\n",
       "      <td>14.88</td>\n",
       "    </tr>\n",
       "    <tr>\n",
       "      <th>diabete</th>\n",
       "      <th>prevalence</th>\n",
       "      <td>2.34</td>\n",
       "      <td>4.55</td>\n",
       "    </tr>\n",
       "    <tr>\n",
       "      <th>sub_psy</th>\n",
       "      <th>prevalence</th>\n",
       "      <td>3.36</td>\n",
       "      <td>10.18</td>\n",
       "    </tr>\n",
       "    <tr>\n",
       "      <th>tum_herit</th>\n",
       "      <th>prevalence</th>\n",
       "      <td>4.95</td>\n",
       "      <td>29.1</td>\n",
       "    </tr>\n",
       "    <tr>\n",
       "      <th>bmi</th>\n",
       "      <th>mean_sd</th>\n",
       "      <td>(21.37, 3.19)</td>\n",
       "      <td>(24.98, 1.99)</td>\n",
       "    </tr>\n",
       "    <tr>\n",
       "      <th>crp</th>\n",
       "      <th>mean_sd</th>\n",
       "      <td>(4.54, 0.32)</td>\n",
       "      <td>(4.51, 0.3)</td>\n",
       "    </tr>\n",
       "    <tr>\n",
       "      <th>hb</th>\n",
       "      <th>mean_sd</th>\n",
       "      <td>(13.3, 1.63)</td>\n",
       "      <td>(12.97, 1.5)</td>\n",
       "    </tr>\n",
       "    <tr>\n",
       "      <th>urea</th>\n",
       "      <th>mean_sd</th>\n",
       "      <td>(4.1, 0.84)</td>\n",
       "      <td>(4.19, 0.46)</td>\n",
       "    </tr>\n",
       "  </tbody>\n",
       "</table>\n",
       "</div>"
      ],
      "text/plain": [
       "cancer                         False           True\n",
       "person_id count                11292           4114\n",
       "age       mean_sd     (50.59, 27.54)  (78.52, 14.0)\n",
       "male      prevalence           50.26            0.0\n",
       "tabac     prevalence           49.51          58.24\n",
       "alcool    prevalence            7.86          14.88\n",
       "diabete   prevalence            2.34           4.55\n",
       "sub_psy   prevalence            3.36          10.18\n",
       "tum_herit prevalence            4.95           29.1\n",
       "bmi       mean_sd      (21.37, 3.19)  (24.98, 1.99)\n",
       "crp       mean_sd       (4.54, 0.32)    (4.51, 0.3)\n",
       "hb        mean_sd       (13.3, 1.63)   (12.97, 1.5)\n",
       "urea      mean_sd        (4.1, 0.84)   (4.19, 0.46)"
      ]
     },
     "execution_count": 41,
     "metadata": {},
     "output_type": "execute_result"
    }
   ],
   "source": [
    "data_summary = data.groupby(\"cancer\").agg(agg_dict).T\n",
    "data_summary"
   ]
  },
  {
   "cell_type": "code",
   "execution_count": 42,
   "metadata": {},
   "outputs": [],
   "source": [
    "#calculating the p_values\n",
    "for feat, sub_value in data_summary.index:\n",
    "    if feat in numerical:\n",
    "        data_summary.loc[(feat,sub_value),\"t-test *e10\"] = round(ttest_ind(df_control[feat], df_cancer[feat])[1],11) * 10**10\n",
    "\n",
    "    if feat in test_categorical:\n",
    "        data_summary.loc[(feat,sub_value),\"chi-sq *e10\"] = round(chi2_contingency(pd.crosstab(data[\"cancer\"], data[feat]))[1],11) * 10**10"
   ]
  },
  {
   "cell_type": "code",
   "execution_count": 43,
   "metadata": {},
   "outputs": [],
   "source": [
    "data_summary['p_value *e10'] = data_summary['t-test *e10'].fillna(data_summary['chi-sq *e10'])\n",
    "data_summary['p_value *e10'] = data_summary['p_value *e10'].fillna('')\n",
    "data_summary = data_summary.rename(columns = {False : 'Cohorte Control', True : 'Cohorte avec Cancer'})\n",
    "data_summary = data_summary[['Cohorte Control', 'Cohorte avec Cancer', 'p_value *e10']]"
   ]
  },
  {
   "cell_type": "code",
   "execution_count": 44,
   "metadata": {},
   "outputs": [
    {
     "data": {
      "text/html": [
       "<div>\n",
       "<style scoped>\n",
       "    .dataframe tbody tr th:only-of-type {\n",
       "        vertical-align: middle;\n",
       "    }\n",
       "\n",
       "    .dataframe tbody tr th {\n",
       "        vertical-align: top;\n",
       "    }\n",
       "\n",
       "    .dataframe thead th {\n",
       "        text-align: right;\n",
       "    }\n",
       "</style>\n",
       "<table border=\"1\" class=\"dataframe\">\n",
       "  <thead>\n",
       "    <tr style=\"text-align: right;\">\n",
       "      <th></th>\n",
       "      <th>cancer</th>\n",
       "      <th>Cohorte Control</th>\n",
       "      <th>Cohorte avec Cancer</th>\n",
       "      <th>p_value *e10</th>\n",
       "    </tr>\n",
       "  </thead>\n",
       "  <tbody>\n",
       "    <tr>\n",
       "      <th>person_id</th>\n",
       "      <th>count</th>\n",
       "      <td>11292</td>\n",
       "      <td>4114</td>\n",
       "      <td></td>\n",
       "    </tr>\n",
       "    <tr>\n",
       "      <th>age</th>\n",
       "      <th>mean_sd</th>\n",
       "      <td>(50.59, 27.54)</td>\n",
       "      <td>(78.52, 14.0)</td>\n",
       "      <td>0.0</td>\n",
       "    </tr>\n",
       "    <tr>\n",
       "      <th>male</th>\n",
       "      <th>prevalence</th>\n",
       "      <td>50.26</td>\n",
       "      <td>0.0</td>\n",
       "      <td>0.0</td>\n",
       "    </tr>\n",
       "    <tr>\n",
       "      <th>tabac</th>\n",
       "      <th>prevalence</th>\n",
       "      <td>49.51</td>\n",
       "      <td>58.24</td>\n",
       "      <td>0.0</td>\n",
       "    </tr>\n",
       "    <tr>\n",
       "      <th>alcool</th>\n",
       "      <th>prevalence</th>\n",
       "      <td>7.86</td>\n",
       "      <td>14.88</td>\n",
       "      <td>0.0</td>\n",
       "    </tr>\n",
       "    <tr>\n",
       "      <th>diabete</th>\n",
       "      <th>prevalence</th>\n",
       "      <td>2.34</td>\n",
       "      <td>4.55</td>\n",
       "      <td>0.0</td>\n",
       "    </tr>\n",
       "    <tr>\n",
       "      <th>sub_psy</th>\n",
       "      <th>prevalence</th>\n",
       "      <td>3.36</td>\n",
       "      <td>10.18</td>\n",
       "      <td>0.0</td>\n",
       "    </tr>\n",
       "    <tr>\n",
       "      <th>tum_herit</th>\n",
       "      <th>prevalence</th>\n",
       "      <td>4.95</td>\n",
       "      <td>29.1</td>\n",
       "      <td>0.0</td>\n",
       "    </tr>\n",
       "    <tr>\n",
       "      <th>bmi</th>\n",
       "      <th>mean_sd</th>\n",
       "      <td>(21.37, 3.19)</td>\n",
       "      <td>(24.98, 1.99)</td>\n",
       "      <td>0.0</td>\n",
       "    </tr>\n",
       "    <tr>\n",
       "      <th>crp</th>\n",
       "      <th>mean_sd</th>\n",
       "      <td>(4.54, 0.32)</td>\n",
       "      <td>(4.51, 0.3)</td>\n",
       "      <td>8.2</td>\n",
       "    </tr>\n",
       "    <tr>\n",
       "      <th>hb</th>\n",
       "      <th>mean_sd</th>\n",
       "      <td>(13.3, 1.63)</td>\n",
       "      <td>(12.97, 1.5)</td>\n",
       "      <td>0.0</td>\n",
       "    </tr>\n",
       "    <tr>\n",
       "      <th>urea</th>\n",
       "      <th>mean_sd</th>\n",
       "      <td>(4.1, 0.84)</td>\n",
       "      <td>(4.19, 0.46)</td>\n",
       "      <td>1.1</td>\n",
       "    </tr>\n",
       "  </tbody>\n",
       "</table>\n",
       "</div>"
      ],
      "text/plain": [
       "cancer               Cohorte Control Cohorte avec Cancer p_value *e10\n",
       "person_id count                11292                4114             \n",
       "age       mean_sd     (50.59, 27.54)       (78.52, 14.0)          0.0\n",
       "male      prevalence           50.26                 0.0          0.0\n",
       "tabac     prevalence           49.51               58.24          0.0\n",
       "alcool    prevalence            7.86               14.88          0.0\n",
       "diabete   prevalence            2.34                4.55          0.0\n",
       "sub_psy   prevalence            3.36               10.18          0.0\n",
       "tum_herit prevalence            4.95                29.1          0.0\n",
       "bmi       mean_sd      (21.37, 3.19)       (24.98, 1.99)          0.0\n",
       "crp       mean_sd       (4.54, 0.32)         (4.51, 0.3)          8.2\n",
       "hb        mean_sd       (13.3, 1.63)        (12.97, 1.5)          0.0\n",
       "urea      mean_sd        (4.1, 0.84)        (4.19, 0.46)          1.1"
      ]
     },
     "execution_count": 44,
     "metadata": {},
     "output_type": "execute_result"
    }
   ],
   "source": [
    "data_summary"
   ]
  }
 ],
 "metadata": {
  "kernelspec": {
   "display_name": "eds-tuto",
   "language": "python",
   "name": "python3"
  },
  "language_info": {
   "codemirror_mode": {
    "name": "ipython",
    "version": 3
   },
   "file_extension": ".py",
   "mimetype": "text/x-python",
   "name": "python",
   "nbconvert_exporter": "python",
   "pygments_lexer": "ipython3",
   "version": "3.7.16"
  },
  "orig_nbformat": 4
 },
 "nbformat": 4,
 "nbformat_minor": 2
}
