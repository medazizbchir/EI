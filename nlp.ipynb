{
 "cells": [
  {
   "cell_type": "code",
   "execution_count": 2,
   "metadata": {},
   "outputs": [
    {
     "name": "stderr",
     "output_type": "stream",
     "text": [
      "c:\\Users\\gazze\\anaconda3\\envs\\eds-tuto\\lib\\site-packages\\tqdm\\auto.py:21: TqdmWarning: IProgress not found. Please update jupyter and ipywidgets. See https://ipywidgets.readthedocs.io/en/stable/user_install.html\n",
      "  from .autonotebook import tqdm as notebook_tqdm\n"
     ]
    }
   ],
   "source": [
    "import pandas as pd\n",
    "import numpy as np\n",
    "\n",
    "# Visualization library\n",
    "import altair as alt\n",
    "alt.data_transformers.enable('default', max_rows=None)\n",
    "\n",
    "# Dates management\n",
    "import datetime\n",
    "\n",
    "# For the computation of Kaplan-Meier estimates and log-rank tests\n",
    "import lifelines\n",
    "\n",
    "#Utiliser edsnlp pour extraitre les 3 entités ci dessus : \n",
    "import spacy\n",
    "import numpy as np\n",
    "import warnings\n",
    "warnings.filterwarnings(\"ignore\", category=UserWarning)\n",
    "\n",
    "# Load declared pipelines\n",
    "# from edsnlp import components\n",
    "from edsnlp.processing.parallel import pipe as parallel_pipe\n",
    "from spacy import displacy"
   ]
  },
  {
   "cell_type": "code",
   "execution_count": 3,
   "metadata": {},
   "outputs": [
    {
     "ename": "ImportError",
     "evalue": "cannot import name 'df_notes_dedup_proba' from 'dedup_proba' (c:\\Users\\gazze\\Desktop\\EI EL-APHP\\ei-aphp\\dedup_proba.py)",
     "output_type": "error",
     "traceback": [
      "\u001b[1;31m---------------------------------------------------------------------------\u001b[0m",
      "\u001b[1;31mImportError\u001b[0m                               Traceback (most recent call last)",
      "\u001b[1;32m~\\AppData\\Local\\Temp\\ipykernel_8376\\3626615054.py\u001b[0m in \u001b[0;36m<module>\u001b[1;34m\u001b[0m\n\u001b[0;32m      6\u001b[0m \u001b[1;32mfrom\u001b[0m \u001b[0mdedup_proba\u001b[0m \u001b[1;32mimport\u001b[0m \u001b[0mdf_condition_dedup_proba\u001b[0m \u001b[1;32mas\u001b[0m \u001b[0mdf_condition\u001b[0m\u001b[1;33m\u001b[0m\u001b[1;33m\u001b[0m\u001b[0m\n\u001b[0;32m      7\u001b[0m \u001b[1;31m# notes\u001b[0m\u001b[1;33m\u001b[0m\u001b[1;33m\u001b[0m\u001b[1;33m\u001b[0m\u001b[0m\n\u001b[1;32m----> 8\u001b[1;33m \u001b[1;32mfrom\u001b[0m \u001b[0mdedup_proba\u001b[0m \u001b[1;32mimport\u001b[0m \u001b[0mdf_notes_dedup_proba\u001b[0m \u001b[1;32mas\u001b[0m \u001b[0mdf_notes\u001b[0m\u001b[1;33m\u001b[0m\u001b[1;33m\u001b[0m\u001b[0m\n\u001b[0m\u001b[0;32m      9\u001b[0m \u001b[1;31m# Cancer patients\u001b[0m\u001b[1;33m\u001b[0m\u001b[1;33m\u001b[0m\u001b[1;33m\u001b[0m\u001b[0m\n\u001b[0;32m     10\u001b[0m \u001b[1;32mfrom\u001b[0m \u001b[0mdedup_proba\u001b[0m \u001b[1;32mimport\u001b[0m \u001b[0mdf_cancer_dedup_proba\u001b[0m \u001b[1;32mas\u001b[0m \u001b[0mdf_cancer\u001b[0m\u001b[1;33m\u001b[0m\u001b[1;33m\u001b[0m\u001b[0m\n",
      "\u001b[1;31mImportError\u001b[0m: cannot import name 'df_notes_dedup_proba' from 'dedup_proba' (c:\\Users\\gazze\\Desktop\\EI EL-APHP\\ei-aphp\\dedup_proba.py)"
     ]
    }
   ],
   "source": [
    "# Patients\n",
    "from dedup_proba import df_person_dedup_proba as df_person\n",
    "# Visits\n",
    "from dedup_proba import df_visit_dedup_proba as df_visit\n",
    "# Diagnosis (condition)\n",
    "from dedup_proba import df_condition_dedup_proba as df_condition\n",
    "# notes\n",
    "from dedup_proba import df_notes_dedup_proba as df_notes\n",
    "# Cancer patients\n",
    "from dedup_proba import df_cancer_dedup_proba as df_cancer\n",
    "# nbre de patients de cancer\n",
    "from dedup_proba import nbre_patients_cancer_dedup_proba as nbre_patients_cancer\n",
    "# risk factors\n",
    "from dedup_proba import risk_factors"
   ]
  },
  {
   "cell_type": "code",
   "execution_count": 7,
   "metadata": {},
   "outputs": [],
   "source": [
    "# Clinicians indicated that the following synonyms could be used\n",
    "\n",
    "terms = dict(\n",
    "   tabac=['tabac','fumeur','tabagisme','nicotine','cigarette','cigarettes','fume','fumer','fumait','tabagique','fumeuse','fumé'],\n",
    "   alcool=['alcool','alcoolisme','Alcoolodépendance','Alcoolodépendant','Alcoolisation','alcoolique'],\n",
    "   diabete=['Diabète','Hyperglycémie','Hypoglycémie','Diabétique','Polyurie','Polydipsie','Polyphagie','diabète','hyperglycémie','hypoglycémie','diabétique','polyurie','polydipsie','polyphagie'],\n",
    "   sub_psy=['Psychoactive','Psychotrope','Psychostimulant','Psychodysleptique','Psychodélirant','Narcotique','Sédatif','Hypnotique','Anxiolytique','Antidépresseur','Stimulant','Hallucinogène','Dépresseur','Opiacé','Cannabinoïde','Dissociatif','Inhalant','psychoactive','psychotrope','psychostimulant','psychodysleptique','psychodélirant','narcotique','sédatif','hypnotique','anxiolytique','antidépresseur','stimulant','hallucinogène','dépresseur','opiacé','cannabinoïde','dissociatif','inhalant'],\n",
    "   tum_herit=['antécédents familiaux de tumeur maligne du sein']\n",
    ")"
   ]
  },
  {
   "cell_type": "code",
   "execution_count": 8,
   "metadata": {},
   "outputs": [],
   "source": [
    "def pick_results(doc):\n",
    "    \"\"\"\n",
    "    This function provides the entities that must be collected by the nlp process.\n",
    "    \"\"\"\n",
    "    return [{\n",
    "             'note_id':e.doc._.note_id,\n",
    "             'visit_occurrence_id':e.doc._.visit_occurrence_id,\n",
    "             'lexical_variant':e.text,\n",
    "             'label':e.label_,\n",
    "             'negation':e._.negation\n",
    "             } \n",
    "             for e in doc.ents if doc.ents]"
   ]
  },
  {
   "cell_type": "code",
   "execution_count": 9,
   "metadata": {},
   "outputs": [],
   "source": [
    "def calc_value(x):\n",
    "    state = {'tabac':'unknown', 'alcool':'unknown', 'diabete':'unknown', 'sub_psy':'unknown', 'tum_herit':'unknown', }\n",
    "    for _, row in x.iterrows():\n",
    "        for factor in state.keys():\n",
    "            if row['label'] == factor and row['negation']:\n",
    "                if state[factor] == \"unknown\" :\n",
    "                    state[factor] = \"False\"\n",
    "                elif state[factor] == \"True\" :\n",
    "                    state[factor] = \"ambiguous\"\n",
    "            if row['label'] == factor and not(row['negation']):\n",
    "                if state[factor] == \"unknown\" :\n",
    "                    state[factor] = \"True\"\n",
    "                elif state[factor] == \"False\" :\n",
    "                    state[factor] = \"ambiguous\"\n",
    "    return state"
   ]
  },
  {
   "cell_type": "code",
   "execution_count": 10,
   "metadata": {},
   "outputs": [
    {
     "data": {
      "text/plain": [
       "<edsnlp.pipelines.qualifiers.negation.negation.Negation at 0x1f08f06c088>"
      ]
     },
     "execution_count": 10,
     "metadata": {},
     "output_type": "execute_result"
    }
   ],
   "source": [
    "nlp = spacy.blank(\"fr\")\n",
    "# sentencizer component\n",
    "nlp.add_pipe('eds.sentences')\n",
    "nlp.add_pipe(\"eds.normalizer\")\n",
    "# Matcher component\n",
    "nlp.add_pipe(\"eds.matcher\", config=dict(terms=terms))\n",
    "nlp.add_pipe(\"eds.negation\")"
   ]
  },
  {
   "cell_type": "code",
   "execution_count": 11,
   "metadata": {},
   "outputs": [
    {
     "name": "stderr",
     "output_type": "stream",
     "text": [
      "WARNING:root:[Parallel(n_jobs=1)]: Used nlp components: ['eds.sentences', 'eds.normalizer', 'eds.matcher', 'eds.negation']\n"
     ]
    }
   ],
   "source": [
    "ents = parallel_pipe(\n",
    "                df_note,\n",
    "                nlp,\n",
    "                context=['note_id', 'visit_occurrence_id'],\n",
    "                progress_bar=False,\n",
    "                n_jobs=1, \n",
    "                results_extractor = pick_results,\n",
    "                )"
   ]
  },
  {
   "cell_type": "code",
   "execution_count": 12,
   "metadata": {},
   "outputs": [],
   "source": [
    "ents_grouped = ents.groupby('visit_occurrence_id').apply(calc_value).to_frame('state').reset_index()\n",
    "\n",
    "    \n",
    "    \n",
    "for factor in risk_factors :\n",
    "    ents_grouped[factor] = ents_grouped.state.apply(lambda x : x[factor]=='True')"
   ]
  },
  {
   "cell_type": "code",
   "execution_count": 13,
   "metadata": {},
   "outputs": [
    {
     "data": {
      "text/html": [
       "<div>\n",
       "<style scoped>\n",
       "    .dataframe tbody tr th:only-of-type {\n",
       "        vertical-align: middle;\n",
       "    }\n",
       "\n",
       "    .dataframe tbody tr th {\n",
       "        vertical-align: top;\n",
       "    }\n",
       "\n",
       "    .dataframe thead th {\n",
       "        text-align: right;\n",
       "    }\n",
       "</style>\n",
       "<table border=\"1\" class=\"dataframe\">\n",
       "  <thead>\n",
       "    <tr style=\"text-align: right;\">\n",
       "      <th></th>\n",
       "      <th>visit_occurrence_id</th>\n",
       "      <th>tabac</th>\n",
       "      <th>alcool</th>\n",
       "      <th>diabete</th>\n",
       "      <th>sub_psy</th>\n",
       "      <th>tum_herit</th>\n",
       "    </tr>\n",
       "  </thead>\n",
       "  <tbody>\n",
       "    <tr>\n",
       "      <th>0</th>\n",
       "      <td>80001324.0</td>\n",
       "      <td>True</td>\n",
       "      <td>False</td>\n",
       "      <td>False</td>\n",
       "      <td>False</td>\n",
       "      <td>False</td>\n",
       "    </tr>\n",
       "    <tr>\n",
       "      <th>1</th>\n",
       "      <td>80001693.0</td>\n",
       "      <td>True</td>\n",
       "      <td>False</td>\n",
       "      <td>False</td>\n",
       "      <td>False</td>\n",
       "      <td>False</td>\n",
       "    </tr>\n",
       "    <tr>\n",
       "      <th>2</th>\n",
       "      <td>80002115.0</td>\n",
       "      <td>False</td>\n",
       "      <td>False</td>\n",
       "      <td>False</td>\n",
       "      <td>False</td>\n",
       "      <td>False</td>\n",
       "    </tr>\n",
       "    <tr>\n",
       "      <th>3</th>\n",
       "      <td>80002464.0</td>\n",
       "      <td>False</td>\n",
       "      <td>False</td>\n",
       "      <td>False</td>\n",
       "      <td>False</td>\n",
       "      <td>False</td>\n",
       "    </tr>\n",
       "    <tr>\n",
       "      <th>4</th>\n",
       "      <td>80002814.0</td>\n",
       "      <td>False</td>\n",
       "      <td>False</td>\n",
       "      <td>False</td>\n",
       "      <td>False</td>\n",
       "      <td>False</td>\n",
       "    </tr>\n",
       "    <tr>\n",
       "      <th>...</th>\n",
       "      <td>...</td>\n",
       "      <td>...</td>\n",
       "      <td>...</td>\n",
       "      <td>...</td>\n",
       "      <td>...</td>\n",
       "      <td>...</td>\n",
       "    </tr>\n",
       "    <tr>\n",
       "      <th>16104</th>\n",
       "      <td>89998804.0</td>\n",
       "      <td>True</td>\n",
       "      <td>False</td>\n",
       "      <td>False</td>\n",
       "      <td>False</td>\n",
       "      <td>False</td>\n",
       "    </tr>\n",
       "    <tr>\n",
       "      <th>16105</th>\n",
       "      <td>89999192.0</td>\n",
       "      <td>False</td>\n",
       "      <td>False</td>\n",
       "      <td>False</td>\n",
       "      <td>False</td>\n",
       "      <td>False</td>\n",
       "    </tr>\n",
       "    <tr>\n",
       "      <th>16106</th>\n",
       "      <td>89999415.0</td>\n",
       "      <td>True</td>\n",
       "      <td>False</td>\n",
       "      <td>False</td>\n",
       "      <td>False</td>\n",
       "      <td>False</td>\n",
       "    </tr>\n",
       "    <tr>\n",
       "      <th>16107</th>\n",
       "      <td>89999467.0</td>\n",
       "      <td>True</td>\n",
       "      <td>True</td>\n",
       "      <td>False</td>\n",
       "      <td>False</td>\n",
       "      <td>False</td>\n",
       "    </tr>\n",
       "    <tr>\n",
       "      <th>16108</th>\n",
       "      <td>89999474.0</td>\n",
       "      <td>True</td>\n",
       "      <td>False</td>\n",
       "      <td>False</td>\n",
       "      <td>False</td>\n",
       "      <td>False</td>\n",
       "    </tr>\n",
       "  </tbody>\n",
       "</table>\n",
       "<p>16109 rows × 6 columns</p>\n",
       "</div>"
      ],
      "text/plain": [
       "       visit_occurrence_id  tabac  alcool  diabete  sub_psy  tum_herit\n",
       "0               80001324.0   True   False    False    False      False\n",
       "1               80001693.0   True   False    False    False      False\n",
       "2               80002115.0  False   False    False    False      False\n",
       "3               80002464.0  False   False    False    False      False\n",
       "4               80002814.0  False   False    False    False      False\n",
       "...                    ...    ...     ...      ...      ...        ...\n",
       "16104           89998804.0   True   False    False    False      False\n",
       "16105           89999192.0  False   False    False    False      False\n",
       "16106           89999415.0   True   False    False    False      False\n",
       "16107           89999467.0   True    True    False    False      False\n",
       "16108           89999474.0   True   False    False    False      False\n",
       "\n",
       "[16109 rows x 6 columns]"
      ]
     },
     "execution_count": 13,
     "metadata": {},
     "output_type": "execute_result"
    }
   ],
   "source": [
    "ents_grouped.head()\n",
    "ents_grouped.drop(columns=['state'])\n"
   ]
  },
  {
   "cell_type": "code",
   "execution_count": 14,
   "metadata": {},
   "outputs": [
    {
     "data": {
      "text/plain": [
       "16109"
      ]
     },
     "execution_count": 14,
     "metadata": {},
     "output_type": "execute_result"
    }
   ],
   "source": [
    "ents_grouped.visit_occurrence_id.nunique()"
   ]
  }
 ],
 "metadata": {
  "kernelspec": {
   "display_name": "eds-tuto",
   "language": "python",
   "name": "python3"
  },
  "language_info": {
   "codemirror_mode": {
    "name": "ipython",
    "version": 3
   },
   "file_extension": ".py",
   "mimetype": "text/x-python",
   "name": "python",
   "nbconvert_exporter": "python",
   "pygments_lexer": "ipython3",
   "version": "3.7.16"
  },
  "orig_nbformat": 4
 },
 "nbformat": 4,
 "nbformat_minor": 2
}
