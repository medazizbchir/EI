{
 "cells": [
  {
   "cell_type": "code",
   "execution_count": 11,
   "metadata": {
    "tags": []
   },
   "outputs": [],
   "source": [
    "import pandas as pd\n",
    "import numpy as np\n",
    "import pandasql as ps\n",
    "\n",
    "# Visualization library\n",
    "import altair as alt\n",
    "alt.data_transformers.enable('default', max_rows=None)\n",
    "\n",
    "# Dates management\n",
    "import datetime\n",
    "\n",
    "# For the computation of Kaplan-Meier estimates and log-rank tests\n",
    "import lifelines"
   ]
  },
  {
   "attachments": {},
   "cell_type": "markdown",
   "metadata": {},
   "source": [
    "<a id=\"data_exploration\"></a>\n",
    "# 1. Data Exploration"
   ]
  },
  {
   "attachments": {},
   "cell_type": "markdown",
   "metadata": {},
   "source": [
    "<a id=\"patient_ids\"></a>\n",
    "## 1.1 Patients' identities and demographic data"
   ]
  },
  {
   "cell_type": "code",
   "execution_count": 12,
   "metadata": {
    "tags": []
   },
   "outputs": [
    {
     "name": "stdout",
     "output_type": "stream",
     "text": [
      "<class 'pandas.core.frame.DataFrame'>\n",
      "Int64Index: 16168 entries, 0 to 216\n",
      "Data columns (total 5 columns):\n",
      " #   Column               Non-Null Count  Dtype         \n",
      "---  ------               --------------  -----         \n",
      " 0   birth_datetime       16168 non-null  datetime64[ns]\n",
      " 1   death_datetime       8848 non-null   datetime64[ns]\n",
      " 2   gender_source_value  16168 non-null  object        \n",
      " 3   cdm_source           16168 non-null  object        \n",
      " 4   person_id            16168 non-null  object        \n",
      "dtypes: datetime64[ns](2), object(3)\n",
      "memory usage: 757.9+ KB\n"
     ]
    },
    {
     "data": {
      "text/html": [
       "<div>\n",
       "<style scoped>\n",
       "    .dataframe tbody tr th:only-of-type {\n",
       "        vertical-align: middle;\n",
       "    }\n",
       "\n",
       "    .dataframe tbody tr th {\n",
       "        vertical-align: top;\n",
       "    }\n",
       "\n",
       "    .dataframe thead th {\n",
       "        text-align: right;\n",
       "    }\n",
       "</style>\n",
       "<table border=\"1\" class=\"dataframe\">\n",
       "  <thead>\n",
       "    <tr style=\"text-align: right;\">\n",
       "      <th></th>\n",
       "      <th>birth_datetime</th>\n",
       "      <th>death_datetime</th>\n",
       "      <th>gender_source_value</th>\n",
       "      <th>cdm_source</th>\n",
       "      <th>person_id</th>\n",
       "    </tr>\n",
       "  </thead>\n",
       "  <tbody>\n",
       "    <tr>\n",
       "      <th>0</th>\n",
       "      <td>2016-08-02</td>\n",
       "      <td>2024-06-17</td>\n",
       "      <td>female</td>\n",
       "      <td>EHR 1</td>\n",
       "      <td>86484326</td>\n",
       "    </tr>\n",
       "    <tr>\n",
       "      <th>1</th>\n",
       "      <td>2013-11-01</td>\n",
       "      <td>2022-01-23</td>\n",
       "      <td>female</td>\n",
       "      <td>EHR 1</td>\n",
       "      <td>89213495</td>\n",
       "    </tr>\n",
       "    <tr>\n",
       "      <th>2</th>\n",
       "      <td>2013-04-02</td>\n",
       "      <td>2022-02-27</td>\n",
       "      <td>f</td>\n",
       "      <td>EHR 1</td>\n",
       "      <td>88207887</td>\n",
       "    </tr>\n",
       "    <tr>\n",
       "      <th>3</th>\n",
       "      <td>2016-08-19</td>\n",
       "      <td>2021-09-24</td>\n",
       "      <td>f</td>\n",
       "      <td>EHR 1</td>\n",
       "      <td>80499395</td>\n",
       "    </tr>\n",
       "    <tr>\n",
       "      <th>4</th>\n",
       "      <td>2022-06-04</td>\n",
       "      <td>2022-11-01</td>\n",
       "      <td>f</td>\n",
       "      <td>EHR 1</td>\n",
       "      <td>84190053</td>\n",
       "    </tr>\n",
       "  </tbody>\n",
       "</table>\n",
       "</div>"
      ],
      "text/plain": [
       "  birth_datetime death_datetime gender_source_value cdm_source person_id\n",
       "0     2016-08-02     2024-06-17              female      EHR 1  86484326\n",
       "1     2013-11-01     2022-01-23              female      EHR 1  89213495\n",
       "2     2013-04-02     2022-02-27                   f      EHR 1  88207887\n",
       "3     2016-08-19     2021-09-24                   f      EHR 1  80499395\n",
       "4     2022-06-04     2022-11-01                   f      EHR 1  84190053"
      ]
     },
     "execution_count": 12,
     "metadata": {},
     "output_type": "execute_result"
    }
   ],
   "source": [
    "df_person = pd.read_pickle('data/df_person.pkl')\n",
    "df_person.info()\n",
    "df_person.head()"
   ]
  },
  {
   "cell_type": "code",
   "execution_count": 13,
   "metadata": {
    "tags": []
   },
   "outputs": [
    {
     "name": "stdout",
     "output_type": "stream",
     "text": [
      "We have 16168 unique patient ids in this dataset.\n"
     ]
    }
   ],
   "source": [
    "print(f\"We have {df_person.person_id.nunique()} unique patient ids in this dataset.\")"
   ]
  },
  {
   "cell_type": "code",
   "execution_count": 14,
   "metadata": {},
   "outputs": [
    {
     "name": "stdout",
     "output_type": "stream",
     "text": [
      "The available gender values are the following : ['female' 'f' 'male' 'm']\n"
     ]
    }
   ],
   "source": [
    "print(f\"The available gender values are the following : {df_person.gender_source_value.unique()}\")"
   ]
  },
  {
   "attachments": {},
   "cell_type": "markdown",
   "metadata": {},
   "source": [
    "<a id=\"visits\"></a>\n",
    "## 1.2 Administrative data related to patients' pathways"
   ]
  },
  {
   "cell_type": "code",
   "execution_count": 15,
   "metadata": {
    "tags": []
   },
   "outputs": [
    {
     "name": "stdout",
     "output_type": "stream",
     "text": [
      "<class 'pandas.core.frame.DataFrame'>\n",
      "Int64Index: 16168 entries, 0 to 216\n",
      "Data columns (total 6 columns):\n",
      " #   Column                Non-Null Count  Dtype         \n",
      "---  ------                --------------  -----         \n",
      " 0   visit_occurrence_id   16168 non-null  float64       \n",
      " 1   care_site_id          16168 non-null  object        \n",
      " 2   visit_start_datetime  16168 non-null  datetime64[ns]\n",
      " 3   visit_end_datetime    16137 non-null  datetime64[ns]\n",
      " 4   visit_source_value    16168 non-null  object        \n",
      " 5   person_id             16168 non-null  object        \n",
      "dtypes: datetime64[ns](2), float64(1), object(3)\n",
      "memory usage: 884.2+ KB\n"
     ]
    },
    {
     "data": {
      "text/html": [
       "<div>\n",
       "<style scoped>\n",
       "    .dataframe tbody tr th:only-of-type {\n",
       "        vertical-align: middle;\n",
       "    }\n",
       "\n",
       "    .dataframe tbody tr th {\n",
       "        vertical-align: top;\n",
       "    }\n",
       "\n",
       "    .dataframe thead th {\n",
       "        text-align: right;\n",
       "    }\n",
       "</style>\n",
       "<table border=\"1\" class=\"dataframe\">\n",
       "  <thead>\n",
       "    <tr style=\"text-align: right;\">\n",
       "      <th></th>\n",
       "      <th>visit_occurrence_id</th>\n",
       "      <th>care_site_id</th>\n",
       "      <th>visit_start_datetime</th>\n",
       "      <th>visit_end_datetime</th>\n",
       "      <th>visit_source_value</th>\n",
       "      <th>person_id</th>\n",
       "    </tr>\n",
       "  </thead>\n",
       "  <tbody>\n",
       "    <tr>\n",
       "      <th>0</th>\n",
       "      <td>82199313.0</td>\n",
       "      <td>Clinique L.Pasteur</td>\n",
       "      <td>2020-01-12</td>\n",
       "      <td>2020-01-27</td>\n",
       "      <td>Hospitalisés</td>\n",
       "      <td>87118775</td>\n",
       "    </tr>\n",
       "    <tr>\n",
       "      <th>1</th>\n",
       "      <td>84796321.0</td>\n",
       "      <td>Hopital M.Bres</td>\n",
       "      <td>2023-09-05</td>\n",
       "      <td>2023-09-21</td>\n",
       "      <td>Hospitalisés</td>\n",
       "      <td>85828583</td>\n",
       "    </tr>\n",
       "    <tr>\n",
       "      <th>2</th>\n",
       "      <td>83914646.0</td>\n",
       "      <td>Centre F.Sinoussi</td>\n",
       "      <td>2019-12-28</td>\n",
       "      <td>2020-01-12</td>\n",
       "      <td>Hospitalisés</td>\n",
       "      <td>88459112</td>\n",
       "    </tr>\n",
       "    <tr>\n",
       "      <th>3</th>\n",
       "      <td>84893973.0</td>\n",
       "      <td>Centre F.Sinoussi</td>\n",
       "      <td>2020-12-26</td>\n",
       "      <td>2020-12-26</td>\n",
       "      <td>Hospitalisés</td>\n",
       "      <td>88291057</td>\n",
       "    </tr>\n",
       "    <tr>\n",
       "      <th>4</th>\n",
       "      <td>88339649.0</td>\n",
       "      <td>GHU A.Fleming</td>\n",
       "      <td>2024-12-14</td>\n",
       "      <td>2025-01-03</td>\n",
       "      <td>Hospitalisés</td>\n",
       "      <td>89239332</td>\n",
       "    </tr>\n",
       "  </tbody>\n",
       "</table>\n",
       "</div>"
      ],
      "text/plain": [
       "   visit_occurrence_id        care_site_id visit_start_datetime  \\\n",
       "0           82199313.0  Clinique L.Pasteur           2020-01-12   \n",
       "1           84796321.0      Hopital M.Bres           2023-09-05   \n",
       "2           83914646.0   Centre F.Sinoussi           2019-12-28   \n",
       "3           84893973.0   Centre F.Sinoussi           2020-12-26   \n",
       "4           88339649.0       GHU A.Fleming           2024-12-14   \n",
       "\n",
       "  visit_end_datetime visit_source_value person_id  \n",
       "0         2020-01-27       Hospitalisés  87118775  \n",
       "1         2023-09-21       Hospitalisés  85828583  \n",
       "2         2020-01-12       Hospitalisés  88459112  \n",
       "3         2020-12-26       Hospitalisés  88291057  \n",
       "4         2025-01-03       Hospitalisés  89239332  "
      ]
     },
     "execution_count": 15,
     "metadata": {},
     "output_type": "execute_result"
    }
   ],
   "source": [
    "df_visit = pd.read_pickle('data/df_visit.pkl')\n",
    "df_visit.info()\n",
    "df_visit.head()"
   ]
  },
  {
   "cell_type": "code",
   "execution_count": 16,
   "metadata": {
    "tags": []
   },
   "outputs": [
    {
     "data": {
      "text/plain": [
       "Clinique L.Pasteur    4070\n",
       "GHU A.Fleming         4064\n",
       "Centre F.Sinoussi     4043\n",
       "Hopital M.Bres        3991\n",
       "Name: care_site_id, dtype: int64"
      ]
     },
     "execution_count": 16,
     "metadata": {},
     "output_type": "execute_result"
    }
   ],
   "source": [
    "df_visit.care_site_id.value_counts()"
   ]
  },
  {
   "attachments": {},
   "cell_type": "markdown",
   "metadata": {},
   "source": [
    "<a id=\"cond\"></a>\n",
    "## 1.3 Claim data related to patients' conditions (diagnosis)"
   ]
  },
  {
   "cell_type": "code",
   "execution_count": 37,
   "metadata": {
    "tags": []
   },
   "outputs": [
    {
     "name": "stdout",
     "output_type": "stream",
     "text": [
      "<class 'pandas.core.frame.DataFrame'>\n",
      "Int64Index: 24486 entries, 0 to 269\n",
      "Data columns (total 4 columns):\n",
      " #   Column                   Non-Null Count  Dtype  \n",
      "---  ------                   --------------  -----  \n",
      " 0   visit_occurrence_id      24486 non-null  float64\n",
      " 1   person_id                24486 non-null  object \n",
      " 2   condition_occurrence_id  24486 non-null  float64\n",
      " 3   condition_source_value   24486 non-null  object \n",
      "dtypes: float64(2), object(2)\n",
      "memory usage: 956.5+ KB\n"
     ]
    },
    {
     "data": {
      "text/html": [
       "<div>\n",
       "<style scoped>\n",
       "    .dataframe tbody tr th:only-of-type {\n",
       "        vertical-align: middle;\n",
       "    }\n",
       "\n",
       "    .dataframe tbody tr th {\n",
       "        vertical-align: top;\n",
       "    }\n",
       "\n",
       "    .dataframe thead th {\n",
       "        text-align: right;\n",
       "    }\n",
       "</style>\n",
       "<table border=\"1\" class=\"dataframe\">\n",
       "  <thead>\n",
       "    <tr style=\"text-align: right;\">\n",
       "      <th></th>\n",
       "      <th>visit_occurrence_id</th>\n",
       "      <th>person_id</th>\n",
       "      <th>condition_occurrence_id</th>\n",
       "      <th>condition_source_value</th>\n",
       "    </tr>\n",
       "  </thead>\n",
       "  <tbody>\n",
       "    <tr>\n",
       "      <th>0</th>\n",
       "      <td>82199313.0</td>\n",
       "      <td>87118775</td>\n",
       "      <td>86873029.0</td>\n",
       "      <td>C19</td>\n",
       "    </tr>\n",
       "    <tr>\n",
       "      <th>1</th>\n",
       "      <td>84796321.0</td>\n",
       "      <td>85828583</td>\n",
       "      <td>83986168.0</td>\n",
       "      <td>F023</td>\n",
       "    </tr>\n",
       "    <tr>\n",
       "      <th>2</th>\n",
       "      <td>83914646.0</td>\n",
       "      <td>88459112</td>\n",
       "      <td>81096634.0</td>\n",
       "      <td>G20</td>\n",
       "    </tr>\n",
       "    <tr>\n",
       "      <th>3</th>\n",
       "      <td>84893973.0</td>\n",
       "      <td>88291057</td>\n",
       "      <td>85075207.0</td>\n",
       "      <td>F023</td>\n",
       "    </tr>\n",
       "    <tr>\n",
       "      <th>4</th>\n",
       "      <td>88339649.0</td>\n",
       "      <td>89239332</td>\n",
       "      <td>82190905.0</td>\n",
       "      <td>G20</td>\n",
       "    </tr>\n",
       "  </tbody>\n",
       "</table>\n",
       "</div>"
      ],
      "text/plain": [
       "   visit_occurrence_id person_id  condition_occurrence_id  \\\n",
       "0           82199313.0  87118775               86873029.0   \n",
       "1           84796321.0  85828583               83986168.0   \n",
       "2           83914646.0  88459112               81096634.0   \n",
       "3           84893973.0  88291057               85075207.0   \n",
       "4           88339649.0  89239332               82190905.0   \n",
       "\n",
       "  condition_source_value  \n",
       "0                    C19  \n",
       "1                   F023  \n",
       "2                    G20  \n",
       "3                   F023  \n",
       "4                    G20  "
      ]
     },
     "execution_count": 37,
     "metadata": {},
     "output_type": "execute_result"
    }
   ],
   "source": [
    "df_condition = pd.read_pickle('data/df_condition.pkl')\n",
    "df_condition.info()\n",
    "df_condition.head()"
   ]
  },
  {
   "cell_type": "code",
   "execution_count": 18,
   "metadata": {
    "tags": []
   },
   "outputs": [
    {
     "name": "stdout",
     "output_type": "stream",
     "text": [
      "The available csv codes are the following : ['C19' 'F023' 'G20' 'C34' 'Z803' 'Z720' 'C504' 'C50' 'C502' 'C500' 'C501'\n",
      " 'C503' 'K70' 'F10' 'Z587' 'T51' 'Z864' 'E10' 'E12' 'I13' 'I12' 'I15'\n",
      " 'E11' 'Z716' 'B22' 'B21']\n"
     ]
    }
   ],
   "source": [
    "print(f\"The available csv codes are the following : {df_condition.condition_source_value.unique()}\")"
   ]
  },
  {
   "attachments": {},
   "cell_type": "markdown",
   "metadata": {},
   "source": [
    "<a id=\"preprocessing\"></a>\n",
    "# 2. Preprocessing"
   ]
  },
  {
   "attachments": {},
   "cell_type": "markdown",
   "metadata": {},
   "source": [
    "<a id=\"prepro_patient\"></a>\n",
    "## 2.1 Pre-processing patients' identities and demographic data"
   ]
  },
  {
   "attachments": {},
   "cell_type": "markdown",
   "metadata": {},
   "source": [
    "### 2.1.1 Birth dates"
   ]
  },
  {
   "cell_type": "code",
   "execution_count": 19,
   "metadata": {
    "tags": []
   },
   "outputs": [
    {
     "data": {
      "text/plain": [
       "birth_datetime            0\n",
       "death_datetime         7320\n",
       "gender_source_value       0\n",
       "cdm_source                0\n",
       "person_id                 0\n",
       "dtype: int64"
      ]
     },
     "execution_count": 19,
     "metadata": {},
     "output_type": "execute_result"
    }
   ],
   "source": [
    "df_person.isna().sum()"
   ]
  },
  {
   "attachments": {},
   "cell_type": "markdown",
   "metadata": {},
   "source": [
    "there is no missing birth_datetime."
   ]
  },
  {
   "cell_type": "code",
   "execution_count": 20,
   "metadata": {
    "tags": []
   },
   "outputs": [],
   "source": [
    "df_person['birth_date'] = df_person['birth_datetime'].dt.strftime('%Y-%m')"
   ]
  },
  {
   "cell_type": "code",
   "execution_count": 21,
   "metadata": {
    "tags": []
   },
   "outputs": [],
   "source": [
    "birth_dates_summary = df_person.groupby(\"birth_date\", as_index=False).person_id.count()"
   ]
  },
  {
   "cell_type": "code",
   "execution_count": 22,
   "metadata": {
    "scrolled": true,
    "tags": []
   },
   "outputs": [
    {
     "data": {
      "text/html": [
       "\n",
       "<style>\n",
       "  #altair-viz-c5faf9c540f24836b18b8067f6f26370.vega-embed {\n",
       "    width: 100%;\n",
       "    display: flex;\n",
       "  }\n",
       "\n",
       "  #altair-viz-c5faf9c540f24836b18b8067f6f26370.vega-embed details,\n",
       "  #altair-viz-c5faf9c540f24836b18b8067f6f26370.vega-embed details summary {\n",
       "    position: relative;\n",
       "  }\n",
       "</style>\n",
       "<div id=\"altair-viz-c5faf9c540f24836b18b8067f6f26370\"></div>\n",
       "<script type=\"text/javascript\">\n",
       "  var VEGA_DEBUG = (typeof VEGA_DEBUG == \"undefined\") ? {} : VEGA_DEBUG;\n",
       "  (function(spec, embedOpt){\n",
       "    let outputDiv = document.currentScript.previousElementSibling;\n",
       "    if (outputDiv.id !== \"altair-viz-c5faf9c540f24836b18b8067f6f26370\") {\n",
       "      outputDiv = document.getElementById(\"altair-viz-c5faf9c540f24836b18b8067f6f26370\");\n",
       "    }\n",
       "    const paths = {\n",
       "      \"vega\": \"https://cdn.jsdelivr.net/npm/vega@5?noext\",\n",
       "      \"vega-lib\": \"https://cdn.jsdelivr.net/npm/vega-lib?noext\",\n",
       "      \"vega-lite\": \"https://cdn.jsdelivr.net/npm/vega-lite@5.8.0?noext\",\n",
       "      \"vega-embed\": \"https://cdn.jsdelivr.net/npm/vega-embed@6?noext\",\n",
       "    };\n",
       "\n",
       "    function maybeLoadScript(lib, version) {\n",
       "      var key = `${lib.replace(\"-\", \"\")}_version`;\n",
       "      return (VEGA_DEBUG[key] == version) ?\n",
       "        Promise.resolve(paths[lib]) :\n",
       "        new Promise(function(resolve, reject) {\n",
       "          var s = document.createElement('script');\n",
       "          document.getElementsByTagName(\"head\")[0].appendChild(s);\n",
       "          s.async = true;\n",
       "          s.onload = () => {\n",
       "            VEGA_DEBUG[key] = version;\n",
       "            return resolve(paths[lib]);\n",
       "          };\n",
       "          s.onerror = () => reject(`Error loading script: ${paths[lib]}`);\n",
       "          s.src = paths[lib];\n",
       "        });\n",
       "    }\n",
       "\n",
       "    function showError(err) {\n",
       "      outputDiv.innerHTML = `<div class=\"error\" style=\"color:red;\">${err}</div>`;\n",
       "      throw err;\n",
       "    }\n",
       "\n",
       "    function displayChart(vegaEmbed) {\n",
       "      vegaEmbed(outputDiv, spec, embedOpt)\n",
       "        .catch(err => showError(`Javascript Error: ${err.message}<br>This usually means there's a typo in your chart specification. See the javascript console for the full traceback.`));\n",
       "    }\n",
       "\n",
       "    if(typeof define === \"function\" && define.amd) {\n",
       "      requirejs.config({paths});\n",
       "      require([\"vega-embed\"], displayChart, err => showError(`Error loading script: ${err.message}`));\n",
       "    } else {\n",
       "      maybeLoadScript(\"vega\", \"5\")\n",
       "        .then(() => maybeLoadScript(\"vega-lite\", \"5.8.0\"))\n",
       "        .then(() => maybeLoadScript(\"vega-embed\", \"6\"))\n",
       "        .catch(showError)\n",
       "        .then(() => displayChart(vegaEmbed));\n",
       "    }\n",
       "  })({\"config\": {\"view\": {\"continuousWidth\": 300, \"continuousHeight\": 300}}, \"data\": {\"name\": \"data-fd5e90832e3af6ae322b2a9b53028859\"}, \"mark\": {\"type\": \"bar\", \"size\": 1}, \"encoding\": {\"x\": {\"field\": \"birth_date\", \"scale\": {\"padding\": 5}, \"type\": \"temporal\"}, \"y\": {\"field\": \"person_id\", \"type\": \"quantitative\"}}, \"$schema\": \"https://vega.github.io/schema/vega-lite/v5.8.0.json\", \"datasets\": {\"data-fd5e90832e3af6ae322b2a9b53028859\": [{\"birth_date\": \"1920-02\", \"person_id\": 3}, {\"birth_date\": \"1920-03\", \"person_id\": 3}, {\"birth_date\": \"1920-04\", \"person_id\": 2}, {\"birth_date\": \"1920-06\", \"person_id\": 2}, {\"birth_date\": \"1920-07\", \"person_id\": 6}, {\"birth_date\": \"1920-08\", \"person_id\": 4}, {\"birth_date\": \"1920-09\", \"person_id\": 1}, {\"birth_date\": \"1920-10\", \"person_id\": 2}, {\"birth_date\": \"1920-12\", \"person_id\": 1}, {\"birth_date\": \"1921-01\", \"person_id\": 3}, {\"birth_date\": \"1921-02\", \"person_id\": 1}, {\"birth_date\": \"1921-03\", \"person_id\": 7}, {\"birth_date\": \"1921-04\", \"person_id\": 3}, {\"birth_date\": \"1921-05\", \"person_id\": 6}, {\"birth_date\": \"1921-06\", \"person_id\": 9}, {\"birth_date\": \"1921-07\", \"person_id\": 5}, {\"birth_date\": \"1921-08\", \"person_id\": 2}, {\"birth_date\": \"1921-09\", \"person_id\": 7}, {\"birth_date\": \"1921-10\", \"person_id\": 2}, {\"birth_date\": \"1921-11\", \"person_id\": 8}, {\"birth_date\": \"1921-12\", \"person_id\": 1}, {\"birth_date\": \"1922-01\", \"person_id\": 4}, {\"birth_date\": \"1922-02\", \"person_id\": 3}, {\"birth_date\": \"1922-03\", \"person_id\": 6}, {\"birth_date\": \"1922-04\", \"person_id\": 4}, {\"birth_date\": \"1922-05\", \"person_id\": 7}, {\"birth_date\": \"1922-06\", \"person_id\": 2}, {\"birth_date\": \"1922-07\", \"person_id\": 9}, {\"birth_date\": \"1922-08\", \"person_id\": 11}, {\"birth_date\": \"1922-09\", \"person_id\": 6}, {\"birth_date\": \"1922-10\", \"person_id\": 7}, {\"birth_date\": \"1922-11\", \"person_id\": 8}, {\"birth_date\": \"1922-12\", \"person_id\": 8}, {\"birth_date\": \"1923-01\", \"person_id\": 18}, {\"birth_date\": \"1923-02\", \"person_id\": 14}, {\"birth_date\": \"1923-03\", \"person_id\": 9}, {\"birth_date\": \"1923-04\", \"person_id\": 13}, {\"birth_date\": \"1923-05\", \"person_id\": 13}, {\"birth_date\": \"1923-06\", \"person_id\": 7}, {\"birth_date\": \"1923-07\", \"person_id\": 8}, {\"birth_date\": \"1923-08\", \"person_id\": 13}, {\"birth_date\": \"1923-09\", \"person_id\": 11}, {\"birth_date\": \"1923-10\", \"person_id\": 19}, {\"birth_date\": \"1923-11\", \"person_id\": 10}, {\"birth_date\": \"1923-12\", \"person_id\": 12}, {\"birth_date\": \"1924-01\", \"person_id\": 15}, {\"birth_date\": \"1924-02\", \"person_id\": 10}, {\"birth_date\": \"1924-03\", \"person_id\": 17}, {\"birth_date\": \"1924-04\", \"person_id\": 5}, {\"birth_date\": \"1924-05\", \"person_id\": 17}, {\"birth_date\": \"1924-06\", \"person_id\": 18}, {\"birth_date\": \"1924-07\", \"person_id\": 11}, {\"birth_date\": \"1924-08\", \"person_id\": 19}, {\"birth_date\": \"1924-09\", \"person_id\": 15}, {\"birth_date\": \"1924-10\", \"person_id\": 19}, {\"birth_date\": \"1924-11\", \"person_id\": 15}, {\"birth_date\": \"1924-12\", \"person_id\": 13}, {\"birth_date\": \"1925-01\", \"person_id\": 12}, {\"birth_date\": \"1925-02\", \"person_id\": 12}, {\"birth_date\": \"1925-03\", \"person_id\": 22}, {\"birth_date\": \"1925-04\", \"person_id\": 19}, {\"birth_date\": \"1925-05\", \"person_id\": 12}, {\"birth_date\": \"1925-06\", \"person_id\": 19}, {\"birth_date\": \"1925-07\", \"person_id\": 19}, {\"birth_date\": \"1925-08\", \"person_id\": 13}, {\"birth_date\": \"1925-09\", \"person_id\": 20}, {\"birth_date\": \"1925-10\", \"person_id\": 16}, {\"birth_date\": \"1925-11\", \"person_id\": 11}, {\"birth_date\": \"1925-12\", \"person_id\": 15}, {\"birth_date\": \"1926-01\", \"person_id\": 17}, {\"birth_date\": \"1926-02\", \"person_id\": 21}, {\"birth_date\": \"1926-03\", \"person_id\": 13}, {\"birth_date\": \"1926-04\", \"person_id\": 18}, {\"birth_date\": \"1926-05\", \"person_id\": 15}, {\"birth_date\": \"1926-06\", \"person_id\": 11}, {\"birth_date\": \"1926-07\", \"person_id\": 22}, {\"birth_date\": \"1926-08\", \"person_id\": 24}, {\"birth_date\": \"1926-09\", \"person_id\": 14}, {\"birth_date\": \"1926-10\", \"person_id\": 24}, {\"birth_date\": \"1926-11\", \"person_id\": 19}, {\"birth_date\": \"1926-12\", \"person_id\": 24}, {\"birth_date\": \"1927-01\", \"person_id\": 20}, {\"birth_date\": \"1927-02\", \"person_id\": 21}, {\"birth_date\": \"1927-03\", \"person_id\": 25}, {\"birth_date\": \"1927-04\", \"person_id\": 17}, {\"birth_date\": \"1927-05\", \"person_id\": 28}, {\"birth_date\": \"1927-06\", \"person_id\": 15}, {\"birth_date\": \"1927-07\", \"person_id\": 17}, {\"birth_date\": \"1927-08\", \"person_id\": 10}, {\"birth_date\": \"1927-09\", \"person_id\": 12}, {\"birth_date\": \"1927-10\", \"person_id\": 12}, {\"birth_date\": \"1927-11\", \"person_id\": 16}, {\"birth_date\": \"1927-12\", \"person_id\": 15}, {\"birth_date\": \"1928-01\", \"person_id\": 15}, {\"birth_date\": \"1928-02\", \"person_id\": 13}, {\"birth_date\": \"1928-03\", \"person_id\": 32}, {\"birth_date\": \"1928-04\", \"person_id\": 11}, {\"birth_date\": \"1928-05\", \"person_id\": 18}, {\"birth_date\": \"1928-06\", \"person_id\": 17}, {\"birth_date\": \"1928-07\", \"person_id\": 19}, {\"birth_date\": \"1928-08\", \"person_id\": 22}, {\"birth_date\": \"1928-09\", \"person_id\": 15}, {\"birth_date\": \"1928-10\", \"person_id\": 19}, {\"birth_date\": \"1928-11\", \"person_id\": 17}, {\"birth_date\": \"1928-12\", \"person_id\": 18}, {\"birth_date\": \"1929-01\", \"person_id\": 21}, {\"birth_date\": \"1929-02\", \"person_id\": 16}, {\"birth_date\": \"1929-03\", \"person_id\": 14}, {\"birth_date\": \"1929-04\", \"person_id\": 20}, {\"birth_date\": \"1929-05\", \"person_id\": 25}, {\"birth_date\": \"1929-06\", \"person_id\": 28}, {\"birth_date\": \"1929-07\", \"person_id\": 19}, {\"birth_date\": \"1929-08\", \"person_id\": 16}, {\"birth_date\": \"1929-09\", \"person_id\": 21}, {\"birth_date\": \"1929-10\", \"person_id\": 24}, {\"birth_date\": \"1929-11\", \"person_id\": 14}, {\"birth_date\": \"1929-12\", \"person_id\": 24}, {\"birth_date\": \"1930-01\", \"person_id\": 19}, {\"birth_date\": \"1930-02\", \"person_id\": 16}, {\"birth_date\": \"1930-03\", \"person_id\": 29}, {\"birth_date\": \"1930-04\", \"person_id\": 14}, {\"birth_date\": \"1930-05\", \"person_id\": 23}, {\"birth_date\": \"1930-06\", \"person_id\": 15}, {\"birth_date\": \"1930-07\", \"person_id\": 22}, {\"birth_date\": \"1930-08\", \"person_id\": 26}, {\"birth_date\": \"1930-09\", \"person_id\": 19}, {\"birth_date\": \"1930-10\", \"person_id\": 19}, {\"birth_date\": \"1930-11\", \"person_id\": 16}, {\"birth_date\": \"1930-12\", \"person_id\": 14}, {\"birth_date\": \"1931-01\", \"person_id\": 12}, {\"birth_date\": \"1931-02\", \"person_id\": 24}, {\"birth_date\": \"1931-03\", \"person_id\": 15}, {\"birth_date\": \"1931-04\", \"person_id\": 18}, {\"birth_date\": \"1931-05\", \"person_id\": 20}, {\"birth_date\": \"1931-06\", \"person_id\": 30}, {\"birth_date\": \"1931-07\", \"person_id\": 14}, {\"birth_date\": \"1931-08\", \"person_id\": 9}, {\"birth_date\": \"1931-09\", \"person_id\": 15}, {\"birth_date\": \"1931-10\", \"person_id\": 18}, {\"birth_date\": \"1931-11\", \"person_id\": 23}, {\"birth_date\": \"1931-12\", \"person_id\": 16}, {\"birth_date\": \"1932-01\", \"person_id\": 17}, {\"birth_date\": \"1932-02\", \"person_id\": 14}, {\"birth_date\": \"1932-03\", \"person_id\": 14}, {\"birth_date\": \"1932-04\", \"person_id\": 16}, {\"birth_date\": \"1932-05\", \"person_id\": 19}, {\"birth_date\": \"1932-06\", \"person_id\": 21}, {\"birth_date\": \"1932-07\", \"person_id\": 11}, {\"birth_date\": \"1932-08\", \"person_id\": 22}, {\"birth_date\": \"1932-09\", \"person_id\": 16}, {\"birth_date\": \"1932-10\", \"person_id\": 25}, {\"birth_date\": \"1932-11\", \"person_id\": 22}, {\"birth_date\": \"1932-12\", \"person_id\": 15}, {\"birth_date\": \"1933-01\", \"person_id\": 11}, {\"birth_date\": \"1933-02\", \"person_id\": 12}, {\"birth_date\": \"1933-03\", \"person_id\": 12}, {\"birth_date\": \"1933-04\", \"person_id\": 17}, {\"birth_date\": \"1933-05\", \"person_id\": 17}, {\"birth_date\": \"1933-06\", \"person_id\": 22}, {\"birth_date\": \"1933-07\", \"person_id\": 15}, {\"birth_date\": \"1933-08\", \"person_id\": 29}, {\"birth_date\": \"1933-09\", \"person_id\": 11}, {\"birth_date\": \"1933-10\", \"person_id\": 21}, {\"birth_date\": \"1933-11\", \"person_id\": 20}, {\"birth_date\": \"1933-12\", \"person_id\": 21}, {\"birth_date\": \"1934-01\", \"person_id\": 17}, {\"birth_date\": \"1934-02\", \"person_id\": 14}, {\"birth_date\": \"1934-03\", \"person_id\": 17}, {\"birth_date\": \"1934-04\", \"person_id\": 21}, {\"birth_date\": \"1934-05\", \"person_id\": 21}, {\"birth_date\": \"1934-06\", \"person_id\": 19}, {\"birth_date\": \"1934-07\", \"person_id\": 27}, {\"birth_date\": \"1934-08\", \"person_id\": 23}, {\"birth_date\": \"1934-09\", \"person_id\": 13}, {\"birth_date\": \"1934-10\", \"person_id\": 11}, {\"birth_date\": \"1934-11\", \"person_id\": 14}, {\"birth_date\": \"1934-12\", \"person_id\": 16}, {\"birth_date\": \"1935-01\", \"person_id\": 21}, {\"birth_date\": \"1935-02\", \"person_id\": 9}, {\"birth_date\": \"1935-03\", \"person_id\": 23}, {\"birth_date\": \"1935-04\", \"person_id\": 16}, {\"birth_date\": \"1935-05\", \"person_id\": 16}, {\"birth_date\": \"1935-06\", \"person_id\": 21}, {\"birth_date\": \"1935-07\", \"person_id\": 18}, {\"birth_date\": \"1935-08\", \"person_id\": 19}, {\"birth_date\": \"1935-09\", \"person_id\": 18}, {\"birth_date\": \"1935-10\", \"person_id\": 21}, {\"birth_date\": \"1935-11\", \"person_id\": 15}, {\"birth_date\": \"1935-12\", \"person_id\": 15}, {\"birth_date\": \"1936-01\", \"person_id\": 18}, {\"birth_date\": \"1936-02\", \"person_id\": 17}, {\"birth_date\": \"1936-03\", \"person_id\": 13}, {\"birth_date\": \"1936-04\", \"person_id\": 22}, {\"birth_date\": \"1936-05\", \"person_id\": 15}, {\"birth_date\": \"1936-06\", \"person_id\": 21}, {\"birth_date\": \"1936-07\", \"person_id\": 10}, {\"birth_date\": \"1936-08\", \"person_id\": 25}, {\"birth_date\": \"1936-09\", \"person_id\": 15}, {\"birth_date\": \"1936-10\", \"person_id\": 21}, {\"birth_date\": \"1936-11\", \"person_id\": 12}, {\"birth_date\": \"1936-12\", \"person_id\": 16}, {\"birth_date\": \"1937-01\", \"person_id\": 24}, {\"birth_date\": \"1937-02\", \"person_id\": 15}, {\"birth_date\": \"1937-03\", \"person_id\": 15}, {\"birth_date\": \"1937-04\", \"person_id\": 15}, {\"birth_date\": \"1937-05\", \"person_id\": 20}, {\"birth_date\": \"1937-06\", \"person_id\": 16}, {\"birth_date\": \"1937-07\", \"person_id\": 18}, {\"birth_date\": \"1937-08\", \"person_id\": 14}, {\"birth_date\": \"1937-09\", \"person_id\": 19}, {\"birth_date\": \"1937-10\", \"person_id\": 18}, {\"birth_date\": \"1937-11\", \"person_id\": 17}, {\"birth_date\": \"1937-12\", \"person_id\": 19}, {\"birth_date\": \"1938-01\", \"person_id\": 17}, {\"birth_date\": \"1938-02\", \"person_id\": 23}, {\"birth_date\": \"1938-03\", \"person_id\": 19}, {\"birth_date\": \"1938-04\", \"person_id\": 23}, {\"birth_date\": \"1938-05\", \"person_id\": 12}, {\"birth_date\": \"1938-06\", \"person_id\": 15}, {\"birth_date\": \"1938-07\", \"person_id\": 21}, {\"birth_date\": \"1938-08\", \"person_id\": 19}, {\"birth_date\": \"1938-09\", \"person_id\": 12}, {\"birth_date\": \"1938-10\", \"person_id\": 20}, {\"birth_date\": \"1938-11\", \"person_id\": 11}, {\"birth_date\": \"1938-12\", \"person_id\": 21}, {\"birth_date\": \"1939-01\", \"person_id\": 20}, {\"birth_date\": \"1939-02\", \"person_id\": 17}, {\"birth_date\": \"1939-03\", \"person_id\": 14}, {\"birth_date\": \"1939-04\", \"person_id\": 19}, {\"birth_date\": \"1939-05\", \"person_id\": 18}, {\"birth_date\": \"1939-06\", \"person_id\": 15}, {\"birth_date\": \"1939-07\", \"person_id\": 22}, {\"birth_date\": \"1939-08\", \"person_id\": 32}, {\"birth_date\": \"1939-09\", \"person_id\": 13}, {\"birth_date\": \"1939-10\", \"person_id\": 22}, {\"birth_date\": \"1939-11\", \"person_id\": 14}, {\"birth_date\": \"1939-12\", \"person_id\": 10}, {\"birth_date\": \"1940-01\", \"person_id\": 18}, {\"birth_date\": \"1940-02\", \"person_id\": 24}, {\"birth_date\": \"1940-03\", \"person_id\": 21}, {\"birth_date\": \"1940-04\", \"person_id\": 26}, {\"birth_date\": \"1940-05\", \"person_id\": 15}, {\"birth_date\": \"1940-06\", \"person_id\": 20}, {\"birth_date\": \"1940-07\", \"person_id\": 15}, {\"birth_date\": \"1940-08\", \"person_id\": 28}, {\"birth_date\": \"1940-09\", \"person_id\": 20}, {\"birth_date\": \"1940-10\", \"person_id\": 13}, {\"birth_date\": \"1940-11\", \"person_id\": 14}, {\"birth_date\": \"1940-12\", \"person_id\": 19}, {\"birth_date\": \"1941-01\", \"person_id\": 12}, {\"birth_date\": \"1941-02\", \"person_id\": 12}, {\"birth_date\": \"1941-03\", \"person_id\": 15}, {\"birth_date\": \"1941-04\", \"person_id\": 15}, {\"birth_date\": \"1941-05\", \"person_id\": 16}, {\"birth_date\": \"1941-06\", \"person_id\": 14}, {\"birth_date\": \"1941-07\", \"person_id\": 16}, {\"birth_date\": \"1941-08\", \"person_id\": 18}, {\"birth_date\": \"1941-09\", \"person_id\": 18}, {\"birth_date\": \"1941-10\", \"person_id\": 27}, {\"birth_date\": \"1941-11\", \"person_id\": 13}, {\"birth_date\": \"1941-12\", \"person_id\": 20}, {\"birth_date\": \"1942-01\", \"person_id\": 20}, {\"birth_date\": \"1942-02\", \"person_id\": 8}, {\"birth_date\": \"1942-03\", \"person_id\": 18}, {\"birth_date\": \"1942-04\", \"person_id\": 15}, {\"birth_date\": \"1942-05\", \"person_id\": 22}, {\"birth_date\": \"1942-06\", \"person_id\": 15}, {\"birth_date\": \"1942-07\", \"person_id\": 18}, {\"birth_date\": \"1942-08\", \"person_id\": 12}, {\"birth_date\": \"1942-09\", \"person_id\": 22}, {\"birth_date\": \"1942-10\", \"person_id\": 17}, {\"birth_date\": \"1942-11\", \"person_id\": 21}, {\"birth_date\": \"1942-12\", \"person_id\": 26}, {\"birth_date\": \"1943-01\", \"person_id\": 17}, {\"birth_date\": \"1943-02\", \"person_id\": 15}, {\"birth_date\": \"1943-03\", \"person_id\": 10}, {\"birth_date\": \"1943-04\", \"person_id\": 15}, {\"birth_date\": \"1943-05\", \"person_id\": 13}, {\"birth_date\": \"1943-06\", \"person_id\": 21}, {\"birth_date\": \"1943-07\", \"person_id\": 22}, {\"birth_date\": \"1943-08\", \"person_id\": 25}, {\"birth_date\": \"1943-09\", \"person_id\": 18}, {\"birth_date\": \"1943-10\", \"person_id\": 23}, {\"birth_date\": \"1943-11\", \"person_id\": 21}, {\"birth_date\": \"1943-12\", \"person_id\": 19}, {\"birth_date\": \"1944-01\", \"person_id\": 25}, {\"birth_date\": \"1944-02\", \"person_id\": 12}, {\"birth_date\": \"1944-03\", \"person_id\": 17}, {\"birth_date\": \"1944-04\", \"person_id\": 19}, {\"birth_date\": \"1944-05\", \"person_id\": 22}, {\"birth_date\": \"1944-06\", \"person_id\": 15}, {\"birth_date\": \"1944-07\", \"person_id\": 21}, {\"birth_date\": \"1944-08\", \"person_id\": 23}, {\"birth_date\": \"1944-09\", \"person_id\": 21}, {\"birth_date\": \"1944-10\", \"person_id\": 11}, {\"birth_date\": \"1944-11\", \"person_id\": 18}, {\"birth_date\": \"1944-12\", \"person_id\": 19}, {\"birth_date\": \"1945-01\", \"person_id\": 15}, {\"birth_date\": \"1945-02\", \"person_id\": 18}, {\"birth_date\": \"1945-03\", \"person_id\": 16}, {\"birth_date\": \"1945-04\", \"person_id\": 26}, {\"birth_date\": \"1945-05\", \"person_id\": 21}, {\"birth_date\": \"1945-06\", \"person_id\": 16}, {\"birth_date\": \"1945-07\", \"person_id\": 15}, {\"birth_date\": \"1945-08\", \"person_id\": 16}, {\"birth_date\": \"1945-09\", \"person_id\": 21}, {\"birth_date\": \"1945-10\", \"person_id\": 16}, {\"birth_date\": \"1945-11\", \"person_id\": 22}, {\"birth_date\": \"1945-12\", \"person_id\": 15}, {\"birth_date\": \"1946-01\", \"person_id\": 15}, {\"birth_date\": \"1946-02\", \"person_id\": 20}, {\"birth_date\": \"1946-03\", \"person_id\": 21}, {\"birth_date\": \"1946-04\", \"person_id\": 13}, {\"birth_date\": \"1946-05\", \"person_id\": 32}, {\"birth_date\": \"1946-06\", \"person_id\": 21}, {\"birth_date\": \"1946-07\", \"person_id\": 17}, {\"birth_date\": \"1946-08\", \"person_id\": 19}, {\"birth_date\": \"1946-09\", \"person_id\": 14}, {\"birth_date\": \"1946-10\", \"person_id\": 19}, {\"birth_date\": \"1946-11\", \"person_id\": 14}, {\"birth_date\": \"1946-12\", \"person_id\": 26}, {\"birth_date\": \"1947-01\", \"person_id\": 14}, {\"birth_date\": \"1947-02\", \"person_id\": 11}, {\"birth_date\": \"1947-03\", \"person_id\": 14}, {\"birth_date\": \"1947-04\", \"person_id\": 24}, {\"birth_date\": \"1947-05\", \"person_id\": 22}, {\"birth_date\": \"1947-06\", \"person_id\": 15}, {\"birth_date\": \"1947-07\", \"person_id\": 22}, {\"birth_date\": \"1947-08\", \"person_id\": 27}, {\"birth_date\": \"1947-09\", \"person_id\": 16}, {\"birth_date\": \"1947-10\", \"person_id\": 19}, {\"birth_date\": \"1947-11\", \"person_id\": 18}, {\"birth_date\": \"1947-12\", \"person_id\": 19}, {\"birth_date\": \"1948-01\", \"person_id\": 16}, {\"birth_date\": \"1948-02\", \"person_id\": 22}, {\"birth_date\": \"1948-03\", \"person_id\": 20}, {\"birth_date\": \"1948-04\", \"person_id\": 8}, {\"birth_date\": \"1948-05\", \"person_id\": 20}, {\"birth_date\": \"1948-06\", \"person_id\": 24}, {\"birth_date\": \"1948-07\", \"person_id\": 19}, {\"birth_date\": \"1948-08\", \"person_id\": 16}, {\"birth_date\": \"1948-09\", \"person_id\": 18}, {\"birth_date\": \"1948-10\", \"person_id\": 16}, {\"birth_date\": \"1948-11\", \"person_id\": 15}, {\"birth_date\": \"1948-12\", \"person_id\": 15}, {\"birth_date\": \"1949-01\", \"person_id\": 15}, {\"birth_date\": \"1949-02\", \"person_id\": 24}, {\"birth_date\": \"1949-03\", \"person_id\": 25}, {\"birth_date\": \"1949-04\", \"person_id\": 25}, {\"birth_date\": \"1949-05\", \"person_id\": 21}, {\"birth_date\": \"1949-06\", \"person_id\": 20}, {\"birth_date\": \"1949-07\", \"person_id\": 22}, {\"birth_date\": \"1949-08\", \"person_id\": 16}, {\"birth_date\": \"1949-09\", \"person_id\": 27}, {\"birth_date\": \"1949-10\", \"person_id\": 16}, {\"birth_date\": \"1949-11\", \"person_id\": 14}, {\"birth_date\": \"1949-12\", \"person_id\": 8}, {\"birth_date\": \"1950-01\", \"person_id\": 13}, {\"birth_date\": \"1950-02\", \"person_id\": 17}, {\"birth_date\": \"1950-03\", \"person_id\": 23}, {\"birth_date\": \"1950-04\", \"person_id\": 14}, {\"birth_date\": \"1950-05\", \"person_id\": 14}, {\"birth_date\": \"1950-06\", \"person_id\": 17}, {\"birth_date\": \"1950-07\", \"person_id\": 24}, {\"birth_date\": \"1950-08\", \"person_id\": 15}, {\"birth_date\": \"1950-09\", \"person_id\": 12}, {\"birth_date\": \"1950-10\", \"person_id\": 19}, {\"birth_date\": \"1950-11\", \"person_id\": 9}, {\"birth_date\": \"1950-12\", \"person_id\": 16}, {\"birth_date\": \"1951-01\", \"person_id\": 24}, {\"birth_date\": \"1951-02\", \"person_id\": 7}, {\"birth_date\": \"1951-03\", \"person_id\": 14}, {\"birth_date\": \"1951-04\", \"person_id\": 16}, {\"birth_date\": \"1951-05\", \"person_id\": 17}, {\"birth_date\": \"1951-06\", \"person_id\": 11}, {\"birth_date\": \"1951-07\", \"person_id\": 25}, {\"birth_date\": \"1951-08\", \"person_id\": 24}, {\"birth_date\": \"1951-09\", \"person_id\": 22}, {\"birth_date\": \"1951-10\", \"person_id\": 17}, {\"birth_date\": \"1951-11\", \"person_id\": 13}, {\"birth_date\": \"1951-12\", \"person_id\": 12}, {\"birth_date\": \"1952-01\", \"person_id\": 15}, {\"birth_date\": \"1952-02\", \"person_id\": 14}, {\"birth_date\": \"1952-03\", \"person_id\": 17}, {\"birth_date\": \"1952-04\", \"person_id\": 6}, {\"birth_date\": \"1952-05\", \"person_id\": 20}, {\"birth_date\": \"1952-06\", \"person_id\": 12}, {\"birth_date\": \"1952-07\", \"person_id\": 17}, {\"birth_date\": \"1952-08\", \"person_id\": 11}, {\"birth_date\": \"1952-09\", \"person_id\": 15}, {\"birth_date\": \"1952-10\", \"person_id\": 13}, {\"birth_date\": \"1952-11\", \"person_id\": 18}, {\"birth_date\": \"1952-12\", \"person_id\": 20}, {\"birth_date\": \"1953-01\", \"person_id\": 11}, {\"birth_date\": \"1953-02\", \"person_id\": 15}, {\"birth_date\": \"1953-03\", \"person_id\": 14}, {\"birth_date\": \"1953-04\", \"person_id\": 7}, {\"birth_date\": \"1953-05\", \"person_id\": 13}, {\"birth_date\": \"1953-06\", \"person_id\": 11}, {\"birth_date\": \"1953-07\", \"person_id\": 24}, {\"birth_date\": \"1953-08\", \"person_id\": 12}, {\"birth_date\": \"1953-09\", \"person_id\": 25}, {\"birth_date\": \"1953-10\", \"person_id\": 17}, {\"birth_date\": \"1953-11\", \"person_id\": 15}, {\"birth_date\": \"1953-12\", \"person_id\": 18}, {\"birth_date\": \"1954-01\", \"person_id\": 10}, {\"birth_date\": \"1954-02\", \"person_id\": 11}, {\"birth_date\": \"1954-03\", \"person_id\": 14}, {\"birth_date\": \"1954-04\", \"person_id\": 17}, {\"birth_date\": \"1954-05\", \"person_id\": 14}, {\"birth_date\": \"1954-06\", \"person_id\": 16}, {\"birth_date\": \"1954-07\", \"person_id\": 22}, {\"birth_date\": \"1954-08\", \"person_id\": 14}, {\"birth_date\": \"1954-09\", \"person_id\": 12}, {\"birth_date\": \"1954-10\", \"person_id\": 17}, {\"birth_date\": \"1954-11\", \"person_id\": 14}, {\"birth_date\": \"1954-12\", \"person_id\": 13}, {\"birth_date\": \"1955-01\", \"person_id\": 15}, {\"birth_date\": \"1955-02\", \"person_id\": 11}, {\"birth_date\": \"1955-03\", \"person_id\": 15}, {\"birth_date\": \"1955-04\", \"person_id\": 13}, {\"birth_date\": \"1955-05\", \"person_id\": 10}, {\"birth_date\": \"1955-06\", \"person_id\": 10}, {\"birth_date\": \"1955-07\", \"person_id\": 11}, {\"birth_date\": \"1955-08\", \"person_id\": 16}, {\"birth_date\": \"1955-09\", \"person_id\": 11}, {\"birth_date\": \"1955-10\", \"person_id\": 11}, {\"birth_date\": \"1955-11\", \"person_id\": 10}, {\"birth_date\": \"1955-12\", \"person_id\": 9}, {\"birth_date\": \"1956-01\", \"person_id\": 15}, {\"birth_date\": \"1956-02\", \"person_id\": 14}, {\"birth_date\": \"1956-03\", \"person_id\": 14}, {\"birth_date\": \"1956-04\", \"person_id\": 14}, {\"birth_date\": \"1956-05\", \"person_id\": 18}, {\"birth_date\": \"1956-06\", \"person_id\": 14}, {\"birth_date\": \"1956-07\", \"person_id\": 12}, {\"birth_date\": \"1956-08\", \"person_id\": 26}, {\"birth_date\": \"1956-09\", \"person_id\": 9}, {\"birth_date\": \"1956-10\", \"person_id\": 10}, {\"birth_date\": \"1956-11\", \"person_id\": 11}, {\"birth_date\": \"1956-12\", \"person_id\": 17}, {\"birth_date\": \"1957-01\", \"person_id\": 19}, {\"birth_date\": \"1957-02\", \"person_id\": 14}, {\"birth_date\": \"1957-03\", \"person_id\": 12}, {\"birth_date\": \"1957-04\", \"person_id\": 12}, {\"birth_date\": \"1957-05\", \"person_id\": 10}, {\"birth_date\": \"1957-06\", \"person_id\": 15}, {\"birth_date\": \"1957-07\", \"person_id\": 19}, {\"birth_date\": \"1957-08\", \"person_id\": 16}, {\"birth_date\": \"1957-09\", \"person_id\": 17}, {\"birth_date\": \"1957-10\", \"person_id\": 14}, {\"birth_date\": \"1957-11\", \"person_id\": 6}, {\"birth_date\": \"1957-12\", \"person_id\": 18}, {\"birth_date\": \"1958-01\", \"person_id\": 16}, {\"birth_date\": \"1958-02\", \"person_id\": 7}, {\"birth_date\": \"1958-03\", \"person_id\": 12}, {\"birth_date\": \"1958-04\", \"person_id\": 20}, {\"birth_date\": \"1958-05\", \"person_id\": 18}, {\"birth_date\": \"1958-06\", \"person_id\": 14}, {\"birth_date\": \"1958-07\", \"person_id\": 10}, {\"birth_date\": \"1958-08\", \"person_id\": 11}, {\"birth_date\": \"1958-09\", \"person_id\": 19}, {\"birth_date\": \"1958-10\", \"person_id\": 15}, {\"birth_date\": \"1958-11\", \"person_id\": 5}, {\"birth_date\": \"1958-12\", \"person_id\": 12}, {\"birth_date\": \"1959-01\", \"person_id\": 13}, {\"birth_date\": \"1959-02\", \"person_id\": 16}, {\"birth_date\": \"1959-03\", \"person_id\": 12}, {\"birth_date\": \"1959-04\", \"person_id\": 16}, {\"birth_date\": \"1959-05\", \"person_id\": 8}, {\"birth_date\": \"1959-06\", \"person_id\": 19}, {\"birth_date\": \"1959-07\", \"person_id\": 13}, {\"birth_date\": \"1959-08\", \"person_id\": 12}, {\"birth_date\": \"1959-09\", \"person_id\": 7}, {\"birth_date\": \"1959-10\", \"person_id\": 11}, {\"birth_date\": \"1959-11\", \"person_id\": 17}, {\"birth_date\": \"1959-12\", \"person_id\": 14}, {\"birth_date\": \"1960-01\", \"person_id\": 13}, {\"birth_date\": \"1960-02\", \"person_id\": 17}, {\"birth_date\": \"1960-03\", \"person_id\": 14}, {\"birth_date\": \"1960-04\", \"person_id\": 21}, {\"birth_date\": \"1960-05\", \"person_id\": 9}, {\"birth_date\": \"1960-06\", \"person_id\": 19}, {\"birth_date\": \"1960-07\", \"person_id\": 14}, {\"birth_date\": \"1960-08\", \"person_id\": 17}, {\"birth_date\": \"1960-09\", \"person_id\": 14}, {\"birth_date\": \"1960-10\", \"person_id\": 9}, {\"birth_date\": \"1960-11\", \"person_id\": 8}, {\"birth_date\": \"1960-12\", \"person_id\": 15}, {\"birth_date\": \"1961-01\", \"person_id\": 14}, {\"birth_date\": \"1961-02\", \"person_id\": 6}, {\"birth_date\": \"1961-03\", \"person_id\": 18}, {\"birth_date\": \"1961-04\", \"person_id\": 9}, {\"birth_date\": \"1961-05\", \"person_id\": 14}, {\"birth_date\": \"1961-06\", \"person_id\": 13}, {\"birth_date\": \"1961-07\", \"person_id\": 13}, {\"birth_date\": \"1961-08\", \"person_id\": 20}, {\"birth_date\": \"1961-09\", \"person_id\": 16}, {\"birth_date\": \"1961-10\", \"person_id\": 18}, {\"birth_date\": \"1961-11\", \"person_id\": 20}, {\"birth_date\": \"1961-12\", \"person_id\": 18}, {\"birth_date\": \"1962-01\", \"person_id\": 15}, {\"birth_date\": \"1962-02\", \"person_id\": 14}, {\"birth_date\": \"1962-03\", \"person_id\": 18}, {\"birth_date\": \"1962-04\", \"person_id\": 16}, {\"birth_date\": \"1962-05\", \"person_id\": 16}, {\"birth_date\": \"1962-06\", \"person_id\": 20}, {\"birth_date\": \"1962-07\", \"person_id\": 17}, {\"birth_date\": \"1962-08\", \"person_id\": 15}, {\"birth_date\": \"1962-09\", \"person_id\": 21}, {\"birth_date\": \"1962-10\", \"person_id\": 16}, {\"birth_date\": \"1962-11\", \"person_id\": 22}, {\"birth_date\": \"1962-12\", \"person_id\": 18}, {\"birth_date\": \"1963-01\", \"person_id\": 15}, {\"birth_date\": \"1963-02\", \"person_id\": 24}, {\"birth_date\": \"1963-03\", \"person_id\": 17}, {\"birth_date\": \"1963-04\", \"person_id\": 18}, {\"birth_date\": \"1963-05\", \"person_id\": 15}, {\"birth_date\": \"1963-06\", \"person_id\": 18}, {\"birth_date\": \"1963-07\", \"person_id\": 13}, {\"birth_date\": \"1963-08\", \"person_id\": 20}, {\"birth_date\": \"1963-09\", \"person_id\": 20}, {\"birth_date\": \"1963-10\", \"person_id\": 28}, {\"birth_date\": \"1963-11\", \"person_id\": 22}, {\"birth_date\": \"1963-12\", \"person_id\": 28}, {\"birth_date\": \"1964-01\", \"person_id\": 17}, {\"birth_date\": \"1964-02\", \"person_id\": 23}, {\"birth_date\": \"1964-03\", \"person_id\": 19}, {\"birth_date\": \"1964-04\", \"person_id\": 27}, {\"birth_date\": \"1964-05\", \"person_id\": 25}, {\"birth_date\": \"1964-06\", \"person_id\": 15}, {\"birth_date\": \"1964-07\", \"person_id\": 23}, {\"birth_date\": \"1964-08\", \"person_id\": 18}, {\"birth_date\": \"1964-09\", \"person_id\": 20}, {\"birth_date\": \"1964-10\", \"person_id\": 19}, {\"birth_date\": \"1964-11\", \"person_id\": 19}, {\"birth_date\": \"1964-12\", \"person_id\": 28}, {\"birth_date\": \"1965-01\", \"person_id\": 15}, {\"birth_date\": \"1965-02\", \"person_id\": 22}, {\"birth_date\": \"1965-03\", \"person_id\": 27}, {\"birth_date\": \"1965-04\", \"person_id\": 19}, {\"birth_date\": \"1965-05\", \"person_id\": 19}, {\"birth_date\": \"1965-06\", \"person_id\": 27}, {\"birth_date\": \"1965-07\", \"person_id\": 18}, {\"birth_date\": \"1965-08\", \"person_id\": 26}, {\"birth_date\": \"1965-09\", \"person_id\": 27}, {\"birth_date\": \"1965-10\", \"person_id\": 22}, {\"birth_date\": \"1965-11\", \"person_id\": 23}, {\"birth_date\": \"1965-12\", \"person_id\": 30}, {\"birth_date\": \"1966-01\", \"person_id\": 22}, {\"birth_date\": \"1966-02\", \"person_id\": 22}, {\"birth_date\": \"1966-03\", \"person_id\": 19}, {\"birth_date\": \"1966-04\", \"person_id\": 14}, {\"birth_date\": \"1966-05\", \"person_id\": 18}, {\"birth_date\": \"1966-06\", \"person_id\": 21}, {\"birth_date\": \"1966-07\", \"person_id\": 30}, {\"birth_date\": \"1966-08\", \"person_id\": 30}, {\"birth_date\": \"1966-09\", \"person_id\": 15}, {\"birth_date\": \"1966-10\", \"person_id\": 14}, {\"birth_date\": \"1966-11\", \"person_id\": 14}, {\"birth_date\": \"1966-12\", \"person_id\": 25}, {\"birth_date\": \"1967-01\", \"person_id\": 28}, {\"birth_date\": \"1967-02\", \"person_id\": 23}, {\"birth_date\": \"1967-03\", \"person_id\": 18}, {\"birth_date\": \"1967-04\", \"person_id\": 28}, {\"birth_date\": \"1967-05\", \"person_id\": 20}, {\"birth_date\": \"1967-06\", \"person_id\": 28}, {\"birth_date\": \"1967-07\", \"person_id\": 17}, {\"birth_date\": \"1967-08\", \"person_id\": 24}, {\"birth_date\": \"1967-09\", \"person_id\": 22}, {\"birth_date\": \"1967-10\", \"person_id\": 14}, {\"birth_date\": \"1967-11\", \"person_id\": 16}, {\"birth_date\": \"1967-12\", \"person_id\": 17}, {\"birth_date\": \"1968-01\", \"person_id\": 31}, {\"birth_date\": \"1968-02\", \"person_id\": 19}, {\"birth_date\": \"1968-03\", \"person_id\": 30}, {\"birth_date\": \"1968-04\", \"person_id\": 14}, {\"birth_date\": \"1968-05\", \"person_id\": 25}, {\"birth_date\": \"1968-06\", \"person_id\": 31}, {\"birth_date\": \"1968-07\", \"person_id\": 22}, {\"birth_date\": \"1968-08\", \"person_id\": 19}, {\"birth_date\": \"1968-09\", \"person_id\": 14}, {\"birth_date\": \"1968-10\", \"person_id\": 18}, {\"birth_date\": \"1968-11\", \"person_id\": 24}, {\"birth_date\": \"1968-12\", \"person_id\": 26}, {\"birth_date\": \"1969-01\", \"person_id\": 27}, {\"birth_date\": \"1969-02\", \"person_id\": 17}, {\"birth_date\": \"1969-03\", \"person_id\": 21}, {\"birth_date\": \"1969-04\", \"person_id\": 17}, {\"birth_date\": \"1969-05\", \"person_id\": 19}, {\"birth_date\": \"1969-06\", \"person_id\": 21}, {\"birth_date\": \"1969-07\", \"person_id\": 34}, {\"birth_date\": \"1969-08\", \"person_id\": 27}, {\"birth_date\": \"1969-09\", \"person_id\": 28}, {\"birth_date\": \"1969-10\", \"person_id\": 24}, {\"birth_date\": \"1969-11\", \"person_id\": 17}, {\"birth_date\": \"1969-12\", \"person_id\": 30}, {\"birth_date\": \"1970-01\", \"person_id\": 20}, {\"birth_date\": \"1970-02\", \"person_id\": 16}, {\"birth_date\": \"1970-03\", \"person_id\": 27}, {\"birth_date\": \"1970-04\", \"person_id\": 23}, {\"birth_date\": \"1970-05\", \"person_id\": 23}, {\"birth_date\": \"1970-06\", \"person_id\": 21}, {\"birth_date\": \"1970-07\", \"person_id\": 11}, {\"birth_date\": \"1970-08\", \"person_id\": 26}, {\"birth_date\": \"1970-09\", \"person_id\": 16}, {\"birth_date\": \"1970-10\", \"person_id\": 20}, {\"birth_date\": \"1970-11\", \"person_id\": 21}, {\"birth_date\": \"1970-12\", \"person_id\": 13}, {\"birth_date\": \"1971-01\", \"person_id\": 15}, {\"birth_date\": \"1971-02\", \"person_id\": 36}, {\"birth_date\": \"1971-03\", \"person_id\": 22}, {\"birth_date\": \"1971-04\", \"person_id\": 21}, {\"birth_date\": \"1971-05\", \"person_id\": 25}, {\"birth_date\": \"1971-06\", \"person_id\": 25}, {\"birth_date\": \"1971-07\", \"person_id\": 18}, {\"birth_date\": \"1971-08\", \"person_id\": 23}, {\"birth_date\": \"1971-09\", \"person_id\": 19}, {\"birth_date\": \"1971-10\", \"person_id\": 17}, {\"birth_date\": \"1971-11\", \"person_id\": 14}, {\"birth_date\": \"1971-12\", \"person_id\": 27}, {\"birth_date\": \"1972-01\", \"person_id\": 26}, {\"birth_date\": \"1972-02\", \"person_id\": 12}, {\"birth_date\": \"1972-03\", \"person_id\": 28}, {\"birth_date\": \"1972-04\", \"person_id\": 15}, {\"birth_date\": \"1972-05\", \"person_id\": 16}, {\"birth_date\": \"1972-06\", \"person_id\": 11}, {\"birth_date\": \"1972-07\", \"person_id\": 24}, {\"birth_date\": \"1972-08\", \"person_id\": 14}, {\"birth_date\": \"1972-09\", \"person_id\": 12}, {\"birth_date\": \"1972-10\", \"person_id\": 15}, {\"birth_date\": \"1972-11\", \"person_id\": 12}, {\"birth_date\": \"1972-12\", \"person_id\": 20}, {\"birth_date\": \"1973-01\", \"person_id\": 15}, {\"birth_date\": \"1973-02\", \"person_id\": 11}, {\"birth_date\": \"1973-03\", \"person_id\": 15}, {\"birth_date\": \"1973-04\", \"person_id\": 12}, {\"birth_date\": \"1973-05\", \"person_id\": 15}, {\"birth_date\": \"1973-06\", \"person_id\": 19}, {\"birth_date\": \"1973-07\", \"person_id\": 9}, {\"birth_date\": \"1973-08\", \"person_id\": 12}, {\"birth_date\": \"1973-09\", \"person_id\": 13}, {\"birth_date\": \"1973-10\", \"person_id\": 12}, {\"birth_date\": \"1973-11\", \"person_id\": 11}, {\"birth_date\": \"1973-12\", \"person_id\": 14}, {\"birth_date\": \"1974-01\", \"person_id\": 13}, {\"birth_date\": \"1974-02\", \"person_id\": 22}, {\"birth_date\": \"1974-03\", \"person_id\": 16}, {\"birth_date\": \"1974-04\", \"person_id\": 10}, {\"birth_date\": \"1974-05\", \"person_id\": 11}, {\"birth_date\": \"1974-06\", \"person_id\": 12}, {\"birth_date\": \"1974-07\", \"person_id\": 13}, {\"birth_date\": \"1974-08\", \"person_id\": 11}, {\"birth_date\": \"1974-09\", \"person_id\": 9}, {\"birth_date\": \"1974-10\", \"person_id\": 10}, {\"birth_date\": \"1974-11\", \"person_id\": 8}, {\"birth_date\": \"1974-12\", \"person_id\": 9}, {\"birth_date\": \"1975-01\", \"person_id\": 5}, {\"birth_date\": \"1975-02\", \"person_id\": 10}, {\"birth_date\": \"1975-03\", \"person_id\": 21}, {\"birth_date\": \"1975-04\", \"person_id\": 15}, {\"birth_date\": \"1975-05\", \"person_id\": 11}, {\"birth_date\": \"1975-06\", \"person_id\": 10}, {\"birth_date\": \"1975-07\", \"person_id\": 9}, {\"birth_date\": \"1975-08\", \"person_id\": 7}, {\"birth_date\": \"1975-09\", \"person_id\": 13}, {\"birth_date\": \"1975-10\", \"person_id\": 12}, {\"birth_date\": \"1975-11\", \"person_id\": 11}, {\"birth_date\": \"1975-12\", \"person_id\": 11}, {\"birth_date\": \"1976-01\", \"person_id\": 14}, {\"birth_date\": \"1976-02\", \"person_id\": 10}, {\"birth_date\": \"1976-03\", \"person_id\": 11}, {\"birth_date\": \"1976-04\", \"person_id\": 12}, {\"birth_date\": \"1976-05\", \"person_id\": 8}, {\"birth_date\": \"1976-06\", \"person_id\": 7}, {\"birth_date\": \"1976-07\", \"person_id\": 11}, {\"birth_date\": \"1976-08\", \"person_id\": 3}, {\"birth_date\": \"1976-09\", \"person_id\": 10}, {\"birth_date\": \"1976-10\", \"person_id\": 9}, {\"birth_date\": \"1976-11\", \"person_id\": 13}, {\"birth_date\": \"1976-12\", \"person_id\": 13}, {\"birth_date\": \"1977-01\", \"person_id\": 3}, {\"birth_date\": \"1977-02\", \"person_id\": 9}, {\"birth_date\": \"1977-03\", \"person_id\": 9}, {\"birth_date\": \"1977-04\", \"person_id\": 10}, {\"birth_date\": \"1977-05\", \"person_id\": 11}, {\"birth_date\": \"1977-06\", \"person_id\": 14}, {\"birth_date\": \"1977-07\", \"person_id\": 7}, {\"birth_date\": \"1977-08\", \"person_id\": 16}, {\"birth_date\": \"1977-09\", \"person_id\": 11}, {\"birth_date\": \"1977-10\", \"person_id\": 13}, {\"birth_date\": \"1977-11\", \"person_id\": 5}, {\"birth_date\": \"1977-12\", \"person_id\": 11}, {\"birth_date\": \"1978-01\", \"person_id\": 15}, {\"birth_date\": \"1978-02\", \"person_id\": 8}, {\"birth_date\": \"1978-03\", \"person_id\": 7}, {\"birth_date\": \"1978-04\", \"person_id\": 7}, {\"birth_date\": \"1978-05\", \"person_id\": 9}, {\"birth_date\": \"1978-06\", \"person_id\": 6}, {\"birth_date\": \"1978-07\", \"person_id\": 10}, {\"birth_date\": \"1978-08\", \"person_id\": 6}, {\"birth_date\": \"1978-09\", \"person_id\": 15}, {\"birth_date\": \"1978-10\", \"person_id\": 9}, {\"birth_date\": \"1978-11\", \"person_id\": 8}, {\"birth_date\": \"1978-12\", \"person_id\": 11}, {\"birth_date\": \"1979-01\", \"person_id\": 11}, {\"birth_date\": \"1979-02\", \"person_id\": 7}, {\"birth_date\": \"1979-03\", \"person_id\": 6}, {\"birth_date\": \"1979-04\", \"person_id\": 4}, {\"birth_date\": \"1979-05\", \"person_id\": 7}, {\"birth_date\": \"1979-06\", \"person_id\": 9}, {\"birth_date\": \"1979-07\", \"person_id\": 5}, {\"birth_date\": \"1979-08\", \"person_id\": 15}, {\"birth_date\": \"1979-09\", \"person_id\": 3}, {\"birth_date\": \"1979-10\", \"person_id\": 10}, {\"birth_date\": \"1979-11\", \"person_id\": 9}, {\"birth_date\": \"1979-12\", \"person_id\": 7}, {\"birth_date\": \"1980-01\", \"person_id\": 9}, {\"birth_date\": \"1980-02\", \"person_id\": 8}, {\"birth_date\": \"1980-03\", \"person_id\": 8}, {\"birth_date\": \"1980-04\", \"person_id\": 7}, {\"birth_date\": \"1980-05\", \"person_id\": 8}, {\"birth_date\": \"1980-06\", \"person_id\": 9}, {\"birth_date\": \"1980-07\", \"person_id\": 9}, {\"birth_date\": \"1980-08\", \"person_id\": 13}, {\"birth_date\": \"1980-09\", \"person_id\": 12}, {\"birth_date\": \"1980-10\", \"person_id\": 6}, {\"birth_date\": \"1980-11\", \"person_id\": 11}, {\"birth_date\": \"1980-12\", \"person_id\": 9}, {\"birth_date\": \"1981-01\", \"person_id\": 9}, {\"birth_date\": \"1981-02\", \"person_id\": 7}, {\"birth_date\": \"1981-03\", \"person_id\": 8}, {\"birth_date\": \"1981-04\", \"person_id\": 9}, {\"birth_date\": \"1981-05\", \"person_id\": 9}, {\"birth_date\": \"1981-06\", \"person_id\": 11}, {\"birth_date\": \"1981-07\", \"person_id\": 9}, {\"birth_date\": \"1981-08\", \"person_id\": 9}, {\"birth_date\": \"1981-09\", \"person_id\": 12}, {\"birth_date\": \"1981-10\", \"person_id\": 2}, {\"birth_date\": \"1981-11\", \"person_id\": 12}, {\"birth_date\": \"1981-12\", \"person_id\": 9}, {\"birth_date\": \"1982-01\", \"person_id\": 7}, {\"birth_date\": \"1982-02\", \"person_id\": 7}, {\"birth_date\": \"1982-03\", \"person_id\": 7}, {\"birth_date\": \"1982-04\", \"person_id\": 11}, {\"birth_date\": \"1982-05\", \"person_id\": 6}, {\"birth_date\": \"1982-06\", \"person_id\": 9}, {\"birth_date\": \"1982-07\", \"person_id\": 8}, {\"birth_date\": \"1982-08\", \"person_id\": 6}, {\"birth_date\": \"1982-09\", \"person_id\": 8}, {\"birth_date\": \"1982-10\", \"person_id\": 12}, {\"birth_date\": \"1982-11\", \"person_id\": 5}, {\"birth_date\": \"1982-12\", \"person_id\": 4}, {\"birth_date\": \"1983-01\", \"person_id\": 9}, {\"birth_date\": \"1983-02\", \"person_id\": 7}, {\"birth_date\": \"1983-03\", \"person_id\": 8}, {\"birth_date\": \"1983-04\", \"person_id\": 6}, {\"birth_date\": \"1983-05\", \"person_id\": 5}, {\"birth_date\": \"1983-06\", \"person_id\": 10}, {\"birth_date\": \"1983-07\", \"person_id\": 11}, {\"birth_date\": \"1983-08\", \"person_id\": 3}, {\"birth_date\": \"1983-09\", \"person_id\": 11}, {\"birth_date\": \"1983-10\", \"person_id\": 7}, {\"birth_date\": \"1983-11\", \"person_id\": 8}, {\"birth_date\": \"1983-12\", \"person_id\": 13}, {\"birth_date\": \"1984-01\", \"person_id\": 13}, {\"birth_date\": \"1984-02\", \"person_id\": 8}, {\"birth_date\": \"1984-03\", \"person_id\": 7}, {\"birth_date\": \"1984-04\", \"person_id\": 4}, {\"birth_date\": \"1984-05\", \"person_id\": 10}, {\"birth_date\": \"1984-06\", \"person_id\": 9}, {\"birth_date\": \"1984-07\", \"person_id\": 10}, {\"birth_date\": \"1984-08\", \"person_id\": 15}, {\"birth_date\": \"1984-09\", \"person_id\": 6}, {\"birth_date\": \"1984-10\", \"person_id\": 4}, {\"birth_date\": \"1984-11\", \"person_id\": 8}, {\"birth_date\": \"1984-12\", \"person_id\": 7}, {\"birth_date\": \"1985-01\", \"person_id\": 6}, {\"birth_date\": \"1985-02\", \"person_id\": 15}, {\"birth_date\": \"1985-03\", \"person_id\": 7}, {\"birth_date\": \"1985-04\", \"person_id\": 5}, {\"birth_date\": \"1985-05\", \"person_id\": 15}, {\"birth_date\": \"1985-06\", \"person_id\": 3}, {\"birth_date\": \"1985-07\", \"person_id\": 9}, {\"birth_date\": \"1985-08\", \"person_id\": 8}, {\"birth_date\": \"1985-09\", \"person_id\": 6}, {\"birth_date\": \"1985-10\", \"person_id\": 11}, {\"birth_date\": \"1985-11\", \"person_id\": 14}, {\"birth_date\": \"1985-12\", \"person_id\": 8}, {\"birth_date\": \"1986-01\", \"person_id\": 10}, {\"birth_date\": \"1986-02\", \"person_id\": 7}, {\"birth_date\": \"1986-03\", \"person_id\": 8}, {\"birth_date\": \"1986-04\", \"person_id\": 8}, {\"birth_date\": \"1986-05\", \"person_id\": 3}, {\"birth_date\": \"1986-06\", \"person_id\": 11}, {\"birth_date\": \"1986-07\", \"person_id\": 11}, {\"birth_date\": \"1986-08\", \"person_id\": 10}, {\"birth_date\": \"1986-09\", \"person_id\": 14}, {\"birth_date\": \"1986-10\", \"person_id\": 8}, {\"birth_date\": \"1986-11\", \"person_id\": 7}, {\"birth_date\": \"1986-12\", \"person_id\": 8}, {\"birth_date\": \"1987-01\", \"person_id\": 9}, {\"birth_date\": \"1987-02\", \"person_id\": 11}, {\"birth_date\": \"1987-03\", \"person_id\": 7}, {\"birth_date\": \"1987-04\", \"person_id\": 6}, {\"birth_date\": \"1987-05\", \"person_id\": 3}, {\"birth_date\": \"1987-06\", \"person_id\": 9}, {\"birth_date\": \"1987-07\", \"person_id\": 7}, {\"birth_date\": \"1987-08\", \"person_id\": 4}, {\"birth_date\": \"1987-09\", \"person_id\": 7}, {\"birth_date\": \"1987-10\", \"person_id\": 13}, {\"birth_date\": \"1987-11\", \"person_id\": 9}, {\"birth_date\": \"1987-12\", \"person_id\": 17}, {\"birth_date\": \"1988-01\", \"person_id\": 10}, {\"birth_date\": \"1988-02\", \"person_id\": 8}, {\"birth_date\": \"1988-03\", \"person_id\": 9}, {\"birth_date\": \"1988-04\", \"person_id\": 9}, {\"birth_date\": \"1988-05\", \"person_id\": 5}, {\"birth_date\": \"1988-06\", \"person_id\": 10}, {\"birth_date\": \"1988-07\", \"person_id\": 8}, {\"birth_date\": \"1988-08\", \"person_id\": 10}, {\"birth_date\": \"1988-09\", \"person_id\": 15}, {\"birth_date\": \"1988-10\", \"person_id\": 16}, {\"birth_date\": \"1988-11\", \"person_id\": 10}, {\"birth_date\": \"1988-12\", \"person_id\": 13}, {\"birth_date\": \"1989-01\", \"person_id\": 11}, {\"birth_date\": \"1989-02\", \"person_id\": 8}, {\"birth_date\": \"1989-03\", \"person_id\": 10}, {\"birth_date\": \"1989-04\", \"person_id\": 11}, {\"birth_date\": \"1989-05\", \"person_id\": 6}, {\"birth_date\": \"1989-06\", \"person_id\": 6}, {\"birth_date\": \"1989-07\", \"person_id\": 8}, {\"birth_date\": \"1989-08\", \"person_id\": 7}, {\"birth_date\": \"1989-09\", \"person_id\": 10}, {\"birth_date\": \"1989-10\", \"person_id\": 12}, {\"birth_date\": \"1989-11\", \"person_id\": 5}, {\"birth_date\": \"1989-12\", \"person_id\": 7}, {\"birth_date\": \"1990-01\", \"person_id\": 3}, {\"birth_date\": \"1990-02\", \"person_id\": 5}, {\"birth_date\": \"1990-03\", \"person_id\": 8}, {\"birth_date\": \"1990-04\", \"person_id\": 6}, {\"birth_date\": \"1990-05\", \"person_id\": 14}, {\"birth_date\": \"1990-06\", \"person_id\": 8}, {\"birth_date\": \"1990-07\", \"person_id\": 8}, {\"birth_date\": \"1990-08\", \"person_id\": 9}, {\"birth_date\": \"1990-09\", \"person_id\": 11}, {\"birth_date\": \"1990-10\", \"person_id\": 5}, {\"birth_date\": \"1990-11\", \"person_id\": 9}, {\"birth_date\": \"1990-12\", \"person_id\": 7}, {\"birth_date\": \"1991-01\", \"person_id\": 11}, {\"birth_date\": \"1991-02\", \"person_id\": 2}, {\"birth_date\": \"1991-03\", \"person_id\": 11}, {\"birth_date\": \"1991-04\", \"person_id\": 12}, {\"birth_date\": \"1991-05\", \"person_id\": 8}, {\"birth_date\": \"1991-06\", \"person_id\": 7}, {\"birth_date\": \"1991-07\", \"person_id\": 11}, {\"birth_date\": \"1991-08\", \"person_id\": 14}, {\"birth_date\": \"1991-09\", \"person_id\": 11}, {\"birth_date\": \"1991-10\", \"person_id\": 10}, {\"birth_date\": \"1991-11\", \"person_id\": 17}, {\"birth_date\": \"1991-12\", \"person_id\": 14}, {\"birth_date\": \"1992-01\", \"person_id\": 7}, {\"birth_date\": \"1992-02\", \"person_id\": 9}, {\"birth_date\": \"1992-03\", \"person_id\": 7}, {\"birth_date\": \"1992-04\", \"person_id\": 9}, {\"birth_date\": \"1992-05\", \"person_id\": 16}, {\"birth_date\": \"1992-06\", \"person_id\": 6}, {\"birth_date\": \"1992-07\", \"person_id\": 4}, {\"birth_date\": \"1992-08\", \"person_id\": 12}, {\"birth_date\": \"1992-09\", \"person_id\": 6}, {\"birth_date\": \"1992-10\", \"person_id\": 17}, {\"birth_date\": \"1992-11\", \"person_id\": 5}, {\"birth_date\": \"1992-12\", \"person_id\": 5}, {\"birth_date\": \"1993-01\", \"person_id\": 13}, {\"birth_date\": \"1993-02\", \"person_id\": 4}, {\"birth_date\": \"1993-03\", \"person_id\": 10}, {\"birth_date\": \"1993-04\", \"person_id\": 11}, {\"birth_date\": \"1993-05\", \"person_id\": 9}, {\"birth_date\": \"1993-06\", \"person_id\": 6}, {\"birth_date\": \"1993-07\", \"person_id\": 10}, {\"birth_date\": \"1993-08\", \"person_id\": 12}, {\"birth_date\": \"1993-09\", \"person_id\": 8}, {\"birth_date\": \"1993-10\", \"person_id\": 8}, {\"birth_date\": \"1993-11\", \"person_id\": 15}, {\"birth_date\": \"1993-12\", \"person_id\": 14}, {\"birth_date\": \"1994-01\", \"person_id\": 10}, {\"birth_date\": \"1994-02\", \"person_id\": 13}, {\"birth_date\": \"1994-03\", \"person_id\": 9}, {\"birth_date\": \"1994-04\", \"person_id\": 11}, {\"birth_date\": \"1994-05\", \"person_id\": 11}, {\"birth_date\": \"1994-06\", \"person_id\": 11}, {\"birth_date\": \"1994-07\", \"person_id\": 7}, {\"birth_date\": \"1994-08\", \"person_id\": 14}, {\"birth_date\": \"1994-09\", \"person_id\": 8}, {\"birth_date\": \"1994-10\", \"person_id\": 15}, {\"birth_date\": \"1994-11\", \"person_id\": 10}, {\"birth_date\": \"1994-12\", \"person_id\": 14}, {\"birth_date\": \"1995-01\", \"person_id\": 12}, {\"birth_date\": \"1995-02\", \"person_id\": 11}, {\"birth_date\": \"1995-03\", \"person_id\": 8}, {\"birth_date\": \"1995-04\", \"person_id\": 3}, {\"birth_date\": \"1995-05\", \"person_id\": 11}, {\"birth_date\": \"1995-06\", \"person_id\": 6}, {\"birth_date\": \"1995-07\", \"person_id\": 8}, {\"birth_date\": \"1995-08\", \"person_id\": 13}, {\"birth_date\": \"1995-09\", \"person_id\": 10}, {\"birth_date\": \"1995-10\", \"person_id\": 9}, {\"birth_date\": \"1995-11\", \"person_id\": 5}, {\"birth_date\": \"1995-12\", \"person_id\": 12}, {\"birth_date\": \"1996-01\", \"person_id\": 12}, {\"birth_date\": \"1996-02\", \"person_id\": 12}, {\"birth_date\": \"1996-03\", \"person_id\": 6}, {\"birth_date\": \"1996-04\", \"person_id\": 7}, {\"birth_date\": \"1996-05\", \"person_id\": 12}, {\"birth_date\": \"1996-06\", \"person_id\": 11}, {\"birth_date\": \"1996-07\", \"person_id\": 8}, {\"birth_date\": \"1996-08\", \"person_id\": 13}, {\"birth_date\": \"1996-09\", \"person_id\": 4}, {\"birth_date\": \"1996-10\", \"person_id\": 10}, {\"birth_date\": \"1996-11\", \"person_id\": 11}, {\"birth_date\": \"1996-12\", \"person_id\": 7}, {\"birth_date\": \"1997-01\", \"person_id\": 7}, {\"birth_date\": \"1997-02\", \"person_id\": 10}, {\"birth_date\": \"1997-03\", \"person_id\": 13}, {\"birth_date\": \"1997-04\", \"person_id\": 6}, {\"birth_date\": \"1997-05\", \"person_id\": 8}, {\"birth_date\": \"1997-06\", \"person_id\": 7}, {\"birth_date\": \"1997-07\", \"person_id\": 17}, {\"birth_date\": \"1997-08\", \"person_id\": 10}, {\"birth_date\": \"1997-09\", \"person_id\": 10}, {\"birth_date\": \"1997-10\", \"person_id\": 7}, {\"birth_date\": \"1997-11\", \"person_id\": 7}, {\"birth_date\": \"1997-12\", \"person_id\": 6}, {\"birth_date\": \"1998-01\", \"person_id\": 10}, {\"birth_date\": \"1998-02\", \"person_id\": 6}, {\"birth_date\": \"1998-03\", \"person_id\": 13}, {\"birth_date\": \"1998-04\", \"person_id\": 8}, {\"birth_date\": \"1998-05\", \"person_id\": 11}, {\"birth_date\": \"1998-06\", \"person_id\": 4}, {\"birth_date\": \"1998-07\", \"person_id\": 11}, {\"birth_date\": \"1998-08\", \"person_id\": 9}, {\"birth_date\": \"1998-09\", \"person_id\": 10}, {\"birth_date\": \"1998-10\", \"person_id\": 9}, {\"birth_date\": \"1998-11\", \"person_id\": 4}, {\"birth_date\": \"1998-12\", \"person_id\": 11}, {\"birth_date\": \"1999-01\", \"person_id\": 10}, {\"birth_date\": \"1999-02\", \"person_id\": 6}, {\"birth_date\": \"1999-03\", \"person_id\": 6}, {\"birth_date\": \"1999-04\", \"person_id\": 8}, {\"birth_date\": \"1999-05\", \"person_id\": 10}, {\"birth_date\": \"1999-06\", \"person_id\": 4}, {\"birth_date\": \"1999-07\", \"person_id\": 5}, {\"birth_date\": \"1999-08\", \"person_id\": 11}, {\"birth_date\": \"1999-09\", \"person_id\": 10}, {\"birth_date\": \"1999-10\", \"person_id\": 8}, {\"birth_date\": \"1999-11\", \"person_id\": 10}, {\"birth_date\": \"1999-12\", \"person_id\": 9}, {\"birth_date\": \"2000-01\", \"person_id\": 4}, {\"birth_date\": \"2000-02\", \"person_id\": 4}, {\"birth_date\": \"2000-03\", \"person_id\": 9}, {\"birth_date\": \"2000-04\", \"person_id\": 5}, {\"birth_date\": \"2000-05\", \"person_id\": 10}, {\"birth_date\": \"2000-06\", \"person_id\": 8}, {\"birth_date\": \"2000-07\", \"person_id\": 5}, {\"birth_date\": \"2000-08\", \"person_id\": 5}, {\"birth_date\": \"2000-09\", \"person_id\": 13}, {\"birth_date\": \"2000-10\", \"person_id\": 4}, {\"birth_date\": \"2000-11\", \"person_id\": 8}, {\"birth_date\": \"2000-12\", \"person_id\": 11}, {\"birth_date\": \"2001-01\", \"person_id\": 9}, {\"birth_date\": \"2001-02\", \"person_id\": 11}, {\"birth_date\": \"2001-03\", \"person_id\": 5}, {\"birth_date\": \"2001-04\", \"person_id\": 10}, {\"birth_date\": \"2001-05\", \"person_id\": 6}, {\"birth_date\": \"2001-06\", \"person_id\": 11}, {\"birth_date\": \"2001-07\", \"person_id\": 9}, {\"birth_date\": \"2001-08\", \"person_id\": 6}, {\"birth_date\": \"2001-09\", \"person_id\": 9}, {\"birth_date\": \"2001-10\", \"person_id\": 12}, {\"birth_date\": \"2001-11\", \"person_id\": 12}, {\"birth_date\": \"2001-12\", \"person_id\": 5}, {\"birth_date\": \"2002-01\", \"person_id\": 15}, {\"birth_date\": \"2002-02\", \"person_id\": 10}, {\"birth_date\": \"2002-03\", \"person_id\": 9}, {\"birth_date\": \"2002-04\", \"person_id\": 4}, {\"birth_date\": \"2002-05\", \"person_id\": 8}, {\"birth_date\": \"2002-06\", \"person_id\": 6}, {\"birth_date\": \"2002-07\", \"person_id\": 8}, {\"birth_date\": \"2002-08\", \"person_id\": 10}, {\"birth_date\": \"2002-09\", \"person_id\": 5}, {\"birth_date\": \"2002-10\", \"person_id\": 4}, {\"birth_date\": \"2002-11\", \"person_id\": 6}, {\"birth_date\": \"2002-12\", \"person_id\": 8}, {\"birth_date\": \"2003-01\", \"person_id\": 9}, {\"birth_date\": \"2003-02\", \"person_id\": 9}, {\"birth_date\": \"2003-03\", \"person_id\": 14}, {\"birth_date\": \"2003-04\", \"person_id\": 7}, {\"birth_date\": \"2003-05\", \"person_id\": 11}, {\"birth_date\": \"2003-06\", \"person_id\": 9}, {\"birth_date\": \"2003-07\", \"person_id\": 10}, {\"birth_date\": \"2003-08\", \"person_id\": 7}, {\"birth_date\": \"2003-09\", \"person_id\": 7}, {\"birth_date\": \"2003-10\", \"person_id\": 11}, {\"birth_date\": \"2003-11\", \"person_id\": 8}, {\"birth_date\": \"2003-12\", \"person_id\": 15}, {\"birth_date\": \"2004-01\", \"person_id\": 9}, {\"birth_date\": \"2004-02\", \"person_id\": 5}, {\"birth_date\": \"2004-03\", \"person_id\": 7}, {\"birth_date\": \"2004-04\", \"person_id\": 11}, {\"birth_date\": \"2004-05\", \"person_id\": 9}, {\"birth_date\": \"2004-06\", \"person_id\": 11}, {\"birth_date\": \"2004-07\", \"person_id\": 14}, {\"birth_date\": \"2004-08\", \"person_id\": 10}, {\"birth_date\": \"2004-09\", \"person_id\": 7}, {\"birth_date\": \"2004-10\", \"person_id\": 11}, {\"birth_date\": \"2004-11\", \"person_id\": 5}, {\"birth_date\": \"2004-12\", \"person_id\": 11}, {\"birth_date\": \"2005-01\", \"person_id\": 11}, {\"birth_date\": \"2005-02\", \"person_id\": 7}, {\"birth_date\": \"2005-03\", \"person_id\": 16}, {\"birth_date\": \"2005-04\", \"person_id\": 4}, {\"birth_date\": \"2005-05\", \"person_id\": 6}, {\"birth_date\": \"2005-06\", \"person_id\": 6}, {\"birth_date\": \"2005-07\", \"person_id\": 14}, {\"birth_date\": \"2005-08\", \"person_id\": 7}, {\"birth_date\": \"2005-09\", \"person_id\": 13}, {\"birth_date\": \"2005-10\", \"person_id\": 10}, {\"birth_date\": \"2005-11\", \"person_id\": 6}, {\"birth_date\": \"2005-12\", \"person_id\": 7}, {\"birth_date\": \"2006-01\", \"person_id\": 11}, {\"birth_date\": \"2006-02\", \"person_id\": 3}, {\"birth_date\": \"2006-03\", \"person_id\": 8}, {\"birth_date\": \"2006-04\", \"person_id\": 5}, {\"birth_date\": \"2006-05\", \"person_id\": 11}, {\"birth_date\": \"2006-06\", \"person_id\": 13}, {\"birth_date\": \"2006-07\", \"person_id\": 12}, {\"birth_date\": \"2006-08\", \"person_id\": 7}, {\"birth_date\": \"2006-09\", \"person_id\": 8}, {\"birth_date\": \"2006-10\", \"person_id\": 8}, {\"birth_date\": \"2006-11\", \"person_id\": 13}, {\"birth_date\": \"2006-12\", \"person_id\": 5}, {\"birth_date\": \"2007-01\", \"person_id\": 13}, {\"birth_date\": \"2007-02\", \"person_id\": 11}, {\"birth_date\": \"2007-03\", \"person_id\": 3}, {\"birth_date\": \"2007-04\", \"person_id\": 6}, {\"birth_date\": \"2007-05\", \"person_id\": 10}, {\"birth_date\": \"2007-06\", \"person_id\": 10}, {\"birth_date\": \"2007-07\", \"person_id\": 9}, {\"birth_date\": \"2007-08\", \"person_id\": 12}, {\"birth_date\": \"2007-09\", \"person_id\": 14}, {\"birth_date\": \"2007-10\", \"person_id\": 9}, {\"birth_date\": \"2007-11\", \"person_id\": 13}, {\"birth_date\": \"2007-12\", \"person_id\": 10}, {\"birth_date\": \"2008-01\", \"person_id\": 8}, {\"birth_date\": \"2008-02\", \"person_id\": 4}, {\"birth_date\": \"2008-03\", \"person_id\": 4}, {\"birth_date\": \"2008-04\", \"person_id\": 9}, {\"birth_date\": \"2008-05\", \"person_id\": 6}, {\"birth_date\": \"2008-06\", \"person_id\": 12}, {\"birth_date\": \"2008-07\", \"person_id\": 9}, {\"birth_date\": \"2008-08\", \"person_id\": 11}, {\"birth_date\": \"2008-09\", \"person_id\": 8}, {\"birth_date\": \"2008-10\", \"person_id\": 10}, {\"birth_date\": \"2008-11\", \"person_id\": 10}, {\"birth_date\": \"2008-12\", \"person_id\": 12}, {\"birth_date\": \"2009-01\", \"person_id\": 14}, {\"birth_date\": \"2009-02\", \"person_id\": 4}, {\"birth_date\": \"2009-03\", \"person_id\": 6}, {\"birth_date\": \"2009-04\", \"person_id\": 3}, {\"birth_date\": \"2009-05\", \"person_id\": 11}, {\"birth_date\": \"2009-06\", \"person_id\": 4}, {\"birth_date\": \"2009-07\", \"person_id\": 6}, {\"birth_date\": \"2009-08\", \"person_id\": 7}, {\"birth_date\": \"2009-09\", \"person_id\": 10}, {\"birth_date\": \"2009-10\", \"person_id\": 10}, {\"birth_date\": \"2009-11\", \"person_id\": 13}, {\"birth_date\": \"2009-12\", \"person_id\": 9}, {\"birth_date\": \"2010-01\", \"person_id\": 11}, {\"birth_date\": \"2010-02\", \"person_id\": 10}, {\"birth_date\": \"2010-03\", \"person_id\": 10}, {\"birth_date\": \"2010-04\", \"person_id\": 8}, {\"birth_date\": \"2010-05\", \"person_id\": 9}, {\"birth_date\": \"2010-06\", \"person_id\": 7}, {\"birth_date\": \"2010-07\", \"person_id\": 11}, {\"birth_date\": \"2010-08\", \"person_id\": 14}, {\"birth_date\": \"2010-09\", \"person_id\": 9}, {\"birth_date\": \"2010-10\", \"person_id\": 10}, {\"birth_date\": \"2010-11\", \"person_id\": 9}, {\"birth_date\": \"2010-12\", \"person_id\": 9}, {\"birth_date\": \"2011-01\", \"person_id\": 14}, {\"birth_date\": \"2011-02\", \"person_id\": 11}, {\"birth_date\": \"2011-03\", \"person_id\": 9}, {\"birth_date\": \"2011-04\", \"person_id\": 8}, {\"birth_date\": \"2011-05\", \"person_id\": 11}, {\"birth_date\": \"2011-06\", \"person_id\": 7}, {\"birth_date\": \"2011-07\", \"person_id\": 10}, {\"birth_date\": \"2011-08\", \"person_id\": 19}, {\"birth_date\": \"2011-09\", \"person_id\": 10}, {\"birth_date\": \"2011-10\", \"person_id\": 8}, {\"birth_date\": \"2011-11\", \"person_id\": 4}, {\"birth_date\": \"2011-12\", \"person_id\": 9}, {\"birth_date\": \"2012-01\", \"person_id\": 15}, {\"birth_date\": \"2012-02\", \"person_id\": 10}, {\"birth_date\": \"2012-03\", \"person_id\": 2}, {\"birth_date\": \"2012-04\", \"person_id\": 4}, {\"birth_date\": \"2012-05\", \"person_id\": 8}, {\"birth_date\": \"2012-06\", \"person_id\": 9}, {\"birth_date\": \"2012-07\", \"person_id\": 11}, {\"birth_date\": \"2012-08\", \"person_id\": 6}, {\"birth_date\": \"2012-09\", \"person_id\": 6}, {\"birth_date\": \"2012-10\", \"person_id\": 10}, {\"birth_date\": \"2012-11\", \"person_id\": 11}, {\"birth_date\": \"2012-12\", \"person_id\": 6}, {\"birth_date\": \"2013-01\", \"person_id\": 14}, {\"birth_date\": \"2013-02\", \"person_id\": 8}, {\"birth_date\": \"2013-03\", \"person_id\": 9}, {\"birth_date\": \"2013-04\", \"person_id\": 9}, {\"birth_date\": \"2013-05\", \"person_id\": 8}, {\"birth_date\": \"2013-06\", \"person_id\": 9}, {\"birth_date\": \"2013-07\", \"person_id\": 12}, {\"birth_date\": \"2013-08\", \"person_id\": 10}, {\"birth_date\": \"2013-09\", \"person_id\": 6}, {\"birth_date\": \"2013-10\", \"person_id\": 10}, {\"birth_date\": \"2013-11\", \"person_id\": 11}, {\"birth_date\": \"2013-12\", \"person_id\": 8}, {\"birth_date\": \"2014-01\", \"person_id\": 5}, {\"birth_date\": \"2014-02\", \"person_id\": 6}, {\"birth_date\": \"2014-03\", \"person_id\": 10}, {\"birth_date\": \"2014-04\", \"person_id\": 10}, {\"birth_date\": \"2014-05\", \"person_id\": 8}, {\"birth_date\": \"2014-06\", \"person_id\": 12}, {\"birth_date\": \"2014-07\", \"person_id\": 6}, {\"birth_date\": \"2014-08\", \"person_id\": 13}, {\"birth_date\": \"2014-09\", \"person_id\": 9}, {\"birth_date\": \"2014-10\", \"person_id\": 8}, {\"birth_date\": \"2014-11\", \"person_id\": 6}, {\"birth_date\": \"2014-12\", \"person_id\": 13}, {\"birth_date\": \"2015-01\", \"person_id\": 12}, {\"birth_date\": \"2015-02\", \"person_id\": 14}, {\"birth_date\": \"2015-03\", \"person_id\": 10}, {\"birth_date\": \"2015-04\", \"person_id\": 7}, {\"birth_date\": \"2015-05\", \"person_id\": 6}, {\"birth_date\": \"2015-06\", \"person_id\": 10}, {\"birth_date\": \"2015-07\", \"person_id\": 5}, {\"birth_date\": \"2015-08\", \"person_id\": 16}, {\"birth_date\": \"2015-09\", \"person_id\": 9}, {\"birth_date\": \"2015-10\", \"person_id\": 16}, {\"birth_date\": \"2015-11\", \"person_id\": 11}, {\"birth_date\": \"2015-12\", \"person_id\": 11}, {\"birth_date\": \"2016-01\", \"person_id\": 12}, {\"birth_date\": \"2016-02\", \"person_id\": 13}, {\"birth_date\": \"2016-03\", \"person_id\": 9}, {\"birth_date\": \"2016-04\", \"person_id\": 6}, {\"birth_date\": \"2016-05\", \"person_id\": 9}, {\"birth_date\": \"2016-06\", \"person_id\": 5}, {\"birth_date\": \"2016-07\", \"person_id\": 11}, {\"birth_date\": \"2016-08\", \"person_id\": 7}, {\"birth_date\": \"2016-09\", \"person_id\": 13}, {\"birth_date\": \"2016-10\", \"person_id\": 9}, {\"birth_date\": \"2016-11\", \"person_id\": 4}, {\"birth_date\": \"2016-12\", \"person_id\": 9}, {\"birth_date\": \"2017-01\", \"person_id\": 11}, {\"birth_date\": \"2017-02\", \"person_id\": 7}, {\"birth_date\": \"2017-03\", \"person_id\": 7}, {\"birth_date\": \"2017-04\", \"person_id\": 6}, {\"birth_date\": \"2017-05\", \"person_id\": 9}, {\"birth_date\": \"2017-06\", \"person_id\": 5}, {\"birth_date\": \"2017-07\", \"person_id\": 5}, {\"birth_date\": \"2017-08\", \"person_id\": 8}, {\"birth_date\": \"2017-09\", \"person_id\": 12}, {\"birth_date\": \"2017-10\", \"person_id\": 8}, {\"birth_date\": \"2017-11\", \"person_id\": 11}, {\"birth_date\": \"2017-12\", \"person_id\": 8}, {\"birth_date\": \"2018-01\", \"person_id\": 7}, {\"birth_date\": \"2018-02\", \"person_id\": 10}, {\"birth_date\": \"2018-03\", \"person_id\": 3}, {\"birth_date\": \"2018-04\", \"person_id\": 13}, {\"birth_date\": \"2018-05\", \"person_id\": 10}, {\"birth_date\": \"2018-06\", \"person_id\": 19}, {\"birth_date\": \"2018-07\", \"person_id\": 10}, {\"birth_date\": \"2018-08\", \"person_id\": 8}, {\"birth_date\": \"2018-09\", \"person_id\": 10}, {\"birth_date\": \"2018-10\", \"person_id\": 9}, {\"birth_date\": \"2018-11\", \"person_id\": 7}, {\"birth_date\": \"2018-12\", \"person_id\": 5}, {\"birth_date\": \"2019-01\", \"person_id\": 9}, {\"birth_date\": \"2019-02\", \"person_id\": 5}, {\"birth_date\": \"2019-03\", \"person_id\": 5}, {\"birth_date\": \"2019-04\", \"person_id\": 17}, {\"birth_date\": \"2019-05\", \"person_id\": 10}, {\"birth_date\": \"2019-06\", \"person_id\": 4}, {\"birth_date\": \"2019-07\", \"person_id\": 6}, {\"birth_date\": \"2019-08\", \"person_id\": 15}, {\"birth_date\": \"2019-09\", \"person_id\": 7}, {\"birth_date\": \"2019-10\", \"person_id\": 8}, {\"birth_date\": \"2019-11\", \"person_id\": 6}, {\"birth_date\": \"2019-12\", \"person_id\": 9}, {\"birth_date\": \"2020-01\", \"person_id\": 5}, {\"birth_date\": \"2020-02\", \"person_id\": 5}, {\"birth_date\": \"2020-03\", \"person_id\": 6}, {\"birth_date\": \"2020-04\", \"person_id\": 4}, {\"birth_date\": \"2020-05\", \"person_id\": 14}, {\"birth_date\": \"2020-06\", \"person_id\": 10}, {\"birth_date\": \"2020-07\", \"person_id\": 7}, {\"birth_date\": \"2020-08\", \"person_id\": 9}, {\"birth_date\": \"2020-09\", \"person_id\": 10}, {\"birth_date\": \"2020-10\", \"person_id\": 6}, {\"birth_date\": \"2020-11\", \"person_id\": 9}, {\"birth_date\": \"2020-12\", \"person_id\": 6}, {\"birth_date\": \"2021-01\", \"person_id\": 5}, {\"birth_date\": \"2021-02\", \"person_id\": 8}, {\"birth_date\": \"2021-03\", \"person_id\": 9}, {\"birth_date\": \"2021-04\", \"person_id\": 8}, {\"birth_date\": \"2021-05\", \"person_id\": 4}, {\"birth_date\": \"2021-06\", \"person_id\": 7}, {\"birth_date\": \"2021-07\", \"person_id\": 7}, {\"birth_date\": \"2021-08\", \"person_id\": 8}, {\"birth_date\": \"2021-09\", \"person_id\": 2}, {\"birth_date\": \"2021-10\", \"person_id\": 6}, {\"birth_date\": \"2021-11\", \"person_id\": 4}, {\"birth_date\": \"2021-12\", \"person_id\": 7}, {\"birth_date\": \"2022-01\", \"person_id\": 10}, {\"birth_date\": \"2022-02\", \"person_id\": 3}, {\"birth_date\": \"2022-03\", \"person_id\": 4}, {\"birth_date\": \"2022-04\", \"person_id\": 3}, {\"birth_date\": \"2022-05\", \"person_id\": 8}, {\"birth_date\": \"2022-06\", \"person_id\": 5}, {\"birth_date\": \"2022-07\", \"person_id\": 9}, {\"birth_date\": \"2022-08\", \"person_id\": 7}, {\"birth_date\": \"2022-09\", \"person_id\": 5}, {\"birth_date\": \"2022-10\", \"person_id\": 5}, {\"birth_date\": \"2022-11\", \"person_id\": 4}, {\"birth_date\": \"2022-12\", \"person_id\": 5}, {\"birth_date\": \"2023-01\", \"person_id\": 4}, {\"birth_date\": \"2023-03\", \"person_id\": 6}, {\"birth_date\": \"2023-04\", \"person_id\": 2}, {\"birth_date\": \"2023-05\", \"person_id\": 3}, {\"birth_date\": \"2023-06\", \"person_id\": 1}, {\"birth_date\": \"2023-07\", \"person_id\": 2}, {\"birth_date\": \"2023-08\", \"person_id\": 12}, {\"birth_date\": \"2023-09\", \"person_id\": 1}, {\"birth_date\": \"2023-10\", \"person_id\": 1}, {\"birth_date\": \"2023-11\", \"person_id\": 2}, {\"birth_date\": \"2023-12\", \"person_id\": 1}, {\"birth_date\": \"2024-01\", \"person_id\": 3}, {\"birth_date\": \"2024-02\", \"person_id\": 1}, {\"birth_date\": \"2024-03\", \"person_id\": 4}, {\"birth_date\": \"2024-04\", \"person_id\": 3}, {\"birth_date\": \"2024-05\", \"person_id\": 1}, {\"birth_date\": \"2024-06\", \"person_id\": 1}, {\"birth_date\": \"2024-07\", \"person_id\": 7}, {\"birth_date\": \"2024-08\", \"person_id\": 3}, {\"birth_date\": \"2024-09\", \"person_id\": 1}, {\"birth_date\": \"2024-10\", \"person_id\": 1}, {\"birth_date\": \"2024-12\", \"person_id\": 1}, {\"birth_date\": \"2025-01\", \"person_id\": 2}, {\"birth_date\": \"2025-04\", \"person_id\": 1}]}}, {\"mode\": \"vega-lite\"});\n",
       "</script>"
      ],
      "text/plain": [
       "alt.Chart(...)"
      ]
     },
     "execution_count": 22,
     "metadata": {},
     "output_type": "execute_result"
    }
   ],
   "source": [
    "alt.Chart(birth_dates_summary).mark_bar(size=1).encode(\n",
    "    alt.X('birth_date:T', scale=alt.Scale(padding=5)),\n",
    "    y='person_id:Q'\n",
    ")"
   ]
  },
  {
   "attachments": {},
   "cell_type": "markdown",
   "metadata": {},
   "source": [
    "This distribution looks normal ! Our correction appears to work fine."
   ]
  },
  {
   "attachments": {},
   "cell_type": "markdown",
   "metadata": {},
   "source": [
    "### 2.1.2 Death dates"
   ]
  },
  {
   "cell_type": "code",
   "execution_count": 23,
   "metadata": {
    "tags": []
   },
   "outputs": [],
   "source": [
    "df_person['death_date'] = df_person['death_datetime'].dt.strftime('%Y-%m')"
   ]
  },
  {
   "cell_type": "code",
   "execution_count": 24,
   "metadata": {
    "tags": []
   },
   "outputs": [],
   "source": [
    "death_dates_summary = df_person.groupby(\"death_date\", as_index=False).person_id.count()"
   ]
  },
  {
   "cell_type": "code",
   "execution_count": 25,
   "metadata": {
    "tags": []
   },
   "outputs": [
    {
     "data": {
      "text/html": [
       "\n",
       "<style>\n",
       "  #altair-viz-de7b28e583f54567b68858f0cad2b877.vega-embed {\n",
       "    width: 100%;\n",
       "    display: flex;\n",
       "  }\n",
       "\n",
       "  #altair-viz-de7b28e583f54567b68858f0cad2b877.vega-embed details,\n",
       "  #altair-viz-de7b28e583f54567b68858f0cad2b877.vega-embed details summary {\n",
       "    position: relative;\n",
       "  }\n",
       "</style>\n",
       "<div id=\"altair-viz-de7b28e583f54567b68858f0cad2b877\"></div>\n",
       "<script type=\"text/javascript\">\n",
       "  var VEGA_DEBUG = (typeof VEGA_DEBUG == \"undefined\") ? {} : VEGA_DEBUG;\n",
       "  (function(spec, embedOpt){\n",
       "    let outputDiv = document.currentScript.previousElementSibling;\n",
       "    if (outputDiv.id !== \"altair-viz-de7b28e583f54567b68858f0cad2b877\") {\n",
       "      outputDiv = document.getElementById(\"altair-viz-de7b28e583f54567b68858f0cad2b877\");\n",
       "    }\n",
       "    const paths = {\n",
       "      \"vega\": \"https://cdn.jsdelivr.net/npm/vega@5?noext\",\n",
       "      \"vega-lib\": \"https://cdn.jsdelivr.net/npm/vega-lib?noext\",\n",
       "      \"vega-lite\": \"https://cdn.jsdelivr.net/npm/vega-lite@5.8.0?noext\",\n",
       "      \"vega-embed\": \"https://cdn.jsdelivr.net/npm/vega-embed@6?noext\",\n",
       "    };\n",
       "\n",
       "    function maybeLoadScript(lib, version) {\n",
       "      var key = `${lib.replace(\"-\", \"\")}_version`;\n",
       "      return (VEGA_DEBUG[key] == version) ?\n",
       "        Promise.resolve(paths[lib]) :\n",
       "        new Promise(function(resolve, reject) {\n",
       "          var s = document.createElement('script');\n",
       "          document.getElementsByTagName(\"head\")[0].appendChild(s);\n",
       "          s.async = true;\n",
       "          s.onload = () => {\n",
       "            VEGA_DEBUG[key] = version;\n",
       "            return resolve(paths[lib]);\n",
       "          };\n",
       "          s.onerror = () => reject(`Error loading script: ${paths[lib]}`);\n",
       "          s.src = paths[lib];\n",
       "        });\n",
       "    }\n",
       "\n",
       "    function showError(err) {\n",
       "      outputDiv.innerHTML = `<div class=\"error\" style=\"color:red;\">${err}</div>`;\n",
       "      throw err;\n",
       "    }\n",
       "\n",
       "    function displayChart(vegaEmbed) {\n",
       "      vegaEmbed(outputDiv, spec, embedOpt)\n",
       "        .catch(err => showError(`Javascript Error: ${err.message}<br>This usually means there's a typo in your chart specification. See the javascript console for the full traceback.`));\n",
       "    }\n",
       "\n",
       "    if(typeof define === \"function\" && define.amd) {\n",
       "      requirejs.config({paths});\n",
       "      require([\"vega-embed\"], displayChart, err => showError(`Error loading script: ${err.message}`));\n",
       "    } else {\n",
       "      maybeLoadScript(\"vega\", \"5\")\n",
       "        .then(() => maybeLoadScript(\"vega-lite\", \"5.8.0\"))\n",
       "        .then(() => maybeLoadScript(\"vega-embed\", \"6\"))\n",
       "        .catch(showError)\n",
       "        .then(() => displayChart(vegaEmbed));\n",
       "    }\n",
       "  })({\"config\": {\"view\": {\"continuousWidth\": 300, \"continuousHeight\": 300}}, \"data\": {\"name\": \"data-20768f34a07c673342680e120d6176ee\"}, \"mark\": {\"type\": \"bar\"}, \"encoding\": {\"x\": {\"field\": \"death_date\", \"type\": \"temporal\"}, \"y\": {\"field\": \"person_id\", \"type\": \"quantitative\"}}, \"$schema\": \"https://vega.github.io/schema/vega-lite/v5.8.0.json\", \"datasets\": {\"data-20768f34a07c673342680e120d6176ee\": [{\"death_date\": \"2019-12\", \"person_id\": 121}, {\"death_date\": \"2020-01\", \"person_id\": 112}, {\"death_date\": \"2020-02\", \"person_id\": 123}, {\"death_date\": \"2020-03\", \"person_id\": 105}, {\"death_date\": \"2020-04\", \"person_id\": 112}, {\"death_date\": \"2020-05\", \"person_id\": 131}, {\"death_date\": \"2020-06\", \"person_id\": 161}, {\"death_date\": \"2020-07\", \"person_id\": 130}, {\"death_date\": \"2020-08\", \"person_id\": 115}, {\"death_date\": \"2020-09\", \"person_id\": 107}, {\"death_date\": \"2020-10\", \"person_id\": 113}, {\"death_date\": \"2020-11\", \"person_id\": 122}, {\"death_date\": \"2020-12\", \"person_id\": 117}, {\"death_date\": \"2021-01\", \"person_id\": 124}, {\"death_date\": \"2021-02\", \"person_id\": 116}, {\"death_date\": \"2021-03\", \"person_id\": 130}, {\"death_date\": \"2021-04\", \"person_id\": 117}, {\"death_date\": \"2021-05\", \"person_id\": 119}, {\"death_date\": \"2021-06\", \"person_id\": 118}, {\"death_date\": \"2021-07\", \"person_id\": 141}, {\"death_date\": \"2021-08\", \"person_id\": 117}, {\"death_date\": \"2021-09\", \"person_id\": 111}, {\"death_date\": \"2021-10\", \"person_id\": 116}, {\"death_date\": \"2021-11\", \"person_id\": 124}, {\"death_date\": \"2021-12\", \"person_id\": 131}, {\"death_date\": \"2022-01\", \"person_id\": 134}, {\"death_date\": \"2022-02\", \"person_id\": 108}, {\"death_date\": \"2022-03\", \"person_id\": 163}, {\"death_date\": \"2022-04\", \"person_id\": 113}, {\"death_date\": \"2022-05\", \"person_id\": 117}, {\"death_date\": \"2022-06\", \"person_id\": 108}, {\"death_date\": \"2022-07\", \"person_id\": 129}, {\"death_date\": \"2022-08\", \"person_id\": 125}, {\"death_date\": \"2022-09\", \"person_id\": 113}, {\"death_date\": \"2022-10\", \"person_id\": 130}, {\"death_date\": \"2022-11\", \"person_id\": 125}, {\"death_date\": \"2022-12\", \"person_id\": 123}, {\"death_date\": \"2023-01\", \"person_id\": 105}, {\"death_date\": \"2023-02\", \"person_id\": 92}, {\"death_date\": \"2023-03\", \"person_id\": 113}, {\"death_date\": \"2023-04\", \"person_id\": 103}, {\"death_date\": \"2023-05\", \"person_id\": 148}, {\"death_date\": \"2023-06\", \"person_id\": 132}, {\"death_date\": \"2023-07\", \"person_id\": 157}, {\"death_date\": \"2023-08\", \"person_id\": 138}, {\"death_date\": \"2023-09\", \"person_id\": 132}, {\"death_date\": \"2023-10\", \"person_id\": 134}, {\"death_date\": \"2023-11\", \"person_id\": 121}, {\"death_date\": \"2023-12\", \"person_id\": 115}, {\"death_date\": \"2024-01\", \"person_id\": 149}, {\"death_date\": \"2024-02\", \"person_id\": 114}, {\"death_date\": \"2024-03\", \"person_id\": 135}, {\"death_date\": \"2024-04\", \"person_id\": 105}, {\"death_date\": \"2024-05\", \"person_id\": 126}, {\"death_date\": \"2024-06\", \"person_id\": 121}, {\"death_date\": \"2024-07\", \"person_id\": 130}, {\"death_date\": \"2024-08\", \"person_id\": 131}, {\"death_date\": \"2024-09\", \"person_id\": 120}, {\"death_date\": \"2024-10\", \"person_id\": 119}, {\"death_date\": \"2024-11\", \"person_id\": 116}, {\"death_date\": \"2024-12\", \"person_id\": 130}, {\"death_date\": \"2025-01\", \"person_id\": 123}, {\"death_date\": \"2025-02\", \"person_id\": 117}, {\"death_date\": \"2025-03\", \"person_id\": 124}, {\"death_date\": \"2025-04\", \"person_id\": 134}, {\"death_date\": \"2025-05\", \"person_id\": 115}, {\"death_date\": \"2025-06\", \"person_id\": 126}, {\"death_date\": \"2025-07\", \"person_id\": 119}, {\"death_date\": \"2025-08\", \"person_id\": 111}, {\"death_date\": \"2025-09\", \"person_id\": 115}, {\"death_date\": \"2025-10\", \"person_id\": 126}, {\"death_date\": \"2025-11\", \"person_id\": 119}, {\"death_date\": \"2025-12\", \"person_id\": 12}]}}, {\"mode\": \"vega-lite\"});\n",
       "</script>"
      ],
      "text/plain": [
       "alt.Chart(...)"
      ]
     },
     "execution_count": 25,
     "metadata": {},
     "output_type": "execute_result"
    }
   ],
   "source": [
    "alt.Chart(death_dates_summary).mark_bar().encode(\n",
    "    x='death_date:T',\n",
    "    y='person_id:Q'\n",
    ")"
   ]
  },
  {
   "attachments": {},
   "cell_type": "markdown",
   "metadata": {},
   "source": [
    "We do not observe any spurious data, and assume consequently that the date of death may be used with some confidence."
   ]
  },
  {
   "attachments": {},
   "cell_type": "markdown",
   "metadata": {},
   "source": [
    "### 2.1.3 Gender correction"
   ]
  },
  {
   "cell_type": "code",
   "execution_count": 26,
   "metadata": {},
   "outputs": [
    {
     "name": "stdout",
     "output_type": "stream",
     "text": [
      "The available gender values are now the following : ['femme' 'male']\n"
     ]
    }
   ],
   "source": [
    "df_person['gender_source_value'] = df_person['gender_source_value'].replace(['female', 'f'], 'femme')\n",
    "df_person['gender_source_value'] = df_person['gender_source_value'].replace(['male', 'm'], 'male')\n",
    "print(f\"The available gender values are now the following : {df_person.gender_source_value.unique()}\")"
   ]
  },
  {
   "attachments": {},
   "cell_type": "markdown",
   "metadata": {},
   "source": [
    "<a id=\"prepro_visits\"></a>\n",
    "## 2.3 Pre-processing administrative data related to patients' pathways"
   ]
  },
  {
   "cell_type": "code",
   "execution_count": 27,
   "metadata": {
    "tags": []
   },
   "outputs": [],
   "source": [
    "df_visit['visit_start_date'] = df_visit['visit_start_datetime'].dt.strftime('%Y-%m')"
   ]
  },
  {
   "cell_type": "code",
   "execution_count": 28,
   "metadata": {
    "tags": []
   },
   "outputs": [],
   "source": [
    "visit_start_dates_summary = df_visit.groupby(\"visit_start_date\", as_index=False).person_id.count()"
   ]
  },
  {
   "cell_type": "code",
   "execution_count": 29,
   "metadata": {
    "tags": []
   },
   "outputs": [
    {
     "data": {
      "text/html": [
       "\n",
       "<style>\n",
       "  #altair-viz-14dce0b364034ceabeaa3eba99ac6adc.vega-embed {\n",
       "    width: 100%;\n",
       "    display: flex;\n",
       "  }\n",
       "\n",
       "  #altair-viz-14dce0b364034ceabeaa3eba99ac6adc.vega-embed details,\n",
       "  #altair-viz-14dce0b364034ceabeaa3eba99ac6adc.vega-embed details summary {\n",
       "    position: relative;\n",
       "  }\n",
       "</style>\n",
       "<div id=\"altair-viz-14dce0b364034ceabeaa3eba99ac6adc\"></div>\n",
       "<script type=\"text/javascript\">\n",
       "  var VEGA_DEBUG = (typeof VEGA_DEBUG == \"undefined\") ? {} : VEGA_DEBUG;\n",
       "  (function(spec, embedOpt){\n",
       "    let outputDiv = document.currentScript.previousElementSibling;\n",
       "    if (outputDiv.id !== \"altair-viz-14dce0b364034ceabeaa3eba99ac6adc\") {\n",
       "      outputDiv = document.getElementById(\"altair-viz-14dce0b364034ceabeaa3eba99ac6adc\");\n",
       "    }\n",
       "    const paths = {\n",
       "      \"vega\": \"https://cdn.jsdelivr.net/npm/vega@5?noext\",\n",
       "      \"vega-lib\": \"https://cdn.jsdelivr.net/npm/vega-lib?noext\",\n",
       "      \"vega-lite\": \"https://cdn.jsdelivr.net/npm/vega-lite@5.8.0?noext\",\n",
       "      \"vega-embed\": \"https://cdn.jsdelivr.net/npm/vega-embed@6?noext\",\n",
       "    };\n",
       "\n",
       "    function maybeLoadScript(lib, version) {\n",
       "      var key = `${lib.replace(\"-\", \"\")}_version`;\n",
       "      return (VEGA_DEBUG[key] == version) ?\n",
       "        Promise.resolve(paths[lib]) :\n",
       "        new Promise(function(resolve, reject) {\n",
       "          var s = document.createElement('script');\n",
       "          document.getElementsByTagName(\"head\")[0].appendChild(s);\n",
       "          s.async = true;\n",
       "          s.onload = () => {\n",
       "            VEGA_DEBUG[key] = version;\n",
       "            return resolve(paths[lib]);\n",
       "          };\n",
       "          s.onerror = () => reject(`Error loading script: ${paths[lib]}`);\n",
       "          s.src = paths[lib];\n",
       "        });\n",
       "    }\n",
       "\n",
       "    function showError(err) {\n",
       "      outputDiv.innerHTML = `<div class=\"error\" style=\"color:red;\">${err}</div>`;\n",
       "      throw err;\n",
       "    }\n",
       "\n",
       "    function displayChart(vegaEmbed) {\n",
       "      vegaEmbed(outputDiv, spec, embedOpt)\n",
       "        .catch(err => showError(`Javascript Error: ${err.message}<br>This usually means there's a typo in your chart specification. See the javascript console for the full traceback.`));\n",
       "    }\n",
       "\n",
       "    if(typeof define === \"function\" && define.amd) {\n",
       "      requirejs.config({paths});\n",
       "      require([\"vega-embed\"], displayChart, err => showError(`Error loading script: ${err.message}`));\n",
       "    } else {\n",
       "      maybeLoadScript(\"vega\", \"5\")\n",
       "        .then(() => maybeLoadScript(\"vega-lite\", \"5.8.0\"))\n",
       "        .then(() => maybeLoadScript(\"vega-embed\", \"6\"))\n",
       "        .catch(showError)\n",
       "        .then(() => displayChart(vegaEmbed));\n",
       "    }\n",
       "  })({\"config\": {\"view\": {\"continuousWidth\": 300, \"continuousHeight\": 300}}, \"data\": {\"name\": \"data-3c36ca9f27ad4a2ade7b8595d872d16f\"}, \"mark\": {\"type\": \"bar\"}, \"encoding\": {\"x\": {\"field\": \"visit_start_date\", \"scale\": {\"padding\": 5}, \"type\": \"temporal\"}, \"y\": {\"field\": \"person_id\", \"type\": \"quantitative\"}}, \"$schema\": \"https://vega.github.io/schema/vega-lite/v5.8.0.json\", \"datasets\": {\"data-3c36ca9f27ad4a2ade7b8595d872d16f\": [{\"visit_start_date\": \"2019-12\", \"person_id\": 251}, {\"visit_start_date\": \"2020-01\", \"person_id\": 256}, {\"visit_start_date\": \"2020-02\", \"person_id\": 208}, {\"visit_start_date\": \"2020-03\", \"person_id\": 210}, {\"visit_start_date\": \"2020-04\", \"person_id\": 212}, {\"visit_start_date\": \"2020-05\", \"person_id\": 239}, {\"visit_start_date\": \"2020-06\", \"person_id\": 242}, {\"visit_start_date\": \"2020-07\", \"person_id\": 223}, {\"visit_start_date\": \"2020-08\", \"person_id\": 232}, {\"visit_start_date\": \"2020-09\", \"person_id\": 201}, {\"visit_start_date\": \"2020-10\", \"person_id\": 215}, {\"visit_start_date\": \"2020-11\", \"person_id\": 205}, {\"visit_start_date\": \"2020-12\", \"person_id\": 220}, {\"visit_start_date\": \"2021-01\", \"person_id\": 231}, {\"visit_start_date\": \"2021-02\", \"person_id\": 203}, {\"visit_start_date\": \"2021-03\", \"person_id\": 231}, {\"visit_start_date\": \"2021-04\", \"person_id\": 218}, {\"visit_start_date\": \"2021-05\", \"person_id\": 221}, {\"visit_start_date\": \"2021-06\", \"person_id\": 214}, {\"visit_start_date\": \"2021-07\", \"person_id\": 247}, {\"visit_start_date\": \"2021-08\", \"person_id\": 223}, {\"visit_start_date\": \"2021-09\", \"person_id\": 193}, {\"visit_start_date\": \"2021-10\", \"person_id\": 209}, {\"visit_start_date\": \"2021-11\", \"person_id\": 222}, {\"visit_start_date\": \"2021-12\", \"person_id\": 223}, {\"visit_start_date\": \"2022-01\", \"person_id\": 259}, {\"visit_start_date\": \"2022-02\", \"person_id\": 230}, {\"visit_start_date\": \"2022-03\", \"person_id\": 263}, {\"visit_start_date\": \"2022-04\", \"person_id\": 203}, {\"visit_start_date\": \"2022-05\", \"person_id\": 208}, {\"visit_start_date\": \"2022-06\", \"person_id\": 220}, {\"visit_start_date\": \"2022-07\", \"person_id\": 246}, {\"visit_start_date\": \"2022-08\", \"person_id\": 223}, {\"visit_start_date\": \"2022-09\", \"person_id\": 229}, {\"visit_start_date\": \"2022-10\", \"person_id\": 233}, {\"visit_start_date\": \"2022-11\", \"person_id\": 216}, {\"visit_start_date\": \"2022-12\", \"person_id\": 227}, {\"visit_start_date\": \"2023-01\", \"person_id\": 236}, {\"visit_start_date\": \"2023-02\", \"person_id\": 218}, {\"visit_start_date\": \"2023-03\", \"person_id\": 237}, {\"visit_start_date\": \"2023-04\", \"person_id\": 221}, {\"visit_start_date\": \"2023-05\", \"person_id\": 252}, {\"visit_start_date\": \"2023-06\", \"person_id\": 219}, {\"visit_start_date\": \"2023-07\", \"person_id\": 267}, {\"visit_start_date\": \"2023-08\", \"person_id\": 213}, {\"visit_start_date\": \"2023-09\", \"person_id\": 235}, {\"visit_start_date\": \"2023-10\", \"person_id\": 233}, {\"visit_start_date\": \"2023-11\", \"person_id\": 221}, {\"visit_start_date\": \"2023-12\", \"person_id\": 222}, {\"visit_start_date\": \"2024-01\", \"person_id\": 261}, {\"visit_start_date\": \"2024-02\", \"person_id\": 211}, {\"visit_start_date\": \"2024-03\", \"person_id\": 227}, {\"visit_start_date\": \"2024-04\", \"person_id\": 181}, {\"visit_start_date\": \"2024-05\", \"person_id\": 230}, {\"visit_start_date\": \"2024-06\", \"person_id\": 208}, {\"visit_start_date\": \"2024-07\", \"person_id\": 240}, {\"visit_start_date\": \"2024-08\", \"person_id\": 246}, {\"visit_start_date\": \"2024-09\", \"person_id\": 203}, {\"visit_start_date\": \"2024-10\", \"person_id\": 241}, {\"visit_start_date\": \"2024-11\", \"person_id\": 214}, {\"visit_start_date\": \"2024-12\", \"person_id\": 223}, {\"visit_start_date\": \"2025-01\", \"person_id\": 217}, {\"visit_start_date\": \"2025-02\", \"person_id\": 211}, {\"visit_start_date\": \"2025-03\", \"person_id\": 221}, {\"visit_start_date\": \"2025-04\", \"person_id\": 226}, {\"visit_start_date\": \"2025-05\", \"person_id\": 224}, {\"visit_start_date\": \"2025-06\", \"person_id\": 221}, {\"visit_start_date\": \"2025-07\", \"person_id\": 225}, {\"visit_start_date\": \"2025-08\", \"person_id\": 202}, {\"visit_start_date\": \"2025-09\", \"person_id\": 237}, {\"visit_start_date\": \"2025-10\", \"person_id\": 218}, {\"visit_start_date\": \"2025-11\", \"person_id\": 201}]}}, {\"mode\": \"vega-lite\"});\n",
       "</script>"
      ],
      "text/plain": [
       "alt.Chart(...)"
      ]
     },
     "execution_count": 29,
     "metadata": {},
     "output_type": "execute_result"
    }
   ],
   "source": [
    "alt.Chart(visit_start_dates_summary).mark_bar().encode(\n",
    "    alt.X('visit_start_date:T', scale=alt.Scale(padding=5)),\n",
    "    y='person_id:Q'\n",
    ")"
   ]
  },
  {
   "attachments": {},
   "cell_type": "markdown",
   "metadata": {},
   "source": [
    "There is no problem with this distribution"
   ]
  },
  {
   "attachments": {},
   "cell_type": "markdown",
   "metadata": {},
   "source": [
    "<a id=\"prepro_cond\"></a>\n",
    "## 2.4 Pre-processing claim data"
   ]
  },
  {
   "attachments": {},
   "cell_type": "markdown",
   "metadata": {},
   "source": [
    "<a id=\"stat\"></a>\n",
    "# 3. Statistical analysis"
   ]
  },
  {
   "attachments": {},
   "cell_type": "markdown",
   "metadata": {},
   "source": [
    "<a id=\"prepro_cond\"></a>\n",
    "## 3.1 Population caracteristics"
   ]
  },
  {
   "attachments": {},
   "cell_type": "markdown",
   "metadata": {},
   "source": [
    "### 3.1.1 Gender distribution"
   ]
  },
  {
   "attachments": {},
   "cell_type": "markdown",
   "metadata": {},
   "source": [
    "### 3.1.2 Age distribution"
   ]
  },
  {
   "cell_type": "code",
   "execution_count": 30,
   "metadata": {},
   "outputs": [],
   "source": [
    "df_visit_age = df_visit.merge(df_person[['person_id','birth_datetime']], on='person_id', how='inner' )\n",
    "df_visit_age['age'] = (df_visit_age['visit_start_datetime'] - df_visit_age['birth_datetime'])\n",
    "df_visit_age['age'] = df_visit_age['age'].dt.days // 365"
   ]
  },
  {
   "cell_type": "code",
   "execution_count": 31,
   "metadata": {},
   "outputs": [],
   "source": [
    "visit_age_summary = df_visit_age.groupby(\"age\", as_index=False).person_id.count()"
   ]
  },
  {
   "cell_type": "code",
   "execution_count": 33,
   "metadata": {},
   "outputs": [
    {
     "data": {
      "text/html": [
       "\n",
       "<style>\n",
       "  #altair-viz-0d9313818bd5444ca6bc730311f4d463.vega-embed {\n",
       "    width: 100%;\n",
       "    display: flex;\n",
       "  }\n",
       "\n",
       "  #altair-viz-0d9313818bd5444ca6bc730311f4d463.vega-embed details,\n",
       "  #altair-viz-0d9313818bd5444ca6bc730311f4d463.vega-embed details summary {\n",
       "    position: relative;\n",
       "  }\n",
       "</style>\n",
       "<div id=\"altair-viz-0d9313818bd5444ca6bc730311f4d463\"></div>\n",
       "<script type=\"text/javascript\">\n",
       "  var VEGA_DEBUG = (typeof VEGA_DEBUG == \"undefined\") ? {} : VEGA_DEBUG;\n",
       "  (function(spec, embedOpt){\n",
       "    let outputDiv = document.currentScript.previousElementSibling;\n",
       "    if (outputDiv.id !== \"altair-viz-0d9313818bd5444ca6bc730311f4d463\") {\n",
       "      outputDiv = document.getElementById(\"altair-viz-0d9313818bd5444ca6bc730311f4d463\");\n",
       "    }\n",
       "    const paths = {\n",
       "      \"vega\": \"https://cdn.jsdelivr.net/npm/vega@5?noext\",\n",
       "      \"vega-lib\": \"https://cdn.jsdelivr.net/npm/vega-lib?noext\",\n",
       "      \"vega-lite\": \"https://cdn.jsdelivr.net/npm/vega-lite@5.8.0?noext\",\n",
       "      \"vega-embed\": \"https://cdn.jsdelivr.net/npm/vega-embed@6?noext\",\n",
       "    };\n",
       "\n",
       "    function maybeLoadScript(lib, version) {\n",
       "      var key = `${lib.replace(\"-\", \"\")}_version`;\n",
       "      return (VEGA_DEBUG[key] == version) ?\n",
       "        Promise.resolve(paths[lib]) :\n",
       "        new Promise(function(resolve, reject) {\n",
       "          var s = document.createElement('script');\n",
       "          document.getElementsByTagName(\"head\")[0].appendChild(s);\n",
       "          s.async = true;\n",
       "          s.onload = () => {\n",
       "            VEGA_DEBUG[key] = version;\n",
       "            return resolve(paths[lib]);\n",
       "          };\n",
       "          s.onerror = () => reject(`Error loading script: ${paths[lib]}`);\n",
       "          s.src = paths[lib];\n",
       "        });\n",
       "    }\n",
       "\n",
       "    function showError(err) {\n",
       "      outputDiv.innerHTML = `<div class=\"error\" style=\"color:red;\">${err}</div>`;\n",
       "      throw err;\n",
       "    }\n",
       "\n",
       "    function displayChart(vegaEmbed) {\n",
       "      vegaEmbed(outputDiv, spec, embedOpt)\n",
       "        .catch(err => showError(`Javascript Error: ${err.message}<br>This usually means there's a typo in your chart specification. See the javascript console for the full traceback.`));\n",
       "    }\n",
       "\n",
       "    if(typeof define === \"function\" && define.amd) {\n",
       "      requirejs.config({paths});\n",
       "      require([\"vega-embed\"], displayChart, err => showError(`Error loading script: ${err.message}`));\n",
       "    } else {\n",
       "      maybeLoadScript(\"vega\", \"5\")\n",
       "        .then(() => maybeLoadScript(\"vega-lite\", \"5.8.0\"))\n",
       "        .then(() => maybeLoadScript(\"vega-embed\", \"6\"))\n",
       "        .catch(showError)\n",
       "        .then(() => displayChart(vegaEmbed));\n",
       "    }\n",
       "  })({\"config\": {\"view\": {\"continuousWidth\": 300, \"continuousHeight\": 300}}, \"data\": {\"name\": \"data-0db99e22174e6c0fa7c68320c0bde021\"}, \"mark\": {\"type\": \"bar\"}, \"encoding\": {\"x\": {\"field\": \"age\", \"type\": \"temporal\"}, \"y\": {\"field\": \"person_id\", \"type\": \"quantitative\"}}, \"$schema\": \"https://vega.github.io/schema/vega-lite/v5.8.0.json\", \"datasets\": {\"data-0db99e22174e6c0fa7c68320c0bde021\": [{\"age\": 0, \"person_id\": 101}, {\"age\": 1, \"person_id\": 122}, {\"age\": 2, \"person_id\": 83}, {\"age\": 3, \"person_id\": 102}, {\"age\": 4, \"person_id\": 121}, {\"age\": 5, \"person_id\": 101}, {\"age\": 6, \"person_id\": 101}, {\"age\": 7, \"person_id\": 112}, {\"age\": 8, \"person_id\": 109}, {\"age\": 9, \"person_id\": 110}, {\"age\": 10, \"person_id\": 93}, {\"age\": 11, \"person_id\": 107}, {\"age\": 12, \"person_id\": 105}, {\"age\": 13, \"person_id\": 124}, {\"age\": 14, \"person_id\": 125}, {\"age\": 15, \"person_id\": 123}, {\"age\": 16, \"person_id\": 104}, {\"age\": 17, \"person_id\": 108}, {\"age\": 18, \"person_id\": 99}, {\"age\": 19, \"person_id\": 86}, {\"age\": 20, \"person_id\": 95}, {\"age\": 21, \"person_id\": 101}, {\"age\": 22, \"person_id\": 104}, {\"age\": 23, \"person_id\": 105}, {\"age\": 24, \"person_id\": 113}, {\"age\": 25, \"person_id\": 107}, {\"age\": 26, \"person_id\": 108}, {\"age\": 27, \"person_id\": 103}, {\"age\": 28, \"person_id\": 125}, {\"age\": 29, \"person_id\": 120}, {\"age\": 30, \"person_id\": 109}, {\"age\": 31, \"person_id\": 138}, {\"age\": 32, \"person_id\": 108}, {\"age\": 33, \"person_id\": 102}, {\"age\": 34, \"person_id\": 104}, {\"age\": 35, \"person_id\": 101}, {\"age\": 36, \"person_id\": 119}, {\"age\": 37, \"person_id\": 76}, {\"age\": 38, \"person_id\": 101}, {\"age\": 39, \"person_id\": 115}, {\"age\": 40, \"person_id\": 102}, {\"age\": 41, \"person_id\": 93}, {\"age\": 42, \"person_id\": 107}, {\"age\": 43, \"person_id\": 105}, {\"age\": 44, \"person_id\": 102}, {\"age\": 45, \"person_id\": 117}, {\"age\": 46, \"person_id\": 110}, {\"age\": 47, \"person_id\": 118}, {\"age\": 48, \"person_id\": 114}, {\"age\": 49, \"person_id\": 122}, {\"age\": 50, \"person_id\": 268}, {\"age\": 51, \"person_id\": 275}, {\"age\": 52, \"person_id\": 273}, {\"age\": 53, \"person_id\": 261}, {\"age\": 54, \"person_id\": 269}, {\"age\": 55, \"person_id\": 290}, {\"age\": 56, \"person_id\": 261}, {\"age\": 57, \"person_id\": 276}, {\"age\": 58, \"person_id\": 274}, {\"age\": 59, \"person_id\": 249}, {\"age\": 60, \"person_id\": 175}, {\"age\": 61, \"person_id\": 149}, {\"age\": 62, \"person_id\": 155}, {\"age\": 63, \"person_id\": 164}, {\"age\": 64, \"person_id\": 151}, {\"age\": 65, \"person_id\": 186}, {\"age\": 66, \"person_id\": 162}, {\"age\": 67, \"person_id\": 156}, {\"age\": 68, \"person_id\": 159}, {\"age\": 69, \"person_id\": 139}, {\"age\": 70, \"person_id\": 203}, {\"age\": 71, \"person_id\": 220}, {\"age\": 72, \"person_id\": 211}, {\"age\": 73, \"person_id\": 235}, {\"age\": 74, \"person_id\": 247}, {\"age\": 75, \"person_id\": 194}, {\"age\": 76, \"person_id\": 214}, {\"age\": 77, \"person_id\": 208}, {\"age\": 78, \"person_id\": 231}, {\"age\": 79, \"person_id\": 214}, {\"age\": 80, \"person_id\": 209}, {\"age\": 81, \"person_id\": 224}, {\"age\": 82, \"person_id\": 223}, {\"age\": 83, \"person_id\": 218}, {\"age\": 84, \"person_id\": 211}, {\"age\": 85, \"person_id\": 189}, {\"age\": 86, \"person_id\": 209}, {\"age\": 87, \"person_id\": 218}, {\"age\": 88, \"person_id\": 210}, {\"age\": 89, \"person_id\": 194}, {\"age\": 90, \"person_id\": 223}, {\"age\": 91, \"person_id\": 221}, {\"age\": 92, \"person_id\": 210}, {\"age\": 93, \"person_id\": 234}, {\"age\": 94, \"person_id\": 203}, {\"age\": 95, \"person_id\": 234}, {\"age\": 96, \"person_id\": 227}, {\"age\": 97, \"person_id\": 241}, {\"age\": 98, \"person_id\": 202}, {\"age\": 99, \"person_id\": 194}, {\"age\": 100, \"person_id\": 25}]}}, {\"mode\": \"vega-lite\"});\n",
       "</script>"
      ],
      "text/plain": [
       "alt.Chart(...)"
      ]
     },
     "execution_count": 33,
     "metadata": {},
     "output_type": "execute_result"
    }
   ],
   "source": [
    "alt.Chart(visit_age_summary).mark_bar().encode(\n",
    "    x='age:T',\n",
    "    y='person_id:Q'\n",
    ")"
   ]
  },
  {
   "attachments": {},
   "cell_type": "markdown",
   "metadata": {},
   "source": [
    "<a id=\"prepro_cond\"></a>\n",
    "## 3.2 Number of cancer patients"
   ]
  },
  {
   "cell_type": "code",
   "execution_count": 36,
   "metadata": {},
   "outputs": [
    {
     "ename": "SyntaxError",
     "evalue": "EOF while scanning triple-quoted string literal (1271744596.py, line 3)",
     "output_type": "error",
     "traceback": [
      "\u001b[1;36m  File \u001b[1;32m\"C:\\Users\\gazze\\AppData\\Local\\Temp\\ipykernel_13144\\1271744596.py\"\u001b[1;36m, line \u001b[1;32m3\u001b[0m\n\u001b[1;33m    #print(f\"The number of patients with cancer is : {len(df_person_cancer)}\")\u001b[0m\n\u001b[1;37m                                                                              \n^\u001b[0m\n\u001b[1;31mSyntaxError\u001b[0m\u001b[1;31m:\u001b[0m EOF while scanning triple-quoted string literal\n"
     ]
    }
   ],
   "source": [
    "df_person_cancer = ps.sqldf(\" SELECT DISTINCT person_id,condition_source_value FROM df_condition WHERE condition_source_value in ('C50','C501','C502','C503','C504','C500') \")\n",
    "print(len(df_person_cancer))\n",
    "#print(f\"The number of patients with cancer is : {len(df_person_cancer)}\")"
   ]
  }
 ],
 "metadata": {
  "kernelspec": {
   "display_name": "Python 3",
   "language": "python",
   "name": "python3"
  },
  "language_info": {
   "codemirror_mode": {
    "name": "ipython",
    "version": 3
   },
   "file_extension": ".py",
   "mimetype": "text/x-python",
   "name": "python",
   "nbconvert_exporter": "python",
   "pygments_lexer": "ipython3",
   "version": "3.7.16"
  }
 },
 "nbformat": 4,
 "nbformat_minor": 4
}
